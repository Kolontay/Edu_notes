{
 "cells": [
  {
   "cell_type": "code",
   "execution_count": 22,
   "id": "d131bf7d",
   "metadata": {},
   "outputs": [],
   "source": [
    "import numpy as np\n",
    "import pandas as pd"
   ]
  },
  {
   "cell_type": "code",
   "execution_count": 41,
   "id": "11eb01d9",
   "metadata": {},
   "outputs": [],
   "source": [
    "def act_1(x):\n",
    "    return 2/(1+np.exp(-x))-1\n",
    "\n",
    "def act_2(x):\n",
    "    return 0.5*(1+x)*(1-x)"
   ]
  },
  {
   "cell_type": "code",
   "execution_count": 55,
   "id": "a81a3e81",
   "metadata": {},
   "outputs": [
    {
     "data": {
      "text/plain": [
       "x1    1\n",
       "x2    1\n",
       "x3    1\n",
       "Name: 7, dtype: int64"
      ]
     },
     "execution_count": 55,
     "metadata": {},
     "output_type": "execute_result"
    }
   ],
   "source": [
    "df.iloc[7,:3]"
   ]
  },
  {
   "cell_type": "code",
   "execution_count": 56,
   "id": "e9a64732",
   "metadata": {},
   "outputs": [
    {
     "data": {
      "text/plain": [
       "-1"
      ]
     },
     "execution_count": 56,
     "metadata": {},
     "output_type": "execute_result"
    }
   ],
   "source": [
    "df.iloc[7,3]"
   ]
  },
  {
   "cell_type": "code",
   "execution_count": 75,
   "id": "edc113a8",
   "metadata": {},
   "outputs": [],
   "source": [
    "x1 = [-1,-1,-1,-1,1,1,1,1]\n",
    "x2 = [-1,-1,1,1,-1,-1,1,1]\n",
    "x3 = [-1,1,-1,1,-1,1,-1,1]\n",
    "y = [-1,1,-1,1,-1,1,-1,-1]"
   ]
  },
  {
   "cell_type": "code",
   "execution_count": 76,
   "id": "cfd5920c",
   "metadata": {},
   "outputs": [],
   "source": [
    "name_cols = ['x1','x2','x3','y']\n",
    "cols = [x1,x2,x3,y]"
   ]
  },
  {
   "cell_type": "code",
   "execution_count": 77,
   "id": "58dca700",
   "metadata": {},
   "outputs": [],
   "source": [
    "df = pd.DataFrame(dict(zip(name_cols,cols)))"
   ]
  },
  {
   "cell_type": "code",
   "execution_count": 78,
   "id": "3310a99f",
   "metadata": {},
   "outputs": [],
   "source": [
    "W1 =np.array([[-0.2,0.3,-0.4],[0.1,-0.3,-0.4]])\n",
    "W2 = np.array([0.2,0.3])"
   ]
  },
  {
   "cell_type": "code",
   "execution_count": 79,
   "id": "1594f1a6",
   "metadata": {},
   "outputs": [],
   "source": [
    "sum = np.dot(W1,df.iloc[0,:3]) #сумма на скрытом слое (на каждом нейроне)\n",
    "out_1 = [act_1(i) for i in sum] #выходной сигнал на скрытом слое (на каждом нейроне)\n",
    "sum_2 = np.dot(W2,out_1) #сумма на выходе\n",
    "out_2 = act_2(sum_2) #выходной сигнал\n",
    "\n",
    "E = out_2 - df.iloc[0,3]\n",
    "delta = E*act_2(out_2)"
   ]
  },
  {
   "cell_type": "code",
   "execution_count": 80,
   "id": "2d827172",
   "metadata": {},
   "outputs": [],
   "source": [
    "W2[0] = W2[0] - 0.01*delta*out_1[0] \n",
    "W2[1] = W2[1] - 0.01*delta*out_1[1] "
   ]
  },
  {
   "cell_type": "code",
   "execution_count": 82,
   "id": "0aed5df5",
   "metadata": {},
   "outputs": [],
   "source": [
    "delta2 = W2*delta*act_2(out_2)"
   ]
  },
  {
   "cell_type": "code",
   "execution_count": 90,
   "id": "988a3a9a",
   "metadata": {},
   "outputs": [],
   "source": [
    "W1[0,:]=W1[0,:] - np.array(df.iloc[0,:3])*delta2[0]*0.01\n",
    "W1[1,:]=W1[1,:] - np.array(df.iloc[0,:3])*delta2[1]*0.01"
   ]
  },
  {
   "cell_type": "code",
   "execution_count": 91,
   "id": "944d91b1",
   "metadata": {},
   "outputs": [
    {
     "data": {
      "text/plain": [
       "array([[-0.19914837,  0.30085163, -0.39914837],\n",
       "       [ 0.1006379 , -0.2993621 , -0.3993621 ]])"
      ]
     },
     "execution_count": 91,
     "metadata": {},
     "output_type": "execute_result"
    }
   ],
   "source": [
    "W1"
   ]
  },
  {
   "cell_type": "code",
   "execution_count": 59,
   "id": "f1c91d32",
   "metadata": {},
   "outputs": [],
   "source": []
  },
  {
   "cell_type": "code",
   "execution_count": null,
   "id": "f61b08bc",
   "metadata": {},
   "outputs": [],
   "source": []
  }
 ],
 "metadata": {
  "kernelspec": {
   "display_name": "Python 3 (ipykernel)",
   "language": "python",
   "name": "python3"
  },
  "language_info": {
   "codemirror_mode": {
    "name": "ipython",
    "version": 3
   },
   "file_extension": ".py",
   "mimetype": "text/x-python",
   "name": "python",
   "nbconvert_exporter": "python",
   "pygments_lexer": "ipython3",
   "version": "3.10.12"
  }
 },
 "nbformat": 4,
 "nbformat_minor": 5
}
