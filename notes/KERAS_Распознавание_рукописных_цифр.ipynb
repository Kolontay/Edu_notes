{
 "cells": [
  {
   "cell_type": "code",
   "execution_count": 24,
   "id": "51b24afe",
   "metadata": {},
   "outputs": [],
   "source": [
    "import numpy as np\n",
    "import matplotlib.pyplot as plt\n",
    "\n",
    "from tensorflow import keras\n",
    "from tensorflow.keras.layers import Dense, Flatten, Dropout, BatchNormalization\n",
    "\n",
    "from tensorflow.keras.datasets import mnist \n",
    "%matplotlib inline"
   ]
  },
  {
   "cell_type": "code",
   "execution_count": 25,
   "id": "07288c70",
   "metadata": {},
   "outputs": [],
   "source": [
    "(x_train,y_train), (x_test,y_test) = mnist.load_data()\n",
    "\n",
    "# стандартизация\n",
    "x_train = x_train/255\n",
    "x_test = x_test/255\n",
    "y_train_cat = keras.utils.to_categorical(y_train,10)\n",
    "y_test_cat = keras.utils.to_categorical(y_test,10)"
   ]
  },
  {
   "cell_type": "code",
   "execution_count": 26,
   "id": "66ac38bb",
   "metadata": {},
   "outputs": [],
   "source": [
    "limit =5000\n",
    "x_train_data = x_train[:limit]\n",
    "y_train_data = y_train_cat[:limit]\n",
    "\n",
    "x_valid = x_train[limit:limit*2]\n",
    "y_valid = y_train_cat[limit:limit*2]"
   ]
  },
  {
   "cell_type": "code",
   "execution_count": null,
   "id": "badbfe04",
   "metadata": {},
   "outputs": [],
   "source": []
  },
  {
   "cell_type": "code",
   "execution_count": 29,
   "id": "82b45b78",
   "metadata": {},
   "outputs": [],
   "source": [
    "'''# Показать 25 изображений\n",
    "plt.figure(figsize=(10,5))\n",
    "for i in range(25):\n",
    "    plt.subplot(5,5,i+1)\n",
    "    plt.xticks([])\n",
    "    plt.yticks([])\n",
    "    plt.imshow(x_train[i], cmap = plt.cm.binary)\n",
    "plt.show()'''"
   ]
  },
  {
   "cell_type": "code",
   "execution_count": 17,
   "id": "937f6e5a",
   "metadata": {},
   "outputs": [],
   "source": [
    "# Выберем полносвязную нейронную сеть прямого распространения\n",
    "# 784 на входе, 128 нейронов скрытого слоя, и 10 выходов (по количеству вариантов таргета) \n",
    "# для скрытого слоя функция активации RELU для выхода Softmax\n",
    "# скрытых слоев - 1"
   ]
  },
  {
   "cell_type": "code",
   "execution_count": 27,
   "id": "af4d2f9d",
   "metadata": {},
   "outputs": [
    {
     "name": "stdout",
     "output_type": "stream",
     "text": [
      "Model: \"sequential_3\"\n",
      "_________________________________________________________________\n",
      " Layer (type)                Output Shape              Param #   \n",
      "=================================================================\n",
      " flatten_3 (Flatten)         (None, 784)               0         \n",
      "                                                                 \n",
      " dense_6 (Dense)             (None, 300)               235500    \n",
      "                                                                 \n",
      " batch_normalization (Batch  (None, 300)               1200      \n",
      " Normalization)                                                  \n",
      "                                                                 \n",
      " dense_7 (Dense)             (None, 10)                3010      \n",
      "                                                                 \n",
      "=================================================================\n",
      "Total params: 239710 (936.37 KB)\n",
      "Trainable params: 239110 (934.02 KB)\n",
      "Non-trainable params: 600 (2.34 KB)\n",
      "_________________________________________________________________\n",
      "None\n"
     ]
    }
   ],
   "source": [
    "model = keras.Sequential([\n",
    "    Flatten(input_shape=(28,28,1)), # наш один объект это список списков - 28 элементов по 28 в каждом\n",
    "    Dense(300,activation = 'relu'),\n",
    "    BatchNormalization(),\n",
    "    # Dropout(0.8), # вероятность с которой часть отбрасываются нейроны\n",
    "    Dense(10,activation = 'softmax')\n",
    "])\n",
    "\n",
    "print(model.summary())"
   ]
  },
  {
   "cell_type": "code",
   "execution_count": 28,
   "id": "4067b9f4",
   "metadata": {},
   "outputs": [],
   "source": [
    "model.compile(optimizer = 'adam',\n",
    "             loss = 'categorical_crossentropy',\n",
    "             metrics = ['accuracy'])"
   ]
  },
  {
   "cell_type": "code",
   "execution_count": 29,
   "id": "01426953",
   "metadata": {},
   "outputs": [
    {
     "name": "stdout",
     "output_type": "stream",
     "text": [
      "Epoch 1/50\n",
      "157/157 [==============================] - 3s 9ms/step - loss: 0.4458 - accuracy: 0.8648 - val_loss: 0.5136 - val_accuracy: 0.8808\n",
      "Epoch 2/50\n",
      "157/157 [==============================] - 1s 7ms/step - loss: 0.1635 - accuracy: 0.9536 - val_loss: 0.2719 - val_accuracy: 0.9198\n",
      "Epoch 3/50\n",
      "157/157 [==============================] - 1s 7ms/step - loss: 0.0994 - accuracy: 0.9742 - val_loss: 0.2431 - val_accuracy: 0.9250\n",
      "Epoch 4/50\n",
      "157/157 [==============================] - 1s 7ms/step - loss: 0.0601 - accuracy: 0.9846 - val_loss: 0.2321 - val_accuracy: 0.9298\n",
      "Epoch 5/50\n",
      "157/157 [==============================] - 1s 8ms/step - loss: 0.0416 - accuracy: 0.9924 - val_loss: 0.2174 - val_accuracy: 0.9332\n",
      "Epoch 6/50\n",
      "157/157 [==============================] - 1s 8ms/step - loss: 0.0239 - accuracy: 0.9962 - val_loss: 0.2059 - val_accuracy: 0.9372\n",
      "Epoch 7/50\n",
      "157/157 [==============================] - 1s 8ms/step - loss: 0.0211 - accuracy: 0.9972 - val_loss: 0.2231 - val_accuracy: 0.9322\n",
      "Epoch 8/50\n",
      "157/157 [==============================] - 1s 7ms/step - loss: 0.0170 - accuracy: 0.9976 - val_loss: 0.2102 - val_accuracy: 0.9368\n",
      "Epoch 9/50\n",
      "157/157 [==============================] - 1s 7ms/step - loss: 0.0140 - accuracy: 0.9984 - val_loss: 0.2225 - val_accuracy: 0.9384\n",
      "Epoch 10/50\n",
      "157/157 [==============================] - 1s 8ms/step - loss: 0.0336 - accuracy: 0.9922 - val_loss: 0.2377 - val_accuracy: 0.9306\n",
      "Epoch 11/50\n",
      "157/157 [==============================] - 1s 8ms/step - loss: 0.0268 - accuracy: 0.9940 - val_loss: 0.2389 - val_accuracy: 0.9344\n",
      "Epoch 12/50\n",
      "157/157 [==============================] - 1s 8ms/step - loss: 0.0247 - accuracy: 0.9950 - val_loss: 0.2232 - val_accuracy: 0.9372\n",
      "Epoch 13/50\n",
      "157/157 [==============================] - 1s 7ms/step - loss: 0.0163 - accuracy: 0.9972 - val_loss: 0.2278 - val_accuracy: 0.9388\n",
      "Epoch 14/50\n",
      "157/157 [==============================] - 1s 7ms/step - loss: 0.0107 - accuracy: 0.9976 - val_loss: 0.2034 - val_accuracy: 0.9466\n",
      "Epoch 15/50\n",
      "157/157 [==============================] - 1s 7ms/step - loss: 0.0075 - accuracy: 0.9990 - val_loss: 0.2016 - val_accuracy: 0.9440\n",
      "Epoch 16/50\n",
      "157/157 [==============================] - 1s 8ms/step - loss: 0.0115 - accuracy: 0.9980 - val_loss: 0.2449 - val_accuracy: 0.9394\n",
      "Epoch 17/50\n",
      "157/157 [==============================] - 1s 7ms/step - loss: 0.0142 - accuracy: 0.9962 - val_loss: 0.2247 - val_accuracy: 0.9362\n",
      "Epoch 18/50\n",
      "157/157 [==============================] - 1s 7ms/step - loss: 0.0192 - accuracy: 0.9948 - val_loss: 0.2342 - val_accuracy: 0.9380\n",
      "Epoch 19/50\n",
      "157/157 [==============================] - 1s 8ms/step - loss: 0.0153 - accuracy: 0.9980 - val_loss: 0.2262 - val_accuracy: 0.9414\n",
      "Epoch 20/50\n",
      "157/157 [==============================] - 1s 8ms/step - loss: 0.0089 - accuracy: 0.9982 - val_loss: 0.2284 - val_accuracy: 0.9368\n",
      "Epoch 21/50\n",
      "157/157 [==============================] - 1s 8ms/step - loss: 0.0072 - accuracy: 0.9988 - val_loss: 0.2209 - val_accuracy: 0.9430\n",
      "Epoch 22/50\n",
      "157/157 [==============================] - 1s 7ms/step - loss: 0.0050 - accuracy: 0.9984 - val_loss: 0.2459 - val_accuracy: 0.9392\n",
      "Epoch 23/50\n",
      "157/157 [==============================] - 1s 8ms/step - loss: 0.0080 - accuracy: 0.9988 - val_loss: 0.2267 - val_accuracy: 0.9428\n",
      "Epoch 24/50\n",
      "157/157 [==============================] - 1s 8ms/step - loss: 0.0032 - accuracy: 0.9996 - val_loss: 0.2140 - val_accuracy: 0.9486\n",
      "Epoch 25/50\n",
      "157/157 [==============================] - 1s 7ms/step - loss: 0.0020 - accuracy: 1.0000 - val_loss: 0.2196 - val_accuracy: 0.9472\n",
      "Epoch 26/50\n",
      "157/157 [==============================] - 1s 7ms/step - loss: 0.0048 - accuracy: 0.9990 - val_loss: 0.2366 - val_accuracy: 0.9410\n",
      "Epoch 27/50\n",
      "157/157 [==============================] - 1s 7ms/step - loss: 0.0026 - accuracy: 1.0000 - val_loss: 0.2210 - val_accuracy: 0.9438\n",
      "Epoch 28/50\n",
      "157/157 [==============================] - 1s 7ms/step - loss: 0.0013 - accuracy: 1.0000 - val_loss: 0.2106 - val_accuracy: 0.9478\n",
      "Epoch 29/50\n",
      "157/157 [==============================] - 1s 7ms/step - loss: 0.0019 - accuracy: 0.9998 - val_loss: 0.2233 - val_accuracy: 0.9444\n",
      "Epoch 30/50\n",
      "157/157 [==============================] - 1s 7ms/step - loss: 0.0017 - accuracy: 1.0000 - val_loss: 0.2283 - val_accuracy: 0.9442\n",
      "Epoch 31/50\n",
      "157/157 [==============================] - 1s 7ms/step - loss: 0.0022 - accuracy: 1.0000 - val_loss: 0.2142 - val_accuracy: 0.9488\n",
      "Epoch 32/50\n",
      "157/157 [==============================] - 1s 7ms/step - loss: 0.0023 - accuracy: 0.9998 - val_loss: 0.2398 - val_accuracy: 0.9468\n",
      "Epoch 33/50\n",
      "157/157 [==============================] - 1s 8ms/step - loss: 0.0192 - accuracy: 0.9944 - val_loss: 0.3246 - val_accuracy: 0.9270\n",
      "Epoch 34/50\n",
      "157/157 [==============================] - 1s 8ms/step - loss: 0.0401 - accuracy: 0.9866 - val_loss: 0.2726 - val_accuracy: 0.9376\n",
      "Epoch 35/50\n",
      "157/157 [==============================] - 1s 7ms/step - loss: 0.0306 - accuracy: 0.9900 - val_loss: 0.2964 - val_accuracy: 0.9266\n",
      "Epoch 36/50\n",
      "157/157 [==============================] - 1s 7ms/step - loss: 0.0150 - accuracy: 0.9958 - val_loss: 0.2431 - val_accuracy: 0.9420\n",
      "Epoch 37/50\n",
      "157/157 [==============================] - 1s 8ms/step - loss: 0.0095 - accuracy: 0.9976 - val_loss: 0.2531 - val_accuracy: 0.9376\n",
      "Epoch 38/50\n",
      "157/157 [==============================] - 1s 8ms/step - loss: 0.0068 - accuracy: 0.9982 - val_loss: 0.2302 - val_accuracy: 0.9444\n",
      "Epoch 39/50\n",
      "157/157 [==============================] - 1s 7ms/step - loss: 0.0101 - accuracy: 0.9970 - val_loss: 0.2792 - val_accuracy: 0.9336\n",
      "Epoch 40/50\n",
      "157/157 [==============================] - 1s 7ms/step - loss: 0.0040 - accuracy: 0.9992 - val_loss: 0.2151 - val_accuracy: 0.9474\n",
      "Epoch 41/50\n",
      "157/157 [==============================] - 1s 7ms/step - loss: 0.0037 - accuracy: 0.9996 - val_loss: 0.2260 - val_accuracy: 0.9472\n",
      "Epoch 42/50\n",
      "157/157 [==============================] - 1s 8ms/step - loss: 0.0035 - accuracy: 0.9994 - val_loss: 0.2268 - val_accuracy: 0.9446\n",
      "Epoch 43/50\n",
      "157/157 [==============================] - 1s 7ms/step - loss: 0.0022 - accuracy: 0.9998 - val_loss: 0.2186 - val_accuracy: 0.9504\n",
      "Epoch 44/50\n",
      "157/157 [==============================] - 1s 7ms/step - loss: 0.0015 - accuracy: 1.0000 - val_loss: 0.2223 - val_accuracy: 0.9498\n",
      "Epoch 45/50\n",
      "157/157 [==============================] - 1s 7ms/step - loss: 0.0013 - accuracy: 1.0000 - val_loss: 0.2156 - val_accuracy: 0.9510\n",
      "Epoch 46/50\n",
      "157/157 [==============================] - 1s 8ms/step - loss: 0.0019 - accuracy: 0.9994 - val_loss: 0.2282 - val_accuracy: 0.9496\n",
      "Epoch 47/50\n",
      "157/157 [==============================] - 1s 8ms/step - loss: 0.0010 - accuracy: 1.0000 - val_loss: 0.2148 - val_accuracy: 0.9506\n",
      "Epoch 48/50\n",
      "157/157 [==============================] - 1s 8ms/step - loss: 0.0011 - accuracy: 1.0000 - val_loss: 0.2191 - val_accuracy: 0.9518\n",
      "Epoch 49/50\n",
      "157/157 [==============================] - 1s 8ms/step - loss: 5.6640e-04 - accuracy: 1.0000 - val_loss: 0.2186 - val_accuracy: 0.9526\n",
      "Epoch 50/50\n",
      "157/157 [==============================] - 1s 8ms/step - loss: 9.3107e-04 - accuracy: 0.9998 - val_loss: 0.2258 - val_accuracy: 0.9494\n"
     ]
    }
   ],
   "source": [
    "his = model.fit(x_train_data,y_train_data,batch_size=32,epochs=50, validation_data = (x_valid,y_valid))"
   ]
  },
  {
   "cell_type": "code",
   "execution_count": 9,
   "id": "c1870240",
   "metadata": {},
   "outputs": [
    {
     "name": "stdout",
     "output_type": "stream",
     "text": [
      "313/313 [==============================] - 1s 2ms/step - loss: 0.2527 - accuracy: 0.9499\n"
     ]
    },
    {
     "data": {
      "text/plain": [
       "[0.2527250349521637, 0.9498999714851379]"
      ]
     },
     "execution_count": 9,
     "metadata": {},
     "output_type": "execute_result"
    }
   ],
   "source": [
    "model.evaluate(x_test,y_test_cat)"
   ]
  },
  {
   "cell_type": "code",
   "execution_count": 23,
   "id": "562d0555",
   "metadata": {},
   "outputs": [
    {
     "data": {
      "image/png": "[encoded data removed]",
      "text/plain": [
       "<Figure size 640x480 with 1 Axes>"
      ]
     },
     "metadata": {},
     "output_type": "display_data"
    }
   ],
   "source": [
    "plt.plot(his.history['loss'])\n",
    "plt.plot(his.history['val_loss'])\n",
    "plt.show()"
   ]
  },
  {
   "cell_type": "code",
   "execution_count": null,
   "id": "72d6c436",
   "metadata": {},
   "outputs": [],
   "source": []
  },
  {
   "cell_type": "code",
   "execution_count": null,
   "id": "42477036",
   "metadata": {},
   "outputs": [],
   "source": []
  },
  {
   "cell_type": "code",
   "execution_count": null,
   "id": "fb28ee58",
   "metadata": {},
   "outputs": [],
   "source": []
  },
  {
   "cell_type": "code",
   "execution_count": null,
   "id": "2e832f74",
   "metadata": {},
   "outputs": [],
   "source": []
  },
  {
   "cell_type": "code",
   "execution_count": 63,
   "id": "14c25baa",
   "metadata": {},
   "outputs": [
    {
     "name": "stdout",
     "output_type": "stream",
     "text": [
      "1/1 [==============================] - 0s 36ms/step\n",
      "[[1.3878229e-08 2.2908964e-09 4.6831437e-06 2.7035261e-04 8.8392774e-12\n",
      "  2.1656916e-08 1.3635799e-13 9.9972409e-01 2.9707903e-07 5.3852472e-07]]\n",
      "Распознаная цифра: 7\n"
     ]
    }
   ],
   "source": [
    "n=0 \n",
    "x = np.expand_dims(x_test[n],axis=0)# просто двумерную матрицу подать нельзя, он хочет на вход 3-х мерный тензор.\n",
    "res = model.predict(x)\n",
    "print(res)\n",
    "print(f'Распознаная цифра: {np.argmax(res)}')"
   ]
  },
  {
   "cell_type": "code",
   "execution_count": null,
   "id": "1427fa90",
   "metadata": {},
   "outputs": [],
   "source": []
  },
  {
   "cell_type": "code",
   "execution_count": 69,
   "id": "bb4bb467",
   "metadata": {},
   "outputs": [
    {
     "name": "stdout",
     "output_type": "stream",
     "text": [
      "313/313 [==============================] - 1s 2ms/step\n"
     ]
    },
    {
     "data": {
      "text/plain": [
       "array([[1.3878203e-08, 2.2908964e-09, 4.6831346e-06, ..., 9.9972409e-01,\n",
       "        2.9707903e-07, 5.3852375e-07],\n",
       "       [4.1921350e-08, 1.3342019e-05, 9.9998283e-01, ..., 4.5546036e-14,\n",
       "        2.2109207e-08, 5.4899439e-13],\n",
       "       [7.5941184e-06, 9.9823439e-01, 1.1891379e-03, ..., 3.0929237e-04,\n",
       "        1.4830744e-04, 1.1684250e-06],\n",
       "       ...,\n",
       "       [1.5014066e-13, 5.9385920e-11, 3.0424580e-08, ..., 2.8100112e-06,\n",
       "        3.8533735e-06, 5.9592699e-06],\n",
       "       [9.9424198e-11, 1.3274789e-11, 2.9654580e-13, ..., 6.5919249e-11,\n",
       "        5.7145513e-05, 5.4016036e-10],\n",
       "       [1.4641060e-07, 1.1287653e-09, 2.3930317e-08, ..., 3.5045935e-12,\n",
       "        1.2733110e-10, 1.1772328e-08]], dtype=float32)"
      ]
     },
     "execution_count": 69,
     "metadata": {},
     "output_type": "execute_result"
    }
   ],
   "source": [
    "pred = model.predict(x_test)\n",
    "pred"
   ]
  },
  {
   "cell_type": "code",
   "execution_count": 70,
   "id": "0f712ea2",
   "metadata": {},
   "outputs": [],
   "source": [
    "pred = np.argmax(pred,axis=1)"
   ]
  },
  {
   "cell_type": "code",
   "execution_count": 78,
   "id": "9c08fef3",
   "metadata": {},
   "outputs": [],
   "source": [
    "mask = pred==y_test"
   ]
  },
  {
   "cell_type": "code",
   "execution_count": 84,
   "id": "1c105b44",
   "metadata": {},
   "outputs": [],
   "source": [
    "x_false = x_test[~mask]"
   ]
  },
  {
   "cell_type": "code",
   "execution_count": 83,
   "id": "3ca599ab",
   "metadata": {},
   "outputs": [],
   "source": [
    "pred_false = pred[~mask]"
   ]
  },
  {
   "cell_type": "code",
   "execution_count": 90,
   "id": "50b44302",
   "metadata": {},
   "outputs": [
    {
     "name": "stdout",
     "output_type": "stream",
     "text": [
      "Значение сети: 7\n"
     ]
    },
    {
     "data": {
      "image/png": "[encoded data removed]",
      "text/plain": [
       "<Figure size 640x480 with 1 Axes>"
      ]
     },
     "metadata": {},
     "output_type": "display_data"
    },
    {
     "name": "stdout",
     "output_type": "stream",
     "text": [
      "Значение сети: 2\n"
     ]
    },
    {
     "data": {
      "image/png": "[encoded data removed]",
      "text/plain": [
       "<Figure size 640x480 with 1 Axes>"
      ]
     },
     "metadata": {},
     "output_type": "display_data"
    },
    {
     "name": "stdout",
     "output_type": "stream",
     "text": [
      "Значение сети: 1\n"
     ]
    },
    {
     "data": {
      "image/png": "[encoded data removed]",
      "text/plain": [
       "<Figure size 640x480 with 1 Axes>"
      ]
     },
     "metadata": {},
     "output_type": "display_data"
    },
    {
     "name": "stdout",
     "output_type": "stream",
     "text": [
      "Значение сети: 0\n"
     ]
    },
    {
     "data": {
      "image/png": "[encoded data removed]",
      "text/plain": [
       "<Figure size 640x480 with 1 Axes>"
      ]
     },
     "metadata": {},
     "output_type": "display_data"
    },
    {
     "name": "stdout",
     "output_type": "stream",
     "text": [
      "Значение сети: 4\n"
     ]
    },
    {
     "data": {
      "image/png": "[encoded data removed]",
      "text/plain": [
       "<Figure size 640x480 with 1 Axes>"
      ]
     },
     "metadata": {},
     "output_type": "display_data"
    },
    {
     "name": "stdout",
     "output_type": "stream",
     "text": [
      "Значение сети: 1\n"
     ]
    },
    {
     "data": {
      "image/png": "[encoded data removed]",
      "text/plain": [
       "<Figure size 640x480 with 1 Axes>"
      ]
     },
     "metadata": {},
     "output_type": "display_data"
    },
    {
     "name": "stdout",
     "output_type": "stream",
     "text": [
      "Значение сети: 4\n"
     ]
    },
    {
     "data": {
      "image/png": "[encoded data removed]",
      "text/plain": [
       "<Figure size 640x480 with 1 Axes>"
      ]
     },
     "metadata": {},
     "output_type": "display_data"
    },
    {
     "name": "stdout",
     "output_type": "stream",
     "text": [
      "Значение сети: 9\n"
     ]
    },
    {
     "data": {
      "image/png": "[encoded data removed]",
      "text/plain": [
       "<Figure size 640x480 with 1 Axes>"
      ]
     },
     "metadata": {},
     "output_type": "display_data"
    },
    {
     "name": "stdout",
     "output_type": "stream",
     "text": [
      "Значение сети: 5\n"
     ]
    },
    {
     "data": {
      "image/png": "[encoded data removed]",
      "text/plain": [
       "<Figure size 640x480 with 1 Axes>"
      ]
     },
     "metadata": {},
     "output_type": "display_data"
    },
    {
     "name": "stdout",
     "output_type": "stream",
     "text": [
      "Значение сети: 9\n"
     ]
    },
    {
     "data": {
      "image/png": "[encoded data removed]",
      "text/plain": [
       "<Figure size 640x480 with 1 Axes>"
      ]
     },
     "metadata": {},
     "output_type": "display_data"
    }
   ],
   "source": [
    "for i in range(10):\n",
    "    print(\"Значение сети: \" +str(y_test[i]))\n",
    "    plt.imshow(x_false[i], cmap=plt.cm.binary)\n",
    "    plt.show()"
   ]
  },
  {
   "cell_type": "code",
   "execution_count": 93,
   "id": "a38390d8",
   "metadata": {},
   "outputs": [
    {
     "data": {
      "text/plain": [
       "60000"
      ]
     },
     "execution_count": 93,
     "metadata": {},
     "output_type": "execute_result"
    }
   ],
   "source": [
    "len(x_train)"
   ]
  },
  {
   "cell_type": "code",
   "execution_count": 100,
   "id": "234961a3",
   "metadata": {},
   "outputs": [
    {
     "data": {
      "text/plain": [
       "array([9639, 7971, 8402, 4687, 2138, 7199, 9005, 3385, 3577,  855,  139,\n",
       "        718, 7202, 5414, 7982, 4605, 8760, 4656, 2260, 5963,  863, 7292,\n",
       "       2735, 4956, 4450, 6206, 4667, 1812, 2427, 4309, 2769, 1533, 1849,\n",
       "        712,  598, 7030, 4499, 1537, 7554, 9430,  340,  446, 1510, 7959,\n",
       "       7182, 1638, 5245, 7827, 1101, 5183, 4393, 4758, 3286,  194, 1912,\n",
       "       3476, 2519, 1070, 9989, 6098, 2470, 2607, 1939, 8267, 4253, 5390,\n",
       "       8288, 3083, 2016, 8522, 3691, 5797, 2279, 3625, 7712, 1190, 8678,\n",
       "       7071, 6429, 2189, 8444, 5397, 2714, 8621, 3530, 2266,  151, 6325,\n",
       "       7909, 3670, 9179, 4967, 6766, 8810, 7928, 8470, 2570,  166, 1109,\n",
       "       2221, 8826,  540, 4899, 1164, 1293, 2991, 1511, 2019, 9905, 8507,\n",
       "       7717, 7529, 7061,  873, 5804, 2203, 1679, 4111, 5659, 1364, 7220,\n",
       "       2511, 4975, 6806, 5665, 2412, 1697, 4630, 1046, 1369, 4581, 7531,\n",
       "       4654, 4917, 9977, 2732, 6889, 3645, 9380, 9741, 9744, 7784, 7465,\n",
       "       5322, 6647, 8287, 7969, 5831, 8854, 8346, 5335, 2385, 8103, 1015,\n",
       "       6076, 6540,  953,  105, 6467, 1497, 7628, 1876, 6957, 8948, 6624,\n",
       "       7670, 2370, 3512, 9902, 1298, 9219, 3051, 5187, 3032, 4039, 1388,\n",
       "       7113, 8719, 7579, 2800, 7824, 9139, 5628, 5071, 3706, 9742, 3871,\n",
       "       9689, 9127, 6545, 8980, 8825, 2725,  866, 7263, 2948, 4470, 8151,\n",
       "       1549, 6683])"
      ]
     },
     "execution_count": 100,
     "metadata": {},
     "output_type": "execute_result"
    }
   ],
   "source": []
  },
  {
   "cell_type": "code",
   "execution_count": null,
   "id": "0f66fbfb",
   "metadata": {},
   "outputs": [],
   "source": []
  },
  {
   "cell_type": "code",
   "execution_count": null,
   "id": "15620b69",
   "metadata": {},
   "outputs": [],
   "source": []
  }
 ],
 "metadata": {
  "kernelspec": {
   "display_name": "Python 3 (ipykernel)",
   "language": "python",
   "name": "python3"
  },
  "language_info": {
   "codemirror_mode": {
    "name": "ipython",
    "version": 3
   },
   "file_extension": ".py",
   "mimetype": "text/x-python",
   "name": "python",
   "nbconvert_exporter": "python",
   "pygments_lexer": "ipython3",
   "version": "3.10.12"
  }
 },
 "nbformat": 4,
 "nbformat_minor": 5
}
