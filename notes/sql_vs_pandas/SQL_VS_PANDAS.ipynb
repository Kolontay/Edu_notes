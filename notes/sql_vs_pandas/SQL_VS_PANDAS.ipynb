{
 "cells": [
  {
   "cell_type": "code",
   "execution_count": 22,
   "id": "df12a719",
   "metadata": {},
   "outputs": [],
   "source": []
  },
  {
   "cell_type": "code",
   "execution_count": null,
   "id": "833db563",
   "metadata": {},
   "outputs": [],
   "source": []
  },
  {
   "cell_type": "code",
   "execution_count": 28,
   "id": "3b755d57",
   "metadata": {},
   "outputs": [],
   "source": [
    "4 3\n",
    "5-3542BUG\n",
    "12-0012BG\n",
    "3-0012UG\n",
    "9-9999BIG\n",
    " 6-5342BAG\n",
    "7-2334BIG\n",
    "5-0001BG "
   ]
  },
  {
   "cell_type": "code",
   "execution_count": 4,
   "id": "faa07166",
   "metadata": {},
   "outputs": [
    {
     "ename": "SyntaxError",
     "evalue": "EOL while scanning string literal (2571273572.py, line 2)",
     "output_type": "error",
     "traceback": [
      "\u001b[1;36m  File \u001b[1;32m\"C:\\Users\\Колонтай\\AppData\\Local\\Temp\\ipykernel_6928\\2571273572.py\"\u001b[1;36m, line \u001b[1;32m2\u001b[0m\n\u001b[1;33m    data = sys.stdin.readlines(\"4 3\u001b[0m\n\u001b[1;37m                                   ^\u001b[0m\n\u001b[1;31mSyntaxError\u001b[0m\u001b[1;31m:\u001b[0m EOL while scanning string literal\n"
     ]
    }
   ],
   "source": [
    "import sys\n",
    "data = sys.stdin.readlines(\"4 3\n",
    "5-3542BUG\n",
    "12-0012BG\n",
    "3-0012UG\n",
    "9-9999BIG\n",
    " 6-5342BAG\n",
    "7-2334BIG\n",
    "5-0001BG \")"
   ]
  },
  {
   "cell_type": "code",
   "execution_count": 2,
   "id": "d37ab086",
   "metadata": {},
   "outputs": [
    {
     "data": {
      "text/plain": [
       "[]"
      ]
     },
     "execution_count": 2,
     "metadata": {},
     "output_type": "execute_result"
    }
   ],
   "source": [
    "datat ['4 3', '5-3542BUG', '12-0012BG', '3-0012UG', '9-9999BIG', ' 6-5342BAG', '7-2334BIG', '5-0001BG ']"
   ]
  },
  {
   "cell_type": "code",
   "execution_count": null,
   "id": "6b56ea24",
   "metadata": {},
   "outputs": [],
   "source": []
  },
  {
   "cell_type": "code",
   "execution_count": null,
   "id": "7f339ae8",
   "metadata": {},
   "outputs": [],
   "source": []
  }
 ],
 "metadata": {
  "kernelspec": {
   "display_name": "Python 3 (ipykernel)",
   "language": "python",
   "name": "python3"
  },
  "language_info": {
   "codemirror_mode": {
    "name": "ipython",
    "version": 3
   },
   "file_extension": ".py",
   "mimetype": "text/x-python",
   "name": "python",
   "nbconvert_exporter": "python",
   "pygments_lexer": "ipython3",
   "version": "3.9.13"
  }
 },
 "nbformat": 4,
 "nbformat_minor": 5
}
