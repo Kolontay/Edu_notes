{
 "cells": [
  {
   "cell_type": "code",
   "execution_count": null,
   "id": "c1e5be75",
   "metadata": {},
   "outputs": [],
   "source": [
    "import os\n",
    "\n",
    "import seaborn as sns\n",
    "import matplotlib.pyplot as plt\n",
    "\n",
    "\n",
    "import numpy as np\n",
    "import matplotlib.pyplot as plt\n",
    "import matplotlib.cm as cm\n",
    "import random\n",
    "import seaborn\n",
    "\n"
   ]
  },
  {
   "cell_type": "code",
   "execution_count": null,
   "id": "84b3eeeb",
   "metadata": {},
   "outputs": [],
   "source": []
  },
  {
   "cell_type": "code",
   "execution_count": null,
   "id": "e9853be1",
   "metadata": {},
   "outputs": [],
   "source": []
  },
  {
   "cell_type": "code",
   "execution_count": null,
   "id": "e1d2011a",
   "metadata": {},
   "outputs": [],
   "source": [
    "df = pd.read_csv(\"./Iris.csv\")"
   ]
  },
  {
   "cell_type": "code",
   "execution_count": null,
   "id": "4c06dc49",
   "metadata": {},
   "outputs": [],
   "source": [
    "X = df.drop('Species', axis=1)\n",
    "y = df['Species']"
   ]
  },
  {
   "cell_type": "code",
   "execution_count": null,
   "id": "30527190",
   "metadata": {},
   "outputs": [],
   "source": [
    "y = y.replace({'Iris-setosa':1,'Iris-versicolor':0,'Iris-virginica':0})"
   ]
  },
  {
   "cell_type": "code",
   "execution_count": null,
   "id": "ff35b6de",
   "metadata": {},
   "outputs": [],
   "source": [
    "X_train, X_test, y_train, y_test = train_test_split(X, y, test_size=0.2, random_state=42)"
   ]
  },
  {
   "cell_type": "code",
   "execution_count": null,
   "id": "4771b5fb",
   "metadata": {},
   "outputs": [],
   "source": [
    "\n",
    "# Инициализируем модель логистической регрессии с подходом \"один против всех\"\n",
    "model = LogisticRegression(multi_class='ovr', solver='lbfgs')"
   ]
  },
  {
   "cell_type": "code",
   "execution_count": null,
   "id": "fa8d4d3d",
   "metadata": {},
   "outputs": [],
   "source": [
    "# Обучаем модель\n",
    "model.fit(X_train, y_train)"
   ]
  },
  {
   "cell_type": "code",
   "execution_count": null,
   "id": "b842864f",
   "metadata": {},
   "outputs": [],
   "source": [
    "from sklearn.linear_model import LogisticRegression\n",
    "from sklearn.preprocessing import OneHotEncoder\n"
   ]
  },
  {
   "cell_type": "code",
   "execution_count": null,
   "id": "5e518d51",
   "metadata": {},
   "outputs": [],
   "source": [
    "\n",
    "\n",
    "\n",
    "\n",
    "\n",
    "# Предсказываем вероятности классов\n",
    "y_pred_proba = model.predict_proba(X_test)\n",
    "\n",
    "# Предсказываем классы\n",
    "y_pred = model.predict(X_test)\n"
   ]
  },
  {
   "cell_type": "code",
   "execution_count": null,
   "id": "b250ec62",
   "metadata": {},
   "outputs": [],
   "source": [
    "y_pred"
   ]
  },
  {
   "cell_type": "code",
   "execution_count": null,
   "id": "cbf31061",
   "metadata": {},
   "outputs": [],
   "source": []
  },
  {
   "cell_type": "code",
   "execution_count": null,
   "id": "ab8bb1f3",
   "metadata": {},
   "outputs": [],
   "source": []
  },
  {
   "cell_type": "code",
   "execution_count": null,
   "id": "06a10e53",
   "metadata": {},
   "outputs": [],
   "source": []
  },
  {
   "cell_type": "code",
   "execution_count": null,
   "id": "45da4043",
   "metadata": {},
   "outputs": [],
   "source": []
  },
  {
   "cell_type": "code",
   "execution_count": null,
   "id": "82bb4868",
   "metadata": {},
   "outputs": [],
   "source": [
    "import tensorflow as tf\n",
    "from scipy import optimize as op\n",
    "import numpy as np\n",
    "import pandas as pd\n",
    "from sklearn.model_selection import train_test_split\n",
    "from sklearn.metrics import accuracy_score "
   ]
  },
  {
   "cell_type": "code",
   "execution_count": null,
   "id": "b11721c3",
   "metadata": {},
   "outputs": [],
   "source": [
    "iris = pd.read_csv(\"./Iris.csv\")"
   ]
  },
  {
   "cell_type": "code",
   "execution_count": null,
   "id": "f8008b9d",
   "metadata": {},
   "outputs": [],
   "source": [
    "Species = ['Iris-setosa', 'Iris-versicolor', 'Iris-virginica']\n",
    "#Number of examples\n",
    "m = iris.shape[0]\n",
    "#Features\n",
    "n = 4\n",
    "#Number of classes\n",
    "k = 3\n",
    "\n",
    "X = np.ones((m,n + 1))\n",
    "y = np.array((m,1))\n",
    "X[:,1] = iris['PetalLengthCm'].values\n",
    "X[:,2] = iris['PetalWidthCm'].values\n",
    "X[:,3] = iris['SepalLengthCm'].values\n",
    "X[:,4] = iris['SepalWidthCm'].values\n",
    "\n",
    "#Labels\n",
    "y = iris['Species'].values\n",
    "\n",
    "#Mean normalization\n",
    "for j in range(n):\n",
    "    X[:, j] = (X[:, j] - X[:,j].mean())\n",
    "\n",
    "X_train, X_test, y_train, y_test = train_test_split(X, y, test_size = 0.2, random_state = 11)"
   ]
  },
  {
   "cell_type": "code",
   "execution_count": null,
   "id": "72e07f9e",
   "metadata": {},
   "outputs": [],
   "source": [
    "def sigmoid(z):\n",
    "    return 1.0 / (1 + np.exp(-z))\n",
    "\n",
    "#Regularized cost function\n",
    "def regCostFunction(theta, X, y, _lambda = 0.1):\n",
    "    m = len(y)\n",
    "    h = sigmoid(X.dot(theta))\n",
    "    reg = (_lambda/(2 * m)) * np.sum(theta**2)\n",
    "\n",
    "    return (1 / m) * (-y.T.dot(np.log(h)) - (1 - y).T.dot(np.log(1 - h))) + reg\n",
    "\n",
    "#Regularized gradient function\n",
    "def regGradient(theta, X, y, _lambda = 0.1):\n",
    "    m, n = X.shape\n",
    "    theta = theta.reshape((n, 1))\n",
    "    y = y.reshape((m, 1))\n",
    "    h = sigmoid(X.dot(theta))\n",
    "    reg = _lambda * theta /m\n",
    "\n",
    "    return ((1 / m) * X.T.dot(h - y)) + reg\n",
    "\n",
    "#Optimal theta \n",
    "def logisticRegression(X, y, theta):\n",
    "    result = op.minimize(fun = regCostFunction, x0 = theta, args = (X, y),\n",
    "                         method = 'TNC', jac = regGradient)\n",
    "    \n",
    "    return result.x"
   ]
  },
  {
   "cell_type": "code",
   "execution_count": null,
   "id": "ceef2b5d",
   "metadata": {},
   "outputs": [],
   "source": [
    "all_theta = np.zeros((k, n + 1))\n",
    "\n",
    "#One vs all\n",
    "i = 0\n",
    "for flower in Species:\n",
    "    #set the labels in 0 and 1\n",
    "    tmp_y = np.array(y_train == flower, dtype = int)\n",
    "    optTheta = logisticRegression(X_train, tmp_y, np.zeros((n + 1,1)))\n",
    "    all_theta[i] = optTheta\n",
    "    i += 1\n",
    "    \n",
    "#Predictions\n",
    "P = sigmoid(X_test.dot(all_theta.T)) #probability for each flower\n",
    "p = [Species[np.argmax(P[i, :])] for i in range(X_test.shape[0])]\n",
    "\n",
    "print(\"Test Accuracy \", accuracy_score(y_test, p) * 100 , '%')"
   ]
  },
  {
   "cell_type": "code",
   "execution_count": null,
   "id": "7204a51d",
   "metadata": {},
   "outputs": [],
   "source": []
  },
  {
   "cell_type": "code",
   "execution_count": 27,
   "id": "1ce80080",
   "metadata": {},
   "outputs": [],
   "source": [
    "def sigmoid(z):\n",
    "    return 1.0 / (1 + np.exp(-z))\n",
    "\n",
    "#Regularized cost function\n",
    "def regCostFunction(theta, X, y, _lambda = 0.1):\n",
    "    m = len(y)\n",
    "    h = sigmoid(X.dot(theta))\n",
    "\n",
    "    return (1 / m) * (-y.T.dot(np.log(h)) - (1 - y).T.dot(np.log(1 - h)))\n",
    "\n",
    "#Regularized gradient function\n",
    "def regGradient(theta, X, y, _lambda = 0.1):\n",
    "    m, n = X.shape\n",
    "    theta = theta.reshape((n, 1))\n",
    "    y = y.reshape((m, 1))\n",
    "    h = sigmoid(X.dot(theta))\n",
    "\n",
    "    return ((1 / m) * X.T.dot(h - y))\n",
    "\n",
    "#Optimal theta \n",
    "def logisticRegression(X, y, theta):\n",
    "    result = op.minimize(fun = regCostFunction, x0 = theta, args = (X, y),\n",
    "                         method = 'TNC', jac = regGradient)\n",
    "    \n",
    "    return result.x"
   ]
  },
  {
   "cell_type": "code",
   "execution_count": 28,
   "id": "9d7a6e42",
   "metadata": {},
   "outputs": [],
   "source": [
    "Species = ['Iris-setosa', 'Iris-versicolor', 'Iris-virginica']\n",
    "#Number of examples\n",
    "m = iris.shape[0]\n",
    "#Features\n",
    "n = 4\n",
    "#Number of classes\n",
    "k = 3\n",
    "\n",
    "X = np.ones((m,n + 1))\n",
    "y = np.array((m,1))\n",
    "X[:,1] = iris['PetalLengthCm'].values\n",
    "X[:,2] = iris['PetalWidthCm'].values\n",
    "X[:,3] = iris['SepalLengthCm'].values\n",
    "X[:,4] = iris['SepalWidthCm'].values\n",
    "\n",
    "#Labels\n",
    "y = iris['Species'].values\n",
    "\n",
    "#Mean normalization\n",
    "for j in range(n):\n",
    "    X[:, j] = (X[:, j] - X[:,j].mean())\n",
    "\n",
    "X_train, X_test, y_train, y_test = train_test_split(X, y, test_size = 0.2, random_state = 11)"
   ]
  },
  {
   "cell_type": "code",
   "execution_count": null,
   "id": "79d5b792",
   "metadata": {},
   "outputs": [],
   "source": []
  },
  {
   "cell_type": "code",
   "execution_count": null,
   "id": "1e3ad93b",
   "metadata": {},
   "outputs": [],
   "source": []
  },
  {
   "cell_type": "code",
   "execution_count": null,
   "id": "77f49f3e",
   "metadata": {},
   "outputs": [],
   "source": [
    "all_theta = np.zeros((k, n + 1))\n",
    "\n",
    "#One vs all\n",
    "i = 0\n",
    "for flower in Species:\n",
    "    #set the labels in 0 and 1\n",
    "    tmp_y = np.array(y_train == flower, dtype = int)\n",
    "    optTheta = logisticRegression(X_train, tmp_y, np.zeros((n + 1,1)))\n",
    "    all_theta[i] = optTheta\n",
    "    i += 1\n",
    "    \n",
    "#Predictions\n",
    "P = sigmoid(X_test.dot(all_theta.T)) #probability for each flower\n",
    "p = [Species[np.argmax(P[i, :])] for i in range(X_test.shape[0])]\n",
    "\n",
    "print(\"Test Accuracy \", accuracy_score(y_test, p) * 100 , '%')"
   ]
  },
  {
   "cell_type": "code",
   "execution_count": null,
   "id": "0f6f30f9",
   "metadata": {},
   "outputs": [],
   "source": []
  },
  {
   "cell_type": "code",
   "execution_count": 1,
   "id": "b64bd564",
   "metadata": {},
   "outputs": [],
   "source": [
    "import tensorflow as tf\n",
    "from scipy import optimize as op\n",
    "import numpy as np\n",
    "import pandas as pd\n",
    "from sklearn.model_selection import train_test_split\n",
    "from sklearn.metrics import accuracy_score "
   ]
  },
  {
   "cell_type": "code",
   "execution_count": 2,
   "id": "c87de555",
   "metadata": {},
   "outputs": [],
   "source": [
    "iris = pd.read_csv(\"./Iris.csv\")"
   ]
  },
  {
   "cell_type": "code",
   "execution_count": 324,
   "id": "581b53e4",
   "metadata": {},
   "outputs": [
    {
     "data": {
      "text/html": [
       "<div>\n",
       "<style scoped>\n",
       "    .dataframe tbody tr th:only-of-type {\n",
       "        vertical-align: middle;\n",
       "    }\n",
       "\n",
       "    .dataframe tbody tr th {\n",
       "        vertical-align: top;\n",
       "    }\n",
       "\n",
       "    .dataframe thead th {\n",
       "        text-align: right;\n",
       "    }\n",
       "</style>\n",
       "<table border=\"1\" class=\"dataframe\">\n",
       "  <thead>\n",
       "    <tr style=\"text-align: right;\">\n",
       "      <th></th>\n",
       "      <th>Id</th>\n",
       "      <th>SepalLengthCm</th>\n",
       "      <th>SepalWidthCm</th>\n",
       "      <th>PetalLengthCm</th>\n",
       "      <th>PetalWidthCm</th>\n",
       "      <th>Species</th>\n",
       "    </tr>\n",
       "  </thead>\n",
       "  <tbody>\n",
       "    <tr>\n",
       "      <th>0</th>\n",
       "      <td>1</td>\n",
       "      <td>5.1</td>\n",
       "      <td>3.5</td>\n",
       "      <td>1.4</td>\n",
       "      <td>0.2</td>\n",
       "      <td>Iris-setosa</td>\n",
       "    </tr>\n",
       "    <tr>\n",
       "      <th>1</th>\n",
       "      <td>2</td>\n",
       "      <td>4.9</td>\n",
       "      <td>3.0</td>\n",
       "      <td>1.4</td>\n",
       "      <td>0.2</td>\n",
       "      <td>Iris-setosa</td>\n",
       "    </tr>\n",
       "    <tr>\n",
       "      <th>2</th>\n",
       "      <td>3</td>\n",
       "      <td>4.7</td>\n",
       "      <td>3.2</td>\n",
       "      <td>1.3</td>\n",
       "      <td>0.2</td>\n",
       "      <td>Iris-setosa</td>\n",
       "    </tr>\n",
       "    <tr>\n",
       "      <th>3</th>\n",
       "      <td>4</td>\n",
       "      <td>4.6</td>\n",
       "      <td>3.1</td>\n",
       "      <td>1.5</td>\n",
       "      <td>0.2</td>\n",
       "      <td>Iris-setosa</td>\n",
       "    </tr>\n",
       "    <tr>\n",
       "      <th>4</th>\n",
       "      <td>5</td>\n",
       "      <td>5.0</td>\n",
       "      <td>3.6</td>\n",
       "      <td>1.4</td>\n",
       "      <td>0.2</td>\n",
       "      <td>Iris-setosa</td>\n",
       "    </tr>\n",
       "    <tr>\n",
       "      <th>...</th>\n",
       "      <td>...</td>\n",
       "      <td>...</td>\n",
       "      <td>...</td>\n",
       "      <td>...</td>\n",
       "      <td>...</td>\n",
       "      <td>...</td>\n",
       "    </tr>\n",
       "    <tr>\n",
       "      <th>145</th>\n",
       "      <td>146</td>\n",
       "      <td>6.7</td>\n",
       "      <td>3.0</td>\n",
       "      <td>5.2</td>\n",
       "      <td>2.3</td>\n",
       "      <td>Iris-virginica</td>\n",
       "    </tr>\n",
       "    <tr>\n",
       "      <th>146</th>\n",
       "      <td>147</td>\n",
       "      <td>6.3</td>\n",
       "      <td>2.5</td>\n",
       "      <td>5.0</td>\n",
       "      <td>1.9</td>\n",
       "      <td>Iris-virginica</td>\n",
       "    </tr>\n",
       "    <tr>\n",
       "      <th>147</th>\n",
       "      <td>148</td>\n",
       "      <td>6.5</td>\n",
       "      <td>3.0</td>\n",
       "      <td>5.2</td>\n",
       "      <td>2.0</td>\n",
       "      <td>Iris-virginica</td>\n",
       "    </tr>\n",
       "    <tr>\n",
       "      <th>148</th>\n",
       "      <td>149</td>\n",
       "      <td>6.2</td>\n",
       "      <td>3.4</td>\n",
       "      <td>5.4</td>\n",
       "      <td>2.3</td>\n",
       "      <td>Iris-virginica</td>\n",
       "    </tr>\n",
       "    <tr>\n",
       "      <th>149</th>\n",
       "      <td>150</td>\n",
       "      <td>5.9</td>\n",
       "      <td>3.0</td>\n",
       "      <td>5.1</td>\n",
       "      <td>1.8</td>\n",
       "      <td>Iris-virginica</td>\n",
       "    </tr>\n",
       "  </tbody>\n",
       "</table>\n",
       "<p>150 rows × 6 columns</p>\n",
       "</div>"
      ],
      "text/plain": [
       "      Id  SepalLengthCm  SepalWidthCm  PetalLengthCm  PetalWidthCm  \\\n",
       "0      1            5.1           3.5            1.4           0.2   \n",
       "1      2            4.9           3.0            1.4           0.2   \n",
       "2      3            4.7           3.2            1.3           0.2   \n",
       "3      4            4.6           3.1            1.5           0.2   \n",
       "4      5            5.0           3.6            1.4           0.2   \n",
       "..   ...            ...           ...            ...           ...   \n",
       "145  146            6.7           3.0            5.2           2.3   \n",
       "146  147            6.3           2.5            5.0           1.9   \n",
       "147  148            6.5           3.0            5.2           2.0   \n",
       "148  149            6.2           3.4            5.4           2.3   \n",
       "149  150            5.9           3.0            5.1           1.8   \n",
       "\n",
       "            Species  \n",
       "0       Iris-setosa  \n",
       "1       Iris-setosa  \n",
       "2       Iris-setosa  \n",
       "3       Iris-setosa  \n",
       "4       Iris-setosa  \n",
       "..              ...  \n",
       "145  Iris-virginica  \n",
       "146  Iris-virginica  \n",
       "147  Iris-virginica  \n",
       "148  Iris-virginica  \n",
       "149  Iris-virginica  \n",
       "\n",
       "[150 rows x 6 columns]"
      ]
     },
     "execution_count": 324,
     "metadata": {},
     "output_type": "execute_result"
    }
   ],
   "source": [
    "iris"
   ]
  },
  {
   "cell_type": "code",
   "execution_count": 321,
   "id": "18701aaa",
   "metadata": {},
   "outputs": [],
   "source": [
    "Species = ['Iris-setosa', 'Iris-versicolor', 'Iris-virginica']\n",
    "#Количество наблюдений\n",
    "m = iris.shape[0]\n",
    "#Количество фичей\n",
    "n = 4\n",
    "#Количество классов\n",
    "k = 3\n",
    "\n",
    "X = np.ones((m,n + 1))\n",
    "y = np.array((m,1))\n",
    "X[:,1] = iris['PetalLengthCm'].values\n",
    "X[:,2] = iris['PetalWidthCm'].values\n",
    "X[:,3] = iris['SepalLengthCm'].values\n",
    "X[:,4] = iris['SepalWidthCm'].values\n",
    "\n",
    "#Labels\n",
    "y = iris['Species'].values\n",
    "\n",
    "#Mean normalization\n",
    "for j in range(n):\n",
    "    X[:, j] = (X[:, j] - X[:,j].mean())\n",
    "\n",
    "X_train, X_test, y_train, y_test = train_test_split(X, y, test_size = 0.2, random_state = 11)"
   ]
  },
  {
   "cell_type": "code",
   "execution_count": null,
   "id": "5c9d32c8",
   "metadata": {},
   "outputs": [],
   "source": []
  },
  {
   "cell_type": "code",
   "execution_count": 4,
   "id": "f0750971",
   "metadata": {},
   "outputs": [],
   "source": [
    "def sigmoid(z):\n",
    "    return 1.0 / (1 + np.exp(-z))\n",
    "\n",
    "#Функция активации\n",
    "def Act_Function(theta, X, y, _lambda = 0.1):\n",
    "    m = len(y)\n",
    "    h = sigmoid(X.dot(theta))\n",
    "\n",
    "    return (1 / m) * np.sum((h-y)**2) # MSE\n",
    "\n",
    "#Функция потерь \n",
    "def regGradient(theta, X, y, _lambda = 0.1):\n",
    "    m, n = X.shape\n",
    "    theta = theta.reshape((n, 1))\n",
    "    y = y.reshape((m, 1))\n",
    "    h = sigmoid(X.dot(theta))\n",
    "\n",
    "    return ((1 / m) * X.T.dot((h - y)*h*(1-h)))\n",
    "\n",
    "#Оптимизатор\n",
    "def logisticRegression(X, y, theta):\n",
    "    result = op.minimize(fun = Act_Function, x0 = theta, args = (X, y),\n",
    "                         method = 'TNC')\n",
    "    \n",
    "    return result.x"
   ]
  },
  {
   "cell_type": "code",
   "execution_count": 5,
   "id": "0a44ae55",
   "metadata": {},
   "outputs": [
    {
     "name": "stdout",
     "output_type": "stream",
     "text": [
      "Test Accuracy  93.33333333333333 %\n"
     ]
    },
    {
     "name": "stderr",
     "output_type": "stream",
     "text": [
      "/var/folders/kp/f6pbwkd56znd_s0lbg7y56nr0000gn/T/ipykernel_76435/794439888.py:22: DeprecationWarning: Use of `minimize` with `x0.ndim != 1` is deprecated. Currently, singleton dimensions will be removed from `x0`, but an error will be raised in SciPy 1.11.0.\n",
      "  result = op.minimize(fun = Act_Function, x0 = theta, args = (X, y),\n"
     ]
    }
   ],
   "source": [
    "all_theta = np.zeros((k, n + 1))\n",
    "\n",
    "# One vs all\n",
    "i = 0\n",
    "for flower in Species:\n",
    "    # i-ый цветок 1 и 0 все остальные\n",
    "    tmp_y = np.array(y_train == flower, dtype = int)\n",
    "    optTheta = logisticRegression(X_train, tmp_y, np.zeros((n + 1,1)))\n",
    "    all_theta[i] = optTheta\n",
    "    i += 1\n",
    "    \n",
    "# прогноз\n",
    "P = sigmoid(X_test.dot(all_theta.T)) #вероятности по классу\n",
    "p = [Species[np.argmax(P[i, :])] for i in range(X_test.shape[0])]\n",
    "\n",
    "print(\"Test Accuracy \", accuracy_score(y_test, p) * 100 , '%')"
   ]
  },
  {
   "cell_type": "code",
   "execution_count": 302,
   "id": "b89c276c",
   "metadata": {},
   "outputs": [
    {
     "data": {
      "text/plain": [
       "(3, 5)"
      ]
     },
     "execution_count": 302,
     "metadata": {},
     "output_type": "execute_result"
    }
   ],
   "source": []
  },
  {
   "cell_type": "code",
   "execution_count": 129,
   "id": "cce839da",
   "metadata": {},
   "outputs": [],
   "source": [
    "X_train\n",
    "theta = np.zeros((n + 1,1))\n",
    "tmp_y = np.array(y_train == 'Iris-setosa', dtype = int)"
   ]
  },
  {
   "cell_type": "code",
   "execution_count": 192,
   "id": "e10c8445",
   "metadata": {},
   "outputs": [
    {
     "ename": "TypeError",
     "evalue": "loop of ufunc does not support argument 0 of type Add which has no callable exp method",
     "output_type": "error",
     "traceback": [
      "\u001b[0;31m---------------------------------------------------------------------------\u001b[0m",
      "\u001b[0;31mAttributeError\u001b[0m                            Traceback (most recent call last)",
      "\u001b[0;31mAttributeError\u001b[0m: 'Add' object has no attribute 'exp'",
      "\nThe above exception was the direct cause of the following exception:\n",
      "\u001b[0;31mTypeError\u001b[0m                                 Traceback (most recent call last)",
      "Cell \u001b[0;32mIn[192], line 1\u001b[0m\n\u001b[0;32m----> 1\u001b[0m sigmoid \u001b[38;5;241m=\u001b[39m\u001b[38;5;241m1.0\u001b[39m \u001b[38;5;241m/\u001b[39m (\u001b[38;5;241m1\u001b[39m \u001b[38;5;241m+\u001b[39m \u001b[43mnp\u001b[49m\u001b[38;5;241;43m.\u001b[39;49m\u001b[43mexp\u001b[49m\u001b[43m(\u001b[49m\u001b[38;5;241;43m-\u001b[39;49m\u001b[43mX_train\u001b[49m\u001b[38;5;241;43m.\u001b[39;49m\u001b[43mdot\u001b[49m\u001b[43m(\u001b[49m\u001b[43mtheta\u001b[49m\u001b[43m)\u001b[49m\u001b[43m)\u001b[49m)\n",
      "\u001b[0;31mTypeError\u001b[0m: loop of ufunc does not support argument 0 of type Add which has no callable exp method"
     ]
    }
   ],
   "source": [
    "sigmoid =1.0 / (1 + np.exp(-X_train.dot(theta)))"
   ]
  },
  {
   "cell_type": "code",
   "execution_count": 153,
   "id": "9d761b10",
   "metadata": {},
   "outputs": [
    {
     "data": {
      "text/plain": [
       "30.0"
      ]
     },
     "execution_count": 153,
     "metadata": {},
     "output_type": "execute_result"
    }
   ],
   "source": [
    "loss_func = (1 / len(tmp_y)) * np.sum((sigmoid-tmp_y)**2)\n",
    "loss_func"
   ]
  },
  {
   "cell_type": "code",
   "execution_count": 193,
   "id": "cc84acd1",
   "metadata": {},
   "outputs": [],
   "source": []
  },
  {
   "cell_type": "code",
   "execution_count": 159,
   "id": "5784800e",
   "metadata": {},
   "outputs": [
    {
     "data": {
      "text/latex": [
       "$\\displaystyle 30.0$"
      ],
      "text/plain": [
       "30.0000000000000"
      ]
     },
     "execution_count": 159,
     "metadata": {},
     "output_type": "execute_result"
    }
   ],
   "source": [
    "np.sum((np.array(s)- tmp_y)**2)"
   ]
  },
  {
   "cell_type": "code",
   "execution_count": 148,
   "id": "87a54ab2",
   "metadata": {},
   "outputs": [],
   "source": [
    "s2 = np.array(minus(sp.Matrix(tmp_y),s))"
   ]
  },
  {
   "cell_type": "code",
   "execution_count": 169,
   "id": "58b7b55b",
   "metadata": {},
   "outputs": [
    {
     "data": {
      "text/latex": [
       "$\\displaystyle 30.0$"
      ],
      "text/plain": [
       "30.0000000000000"
      ]
     },
     "execution_count": 169,
     "metadata": {},
     "output_type": "execute_result"
    }
   ],
   "source": [
    "np.sum(np.square(s2))"
   ]
  },
  {
   "cell_type": "code",
   "execution_count": 189,
   "id": "863e70ff",
   "metadata": {},
   "outputs": [
    {
     "data": {
      "text/plain": [
       "361.0"
      ]
     },
     "execution_count": 189,
     "metadata": {},
     "output_type": "execute_result"
    }
   ],
   "source": [
    "np.sum(sigmoid.reshape(-1)-tmp_y)**2"
   ]
  },
  {
   "cell_type": "code",
   "execution_count": null,
   "id": "149bbc3d",
   "metadata": {},
   "outputs": [],
   "source": []
  },
  {
   "cell_type": "code",
   "execution_count": 98,
   "id": "31529a38",
   "metadata": {},
   "outputs": [],
   "source": []
  },
  {
   "cell_type": "code",
   "execution_count": null,
   "id": "92462226",
   "metadata": {},
   "outputs": [],
   "source": []
  },
  {
   "cell_type": "code",
   "execution_count": 295,
   "id": "a9767552",
   "metadata": {},
   "outputs": [],
   "source": []
  },
  {
   "cell_type": "code",
   "execution_count": 282,
   "id": "03da5301",
   "metadata": {},
   "outputs": [
    {
     "data": {
      "text/plain": [
       "array([1, 1, 1, 1, 1, 1, 1, 1, 1, 1, 1, 1, 1, 1, 1, 1, 1, 1, 1, 1, 1, 1,\n",
       "       1, 1, 1, 1, 1, 1, 1, 1, 1, 1, 1, 1, 1, 1, 1, 1, 1, 1, 1, 1, 1, 1,\n",
       "       1, 1, 1, 1, 1, 1, 1, 1, 1, 1, 1, 1, 1, 1, 1, 1, 1, 1, 1, 1, 1, 1,\n",
       "       1, 1, 1, 1, 1, 1, 1, 1, 1, 1, 1, 1, 1, 1, 1, 1, 1, 1, 1, 1, 1, 1,\n",
       "       1, 1, 1, 1, 1, 1, 1, 1, 1, 1, 1, 1, 1, 1, 1, 1, 1, 1, 1, 1, 1, 1,\n",
       "       1, 1, 1, 1, 1, 1, 1, 1, 1, 1], dtype=object)"
      ]
     },
     "execution_count": 282,
     "metadata": {},
     "output_type": "execute_result"
    }
   ],
   "source": []
  },
  {
   "cell_type": "code",
   "execution_count": 266,
   "id": "bd0270c4",
   "metadata": {},
   "outputs": [],
   "source": [
    "theta = np.zeros((n + 1,1))"
   ]
  },
  {
   "cell_type": "code",
   "execution_count": null,
   "id": "89115d84",
   "metadata": {},
   "outputs": [],
   "source": [
    "theta = sp.symbols('theta0:5')"
   ]
  },
  {
   "cell_type": "code",
   "execution_count": 296,
   "id": "c4aa803b",
   "metadata": {},
   "outputs": [],
   "source": []
  },
  {
   "cell_type": "code",
   "execution_count": 268,
   "id": "4b9b56d1",
   "metadata": {},
   "outputs": [],
   "source": []
  },
  {
   "cell_type": "code",
   "execution_count": 297,
   "id": "3b652d1b",
   "metadata": {},
   "outputs": [],
   "source": []
  },
  {
   "cell_type": "code",
   "execution_count": 298,
   "id": "318b6dde",
   "metadata": {},
   "outputs": [],
   "source": []
  },
  {
   "cell_type": "code",
   "execution_count": null,
   "id": "b64e7b15",
   "metadata": {},
   "outputs": [],
   "source": []
  },
  {
   "cell_type": "code",
   "execution_count": 308,
   "id": "35a53e68",
   "metadata": {},
   "outputs": [
    {
     "name": "stdout",
     "output_type": "stream",
     "text": [
      " в точке [0, 0, 0, 0, 0] значение MSE 30.0000000000000\n",
      " в точке [0 -1.39178000000000 -0.577880000000000 -0.510400000000000\n",
      " -0.642000000000000] значение MSE 2.02555780476383\n",
      " в точке [0 -1.47816335179735 -0.613685273309520 -0.513410216168487\n",
      " -0.594196835383478] значение MSE 1.81629557149081\n",
      " в точке [0 -1.51927260176720 -0.630469684643515 -0.500193366508471\n",
      " -0.633922731752134] значение MSE 1.70268221818592\n",
      " в точке [0 -1.56410403180871 -0.648984446697168 -0.489948440740203\n",
      " -0.654393515937476] значение MSE 1.61000565116089\n",
      " в точке [0 -1.60565467510943 -0.666222760552235 -0.479584691799826\n",
      " -0.673862981588735] значение MSE 1.52889183489015\n",
      " в точке [0 -1.64457693685552 -0.682444130748778 -0.469235285627604\n",
      " -0.692077080147782] значение MSE 1.45707149063822\n",
      " в точке [0 -1.68122395280253 -0.697784574467875 -0.458935405029039\n",
      " -0.709204100157573] значение MSE 1.39286395908151\n",
      " в точке [0 -1.71588055417195 -0.712353762347284 -0.448711034818301\n",
      " -0.725375648942194] значение MSE 1.33499126361651\n",
      " в точке [0 -1.74877879558648 -0.726240971349690 -0.438580954163135\n",
      " -0.740699613396258] значение MSE 1.28246147246698\n",
      " в точке [0 -1.78011039431983 -0.739519909062710 -0.428558697158154\n",
      " -0.755265751509765] значение MSE 1.23449088330577\n",
      " в точке [0 -1.81003571534874 -0.752252195109499 -0.418653928968807\n",
      " -0.769149641599298] значение MSE 1.19045063513586\n",
      " в точке [0 -1.83869037300745 -0.764489916062996 -0.408873422727434\n",
      " -0.782415593875026] значение MSE 1.14982917518623\n",
      " в точке [0 -1.86619017105412 -0.776277535218019 -0.399221765867102\n",
      " -0.795118840906170] значение MSE 1.11220530106511\n",
      " в точке [0 -1.89263486056100 -0.787653343885798 -0.389701879375970\n",
      " -0.807307213140543] значение MSE 1.07722842768028\n",
      " в точке [0 -1.91811104072041 -0.798650580635634 -0.380315405109125\n",
      " -0.819022439418628] значение MSE 1.04460389599945\n",
      " в точке [0, 0, 0, 0, 0] значение MSE 30.0000000000000\n",
      " в точке [0 0.287600000000000 0.0731000000000000 0.0272500000000001\n",
      " -1.12200000000000] значение MSE 36.0402659423986\n",
      " в точке [0 0.321896945305495 0.0773732850304965 0.0234890915316593\n",
      " -0.847068735967701] значение MSE 32.7809072308637\n",
      " в точке [0 0.342246090010974 0.0677220520649038 0.000519170328190623\n",
      " -0.423563804294734] значение MSE 26.7404926788334\n",
      " в точке [0 0.165275767070464 -0.0441172342037470 -0.135194094185840\n",
      " -0.136722884441869] значение MSE 25.3586820262076\n",
      " в точке [0 0.261485096641991 -0.0496899452502220 -0.165664775676761\n",
      " -0.596486478804307] значение MSE 28.5147344138808\n",
      " в точке [0 0.300943193466318 -0.0608554149747726 -0.193109821269865\n",
      " -0.0616407462274445] значение MSE 26.6205086525309\n",
      " в точке [0 0.262384676493588 -0.123781291353194 -0.280669001115338\n",
      " -0.805883875502091] значение MSE 32.0936330596816\n",
      " в точке [0 0.326880227268796 -0.115323158073173 -0.289370925641970\n",
      " -0.327466247519241] значение MSE 24.3563364372130\n",
      " в точке [0 0.320505835248834 -0.157961158509531 -0.343361107139872\n",
      " -0.101028790253944] значение MSE 25.3034076966965\n",
      " в точке [0 0.393932041441990 -0.173061983899232 -0.371535662710211\n",
      " -0.695725073922608] значение MSE 29.9159874383479\n",
      " в точке [0 0.447575765443973 -0.174222100076750 -0.389894808504978\n",
      " -0.157846187766283] значение MSE 24.3733956835329\n",
      " в точке [0 0.353646401436198 -0.258696662820554 -0.482485718527130\n",
      " -0.486122469896938] значение MSE 26.1814413130367\n",
      " в точке [0 0.462237001901442 -0.244773873960842 -0.480794440610531\n",
      " 0.0180467724112887] значение MSE 28.1680509612998\n",
      " в точке [0 0.521916406167286 -0.264594303279760 -0.514671223944704\n",
      " -1.07485122519274] значение MSE 35.2102358008491\n",
      " в точке [0 0.562893839397863 -0.258972902196001 -0.524694286629512\n",
      " -0.749355251761076] значение MSE 30.4830618635210\n",
      " в точке [0, 0, 0, 0, 0] значение MSE 30.0000000000000\n",
      " в точке [0 1.11348000000000 0.512580000000000 0.474900000000000 -0.991499999999999] значение MSE 12.6525204616029\n",
      " в точке [0 1.52726909647912 0.726232773390059 0.627672766765812 -0.320564577669687] значение MSE 12.4329383567741\n",
      " в точке [0 1.39820309336137 0.702366210841768 0.569979695174347 -0.917515062489018] значение MSE 7.50476625669038\n",
      " в точке [0 1.56306186738393 0.808913521227521 0.598315034628003 -0.676454682012018] значение MSE 7.23236172544646\n",
      " в точке [0 1.51668583361525 0.820481453459863 0.543927405673660 -0.934107301330197] значение MSE 6.70431821716568\n",
      " в точке [0 1.63289481750018 0.903320993588377 0.552152117935963 -0.780993311952269] значение MSE 6.44604547050455\n",
      " в точке [0 1.61515233231916 0.925770400105223 0.507540809508593 -0.943206230955954] значение MSE 6.16402094447247\n",
      " в точке [0 1.69412034732263 0.990217078808521 0.501316413261228 -0.861202937359704] значение MSE 5.97393196312610\n",
      " в точке [0 1.69823967930063 1.02072970024140 0.465715783021385 -0.954607988648420] значение MSE 5.80375091588835\n",
      " в точке [0 1.75220567852526 1.07251898796220 0.450497428649562 -0.920984846064201] значение MSE 5.66477208547735\n",
      " в точке [0 1.76953060762313 1.10744578954153 0.421205239956357 -0.972003126579904] значение MSE 5.54059967467987\n",
      " в точке [0 1.80869288634170 1.15133405834061 0.401273229109003 -0.965679443654941] значение MSE 5.42855449306420\n",
      " в точке [0 1.83202479701698 1.18764264910010 0.375614738368982 -0.994381926596887] значение MSE 5.32468505850661\n",
      " в точке [0 1.86321468116728 1.22681306142934 0.353737121265968 -1.00057731676999] значение MSE 5.22735783598886\n",
      " в точке [0 1.88814578553340 1.26268101593297 0.329964100760347 -1.01903522477095] значение MSE 5.13547938484552\n"
     ]
    }
   ],
   "source": [
    "all_theta = np.zeros((k, n + 1))\n",
    "\n",
    "# One vs all\n",
    "j = 0\n",
    "for flower in Species:\n",
    "    # i-ый цветок 1 и 0 все остальные\n",
    "    tmp_y = np.array(y_train == flower, dtype = int)  \n",
    "    \n",
    "    \n",
    "    s_part =(sp.Matrix(-X_train)@sp.Matrix(theta)).applyfunc(sp.exp)\n",
    "    sigmoid = np.ones(len(tmp_y))/(np.ones(len(tmp_y)) + np.array(s_part).reshape(-1))\n",
    "\n",
    "    MSE = np.sum((sigmoid-tmp_y)**2)\n",
    "    dMSE = (MSE.diff('theta0'),MSE.diff('theta1'),MSE.diff('theta2'),MSE.diff('theta3'),MSE.diff('theta4'))\n",
    "\n",
    "    point =[0,0,0,0,0]\n",
    "    for i in range(16):\n",
    "        f = [-dMSE[i].subs({'theta0':point[0],'theta1':point[1],'theta2':point[2],'theta3':point[3],'theta4':point[4]}) for i in range(5)]\n",
    "        temp= MSE.subs({'theta0':point[0],'theta1':point[1],'theta2':point[2],'theta3':point[3],'theta4':point[4]})\n",
    "        print (f' в точке {point} значение MSE {temp}')\n",
    "\n",
    "        point = np.array(point)+np.array(f)*0.03\n",
    "        \n",
    "    all_theta[j] = point\n",
    "    j += 1\n"
   ]
  },
  {
   "cell_type": "code",
   "execution_count": 312,
   "id": "5b9ba732",
   "metadata": {},
   "outputs": [],
   "source": [
    "def sigmoid(z):\n",
    "    return 1.0 / (1 + np.exp(-z))"
   ]
  },
  {
   "cell_type": "code",
   "execution_count": 314,
   "id": "5879cb12",
   "metadata": {},
   "outputs": [
    {
     "name": "stdout",
     "output_type": "stream",
     "text": [
      "Test Accuracy  100.0 %\n"
     ]
    }
   ],
   "source": [
    "# прогноз\n",
    "P = sigmoid(X_test.dot(all_theta.T)) #вероятности по классу\n",
    "p = [Species[np.argmax(P[i, :])] for i in range(X_test.shape[0])]\n",
    "\n",
    "print(\"Test Accuracy \", accuracy_score(y_test, p) * 100 , '%')"
   ]
  },
  {
   "cell_type": "code",
   "execution_count": null,
   "id": "bad5f564",
   "metadata": {},
   "outputs": [],
   "source": []
  },
  {
   "cell_type": "code",
   "execution_count": null,
   "id": "3331606c",
   "metadata": {},
   "outputs": [],
   "source": []
  },
  {
   "cell_type": "code",
   "execution_count": 8,
   "id": "6b663c55",
   "metadata": {},
   "outputs": [],
   "source": []
  },
  {
   "cell_type": "code",
   "execution_count": null,
   "id": "6ec44036",
   "metadata": {},
   "outputs": [],
   "source": []
  },
  {
   "cell_type": "code",
   "execution_count": 14,
   "id": "bf53e28f",
   "metadata": {},
   "outputs": [],
   "source": []
  },
  {
   "cell_type": "code",
   "execution_count": 15,
   "id": "f010e9d4",
   "metadata": {},
   "outputs": [],
   "source": []
  },
  {
   "cell_type": "code",
   "execution_count": null,
   "id": "9c9153e9",
   "metadata": {},
   "outputs": [],
   "source": []
  },
  {
   "cell_type": "code",
   "execution_count": null,
   "id": "926a4626",
   "metadata": {},
   "outputs": [],
   "source": []
  },
  {
   "cell_type": "code",
   "execution_count": 17,
   "id": "6960b682",
   "metadata": {},
   "outputs": [],
   "source": []
  },
  {
   "cell_type": "code",
   "execution_count": 294,
   "id": "23a78bdf",
   "metadata": {},
   "outputs": [],
   "source": []
  },
  {
   "cell_type": "code",
   "execution_count": null,
   "id": "999ab1df",
   "metadata": {},
   "outputs": [],
   "source": []
  },
  {
   "cell_type": "code",
   "execution_count": 30,
   "id": "bde294e7",
   "metadata": {},
   "outputs": [],
   "source": [
    "import sympy as sp"
   ]
  },
  {
   "cell_type": "code",
   "execution_count": 39,
   "id": "93b9b894",
   "metadata": {},
   "outputs": [],
   "source": [
    "\n",
    "def sigmoid(z):\n",
    "    return 1.0 / (1 + np.exp(-z))\n",
    "\n",
    "#Функция активации\n",
    "def Act_Function(theta, X, y, _lambda = 0.1):\n",
    "    m = len(y)\n",
    "    h = sigmoid(X.dot(theta))\n",
    "\n",
    "    return (1 / m) * np.sum((h-y)**2) # MSE\n",
    "\n",
    "#Функция потерь \n",
    "def regGradient(theta, X, y, _lambda = 0.1):\n",
    "    m, n = X.shape\n",
    "    theta = theta.reshape((n, 1))\n",
    "    y = y.reshape((m, 1))\n",
    "    h = sigmoid(X.dot(theta))\n",
    "\n",
    "    return ((1 / m) * X.T.dot((h - y)*h*(1-h)))\n",
    "\n",
    "#Оптимизатор\n",
    "def logisticRegression(X, y, theta):\n",
    "    result = op.minimize(fun = Act_Function, x0 = theta, args = (X, y),\n",
    "                         method = 'TNC')\n",
    "    \n",
    "    return result.x"
   ]
  },
  {
   "cell_type": "code",
   "execution_count": 40,
   "id": "71c245b1",
   "metadata": {},
   "outputs": [],
   "source": []
  },
  {
   "cell_type": "code",
   "execution_count": 57,
   "id": "9c78cadb",
   "metadata": {},
   "outputs": [],
   "source": [
    "theta = sp.symbols('theta0:5')\n",
    "X = sp.MatrixSymbol('X', 120, 5)  # предполагаем матрицу X с 1 строкой и 4 столбцами\n",
    "y = sp.MatrixSymbol('y', 120, 1)\n",
    "i = sp.symbols('i', integer=True)\n",
    "MSE = (1/120) * sp.Sum((X[i, :] * sp.Matrix(theta) - y[i, 0])**2, (i, 0, 119))"
   ]
  },
  {
   "cell_type": "code",
   "execution_count": null,
   "id": "822ad69e",
   "metadata": {},
   "outputs": [],
   "source": [
    "\n"
   ]
  },
  {
   "cell_type": "code",
   "execution_count": null,
   "id": "f9612bf2",
   "metadata": {},
   "outputs": [],
   "source": []
  },
  {
   "cell_type": "code",
   "execution_count": null,
   "id": "026130dd",
   "metadata": {},
   "outputs": [],
   "source": []
  },
  {
   "cell_type": "code",
   "execution_count": null,
   "id": "997d047e",
   "metadata": {},
   "outputs": [],
   "source": []
  },
  {
   "cell_type": "code",
   "execution_count": null,
   "id": "38e068bc",
   "metadata": {},
   "outputs": [],
   "source": [
    "import tensorflow as tf\n",
    "from scipy import optimize as op\n",
    "import numpy as np\n",
    "import pandas as pd\n",
    "from sklearn.model_selection import train_test_split\n",
    "from sklearn.metrics import accuracy_score "
   ]
  },
  {
   "cell_type": "code",
   "execution_count": null,
   "id": "911ddb81",
   "metadata": {},
   "outputs": [],
   "source": []
  },
  {
   "cell_type": "code",
   "execution_count": null,
   "id": "44a00a1c",
   "metadata": {},
   "outputs": [],
   "source": []
  },
  {
   "cell_type": "code",
   "execution_count": null,
   "id": "b7bcede4",
   "metadata": {},
   "outputs": [],
   "source": []
  },
  {
   "cell_type": "code",
   "execution_count": null,
   "id": "b2781887",
   "metadata": {},
   "outputs": [],
   "source": []
  },
  {
   "cell_type": "code",
   "execution_count": null,
   "id": "0e0aa586",
   "metadata": {},
   "outputs": [],
   "source": []
  },
  {
   "cell_type": "code",
   "execution_count": null,
   "id": "664e3d48",
   "metadata": {},
   "outputs": [],
   "source": []
  }
 ],
 "metadata": {
  "kernelspec": {
   "display_name": "Python 3 (ipykernel)",
   "language": "python",
   "name": "python3"
  },
  "language_info": {
   "codemirror_mode": {
    "name": "ipython",
    "version": 3
   },
   "file_extension": ".py",
   "mimetype": "text/x-python",
   "name": "python",
   "nbconvert_exporter": "python",
   "pygments_lexer": "ipython3",
   "version": "3.10.9"
  }
 },
 "nbformat": 4,
 "nbformat_minor": 5
}
