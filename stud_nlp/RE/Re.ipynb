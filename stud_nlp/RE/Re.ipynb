{
 "cells": [
  {
   "cell_type": "markdown",
   "metadata": {
    "id": "KwWN4rlvfph0"
   },
   "source": [
    "> *Когда некоторые люди сталкиваются с проблемой, думают «Я знаю, я решу её с помощью регулярных выражений.» Теперь у них две проблемы*"
   ]
  },
  {
   "cell_type": "markdown",
   "metadata": {
    "id": "AWHtCM55fph4"
   },
   "source": [
    "## Регулярные выражения\n",
    "\n",
    "Регулярное выражение — это строка, задающая шаблон поиска подстрок в тексте. Одному шаблону может соответствовать много разных строчек.\n",
    "\n",
    "Термин «Регулярные выражения» является переводом английского словосочетания «Regular expressions». Перевод не очень точно отражает смысл, правильнее было бы «шаблонные выражения». Регулярное выражение, или коротко «регулярка», состоит из обычных символов и специальных командных последовательностей. Например, `\\d` задаёт любую цифру, а `\\d*` — задает любую последовательность из нуля или более цифр\n",
    "\n",
    "### Начнем с простых текстовых шаблонов\n",
    "\n",
    "В Python поиску по шаблону обучно используется функция `search` из библиотеки `re`:\n",
    "````\n",
    "match = re.search(pattern, string)\n",
    "````"
   ]
  },
  {
   "cell_type": "code",
   "execution_count": 1,
   "metadata": {
    "id": "gCWjfyPzfph5"
   },
   "outputs": [],
   "source": [
    "import re"
   ]
  },
  {
   "cell_type": "markdown",
   "metadata": {
    "id": "slb0TzJlfph7"
   },
   "source": [
    "Метод `re.search()` принимает шаблон `pattern` и строку `string`, а затем ищет этот шаблон в строке.\n",
    "\n",
    "Если поиск успешен, `search()` возвращает подстроку, которая удовлетворяет поиску, в противном случае - `None.\n",
    "\n",
    "\n",
    "Давайте с помощью этого метода попробуем найти в строке котов:"
   ]
  },
  {
   "cell_type": "markdown",
   "metadata": {
    "id": "ZEGv40dufph9"
   },
   "source": [
    "## Основные спецсимволы\n",
    "\n",
    "Для задания шаблонов в регулярных выражениях используются спецсимволы.\n",
    "\n",
    "Давайте посмотрим основные из них:"
   ]
  },
  {
   "cell_type": "markdown",
   "metadata": {
    "id": "771IrzSufph9"
   },
   "source": [
    "**.**   Один любой символ, кроме новой строки\n",
    "\n",
    "**\\d**\tЛюбая цифра\n",
    "\n",
    "**\\D**\tЛюбой символ, кроме цифры\n",
    "\n",
    "**\\s**\tЛюбой пробельный символ (пробел, табуляция, конец строки и т.п.)\n",
    "\n",
    "**\\S**\tЛюбой непробельный символ\t(не пробел, не табуляция, не конец строки и т.п.)\n",
    "\n",
    "**\\w**\tЛюбая буква (то, что может быть частью слова), а также цифры и _\n",
    "\n",
    "**\\W**\tЛюбая не-буква, не-цифра и не подчёркивание\n",
    "\n",
    "**[..]**\tОдин из символов в скобках в рамках диапазона, то есть:\n",
    "\n",
    "**\\d** равносильно выражению `[0-9]`\n",
    "\n",
    "**\\D** равносильно выражению `[^0-9]`, так как символ ^ означает любой символ, кроме перечисленных\n",
    "\n",
    "**\\w** равносильно выражению `[0-9a-zA-Z]`, эта запись сочетает в себе последовательность из любых цифр, букв в обоих регистрах\n",
    "\n",
    "**\\s** равносильно `[\\f\\n\\r\\t]` (тут надо постараться, чтобы вспомнить что есть что!)\n",
    "\n",
    "**\\b** Начало или конец слова (слева пусто или не-буква и справа буква, или наоборот). В отличие от предыдущих соответствует позиции, а не символу.\n",
    "\n",
    "**^ и $**\tтоже обозначение начало и конца строки соответственно"
   ]
  },
  {
   "cell_type": "markdown",
   "metadata": {
    "id": "6j-viZe6kU-1"
   },
   "source": [
    "Кстати, любая строка, в которой нет символов, сама по себе является регулярным выражением. Так, выражению \"привет\" будет соответствовать строка “привет” и только она. Регулярные выражения являются регистрозависимыми, поэтому строка “ПрИвЕт” уже не подойдёт. Подобно строкам в языке Python, регулярные выражения имеют спецсимволы `**.^$*+?{}[]\\|()**`, которые в регулярках являются управляющими конструкциями. Для написания их просто как символов требуется их экранировать, для чего нужно поставить перед ними знак \\\n",
    "\n",
    "Например, если вы хотите найти выражение в скобках, то надо написать `\\(\\w*\\)`."
   ]
  },
  {
   "cell_type": "markdown",
   "metadata": {
    "id": "JAUn9CgqfpiC"
   },
   "source": [
    "\n",
    "\n",
    "Как в регулярном выражении объяснить, сколько раз нам нужно то или иное вхождение символов?\n",
    "\n",
    "**{n}**\t Ровно n повторений\n",
    "\n",
    "**{m,n}**\tОт m до n повторений включительно\n",
    "\n",
    "**{m,}**\tНе менее m повторений\n",
    "\n",
    "**{,n}**\tНе более n повторений\n",
    "\n",
    "**?**\tНоль или одно вхождение, аналогично {0,1}\n",
    "\n",
    "**\\***\tНоль или более вхождений, аналогично {0,}\n",
    "\n",
    "**\\+**\tОдно или более вхождений, аналогично {1,}\n",
    "\n",
    "**|** логический оператор или"
   ]
  },
  {
   "cell_type": "markdown",
   "metadata": {},
   "source": [
    "ПОМНИ ПРО Ё [А-ЯЁа-я-ё\\s] "
   ]
  },
  {
   "cell_type": "markdown",
   "metadata": {
    "colab": {
     "base_uri": "https://localhost:8080/"
    },
    "id": "aLkXDspffpiA",
    "outputId": "838deb30-3c46-452a-fc19-5879b39245f2"
   },
   "source": [
    "### SEARCH"
   ]
  },
  {
   "cell_type": "code",
   "execution_count": 56,
   "metadata": {
    "colab": {
     "base_uri": "https://localhost:8080/"
    },
    "id": "uXh8slFMfpiA",
    "outputId": "279b0b6b-51d2-450d-d6e3-0d8435087cf7"
   },
   "outputs": [
    {
     "name": "stdout",
     "output_type": "stream",
     "text": [
      "1234, 1234, 1234, "
     ]
    }
   ],
   "source": [
    "# обратим внимание, что первые три строки не прошли проверку (т.к. в них меньше 4х чисел)\n",
    "# а дальше выводились первые 4 цифры оставшихся строк\n",
    "all_strings = ['1', '12', '123','1234', '12345', '123456']\n",
    "for element in all_strings:\n",
    "    match = re.search( r'\\d{4}',element)\n",
    "    if match:\n",
    "        print(match.group(), end = ', ')"
   ]
  },
  {
   "cell_type": "markdown",
   "metadata": {
    "id": "7XnC3vpQfpiE"
   },
   "source": [
    "\n",
    "### Группировка\n",
    "\n",
    "Функция \"группировки\" регулярного выражения позволяет вам выделять части совпадающего текста. Предположим, что для проблемы электронной почты мы хотим извлечь имя пользователя и хост отдельно. Для этого добавьте круглые скобки () вокруг имени пользователя и хоста в шаблоне. В этом случае круглые скобки не меняют то, чему будет соответствовать шаблон, вместо этого они создают логические «группы» внутри текста соответствия. При успешном поиске `match.group(1)` - это текст совпадения, соответствующий 1-й левой круглой скобке, а `match.group(2)` - текст, соответствующий 2-й левой скобке. Обычный `match.group()`, как обычно, по-прежнему представляет собой весь текст соответствия."
   ]
  },
  {
   "cell_type": "code",
   "execution_count": 57,
   "metadata": {
    "colab": {
     "base_uri": "https://localhost:8080/"
    },
    "id": "L_iRyb8MfpiE",
    "outputId": "47e8364e-9e42-4f0a-b4c7-54b4a90e5d41"
   },
   "outputs": [
    {
     "name": "stdout",
     "output_type": "stream",
     "text": [
      "alice-b@google.com\n",
      "alice-b\n",
      "google.com\n"
     ]
    }
   ],
   "source": [
    "string = 'purple alice-b@google.com monkey dishwasher'\n",
    "match = re.search('([\\w.-]+)@([\\w.-]+)', string)\n",
    "if match:\n",
    "    print(match.group())   ## 'alice-b@google.com' (полное совпадение)\n",
    "    print(match.group(1))  ## 'alice-b' (юзернейм)\n",
    "    print(match.group(2))  ## 'google.com' (домен электронной почты)"
   ]
  },
  {
   "cell_type": "code",
   "execution_count": null,
   "metadata": {
    "colab": {
     "base_uri": "https://localhost:8080/"
    },
    "id": "Ly_HVhr1fpiF",
    "outputId": "61644fd3-5bfa-4338-e0e9-e4dd83fb53ce"
   },
   "outputs": [],
   "source": []
  },
  {
   "cell_type": "markdown",
   "metadata": {},
   "source": [
    "### FINDALL"
   ]
  },
  {
   "cell_type": "code",
   "execution_count": 48,
   "metadata": {},
   "outputs": [
    {
     "data": {
      "text/plain": [
       "['alice7_@google.com', 'bob-1@abc.com']"
      ]
     },
     "execution_count": 48,
     "metadata": {},
     "output_type": "execute_result"
    }
   ],
   "source": [
    "## Найдем все email\n",
    "string = 'purple alice7_@google.com, blah monkey bob-1@abc.com blah dishwasher'\n",
    "match = re.findall(r\"[\\w_-]+@\\w*.com\",string)\n",
    "match"
   ]
  },
  {
   "cell_type": "code",
   "execution_count": 49,
   "metadata": {},
   "outputs": [
    {
     "data": {
      "text/plain": [
       "['Еда', 'еды', 'еду', 'едА']"
      ]
     },
     "execution_count": 49,
     "metadata": {},
     "output_type": "execute_result"
    }
   ],
   "source": [
    "string = 'Еда, еды, еду, едА'\n",
    "match = re.findall(r'[а-яА-Я]д[а-яА-Я]',string)\n",
    "match"
   ]
  },
  {
   "cell_type": "code",
   "execution_count": 50,
   "metadata": {},
   "outputs": [
    {
     "data": {
      "text/plain": [
       "['8', '985', '385']"
      ]
     },
     "execution_count": 50,
     "metadata": {},
     "output_type": "execute_result"
    }
   ],
   "source": [
    "string = 'Еда, еды, еду, едА, 8 985 385'\n",
    "match = re.findall(r'[^, а-яА-Я][0-9]*',string)\n",
    "match"
   ]
  },
  {
   "cell_type": "markdown",
   "metadata": {},
   "source": [
    "#### Квантификаторы\n",
    "- Щ{2,5} берет подстроки, где  Щ повторяется от 2 до 5 раз\n",
    "- Щ{2,5}? минорный класс \n",
    "- {1,} повторение от 1 и более\n",
    "- Щ{,3} берет подстроки, где  Щ повторяется не более 3 раз"
   ]
  },
  {
   "cell_type": "code",
   "execution_count": 54,
   "metadata": {},
   "outputs": [
    {
     "data": {
      "text/plain": [
       "['стеклянный', 'стекляный']"
      ]
     },
     "execution_count": 54,
     "metadata": {},
     "output_type": "execute_result"
    }
   ],
   "source": [
    "string = 'стеклянный, стекляный'\n",
    "match = re.findall(r'стеклянн?ый',string)\n",
    "match"
   ]
  },
  {
   "cell_type": "code",
   "execution_count": 52,
   "metadata": {},
   "outputs": [
    {
     "data": {
      "text/plain": [
       "['+79457855596']"
      ]
     },
     "execution_count": 52,
     "metadata": {},
     "output_type": "execute_result"
    }
   ],
   "source": [
    "string = '+79457855596'\n",
    "match = re.findall(r'\\+*[78]\\d{10}',string)\n",
    "match"
   ]
  },
  {
   "cell_type": "code",
   "execution_count": 53,
   "metadata": {},
   "outputs": [
    {
     "data": {
      "text/plain": [
       "['google', 'Gooogle']"
      ]
     },
     "execution_count": 53,
     "metadata": {},
     "output_type": "execute_result"
    }
   ],
   "source": [
    "string = 'google, Gooogle, Goooooogle'\n",
    "match = re.findall(r'[gG]o{,4}gle',string)\n",
    "match"
   ]
  },
  {
   "cell_type": "code",
   "execution_count": 55,
   "metadata": {},
   "outputs": [
    {
     "name": "stdout",
     "output_type": "stream",
     "text": [
      "[\"<img scr='bg.img'>\"]\n",
      "[\"<img scr='bg.img'>\"]\n"
     ]
    }
   ],
   "source": [
    "string = \"<p> Картинка <img scr='bg.img'> в тексте </p>\"\n",
    "match = re.findall(r'<img.*?>',string)\n",
    "print(match)\n",
    "\n",
    "match = re.findall(r'<img[^>]*>',string)\n",
    "print(match)\n"
   ]
  },
  {
   "cell_type": "markdown",
   "metadata": {},
   "source": [
    "### SUP"
   ]
  },
  {
   "cell_type": "code",
   "execution_count": 18,
   "metadata": {},
   "outputs": [
    {
     "name": "stdout",
     "output_type": "stream",
     "text": [
      "<option>Москва<option>\n",
      "<option>Казань<option>\n",
      "<option>Тверь<option>\n",
      "<option>Самара<option>\n",
      "<option>Уфа<option>\n",
      "\n"
     ]
    }
   ],
   "source": [
    "text = \"\"\"Москва\n",
    "Казань\n",
    "Тверь\n",
    "Самара\n",
    "Уфа\"\"\"\n",
    "\n",
    "list = re.sub(r\"\\s*(\\w+)\\s*\", r\"<option>\\1<option>\\n\",text)\n",
    "print(list)"
   ]
  },
  {
   "cell_type": "code",
   "execution_count": 33,
   "metadata": {},
   "outputs": [
    {
     "name": "stdout",
     "output_type": "stream",
     "text": [
      "Мбба мыла раму.\n"
     ]
    }
   ],
   "source": [
    "# можно установить ограничение на количество замен, по умолчанию его нет\n",
    "string = 'Мама мыла раму.'\n",
    "result = re.sub('(а|м)','б',string, count =2)\n",
    "print(result)"
   ]
  },
  {
   "cell_type": "code",
   "execution_count": 34,
   "metadata": {},
   "outputs": [
    {
     "name": "stdout",
     "output_type": "stream",
     "text": [
      "Недавно ЗАПРЕЩЕННАЯ В РОССИИ ТЕРРОРИСТИЧЕСКАЯ ОРГАНИЗАЦИЯ совместо с ЗАПРЕЩЕННАЯ В РОССИИ ТЕРРОРИСТИЧЕСКАЯ ОРГАНИЗАЦИЯ признала себя виновной в совершении тяжких преступлений, в отношении ЗАПРЕЩЕННАЯ В РОССИИ ТЕРРОРИСТИЧЕСКАЯ ОРГАНИЗАЦИЯ так же будут приняты ответные меры\n"
     ]
    }
   ],
   "source": [
    "# Пример посложнее\n",
    "print(re.sub(r'Аль\\-\\w+|Талиб\\w+',\n",
    "             r'запрещенная в россии террористическая организация'.upper(),\n",
    "             r'Недавно Аль-Каида совместо с Аль-Джихадом признала себя виновной в совершении тяжких преступлений, в отношении Талибов так же будут приняты ответные меры'))"
   ]
  },
  {
   "cell_type": "code",
   "execution_count": 20,
   "metadata": {},
   "outputs": [
    {
     "name": "stdout",
     "output_type": "stream",
     "text": [
      "<option value'1'>Москва</option>\n",
      "<option value'2'>Казань</option>\n",
      "<option value'3'>Тверь</option>\n",
      "<option value'4'>Самара</option>\n",
      "<option value'5'>Уфа</option>\n",
      "\n"
     ]
    }
   ],
   "source": [
    "count = 0 \n",
    "def replFind(m):\n",
    "    global count\n",
    "    count +=1\n",
    "    return f\"<option value'{count}'>{m.group(1)}</option>\\n\"\n",
    "\n",
    "list = re.sub(r\"\\s*(\\w+)\\s*\", replFind,text)\n",
    "print(list)"
   ]
  },
  {
   "cell_type": "markdown",
   "metadata": {},
   "source": [
    "### COMPILE"
   ]
  },
  {
   "cell_type": "markdown",
   "metadata": {},
   "source": [
    "##### Заранее компилируем шаблон если мы его часто используем. Нужно для того чтобы не прописывать его постоянно."
   ]
  },
  {
   "cell_type": "code",
   "execution_count": 25,
   "metadata": {},
   "outputs": [
    {
     "name": "stdout",
     "output_type": "stream",
     "text": [
      "<option value'1'>Москва</option>\n",
      "<option value'2'>Казань</option>\n",
      "<option value'3'>Тверь</option>\n",
      "<option value'4'>Самара</option>\n",
      "<option value'5'>Уфа</option>\n",
      "\n"
     ]
    }
   ],
   "source": [
    "# можно использовать функцию\n",
    "text = \"\"\"Москва Казань Тверь Самара Уфа\"\"\"\n",
    "\n",
    "count = 0 \n",
    "rx = re.compile(r\"\\s*(\\w+)\\s*\")\n",
    "lst = rx.sub(replFind,text)\n",
    "print (lst)"
   ]
  },
  {
   "cell_type": "code",
   "execution_count": 32,
   "metadata": {},
   "outputs": [
    {
     "data": {
      "text/plain": [
       "['Слова', 'больше', 'ещё', 'больше', 'слов', 'Что-то', 'ещё']"
      ]
     },
     "execution_count": 32,
     "metadata": {},
     "output_type": "execute_result"
    }
   ],
   "source": [
    "# для выбранной строки постройте список слов, которые длиннее трех символов\n",
    "string = \"Слова? Да, больше, ещё больше слов! Что-то ещё.\"\n",
    "prog = re.compile('[А-Яа-яЁё-]{3,}')\n",
    "prog.findall(string)"
   ]
  },
  {
   "cell_type": "markdown",
   "metadata": {},
   "source": [
    "### SPLIT"
   ]
  },
  {
   "cell_type": "markdown",
   "metadata": {},
   "source": [
    "re.split(pattern, string, maxsplit=0) Аналог str.split(), только разделение происходит по подстрокам, подходящим под шаблон pattern;"
   ]
  },
  {
   "cell_type": "code",
   "execution_count": 38,
   "metadata": {},
   "outputs": [
    {
     "data": {
      "text/plain": [
       "['He woke up',\n",
       " 'He cooked berakfast',\n",
       " 'He drank coffee. He left home. He entered subway.']"
      ]
     },
     "execution_count": 38,
     "metadata": {},
     "output_type": "execute_result"
    }
   ],
   "source": [
    "# разобьем строку, состоящую из нескольких предложений, по точкам, но не более чем на 3 предложения.\n",
    "string = 'He woke up. He cooked berakfast. He drank coffee. He left home. He entered subway.'\n",
    "result = re.split(r'\\.', string, maxsplit = 2)\n",
    "[x.strip() for x in result]"
   ]
  },
  {
   "cell_type": "code",
   "execution_count": 37,
   "metadata": {},
   "outputs": [
    {
     "data": {
      "text/plain": [
       "['One', ' two', ' three', ' four', ' five']"
      ]
     },
     "execution_count": 37,
     "metadata": {},
     "output_type": "execute_result"
    }
   ],
   "source": [
    "text = \"One, two; three,, four;; five\"\n",
    "re.split(r\"[\\n;,]+\", text)"
   ]
  },
  {
   "cell_type": "code",
   "execution_count": null,
   "metadata": {},
   "outputs": [],
   "source": []
  },
  {
   "cell_type": "code",
   "execution_count": null,
   "metadata": {},
   "outputs": [],
   "source": []
  },
  {
   "cell_type": "code",
   "execution_count": null,
   "metadata": {},
   "outputs": [],
   "source": []
  },
  {
   "cell_type": "markdown",
   "metadata": {},
   "source": [
    "### Где потренироваться в регулярных выражениях?\n",
    "\n",
    "* [https://pythex.org/](https://pythex.org/)\n",
    "\n",
    "* [https://regex101.com/r/F8dY80/3](https://regex101.com/r/F8dY80/3)"
   ]
  },
  {
   "cell_type": "markdown",
   "metadata": {},
   "source": [
    "**Задача №1**\n",
    "\n",
    "Владимир устроился на работу в одно очень важное место. И в первом же документе он ничего не понял,\n",
    "там были сплошные ФГУП НИЦ ГИДГЕО, ФГОУ ЧШУ АПК и т.п. Тогда он решил собрать все аббревиатуры, чтобы потом найти их расшифровки на [http://sokr.ru/](http://sokr.ru/). Помогите ему.\n",
    "\n",
    "Будем считать аббревиатурой слова только лишь из заглавных букв (как минимум из двух). Если несколько таких слов разделены пробелами, то они считаются одной аббревиатурой."
   ]
  },
  {
   "cell_type": "code",
   "execution_count": 59,
   "metadata": {},
   "outputs": [
    {
     "data": {
      "text/plain": [
       "['ФГУП НИЦ ГИДГЕО', 'ФГОУ ЧШУ АПК', 'ЗФР', 'ПР', 'АФК ']"
      ]
     },
     "execution_count": 59,
     "metadata": {},
     "output_type": "execute_result"
    }
   ],
   "source": [
    "string = \"ФГУП НИЦ ГИДГЕО, ФГОУ ЧШУ АПК, апк ЗФР, ПРКгр, ПР, АФК групп\"\n",
    "pattern_corrected = r'\\b[А-Я]{2,}(?:\\s[А-Я]*)*\\b'\n",
    "\n",
    "# Повторный поиск с исправленным паттерном\n",
    "result_corrected = re.findall(pattern_corrected, string)\n",
    "\n",
    "result_corrected"
   ]
  },
  {
   "cell_type": "markdown",
   "metadata": {},
   "source": [
    "**Задача №2**\n",
    "\n",
    "Найти дату в строке. В отличие от прошлого примера год может записыватьс двумя способами - 2007 или 07, то есть 4 или 2 символа, вывести месяц."
   ]
  },
  {
   "cell_type": "code",
   "execution_count": 65,
   "metadata": {},
   "outputs": [
    {
     "data": {
      "text/plain": [
       "['27.03.2020', '1.11.2021', '19.04.22']"
      ]
     },
     "execution_count": 65,
     "metadata": {},
     "output_type": "execute_result"
    }
   ],
   "source": [
    "string = 'Первый локдаун начался 27.03.2020, а последний - 1.11.2021, спад пошел с 19.04.22'\n",
    "match  =  re.findall(r'\\d{1,2}\\.\\d{2}\\.(?:\\d{4}|\\d{2})',string)\n",
    "match"
   ]
  },
  {
   "cell_type": "markdown",
   "metadata": {},
   "source": [
    "**Задача №3**\n",
    "\n",
    "Найти все имена собственные в тексте. Случаи, когда предложение начинается с имени собственного, можно игнорировать.\n",
    "\n",
    "В данном случае, будем считать что имя собственное - слово, начинающеся с большой буквы. Случаи, когда предложение начинается с имени собственного, можно игнорировать."
   ]
  },
  {
   "cell_type": "code",
   "execution_count": 67,
   "metadata": {},
   "outputs": [
    {
     "data": {
      "text/plain": [
       "{'Бусинку',\n",
       " 'Вертушинка',\n",
       " 'Галя',\n",
       " 'Лена',\n",
       " 'Рыжик',\n",
       " 'Смирнова',\n",
       " 'Чапа',\n",
       " 'Чудино'}"
      ]
     },
     "execution_count": 67,
     "metadata": {},
     "output_type": "execute_result"
    }
   ],
   "source": [
    "Text = \"Зимой Лена Смирнова гостила у бабушки. Бабушка Галя  живёт в деревне Чудино. Рядом  речка  Вертушинка. Днём  Лена  каталась  на коньках. Вечером  она  кормила  сеном  корову  Бусинку. Дома  ждали собака Чапа и кот Рыжик\"\n",
    "outlier = re.findall(r\"[.]\\s[А-Я]\\w+\", Text)\n",
    "outlier = [i[2:] for i in outlier]\n",
    "\n",
    "match = re.findall(r\"\\s[А-Я]\\w+\", Text)\n",
    "match = [i[1:] for i in match]\n",
    "\n",
    "match =set(match)- set(outlier)\n",
    "match"
   ]
  },
  {
   "cell_type": "code",
   "execution_count": null,
   "metadata": {},
   "outputs": [],
   "source": []
  },
  {
   "cell_type": "code",
   "execution_count": null,
   "metadata": {},
   "outputs": [],
   "source": []
  }
 ],
 "metadata": {
  "colab": {
   "provenance": []
  },
  "interpreter": {
   "hash": "f63d7511e57c29b72547936613e0190b5e8bcb3581bae6f081f801693d929a4e"
  },
  "kernelspec": {
   "display_name": "Python 3 (ipykernel)",
   "language": "python",
   "name": "python3"
  },
  "language_info": {
   "codemirror_mode": {
    "name": "ipython",
    "version": 3
   },
   "file_extension": ".py",
   "mimetype": "text/x-python",
   "name": "python",
   "nbconvert_exporter": "python",
   "pygments_lexer": "ipython3",
   "version": "3.11.5"
  }
 },
 "nbformat": 4,
 "nbformat_minor": 1
}
