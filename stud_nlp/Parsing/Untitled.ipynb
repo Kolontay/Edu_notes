{
 "cells": [
  {
   "cell_type": "code",
   "execution_count": 1,
   "id": "5d8da44e",
   "metadata": {},
   "outputs": [],
   "source": [
    "import warnings\n",
    "warnings.filterwarnings(\"ignore\")"
   ]
  },
  {
   "cell_type": "code",
   "execution_count": 2,
   "id": "966321a1",
   "metadata": {},
   "outputs": [],
   "source": [
    "import requests      # Библиотека для отправки запросов\n",
    "import numpy as np   # Библиотека для матриц, векторов и линала\n",
    "import pandas as pd  # Библиотека для табличек\n",
    "import time          # Библиотека для времени\\\n",
    "from bs4 import BeautifulSoup\n",
    "import random\n",
    "import re\n",
    "import json"
   ]
  },
  {
   "cell_type": "code",
   "execution_count": 3,
   "id": "b990037b",
   "metadata": {},
   "outputs": [],
   "source": [
    "page_link = 'https://simplewine.ru/catalog/vino/filter/color-krasnoe/page1/'\n"
   ]
  },
  {
   "cell_type": "code",
   "execution_count": 3,
   "id": "8db4e584",
   "metadata": {},
   "outputs": [
    {
     "name": "stdout",
     "output_type": "stream",
     "text": [
      "Collecting fake_useragent\n",
      "  Obtaining dependency information for fake_useragent from https://files.pythonhosted.org/packages/33/c9/ff44922639b8827dbc86d463d870dabfc19d1567d8a6427dcb2289d83fd8/fake_useragent-1.4.0-py3-none-any.whl.metadata\n",
      "  Downloading fake_useragent-1.4.0-py3-none-any.whl.metadata (13 kB)\n",
      "Downloading fake_useragent-1.4.0-py3-none-any.whl (15 kB)\n",
      "Installing collected packages: fake_useragent\n",
      "Successfully installed fake_useragent-1.4.0\n"
     ]
    }
   ],
   "source": [
    "!pip install fake_useragent\n",
    "!pip install beautifulsoup4"
   ]
  },
  {
   "cell_type": "code",
   "execution_count": 4,
   "id": "acb0c0db",
   "metadata": {},
   "outputs": [
    {
     "data": {
      "text/plain": [
       "'Mozilla/5.0 (Windows NT 10.0; Win64; x64) AppleWebKit/537.36 (KHTML, like Gecko) Chrome/115.0.0.0 Safari/537.36 OPR/101.0.0.0'"
      ]
     },
     "execution_count": 4,
     "metadata": {},
     "output_type": "execute_result"
    }
   ],
   "source": [
    "# подгрузим один из методов этой библиотеки\n",
    "from fake_useragent import UserAgent\n",
    "UserAgent().chrome"
   ]
  },
  {
   "cell_type": "code",
   "execution_count": 5,
   "id": "9732fed6",
   "metadata": {},
   "outputs": [
    {
     "data": {
      "text/plain": [
       "<Response [200]>"
      ]
     },
     "execution_count": 5,
     "metadata": {},
     "output_type": "execute_result"
    }
   ],
   "source": [
    "response = requests.get(page_link, headers={'User-Agent': UserAgent().safari})\n",
    "response"
   ]
  },
  {
   "cell_type": "code",
   "execution_count": null,
   "id": "ba7a866f",
   "metadata": {},
   "outputs": [],
   "source": []
  },
  {
   "cell_type": "code",
   "execution_count": 6,
   "id": "f237aade",
   "metadata": {},
   "outputs": [],
   "source": [
    "# Функция, которая парсит бесплатные прокси.\n",
    "# На вход получает html\n",
    "# Возвращает список с прокси. Протокол выбран только http\n",
    "def get_proxies(html):\n",
    "    final_proxies_list = []\n",
    "    soup = BeautifulSoup(html.content, 'html.parser')\n",
    "    proxies_list = soup.find('tbody').find_all('tr')\n",
    "    for j in proxies_list:\n",
    "        proxy_row = j.find_all('td')\n",
    "        ip = proxy_row[0].text\n",
    "        port = proxy_row[1].text\n",
    "        if proxy_row[6].text == 'no':\n",
    "            protocol = 'http'\n",
    "            proxy = protocol + '://' + ip + ':' + port\n",
    "            final_proxies_list.append(proxy)\n",
    "        else:\n",
    "            continue\n",
    "    return final_proxies_list\n",
    "proxies_list = get_proxies(requests.get('https://free-proxy-list.net/'))"
   ]
  },
  {
   "cell_type": "code",
   "execution_count": 219,
   "id": "484316c7",
   "metadata": {},
   "outputs": [],
   "source": [
    "response = requests.get(page_link, {'http':proxies_list[random.randint(0, len(proxies_list) - 1)]})\n",
    "soup = BeautifulSoup(response.content, 'html.parser')"
   ]
  },
  {
   "cell_type": "code",
   "execution_count": null,
   "id": "ab8f5920",
   "metadata": {},
   "outputs": [],
   "source": [
    "link_list = []\n",
    "obj_all = soup.findAll(lambda tag: tag.name == 'a' and tag.get('class') == ['snippet-star', 'snippet-star--big'])\n",
    "for obj in obj_all:\n",
    "    way = 'https://simplewine.ru'+obj.attrs['href']\n",
    "    way = way.replace('/reviews/','')\n",
    "    link_list.append(way)"
   ]
  },
  {
   "cell_type": "code",
   "execution_count": 7,
   "id": "00f66aae",
   "metadata": {},
   "outputs": [],
   "source": [
    "def getPageLinks(page_number):\n",
    "    # составляем ссылку на страницу поиска\n",
    "    link_list =[]\n",
    "    page_link = 'https://simplewine.ru/catalog/vino/filter/color-krasnoe/page{}/'.format(page_number)\n",
    "    response = requests.get(page_link, {'http':proxies_list[random.randint(0, len(proxies_list) - 1)]})\n",
    "    soup = BeautifulSoup(response.content, 'html.parser')\n",
    "    \n",
    "    obj_all = soup.findAll(lambda tag: tag.name == 'a' and tag.get('class') == ['snippet-star', 'snippet-star--big'])\n",
    "    \n",
    "    for obj in obj_all:\n",
    "        way = 'https://simplewine.ru'+obj.attrs['href']\n",
    "        way = way.replace('/reviews/','')\n",
    "        link_list.append(way)\n",
    "    return link_list"
   ]
  },
  {
   "cell_type": "code",
   "execution_count": 8,
   "id": "53c6cf7d",
   "metadata": {},
   "outputs": [],
   "source": [
    "wine_list = []\n",
    "for i in range(1,3):\n",
    "    wine_list.extend(getPageLinks(i))\n",
    "    time.sleep(1)"
   ]
  },
  {
   "cell_type": "code",
   "execution_count": 9,
   "id": "ae801bd7",
   "metadata": {},
   "outputs": [
    {
     "data": {
      "text/plain": [
       "['https://simplewine.ru/catalog/product/brunello_di_montalcino_2018_075_144520',\n",
       " 'https://simplewine.ru/catalog/product/nipozzano_chianti_rufina_riserva_2020_075_143986',\n",
       " 'https://simplewine.ru/catalog/product/brunello_di_montalcino_castelgiocondo_2018_075_143591',\n",
       " 'https://simplewine.ru/catalog/product/sassi_chiusi_2015_075_145965',\n",
       " 'https://simplewine.ru/catalog/product/marques_de_riscal_reserva_2019_075_144001',\n",
       " 'https://simplewine.ru/catalog/product/le_volte_dell_ornellaia_2021_075_143635',\n",
       " 'https://simplewine.ru/catalog/product/kaberne_sovinon_semeynyy_pezerv_2018_075_144776',\n",
       " 'https://simplewine.ru/catalog/product/guidalberto_2021_075_144491',\n",
       " 'https://simplewine.ru/catalog/product/two_hands_angel_s_share_2021_075_135214',\n",
       " 'https://simplewine.ru/catalog/product/joseph_drouhin_bourgogne_pinot_noir_laforet_2021_075_140166',\n",
       " 'https://simplewine.ru/catalog/product/domaine_clarence_dillon_clarendelle_by_haut_brion_rouge_2016_075_135650',\n",
       " 'https://simplewine.ru/catalog/product/emilio_moro_2020_075_143828',\n",
       " 'https://simplewine.ru/catalog/product/vino_nobile_di_montepulciano_riserva_2018_075_144541',\n",
       " 'https://simplewine.ru/catalog/product/chateauneuf_du_pape_rouge_2018_075_143951',\n",
       " 'https://simplewine.ru/catalog/product/le_difese_2021_075_144489',\n",
       " 'https://simplewine.ru/catalog/product/chianti_classico_la_porta_di_vertine_2020_075_144075',\n",
       " 'https://simplewine.ru/catalog/product/chianti_classico_2021_075_141970',\n",
       " 'https://simplewine.ru/catalog/product/pino_nuar_krasnaya_gorka_075_145145',\n",
       " 'https://simplewine.ru/catalog/product/chianti_classico_2021_075_143333',\n",
       " 'https://simplewine.ru/catalog/product/valpolicella_ripasso_valpantena_2020_075_144700',\n",
       " 'https://simplewine.ru/catalog/product/fattoria_del_cerro_vino_nobile_di_montepulciano_silineo_2019_075_138292',\n",
       " 'https://simplewine.ru/catalog/product/galitskiy_i_galitskiy_kaberne_sovinon_krasnaya_gorka_2020_075_136155',\n",
       " 'https://simplewine.ru/catalog/product/tenuta_tascante_ghiaia_nera_2021_075_144524',\n",
       " 'https://simplewine.ru/catalog/product/two_hands_gnarly_dudes_2021_075_139164',\n",
       " 'https://simplewine.ru/catalog/product/two_hands_bella_s_garden_2019_075_137430',\n",
       " 'https://simplewine.ru/catalog/product/sexy_beast_2022_075_144764',\n",
       " 'https://simplewine.ru/catalog/product/tenuta_regaleali_cabernet_sauvignon_vigna_san_francesco_2019_075_143479',\n",
       " 'https://simplewine.ru/catalog/product/merlo_krasnaya_gorka_2020_075_143847',\n",
       " 'https://simplewine.ru/catalog/product/cum_laude_2021_075_145112',\n",
       " 'https://simplewine.ru/catalog/product/valpolicella_valpantena_2022_075_144705',\n",
       " 'https://simplewine.ru/catalog/product/emilio_moro_malleolus_2020_075_140619',\n",
       " 'https://simplewine.ru/catalog/product/vespa_il_rosso_dei_vespa_2021_075_140058',\n",
       " 'https://simplewine.ru/catalog/product/luigi_bosca_malbec_verdot_finca_los_nobles_2020_075_138922',\n",
       " 'https://simplewine.ru/catalog/product/taurasi_2018_075_143810',\n",
       " 'https://simplewine.ru/catalog/product/sul_vulcano_etna_rosso_2021_075_144649',\n",
       " 'https://simplewine.ru/catalog/product/pino_nuar_semeynyy_rezerv_2020_075_145083',\n",
       " 'https://simplewine.ru/catalog/product/hacienda_lopez_de_haro_gran_reserva_2014_075_144116',\n",
       " 'https://simplewine.ru/catalog/product/langhe_nebbiolo_perbacco_2021_075_145331',\n",
       " 'https://simplewine.ru/catalog/product/chianti_classico_riserva_2020_075_144407',\n",
       " 'https://simplewine.ru/catalog/product/tenuta_regaleali_lamuri_2020_075_142665',\n",
       " 'https://simplewine.ru/catalog/product/sherazade_2022_075_145415',\n",
       " 'https://simplewine.ru/catalog/product/sancerre_rouge_les_baronnes_2020_075_145687',\n",
       " 'https://simplewine.ru/catalog/product/alto_adige_lagrein_2022_075_145165',\n",
       " 'https://simplewine.ru/catalog/product/joseph_drouhin_beaujolais_villages_2021_075_139506',\n",
       " 'https://simplewine.ru/catalog/product/agricola_punica_barrua_2019_075_140523',\n",
       " 'https://simplewine.ru/catalog/product/krasnostop_family_reserve_2018_075_145213',\n",
       " 'https://simplewine.ru/catalog/product/pinot_noir_2022_075_143086',\n",
       " 'https://simplewine.ru/catalog/product/malbec_2022_075_145430',\n",
       " 'https://simplewine.ru/catalog/product/ch_teau_siaurac_chateau_siaurac_2014_075_136821',\n",
       " 'https://simplewine.ru/catalog/product/montessu_2021_075_145311',\n",
       " 'https://simplewine.ru/catalog/product/cotes_du_rhone_rouge_2020_075_143429',\n",
       " 'https://simplewine.ru/catalog/product/malbec_la_linda_2022_075_143763',\n",
       " 'https://simplewine.ru/catalog/product/valpolicella_classico_superiore_ripasso_la_casetta_2019_075_143649',\n",
       " 'https://simplewine.ru/catalog/product/remole_rosso_2022_075_146233',\n",
       " 'https://simplewine.ru/catalog/product/hacienda_lopez_de_haro_hacienda_lopez_de_haro_crianza_2019_075_137307',\n",
       " 'https://simplewine.ru/catalog/product/sikory_gerts_2018_075_137179',\n",
       " 'https://simplewine.ru/catalog/product/tiara_2018_075_141078',\n",
       " 'https://simplewine.ru/catalog/product/domini_veneti_amarone_della_valpolicella_classico_2019_075_139037',\n",
       " 'https://simplewine.ru/catalog/product/chianti_castiglioni_2022_075_144456',\n",
       " 'https://simplewine.ru/catalog/product/solare_2015_075_141354',\n",
       " 'https://simplewine.ru/catalog/product/chianti_2022_075_145111',\n",
       " 'https://simplewine.ru/catalog/product/hacienda_lopez_de_haro_hacienda_lopez_de_haro_reserva_2016_075_137306',\n",
       " 'https://simplewine.ru/catalog/product/riparosso_montepulciano_d_abruzzo_2021_075_144263',\n",
       " 'https://simplewine.ru/catalog/product/petrikor_krasnoe_075_146609']"
      ]
     },
     "execution_count": 9,
     "metadata": {},
     "output_type": "execute_result"
    }
   ],
   "source": [
    "wine_list"
   ]
  },
  {
   "cell_type": "code",
   "execution_count": 34,
   "id": "512c4c08",
   "metadata": {},
   "outputs": [],
   "source": [
    "sim = 'https://simplewine.ru/catalog/product/brunello_di_montalcino_2018_075_144520'\n",
    "response = requests.get(sim, {'http':proxies_list[random.randint(0, len(proxies_list) - 1)]})\n",
    "soup = BeautifulSoup(response.content, 'html.parser')"
   ]
  },
  {
   "cell_type": "code",
   "execution_count": 100,
   "id": "64d8a305",
   "metadata": {},
   "outputs": [],
   "source": [
    "chars_1 = {'Стилистика вина':None,\n",
    " 'Дегустационные характеристики':None,\n",
    " 'Гастрономия':None,\n",
    " 'Виноградники':None,\n",
    " 'Способ выдержки':None,\n",
    " 'Способ производства':None,\n",
    " 'История этикетки':None,\n",
    " 'Это интересно':None}\n",
    "\n",
    "s_wine_1 = soup.findAll(attrs={'class':'characteristics-description__item'})\n",
    "\n",
    "for obj in s_wine_1:\n",
    "\n",
    "    name_char = obj.find(attrs={'class':'characteristics-description__item-title'})\n",
    "    name_char = str(name_char).replace('<h4 class=\"characteristics-description__item-title\">\\n','').replace('</h4>','').replace(':','').strip()\n",
    "    if name_char in chars_1:\n",
    "        val = obj.find(attrs={'class':'characteristics-description__item-text'})\n",
    "        val = str(val).replace('<div class=\"characteristics-description__item-text\">\\n','').replace('</div>','').replace(':','').strip()\n",
    "        chars_1[name_char] = val"
   ]
  },
  {
   "cell_type": "code",
   "execution_count": 129,
   "id": "b6fa1148",
   "metadata": {},
   "outputs": [
    {
     "data": {
      "text/plain": [
       "{'Стилистика вина': 'красное — мощное, насыщенное, выдержанное в дубе',\n",
       " 'Дегустационные характеристики': 'Вино интенсивного рубиново-красного цвета с легким пурпурным отблеском и комплексным ароматом, в котором раскрывается  целое богатство оттенков (красные ягоды, цветы, лакрица, специи), подчеркнутых легкими нотками сливы и ванили. Полнотелое, гармоничное, округлое во вкусе, с шелковистыми танинами, великолепной структурой и продолжительным послевкусием.',\n",
       " 'Гастрономия': 'Можно порекомендовать к красному мясу на гриле, дичи и выдержанным сырам.',\n",
       " 'Виноградники': 'Расположены на склонах холмов высотой 220 м в южной части области Монтальчино. Почвы мергелевые с большим количеством гальки. Кастелло Банфи - первое в мире винодельческое хозяйство, получившее международное признание за охрану окружающей среды, а также за этическую и социальную ответственность, что подтверждено соответствующим сертификатом (ISO 14001).',\n",
       " 'Способ выдержки': 'В течение 24 месяцев в дубовых бочках различного объема (от 350 л до 120 гл). Затем выдержка в бутылке.',\n",
       " 'Способ производства': 'Мацерация и ферментация в емкостях из нержавеющей стали и дуба (уникальная разработка Castello Banfi) в течение 10-12 дней.',\n",
       " 'История этикетки': None,\n",
       " 'Это интересно': 'Брунелло, одно из выдающихся и самых дорогих вин Тосканы, первым в Италии получило категорию DOCG. Брунелло ди Монтальчино от Банфи отмечено в Топ-100 лучших вин журнала Wine Spectator. Первый релиз этого вина состоялся в 1978 году. На протяжении 20 лет для него отбирались лучшие клоны санджовезе. Хозяйство Banfi в принципе можно считать создателями брунелло когда они приехали в Монтальчино и начали свой винодельческий проект, в регионе было всего около десяти производителей брунелло. Семья Мариани годами вкладывалась в развитие бренда “брунелло из Монтальчино”, проводила исследования местной почвы и клонов санджовезе, делилась опытом и результатами научных изысканий с соседями — в итоге сегодня количество производителей в Монтальчино приблизилось к трём сотням, а само вино считается великим итальянским красным.'}"
      ]
     },
     "execution_count": 129,
     "metadata": {},
     "output_type": "execute_result"
    }
   ],
   "source": [
    "chars_1"
   ]
  },
  {
   "cell_type": "code",
   "execution_count": 139,
   "id": "c90055b8",
   "metadata": {},
   "outputs": [],
   "source": [
    "chars_2 = {'регион':None,\n",
    "           'год':None,\n",
    "           'крепость':None,\n",
    "           'потенциал хранения':None,\n",
    "           'аппелласьон':None,\n",
    "           'категория':None,\n",
    "           'декантация':None,\n",
    "           'выдержка в емкости':None}\n",
    "\n",
    "s_wine_2 = soup.find(attrs={'class':'characteristics-params__list'}).findAll(attrs={'characteristics-params__item'})\n",
    "\n",
    "for obj in s_wine_2:\n",
    "    name_char = re.search(r'\\b[0-9a-zA-Zа-яёА-ЯЁ% ]*[:]',str(obj)).group().replace(':','').lower()\n",
    "    if name_char in chars_2:\n",
    "        val = obj.find('dd')\n",
    "        val = re.search(r'\\n*[>]\\s*[0-9a-zA-Zа-яёА-ЯЁ% -.]+[<]',str(val)).group().replace('<','').replace('>','').replace('\\n','').strip()\n",
    "        chars_2[name_char] = val"
   ]
  },
  {
   "cell_type": "code",
   "execution_count": 141,
   "id": "7b82a09f",
   "metadata": {},
   "outputs": [
    {
     "data": {
      "text/plain": [
       "['Утка', 'Говядина', 'Выдержанный сыр']"
      ]
     },
     "execution_count": 141,
     "metadata": {},
     "output_type": "execute_result"
    }
   ],
   "source": [
    "chars_3 = soup.findAll(attrs={'class':'serving__suitable-title'})\n",
    "temp = re.findall(r'[>]\\n*[0-9a-zA-Zа-яёА-ЯЁ% ]*[<]',str(chars_3))\n",
    "[i.replace('<','').replace('>','').replace('\\n','').strip() for i in temp]"
   ]
  },
  {
   "cell_type": "code",
   "execution_count": null,
   "id": "c6a5d2f9",
   "metadata": {},
   "outputs": [],
   "source": [
    "chars_4 = {'название':None,\n",
    "           'цена':None,\n",
    "           'рейтинг_SW':None,\n",
    "           'год':None}\n",
    "\n",
    "script = soup.find('script', {'data-skip-moving': '1', 'type': 'text/javascript'})\n",
    "json_text = script.text.split('window.dataLayer = ', 1)[1].rsplit(';', 1)[0]\n",
    "data = json.loads(json_text)\n",
    "chars_4['цена'] = float(data[0]['ecommerce']['detail']['products'][0]['price'])\n",
    "chars_4['название'] = data[0]['ecommerce']['detail']['products'][0]['name'].split(',')[0]\n",
    "chars_4['год'] = float(data[0]['ecommerce']['detail']['products'][0]['variant'])\n",
    "chars_4['рейтинг_SW'] =float(data[0]['ecommerce']['detail']['products'][0]['dimension13'])"
   ]
  },
  {
   "cell_type": "code",
   "execution_count": null,
   "id": "c4eead42",
   "metadata": {},
   "outputs": [],
   "source": [
    "chars_4"
   ]
  },
  {
   "cell_type": "code",
   "execution_count": null,
   "id": "e914560e",
   "metadata": {},
   "outputs": [],
   "source": [
    "chars_5 = {'сладость':None,\n",
    "           'кислотность':None,\n",
    "           'танины':None,\n",
    "           'тело':None}\n",
    "\n",
    "temp = soup.findAll('li', attrs = {'class':'taste__item'})\n",
    "for obj in temp:\n",
    "    item = obj.find('div', class_='taste__title').text.strip().lower()\n",
    "    if item in chars_5:\n",
    "        chars_5[item] = len(re.findall(r'dot_active\"',str(obj)))"
   ]
  },
  {
   "cell_type": "code",
   "execution_count": 14,
   "id": "98d24cf3",
   "metadata": {},
   "outputs": [],
   "source": []
  },
  {
   "cell_type": "code",
   "execution_count": null,
   "id": "b371bcd6",
   "metadata": {},
   "outputs": [],
   "source": [
    "sim = 'https://simplewine.ru/catalog/product/brunello_di_montalcino_2018_075_144520'\n",
    "#sim = 'https://simplewine.ru/catalog/product/chianti_classico_la_porta_di_vertine_2020_075_144075'\n",
    "#sim = 'https://simplewine.ru/catalog/product/sedara_2021_075_143300'\n",
    "response = requests.get(sim, {'http':proxies_list[random.randint(0, len(proxies_list) - 1)]})\n",
    "soup = BeautifulSoup(response.content, 'html.parser')"
   ]
  },
  {
   "cell_type": "code",
   "execution_count": 245,
   "id": "c3aac32c",
   "metadata": {},
   "outputs": [],
   "source": [
    "sim += '/reviews/'"
   ]
  },
  {
   "cell_type": "code",
   "execution_count": 247,
   "id": "555da0b0",
   "metadata": {},
   "outputs": [],
   "source": [
    "response = requests.get(sim, {'http':proxies_list[random.randint(0, len(proxies_list) - 1)]})\n",
    "soup = BeautifulSoup(response.content, 'html.parser')"
   ]
  },
  {
   "cell_type": "code",
   "execution_count": 264,
   "id": "370e3d8d",
   "metadata": {},
   "outputs": [],
   "source": [
    "chars_6 = []\n",
    "comments = soup.findAll('div', class_='product-review__item')\n",
    "for comment in comments:\n",
    "    res = comment.find('div', class_='product-review__item-comment').text.strip()\n",
    "    chars_6.append(res)"
   ]
  },
  {
   "cell_type": "code",
   "execution_count": 265,
   "id": "67a5ef21",
   "metadata": {},
   "outputs": [
    {
     "data": {
      "text/plain": [
       "['Обязательно декантировать мин 60 минут. Иначе много кислоты. После декантирования вино играет совсем по другому.',\n",
       " 'Очень органично, ярко и элегантно. В рамках цены соответствует на все 100%. Идеально подходит для романтичного вечера на двоих. Но перед употреблением дать подышать минимум  30 мин, что оно стало более ярким.',\n",
       " 'Банфи - это достойное качество, их Брунелло отдельная песня, 5 баллов за эти деньги',\n",
       " 'О да, это Брунелло)',\n",
       " 'Шикарное вино. Аромат утреннего леса, дерева, тёмных ягод, кожи. Во вкусе ягоды, и чёрный чай в послевкусии.',\n",
       " 'Отличное!',\n",
       " 'Чудесное вино! Но ценник теперь сказочный))',\n",
       " 'Самое лучшее',\n",
       " 'Прекрасное вино Нового Света на каждый день, лёгкое, приятное.',\n",
       " 'Отличный вкус']"
      ]
     },
     "execution_count": 265,
     "metadata": {},
     "output_type": "execute_result"
    }
   ],
   "source": [
    "chars_6"
   ]
  },
  {
   "cell_type": "code",
   "execution_count": null,
   "id": "3f14ba0a",
   "metadata": {},
   "outputs": [],
   "source": []
  },
  {
   "cell_type": "code",
   "execution_count": 254,
   "id": "e7de3fd5",
   "metadata": {},
   "outputs": [],
   "source": [
    "\n"
   ]
  },
  {
   "cell_type": "code",
   "execution_count": null,
   "id": "6985cf50",
   "metadata": {},
   "outputs": [],
   "source": []
  },
  {
   "cell_type": "code",
   "execution_count": null,
   "id": "832b34ef",
   "metadata": {},
   "outputs": [],
   "source": []
  },
  {
   "cell_type": "code",
   "execution_count": null,
   "id": "38674e6b",
   "metadata": {},
   "outputs": [],
   "source": []
  },
  {
   "cell_type": "code",
   "execution_count": null,
   "id": "b721f21f",
   "metadata": {},
   "outputs": [],
   "source": []
  },
  {
   "cell_type": "code",
   "execution_count": null,
   "id": "29be738c",
   "metadata": {},
   "outputs": [],
   "source": []
  },
  {
   "cell_type": "code",
   "execution_count": null,
   "id": "fe9e7d5a",
   "metadata": {},
   "outputs": [],
   "source": []
  },
  {
   "cell_type": "code",
   "execution_count": null,
   "id": "b41b0083",
   "metadata": {},
   "outputs": [],
   "source": []
  }
 ],
 "metadata": {
  "kernelspec": {
   "display_name": "Python 3 (ipykernel)",
   "language": "python",
   "name": "python3"
  },
  "language_info": {
   "codemirror_mode": {
    "name": "ipython",
    "version": 3
   },
   "file_extension": ".py",
   "mimetype": "text/x-python",
   "name": "python",
   "nbconvert_exporter": "python",
   "pygments_lexer": "ipython3",
   "version": "3.11.5"
  }
 },
 "nbformat": 4,
 "nbformat_minor": 5
}
