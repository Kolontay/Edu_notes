{
 "cells": [
  {
   "cell_type": "markdown",
   "metadata": {
    "id": "IO1m4W-2FugO"
   },
   "source": [
    "# Парсим мемы в питоне: как обойти серверную блокировку.\n"
   ]
  },
  {
   "cell_type": "markdown",
   "metadata": {
    "id": "6-qGF6CjFugR"
   },
   "source": [
    "# 1. Вламываемся в мемохранилище\n",
    "\n",
    "## 1.1. Что мы хотим получить\n",
    "\n",
    "Итак, мы хотим распарсить [knowyourmeme.com](http://knowyourmeme.com) и получить кучу разных переменных:\n",
    "\n",
    "- **Name** – название мема,\n",
    "- **Origin_year** – год его создания,\n",
    "- **Views** – число просмотров,\n",
    "- **About** – текстовое описание мема,\n",
    "- ** и многие другие**\n",
    "\n",
    "Более того, мы хотим сделать это без вот этого всего:\n",
    "\n",
    "\n",
    "\n",
    "После скачивания и чистки данных от мусора, можно будет заняться строительством моделей. Например, попытаться предсказать популярность мема по его параметрам. Но это все позже, а сейчас познакомимся с парой определений:\n",
    "\n",
    "* **Парсер** — это скрипт, который грабит информацию с сайта\n",
    "* **Краулер** — это часть парсера, которая бродит по ссылкам\n",
    "* **Краулинг** — это переход по страницам и ссылкам\n",
    "* **Скрапинг** — это сбор данных со страниц\n",
    "* **Парсинг** — это сразу и краулинг и скрапинг!\n",
    "\n",
    "\n",
    "## 1.2.  Что такое HTML\n",
    "\n",
    "**HTML (HyperText Markup Language)**  — это такой же язык разметки как Markdown или LaTeX. Он является стандартным для написания различных сайтов. Команды в таком языке называются **тегами**. Если открыть абсолютно любой сайт, нажать на правую кнопку мышки, а после нажать `View page source`, то перед вами предстанет HTML скелет этого сайта.\n",
    "\n",
    "Можно увидеть, что HTML-страница это ни что иное как набор вложенных тегов. Можно заметить, например, следующие теги:\n",
    "\n",
    "- `<title>` – заголовок страницы\n",
    "- `<h1>…<h6>` – заголовки разных уровней\n",
    "- `<p>` – абзац (paragraph)\n",
    "- `<div>` – выделения фрагмента документа с целью изменения вида содержимого\n",
    "- `<table>` – прорисовка таблицы\n",
    "- `<tr>` – разделитель для строк в таблице\n",
    "- `<td>` – разделитель для столбцов в таблице\n",
    "- `<b>` – устанавливает жирное начертание шрифта\n",
    "\n",
    "Обычно команда `<...>` открывает тег, а  `</...>` закрывает его. Все, что находится между этими двумя командами, подчиняется правилу, которое диктует тег. Например, все, что находится между `<p>` и  `</p>` — это отдельный абзац.   \n",
    "\n",
    "Теги образуют своеобразное дерево с корнем в теге `<html>` и разбивают страницу на разные логические кусочки. У каждого тега могут быть свои потомки (дети) — те теги, которые вложены в него, и свои родители.\n",
    "\n",
    "Например, HTML-древо страницы может выглядеть вот так:\n",
    "\n",
    "    <html>\n",
    "    <head> Заголовок </head>\n",
    "    <body>\n",
    "        <div>\n",
    "            Первый кусок текста со своими свойствами\n",
    "        </div>\n",
    "        <div>\n",
    "            Второй кусок текста\n",
    "                <b>\n",
    "                    Третий, жирный кусок\n",
    "                </b>\n",
    "        </div>\n",
    "        Четвёртый кусок текста        \n",
    "    </body>\n",
    "    </html>            \n",
    "    \n",
    "    \n",
    "\n",
    "\n",
    "Можно работать с этим html как с текстом, а можно как с деревом. Обход этого дерева и есть парсинг веб-страницы. Мы всего лишь будем находить нужные нам узлы среди всего этого разнообразия и забирать из них информацию!\n",
    "\n",
    "Вручную обходить эти деревья не очень приятно, поэтому есть специальные языки для обхода деревьев.\n",
    "\n"
   ]
  },
  {
   "cell_type": "markdown",
   "metadata": {
    "id": "WWG2SZpHFugT"
   },
   "source": [
    "## 1.3. Наш первый запрос\n",
    "\n",
    "Доступ к веб-станицам позволяет получать модуль `requests`. Подгрузим его. За компанию подгрузим ещё парочку дельных пакетов."
   ]
  },
  {
   "cell_type": "code",
   "execution_count": 1,
   "metadata": {
    "id": "rnxFdMJIALLo"
   },
   "outputs": [],
   "source": [
    "import warnings\n",
    "warnings.filterwarnings(\"ignore\")"
   ]
  },
  {
   "cell_type": "code",
   "execution_count": 7,
   "metadata": {
    "id": "35Uti68PFugT"
   },
   "outputs": [],
   "source": [
    "import requests      # Библиотека для отправки запросов\n",
    "import numpy as np   # Библиотека для матриц, векторов и линала\n",
    "import pandas as pd  # Библиотека для табличек\n",
    "import time          # Библиотека для времени"
   ]
  },
  {
   "cell_type": "markdown",
   "metadata": {
    "id": "Dq4nNCdWFugV"
   },
   "source": [
    "Для наших благородных исследовательских целей нужно собрать данные по каждому мему с соответствующей ему страницы. Но для начала нужно получить адреса этих страниц. Поэтому открываем основную страницу со всеми выложенными мемами. Выглядит она следующим образом:\n",
    "\n",
    "\n",
    "\n",
    "Со страницы всех мемов http://knowyourmeme.com/memes/all мы  будем тащить ссылки на каждый из перечисленных мемов. Сохраним в переменную `page_link` адрес основной страницы и откроем её при помощи библиотеки `requests`."
   ]
  },
  {
   "cell_type": "code",
   "execution_count": 1,
   "metadata": {
    "id": "G2U_F6onFugV"
   },
   "outputs": [],
   "source": [
    "page_link = 'https://www.vprok.ru/promos/11154/promocode-new700?filter.strana=rossiya'"
   ]
  },
  {
   "cell_type": "markdown",
   "metadata": {
    "id": "3cOE5tBeFugY"
   },
   "source": [
    "Не будем показывать серверу, что мы сидим на питоне и используем библиотеку requests. Это может вызвать у него некоторые подозрения относительно наших благих намерений и он решит нас безжалостно отвергнуть.\n",
    "\n",
    "\n",
    "Очевидно, что нашему скромному запросу не тягаться с таким обилием мета-информации, которое передается при запросе из обычного браузера. К счастью, никто нам не мешает притвориться человечными и пустить пыль в глаза сервера при помощи генерации фейкового юзер-агента. Библиотек, которые справляются с такой задачей, существует очень и очень много, лично мне больше всего нравится [`fake-useragent`](https://pypi.python.org/pypi/fake-useragent). При вызове метода из различных кусочков будет генерироваться рандомное сочетание операционной системы, спецификаций и версии браузера, которые можно передавать в запрос:"
   ]
  },
  {
   "cell_type": "code",
   "execution_count": 4,
   "metadata": {
    "colab": {
     "base_uri": "https://localhost:8080/"
    },
    "id": "30VTGnO_GAuR",
    "outputId": "1e5c9500-8f5e-4db6-f5ee-c6c00ec321dc"
   },
   "outputs": [
    {
     "name": "stdout",
     "output_type": "stream",
     "text": [
      "Collecting fake_useragent\n",
      "  Downloading fake_useragent-1.4.0-py3-none-any.whl (15 kB)\n",
      "Installing collected packages: fake_useragent\n",
      "Successfully installed fake_useragent-1.4.0\n"
     ]
    }
   ],
   "source": [
    "!pip install fake_useragent"
   ]
  },
  {
   "cell_type": "code",
   "execution_count": 3,
   "metadata": {
    "id": "_k3ix86eFugY"
   },
   "outputs": [],
   "source": [
    "# подгрузим один из методов этой библиотеки\n",
    "from fake_useragent import UserAgent"
   ]
  },
  {
   "cell_type": "code",
   "execution_count": 4,
   "metadata": {
    "colab": {
     "base_uri": "https://localhost:8080/",
     "height": 35
    },
    "id": "DoxSGx1lG_2C",
    "outputId": "17d6bd82-f86f-4036-affb-b96ec773f866"
   },
   "outputs": [
    {
     "data": {
      "text/plain": [
       "'Mozilla/5.0 (Macintosh; Intel Mac OS X 10_15_7) AppleWebKit/537.36 (KHTML, like Gecko) Chrome/117.0.0.0 Safari/537.36'"
      ]
     },
     "execution_count": 4,
     "metadata": {},
     "output_type": "execute_result"
    }
   ],
   "source": [
    "UserAgent().chrome"
   ]
  },
  {
   "cell_type": "code",
   "execution_count": 5,
   "metadata": {
    "colab": {
     "base_uri": "https://localhost:8080/",
     "height": 35
    },
    "id": "p6k_rhytFugZ",
    "outputId": "d6f48f97-9c36-45ee-fc87-01334d90b9c2"
   },
   "outputs": [
    {
     "data": {
      "text/plain": [
       "'Mozilla/5.0 (Macintosh; Intel Mac OS X 10_15_7) AppleWebKit/605.1.15 (KHTML, like Gecko) Version/16.6 Safari/605.1.15'"
      ]
     },
     "execution_count": 5,
     "metadata": {},
     "output_type": "execute_result"
    }
   ],
   "source": [
    "UserAgent().safari"
   ]
  },
  {
   "cell_type": "code",
   "execution_count": 8,
   "metadata": {
    "colab": {
     "base_uri": "https://localhost:8080/"
    },
    "id": "a_N4v7k_FugZ",
    "outputId": "e176f68f-62d7-48a2-f6f8-4ce57ccb3fe7"
   },
   "outputs": [
    {
     "data": {
      "text/plain": [
       "<Response [200]>"
      ]
     },
     "execution_count": 8,
     "metadata": {},
     "output_type": "execute_result"
    }
   ],
   "source": [
    "response = requests.get(page_link, headers={'User-Agent': UserAgent().chrome})\n",
    "response"
   ]
  },
  {
   "cell_type": "code",
   "execution_count": 9,
   "metadata": {
    "colab": {
     "base_uri": "https://localhost:8080/"
    },
    "id": "Hzy4Ofd4rwYZ",
    "outputId": "5b35562c-e0f3-4d34-a1a5-d6abe56026af"
   },
   "outputs": [
    {
     "data": {
      "text/plain": [
       "requests.models.Response"
      ]
     },
     "execution_count": 9,
     "metadata": {},
     "output_type": "execute_result"
    }
   ],
   "source": [
    "type(response)"
   ]
  },
  {
   "cell_type": "markdown",
   "metadata": {
    "id": "Stgq18QcFuga"
   },
   "source": [
    "Замечательно, наша небольшая маскировка сработала и обманутый сервер покорно выдал благословенный 200 ответ — соединение установлено и данные получены, всё чудесно! Посмотрим, что же все-таки мы получили."
   ]
  },
  {
   "cell_type": "code",
   "execution_count": 10,
   "metadata": {
    "id": "7CzC1F1rFuga"
   },
   "outputs": [],
   "source": [
    "html = response.content"
   ]
  },
  {
   "cell_type": "code",
   "execution_count": 11,
   "metadata": {
    "colab": {
     "base_uri": "https://localhost:8080/"
    },
    "id": "lC27vW4oFuga",
    "outputId": "3bc11e6e-5237-4b70-e1bb-2dfc0ca93619"
   },
   "outputs": [
    {
     "data": {
      "text/plain": [
       "b\"<!DOCTYPE html>\\n<html xmlns:fb='https://www.facebook.com/2008/fbml' xmlns='https://www.w3.org/1999/xhtml'>\\n<head>\\n<meta content='width=1060' name='viewport'>\\n<meta content='text/html; charset=utf-8' http-equiv='Content-Type'>\\n\\n<meta property='og:title' content='All Entries' />\\n<meta property='og:site_name' content='Know Your Meme' />\\n<meta property='og:image' content='https://a.kym-cdn.com/assets/kym-logo-large-2be3f3818691470a0369e154647ca0f0.png' />\\n<meta property='og:type' content='article' />\\n<meta property='fb:app_id' content='104675392961482' />\\n<meta property='fb:pages' content='88519108736' />\\n<meta property='article:publisher' content='https://www.facebook.com/knowyourmeme' />\\n<meta name='twitter:card' content='summary_large_image' />\\n<meta name='twitter:site' content='@knowyourmeme' />\\n<meta name='twitter:creator' content='@knowyourmeme' />\\n<meta name='twitter:title' content='All Entries' />\\n<meta name='twitter:description' content='Know Your Meme | Our confirmed section feat\""
      ]
     },
     "execution_count": 11,
     "metadata": {},
     "output_type": "execute_result"
    }
   ],
   "source": [
    "html[:1000]"
   ]
  },
  {
   "cell_type": "code",
   "execution_count": 12,
   "metadata": {
    "colab": {
     "base_uri": "https://localhost:8080/"
    },
    "id": "AY0nhvoTFugb",
    "outputId": "bf4ebf37-75f9-4183-ccc1-64ec68ec528d"
   },
   "outputs": [
    {
     "data": {
      "text/plain": [
       "b'ef=\"https://knowyourmeme.com/terms-of-service\" rel=\"nofollow\" target=\"_blank\">terms of use</a> and <a href=\"https://knowyourmeme.com/privacy\" rel=\"nofollow\" target=\"_blank\">privacy policy</a> and <a href=\"https://knowyourmeme.com/dmca\" rel=\"nofollow\" target=\"_blank\">DMCA policy</a>. <br> &copy; 2007-2024 <a href=\"https://literally.media\" target=\"_blank\">Literally Media Ltd.</a> </p> </div> </div>\\n<div class=\\'hide\\'> <div id=\\'login_signup_form\\'> <h3>Yo Yo! You must login or signup first!</h3> <table> <tr> <td class=\\'login\\'> <h6>Already a memeber?</h6> <p><a href=\"https://knowyourmeme.com/login\" class=\"large red button\" rel=\"nofollow\">Login Now!</a></p> </td> <td class=\\'signup\\'> <h6>Don\\'t have an account?</h6> <p><a href=\"https://knowyourmeme.com/signup\" class=\"large red button\" rel=\"nofollow\">Sign up Now!</a></p> </td> </tr> </table> </div> </div> <div class=\\'hide\\' data-sections=\\'Entry Galleries\\' id=\\'chartbeat-sections\\'></div>\\n<div data-group=\"control\" id=\"split-test\" />\\n</body>\\n</html>\\n'"
      ]
     },
     "execution_count": 12,
     "metadata": {},
     "output_type": "execute_result"
    }
   ],
   "source": [
    "html[-1000:]"
   ]
  },
  {
   "cell_type": "code",
   "execution_count": 13,
   "metadata": {
    "colab": {
     "base_uri": "https://localhost:8080/"
    },
    "id": "giRv1imoFugb",
    "outputId": "4b353819-da7a-4690-e382-6ce81aef1f4c"
   },
   "outputs": [
    {
     "data": {
      "text/plain": [
       "46434"
      ]
     },
     "execution_count": 13,
     "metadata": {},
     "output_type": "execute_result"
    }
   ],
   "source": [
    "len(html)"
   ]
  },
  {
   "cell_type": "code",
   "execution_count": 14,
   "metadata": {
    "colab": {
     "base_uri": "https://localhost:8080/"
    },
    "id": "u2fvAtRhFugb",
    "outputId": "7700c748-c3c8-4fea-aba0-ab5a0d6a8bbd"
   },
   "outputs": [
    {
     "data": {
      "text/plain": [
       "bytes"
      ]
     },
     "execution_count": 14,
     "metadata": {},
     "output_type": "execute_result"
    }
   ],
   "source": [
    "type(html)"
   ]
  },
  {
   "cell_type": "markdown",
   "metadata": {
    "id": "x3nssAXqFugb"
   },
   "source": [
    "Выглядит неудобоваримо, как насчет сварить из этого дела что-то покрасивее? Например, красивый суп."
   ]
  },
  {
   "cell_type": "markdown",
   "metadata": {
    "id": "PdL3hXi2Fugc"
   },
   "source": [
    "## 1.4. Красивый суп\n",
    "\n",
    "\n",
    "\n",
    "Пакет **[bs4 , a.k.a BeautifulSoup](https://www.crummy.com/software/BeautifulSoup/)** (тут есть гиперссылка на лучшего друга человека — документацию) был назван в честь стишка про красивый суп из Алисы в стране чудес.\n",
    "\n",
    "Красивый суп — это совершенно волшебная библиотека, которая из сырого и необработанного HTML кода страницы выдаст вам структурированный массив данных, по которому очень удобно искать необходимые теги, классы, атрибуты, тексты и прочие элементы веб страниц.\n",
    "\n",
    "> Пакет под названием `BeautifulSoup` — скорее всего, не то, что нам нужно. Это третья версия (*Beautiful Soup 3*), а мы будем использовать четвертую. Нужно будет установить пакет `beautifulsoup4`. Чтобы было совсем весело, при импорте нужно указывать другое название пакета — `bs4`, а импортировать функцию под названием `BeautifulSoup`. В общем, сначала легко запутаться, но эти трудности нужно преодолеть.\n",
    "\n",
    "С необработанным XML кодом страницы пакет также работает (XML — это исковерканый и превращённый в диалект, с помощью своих команд, HTML). Для того, чтобы пакет корректно работал с XML разметкой, придётся в довесок ко всему нашему арсеналу установить пакет `xml`."
   ]
  },
  {
   "cell_type": "code",
   "execution_count": 15,
   "metadata": {
    "id": "r3iHCGdPFugc"
   },
   "outputs": [],
   "source": [
    "from bs4 import BeautifulSoup"
   ]
  },
  {
   "cell_type": "markdown",
   "metadata": {
    "id": "m1Q5epfiFugc"
   },
   "source": [
    "Передадим функции `BeautifulSoup` текст веб-страницы, которую мы недавно получили."
   ]
  },
  {
   "cell_type": "code",
   "execution_count": 16,
   "metadata": {
    "id": "98tY_xT1Fugc"
   },
   "outputs": [],
   "source": [
    "soup = BeautifulSoup(html, 'html.parser') # В опции также можно указать lxml,\n",
    "                                         # если предварительно установить одноименный пакет"
   ]
  },
  {
   "cell_type": "code",
   "execution_count": 17,
   "metadata": {
    "colab": {
     "base_uri": "https://localhost:8080/"
    },
    "id": "HK5l0uasFugd",
    "outputId": "e0a2a7bf-d38d-429c-f29c-e19cde6aa0e7"
   },
   "outputs": [
    {
     "data": {
      "text/plain": [
       "bs4.BeautifulSoup"
      ]
     },
     "execution_count": 17,
     "metadata": {},
     "output_type": "execute_result"
    }
   ],
   "source": [
    "type(soup)"
   ]
  },
  {
   "cell_type": "code",
   "execution_count": 18,
   "metadata": {
    "colab": {
     "base_uri": "https://localhost:8080/"
    },
    "id": "iytVf49JFugd",
    "outputId": "fe19e445-51ab-4bea-ec6f-7a69f4abbd2f"
   },
   "outputs": [
    {
     "name": "stdout",
     "output_type": "stream",
     "text": [
      "<!DOCTYPE html>\n",
      "<html xmlns=\"https://www.w3.org/1999/xhtml\" xmlns:fb=\"https://www.facebook.com/2008/fbml\">\n",
      " <head>\n",
      "  <meta content=\"width=1060\" name=\"viewport\"/>\n",
      "  <meta content=\"text/html; charset=utf-8\" http-equiv=\"Content-Type\"/>\n",
      "  <meta content=\"All Entries\" property=\"og:title\">\n",
      "   <meta content=\"Know Your Meme\" property=\"og:site_name\">\n",
      "    <meta content=\"https://a.kym-cdn.com/assets/kym-logo-large-2be3f3818691470a0369e154647ca0f0.png\" property=\"og:image\"/>\n",
      "    <meta content=\"article\" property=\"og:type\"/>\n",
      "    <meta content=\"104675392961482\" property=\"fb:app_id\"/>\n",
      "    <meta content=\"88519108736\" property=\"fb:pages\"/>\n",
      "    <meta content=\"https://www.facebook.com/knowyourmeme\" property=\"article:publisher\"/>\n",
      "    <meta content=\"summary_large_image\" name=\"twitter:card\"/>\n",
      "    <meta content=\"@knowyourmeme\" name=\"twitter:site\"/>\n",
      "    <meta content=\"@knowyourmeme\" name=\"twitter:creator\"/>\n",
      "    <meta content=\"All Entries\" name=\"twitter:title\"/>\n",
      "    <meta content=\"Know Your Meme | Our confirmed section features over 1,000 entries on a wide range of Internet-related topics carefully researched and verified by the research staff.\" name=\"twitter:description\"/>\n",
      "    <meta content=\"https://a.kym-cdn.com/assets/kym-logo-large-2be3f3818691470a0369e154647ca0f0.png\" name=\"twitter:image\"/>\n",
      "    <meta content=\"Know Your Meme | Our confirmed section features over 1,000 entries on a wide range of Internet-related topics carefully researched and verified by the research staff.\" name=\"description\"/>\n",
      "    <meta content=\"https://knowyourmeme.com/memes/all/page/1\" property=\"og:url\"/>\n",
      "    <meta content=\"Know Your Meme | Our confirmed section features over 1,000 entries on a wide range of Internet-related topics carefully researched and verified by the research staff.\" property=\"og:description\"/>\n",
      "    <meta content=\"unsafe-url\" name=\"referrer\"/>\n",
      "    <meta content=\"max-image-preview:large\" name=\"robots\"/>\n",
      "    <link href=\"https://knowyourmeme.com/memes/all/page/1\" rel=\"canonical\"/>\n",
      "    <link href=\"http\n"
     ]
    }
   ],
   "source": [
    "print(soup.prettify()[:2000])"
   ]
  },
  {
   "cell_type": "markdown",
   "metadata": {
    "id": "Mq5XZ8V_Fugd"
   },
   "source": [
    "Получим что-то вот такое:\n",
    "    \n",
    "```\n",
    "<!DOCTYPE html>\n",
    "\n",
    "<html xmlns=\"http://www.w3.org/1999/xhtml\" xmlns:fb=\"http://www.facebook.com/2008/fbml\">\n",
    "<head>\n",
    "<meta content=\"text/html; charset=utf-8\" http-equiv=\"Content-Type\"/>\n",
    "<script type=\"text/javascript\">window.NREUM||(NREUM={});NREUM.info={\"beacon\":\"bam.nr-data.net\",\"errorBeacon\":\"bam.nr-data.net\",\"licenseKey\":\"c1a6d52f38\",\"applicationID\":\"31165848\",\"transactionName\":\"dFdfRUpeWglTQB8GDUNKWFRLHkUNWUU=\",\"queueTime\":0,\"applicationTime\":24,\"agent\":\"\"}</script>\n",
    "<script type=\"text/javascript\">window.NREUM||(NREUM={}),__nr_require=function(e,n,t){function r(t){if(!n[t]){var o=n[t]={exports:{}};e[t][0].call(o.exports,function(n){var o=e[t][1][n];return r(o||n)},o,o.exports)}return n[t].exports}if(\"function\"==typeof __nr_require)return __nr_require;for(var o=0;o<t.length;o++)r(t[o]);return r}({1:[function(e,n,t){function r(){}function o(e,n,t){return function(){return i(e,[c.now()].concat(u(arguments)),n?null:this,t),n?void 0:this}}var i=e(\"handle\"),a=e(2),u=e(3),f=e(\"ee\").get(\"tracer\"),c=e(\"loader\"),s=NREUM;\"undefined\"==typeof window.newrelic&&(newrelic=s);var p=\n",
    "```\n",
    "\n",
    "Стало намного лучше, не правда ли? Что же лежит в переменной `soup`? Невнимательный пользователь, скорее всего, скажет,что ничего вообще не изменилось. Тем не менее, это не так. Теперь мы можем свободно бродить по HTML-дереву страницы, искать детей, родителей и вытаскивать их!\n",
    "\n",
    "Например, можно бродить по вершинам, указывая путь из тегов."
   ]
  },
  {
   "cell_type": "code",
   "execution_count": 19,
   "metadata": {
    "colab": {
     "base_uri": "https://localhost:8080/"
    },
    "id": "uNVZ0sjjFugd",
    "outputId": "4409c9cf-422e-45c6-b337-0d0ca6415112"
   },
   "outputs": [
    {
     "data": {
      "text/plain": [
       "<title>All Entries | Know Your Meme</title>"
      ]
     },
     "execution_count": 19,
     "metadata": {},
     "output_type": "execute_result"
    }
   ],
   "source": [
    "soup.html.head.title"
   ]
  },
  {
   "cell_type": "code",
   "execution_count": 20,
   "metadata": {
    "colab": {
     "base_uri": "https://localhost:8080/"
    },
    "id": "EfEDt9dVFugd",
    "outputId": "d036f7a1-82f0-4400-fb9b-86723f47524b"
   },
   "outputs": [
    {
     "data": {
      "text/plain": [
       "bs4.element.Tag"
      ]
     },
     "execution_count": 20,
     "metadata": {},
     "output_type": "execute_result"
    }
   ],
   "source": [
    "type(soup.html.head.title)"
   ]
  },
  {
   "cell_type": "markdown",
   "metadata": {
    "id": "KoR4X92NFuge"
   },
   "source": [
    "Можно вытащить из того места, куда мы забрели, текст с помощью метода `text`."
   ]
  },
  {
   "cell_type": "code",
   "execution_count": 21,
   "metadata": {
    "colab": {
     "base_uri": "https://localhost:8080/",
     "height": 35
    },
    "id": "14svOurWFuge",
    "outputId": "5768ce47-76e2-4841-c2d3-e17d932c984b",
    "scrolled": true
   },
   "outputs": [
    {
     "data": {
      "application/vnd.google.colaboratory.intrinsic+json": {
       "type": "string"
      },
      "text/plain": [
       "'All Entries | Know Your Meme'"
      ]
     },
     "execution_count": 21,
     "metadata": {},
     "output_type": "execute_result"
    }
   ],
   "source": [
    "soup.html.head.title.text"
   ]
  },
  {
   "cell_type": "code",
   "execution_count": 22,
   "metadata": {
    "colab": {
     "base_uri": "https://localhost:8080/"
    },
    "id": "Jx0A2KLFtJJk",
    "outputId": "be796ec3-edb6-444a-a469-2126392c978a"
   },
   "outputs": [
    {
     "data": {
      "text/plain": [
       "str"
      ]
     },
     "execution_count": 22,
     "metadata": {},
     "output_type": "execute_result"
    }
   ],
   "source": [
    "type(soup.html.head.title.text)"
   ]
  },
  {
   "cell_type": "markdown",
   "metadata": {
    "id": "5RHnScSLFuge"
   },
   "source": [
    "Более того, зная адрес элемента, мы сразу можем найти его. Например, можно сделать это по классу. Следующая команда должна найти элемент, который лежит внутри тега `a` и имеет класс `photo`."
   ]
  },
  {
   "cell_type": "code",
   "execution_count": 23,
   "metadata": {
    "colab": {
     "base_uri": "https://localhost:8080/"
    },
    "id": "bKogk1QCFuge",
    "outputId": "5583da06-2cd7-405c-ae82-7e4314f38bc3"
   },
   "outputs": [
    {
     "data": {
      "text/plain": [
       "<a class=\"photo left\" href=\"https://knowyourmeme.com/memes/events/mizkif-assaulting-mitch-jones-allegations\" target=\"_self\"><img alt=\"Mitch Jones Uses Video Footage To Allege Fellow Streamer Mizkif Assaulted Him And Inflicted Serious Injuries\" fetchpriority=\"low\" height=\"112\" src=\"https://i.kym-cdn.com/featured_items/icons/wide/000/022/918/1.jpg\" title=\"Mitch Jones Uses Video Footage To Allege Fellow Streamer Mizkif Assaulted Him And Inflicted Serious Injuries\" width=\"198\"/> <div class=\"info abs\"> <div class=\"c\"> Mitch Jones Uses Video Footage To Allege Fellow Streamer Mizkif Assaulted Him And Inflicted Serious Injuries </div> </div> </a>"
      ]
     },
     "execution_count": 23,
     "metadata": {},
     "output_type": "execute_result"
    }
   ],
   "source": [
    "obj = soup.find('a', attrs = {'class':'photo'})\n",
    "obj"
   ]
  },
  {
   "cell_type": "code",
   "execution_count": 24,
   "metadata": {
    "colab": {
     "base_uri": "https://localhost:8080/"
    },
    "id": "9J95jG8gFuge",
    "outputId": "cb198f4d-be74-4729-b26b-96b33ee28748"
   },
   "outputs": [
    {
     "data": {
      "text/plain": [
       "['photo', 'left']"
      ]
     },
     "execution_count": 24,
     "metadata": {},
     "output_type": "execute_result"
    }
   ],
   "source": [
    "obj.get(\"class\")"
   ]
  },
  {
   "cell_type": "markdown",
   "metadata": {
    "id": "Kkkh8JNGFuge"
   },
   "source": [
    "Однако, вопреки нашим ожиданиям, вытащенный объект имеет класс `\"photo left\"`. Оказывается, `BeautifulSoup4` расценивает аттрибуты `class` как набор отдельных значений, поэтому `\"photo left\"` для библиотеки равносильно `[\"photo\", \"left\"]`, а указанное нами значение этого класса `\"photo\"` входит в этот список. Чтобы избежать такой неприятной ситуации и проходов по ненужным нам ссылкам, придется воспользоваться собственной функцией и задать строгое соответствие:"
   ]
  },
  {
   "cell_type": "code",
   "execution_count": 25,
   "metadata": {
    "colab": {
     "base_uri": "https://localhost:8080/"
    },
    "id": "KGY09M4nFugf",
    "outputId": "fb3cdf0d-588d-4c3e-dd8e-314fc16d3952"
   },
   "outputs": [
    {
     "data": {
      "text/plain": [
       "True"
      ]
     },
     "execution_count": 25,
     "metadata": {},
     "output_type": "execute_result"
    }
   ],
   "source": [
    "'photo' in ['photo', 'left']"
   ]
  },
  {
   "cell_type": "code",
   "execution_count": 26,
   "metadata": {
    "colab": {
     "base_uri": "https://localhost:8080/"
    },
    "id": "vPIag13NFugf",
    "outputId": "ecc3e4f3-91cb-43fc-81db-66cb0b01b9ac"
   },
   "outputs": [
    {
     "data": {
      "text/plain": [
       "<a class=\"photo\" href=\"https://knowyourmeme.com/memes/people/bianca-censori\"><img alt=\"Kanye West and Bianca Censori\" data-src=\"https://i.kym-cdn.com/entries/icons/medium/000/048/347/Thumbnail_template_-_2024-02-09T055451.272.jpg\" loading=\"lazy\" src=\"https://a.kym-cdn.com/assets/blank-b3f96f160b75b1b49b426754ba188fe8.gif\" title=\"Bianca Censori\"/> <div class=\"entry-labels\"> <span class=\"label label-submission\"> Submission </span> <span class=\"label\" style=\"background: #d32f2e; color: white;\">Person</span> </div> </a>"
      ]
     },
     "execution_count": 26,
     "metadata": {},
     "output_type": "execute_result"
    }
   ],
   "source": [
    "obj = soup.find(lambda tag: tag.name == 'a' and tag.get('class') == ['photo'])\n",
    "obj"
   ]
  },
  {
   "cell_type": "code",
   "execution_count": 27,
   "metadata": {
    "colab": {
     "base_uri": "https://localhost:8080/"
    },
    "id": "5PLa79QRFugf",
    "outputId": "42d4605a-b4a7-48c8-8956-30ca64308492"
   },
   "outputs": [
    {
     "data": {
      "text/plain": [
       "['photo']"
      ]
     },
     "execution_count": 27,
     "metadata": {},
     "output_type": "execute_result"
    }
   ],
   "source": [
    "obj.get(\"class\")"
   ]
  },
  {
   "cell_type": "code",
   "execution_count": 28,
   "metadata": {
    "colab": {
     "base_uri": "https://localhost:8080/"
    },
    "id": "p5BAc0fEFugf",
    "outputId": "b480c33a-7d33-47f9-88bb-d95b50ac4bcc"
   },
   "outputs": [
    {
     "data": {
      "text/plain": [
       "<a class=\"photo\" href=\"https://knowyourmeme.com/memes/people/bianca-censori\"><img alt=\"Kanye West and Bianca Censori\" data-src=\"https://i.kym-cdn.com/entries/icons/medium/000/048/347/Thumbnail_template_-_2024-02-09T055451.272.jpg\" loading=\"lazy\" src=\"https://a.kym-cdn.com/assets/blank-b3f96f160b75b1b49b426754ba188fe8.gif\" title=\"Bianca Censori\"/> <div class=\"entry-labels\"> <span class=\"label label-submission\"> Submission </span> <span class=\"label\" style=\"background: #d32f2e; color: white;\">Person</span> </div> </a>"
      ]
     },
     "execution_count": 28,
     "metadata": {},
     "output_type": "execute_result"
    }
   ],
   "source": [
    "obj"
   ]
  },
  {
   "cell_type": "markdown",
   "metadata": {
    "id": "rXsWLWTmFugf"
   },
   "source": [
    "Полученный после поиска объект также обладает структурой bs4. Поэтому можно продолжить искать нужные нам объекты уже в нём! Вытащим ссылку на этот мем. Сделать это можно по атрибуту `href`, в котором лежит наша ссылка."
   ]
  },
  {
   "cell_type": "code",
   "execution_count": 29,
   "metadata": {
    "colab": {
     "base_uri": "https://localhost:8080/",
     "height": 35
    },
    "id": "ADWulcegFugg",
    "outputId": "7ad9b93b-1166-42bd-f82c-56cfeb99707e"
   },
   "outputs": [
    {
     "data": {
      "application/vnd.google.colaboratory.intrinsic+json": {
       "type": "string"
      },
      "text/plain": [
       "'https://knowyourmeme.com/memes/people/bianca-censori'"
      ]
     },
     "execution_count": 29,
     "metadata": {},
     "output_type": "execute_result"
    }
   ],
   "source": [
    "obj.attrs['href']"
   ]
  },
  {
   "cell_type": "markdown",
   "metadata": {
    "id": "iB43fXxDFugg"
   },
   "source": [
    "Обратите внимание, что после всех этих безумных преобразований у данных поменялся тип. Теперь они `str`. Это означет, что с ними можно работать как с текстом и пускать в ход для отсеивания лишней информации регулярные выражения."
   ]
  },
  {
   "cell_type": "code",
   "execution_count": 30,
   "metadata": {
    "colab": {
     "base_uri": "https://localhost:8080/"
    },
    "id": "5-0EDpR_Fugg",
    "outputId": "ee916532-d1ed-4c2a-febd-e0940a7832c6"
   },
   "outputs": [
    {
     "name": "stdout",
     "output_type": "stream",
     "text": [
      "Тип данных до вытаскивания ссылки: <class 'bs4.element.Tag'>\n",
      "Тип данных после вытаскивания ссылки: <class 'str'>\n"
     ]
    }
   ],
   "source": [
    "print(\"Тип данных до вытаскивания ссылки:\", type(obj))\n",
    "print(\"Тип данных после вытаскивания ссылки:\", type(obj.attrs['href']))"
   ]
  },
  {
   "cell_type": "markdown",
   "metadata": {
    "id": "jr_4IjurFugg"
   },
   "source": [
    "Если несколько элементов на странице обладают указанным адресом, то метод `find` вернёт только самый первый.  Чтобы найти все элементы с таким адресом, нужно использовать метод `findAll`, и на выход будет выдан список. Таким образом, мы можем получить одним поиском сразу все объекты, содержащие ссылки на страницы с мемами."
   ]
  },
  {
   "cell_type": "code",
   "execution_count": 31,
   "metadata": {
    "colab": {
     "base_uri": "https://localhost:8080/"
    },
    "id": "Hq8RXn5cFugg",
    "outputId": "f70b405e-b8bb-4bba-fc47-cf406daba123"
   },
   "outputs": [
    {
     "data": {
      "text/plain": [
       "[<a class=\"photo\" href=\"https://knowyourmeme.com/memes/people/bianca-censori\"><img alt=\"Kanye West and Bianca Censori\" data-src=\"https://i.kym-cdn.com/entries/icons/medium/000/048/347/Thumbnail_template_-_2024-02-09T055451.272.jpg\" loading=\"lazy\" src=\"https://a.kym-cdn.com/assets/blank-b3f96f160b75b1b49b426754ba188fe8.gif\" title=\"Bianca Censori\"/> <div class=\"entry-labels\"> <span class=\"label label-submission\"> Submission </span> <span class=\"label\" style=\"background: #d32f2e; color: white;\">Person</span> </div> </a>,\n",
       " <a class=\"photo\" href=\"https://knowyourmeme.com/memes/taylor-swift-jetting-everywhere\"><img alt=\"Taylor Swift Jetting Everywhere\" data-src=\"https://i.kym-cdn.com/entries/icons/medium/000/048/346/cover15.jpg\" loading=\"lazy\" src=\"https://a.kym-cdn.com/assets/blank-b3f96f160b75b1b49b426754ba188fe8.gif\" title=\"Taylor Swift Jetting Everywhere\"/> <div class=\"entry-labels\"> <span class=\"label label-submission\"> Submission </span> </div> </a>,\n",
       " <a class=\"photo\" href=\"https://knowyourmeme.com/memes/people-getting-arrested-over-big-boots\"><img alt=\"People Getting Arrested Over Big Boots\" data-src=\"https://i.kym-cdn.com/entries/icons/medium/000/048/345/cover14.jpg\" loading=\"lazy\" src=\"https://a.kym-cdn.com/assets/blank-b3f96f160b75b1b49b426754ba188fe8.gif\" title=\"People Getting Arrested Over Big Boots\"/> <div class=\"entry-labels\"> <span class=\"label label-submission\"> Submission </span> </div> </a>]"
      ]
     },
     "execution_count": 31,
     "metadata": {},
     "output_type": "execute_result"
    }
   ],
   "source": [
    "meme_links = soup.findAll(lambda tag: tag.name == 'a' and tag.get('class') == ['photo'])\n",
    "meme_links[:3]"
   ]
  },
  {
   "cell_type": "code",
   "execution_count": 32,
   "metadata": {
    "colab": {
     "base_uri": "https://localhost:8080/"
    },
    "id": "-wZ2TuUeFugg",
    "outputId": "a2311bf5-68c8-46e8-8256-b469c4568d4b"
   },
   "outputs": [
    {
     "data": {
      "text/plain": [
       "16"
      ]
     },
     "execution_count": 32,
     "metadata": {},
     "output_type": "execute_result"
    }
   ],
   "source": [
    "len(meme_links)"
   ]
  },
  {
   "cell_type": "markdown",
   "metadata": {
    "id": "MAJ9yyQxFugh"
   },
   "source": [
    "Осталось очистить полученный список от мусора:"
   ]
  },
  {
   "cell_type": "code",
   "execution_count": 33,
   "metadata": {
    "id": "xVeWPcC2Fugh"
   },
   "outputs": [],
   "source": [
    "meme_links = [link.attrs['href'] for link in meme_links]"
   ]
  },
  {
   "cell_type": "code",
   "execution_count": 34,
   "metadata": {
    "colab": {
     "base_uri": "https://localhost:8080/"
    },
    "id": "R9_2SeUuFugh",
    "outputId": "ffe98c8d-65d4-4332-866d-60d79f4f5a05"
   },
   "outputs": [
    {
     "data": {
      "text/plain": [
       "['https://knowyourmeme.com/memes/people/bianca-censori',\n",
       " 'https://knowyourmeme.com/memes/taylor-swift-jetting-everywhere',\n",
       " 'https://knowyourmeme.com/memes/people-getting-arrested-over-big-boots',\n",
       " 'https://knowyourmeme.com/memes/hey-are-you-listening-yeh',\n",
       " 'https://knowyourmeme.com/memes/events/nikita-draguns-arrest',\n",
       " 'https://knowyourmeme.com/memes/events/funimation-shutdown',\n",
       " 'https://knowyourmeme.com/memes/draw-the-squad-playing-monopoly',\n",
       " 'https://knowyourmeme.com/memes/what-a-nerd-we-always-loved-this',\n",
       " 'https://knowyourmeme.com/memes/sad-baby-monkey',\n",
       " 'https://knowyourmeme.com/memes/tekken-8-kazuya-finale-parodies']"
      ]
     },
     "execution_count": 34,
     "metadata": {},
     "output_type": "execute_result"
    }
   ],
   "source": [
    "meme_links[:10]"
   ]
  },
  {
   "cell_type": "code",
   "execution_count": 35,
   "metadata": {
    "colab": {
     "base_uri": "https://localhost:8080/"
    },
    "id": "_P5kFv5FFugh",
    "outputId": "4ec06f55-420a-42e8-a787-6544e1a6d522"
   },
   "outputs": [
    {
     "data": {
      "text/plain": [
       "16"
      ]
     },
     "execution_count": 35,
     "metadata": {},
     "output_type": "execute_result"
    }
   ],
   "source": [
    "len(meme_links)"
   ]
  },
  {
   "cell_type": "markdown",
   "metadata": {
    "id": "rL-MDp53Fugh"
   },
   "source": [
    "Готово, получили чуть менее 20 по числу мемов на одной странице поиска.\n",
    "\n",
    "\n",
    "Остался последний момент. Когда мы скачаем все мемы с текущей страницы, нам нужно будет каким-то образом забраться на соседнюю. На сайте это можно делать просто пролистывая страницу с мемами вниз, javascript-функции подтянут новые мемы на текущее окно, но сейчас трогать эти функции не хочется.\n",
    "\n",
    "Обычно, все параметры, которые мы устанавливаем на сайте для поиска, отображаются на структуре хрефа. Мемы не являются исключением. Если мы хотим получить первую порцию мемов, мы должны будем обратиться к сайту по ссылке\n",
    "\n",
    "                `http://knowyourmeme.com/memes/all/page/1`\n",
    "\n",
    "\n",
    "Если мы захотим получить вторую поцию с шестнадцатью мемами, нам придётся немного видоизменить ссылку, а именно заменить номер страницы на 2.\n",
    "\n",
    "\n",
    "                `http://knowyourmeme.com/memes/all/page/2`\n",
    "\n",
    "Таким незатейливым образом мы сможем пройтись по всем страницам и ограбить мемохранилище.\n",
    "\n",
    "Наконец, обернем в красивую функцию все-все манипуляции, проделанные выше:"
   ]
  },
  {
   "cell_type": "code",
   "execution_count": 36,
   "metadata": {
    "code_folding": [],
    "id": "iwKbhgBuFugh"
   },
   "outputs": [],
   "source": [
    "def getPageLinks(page_number):\n",
    "    \"\"\"\n",
    "        Возвращает список ссылок на мемы, полученный с текущей страницы\n",
    "\n",
    "        page_number: int/string\n",
    "            номер страницы для парсинга\n",
    "\n",
    "    \"\"\"\n",
    "    # составляем ссылку на страницу поиска\n",
    "    page_link = 'http://knowyourmeme.com/memes/all/page/{}'.format(page_number)\n",
    "\n",
    "    # запрашиваем данные по ней\n",
    "    response = requests.get(page_link, headers={'User-Agent': UserAgent().chrome})\n",
    "\n",
    "    if not response.ok:\n",
    "        # если сервер нам отказал, вернем пустой лист для текущей страницы\n",
    "        return []\n",
    "\n",
    "    # получаем содержимое страницы и переводим в суп\n",
    "    html = response.content\n",
    "    soup = BeautifulSoup(html,'html.parser')\n",
    "\n",
    "    # наконец, ищем ссылки на мемы и очищаем их от ненужных тэгов\n",
    "    meme_links = soup.findAll(lambda tag: tag.name == 'a' and tag.get('class') == ['photo'])\n",
    "    meme_links = ['http://knowyourmeme.com' + link.attrs['href'] for link in meme_links]\n",
    "\n",
    "    return meme_links"
   ]
  },
  {
   "cell_type": "markdown",
   "metadata": {
    "id": "tapV9bsDFugi"
   },
   "source": [
    "Протестируем функцию и убедимся, что всё хорошо"
   ]
  },
  {
   "cell_type": "code",
   "execution_count": 37,
   "metadata": {
    "colab": {
     "base_uri": "https://localhost:8080/"
    },
    "id": "LQ3QNzNJFugi",
    "outputId": "a3236c4a-5a3f-495e-bf3e-114b7f8dbef9"
   },
   "outputs": [
    {
     "data": {
      "text/plain": [
       "['http://knowyourmeme.comhttps://knowyourmeme.com/memes/people/bianca-censori',\n",
       " 'http://knowyourmeme.comhttps://knowyourmeme.com/memes/taylor-swift-jetting-everywhere']"
      ]
     },
     "execution_count": 37,
     "metadata": {},
     "output_type": "execute_result"
    }
   ],
   "source": [
    "meme_links = getPageLinks(1)\n",
    "meme_links[:2]"
   ]
  },
  {
   "cell_type": "code",
   "execution_count": 38,
   "metadata": {
    "colab": {
     "base_uri": "https://localhost:8080/"
    },
    "id": "q3QfW4_VFugi",
    "outputId": "9783d9f2-c266-45ad-89ca-ad7ab07de400"
   },
   "outputs": [
    {
     "data": {
      "text/plain": [
       "['http://knowyourmeme.comhttps://knowyourmeme.com/memes/events/counter-strike-2-gun-sticker-controversy',\n",
       " 'http://knowyourmeme.comhttps://knowyourmeme.com/memes/bad-word-bathroom-challenge']"
      ]
     },
     "execution_count": 38,
     "metadata": {},
     "output_type": "execute_result"
    }
   ],
   "source": [
    "meme_links = getPageLinks(2)\n",
    "meme_links[:2]"
   ]
  },
  {
   "cell_type": "markdown",
   "metadata": {
    "id": "KlqMT1cOFugi"
   },
   "source": [
    "Отлично, функция работает и теперь мы теоретически можем достать ссылки на все мемы, для чего нам придется пройтись по 2000+ страниц. Прежде чем расстраивать сервер таким количеством запросов, посмотрим, как доставать всю необходимую информацию о конкретном меме."
   ]
  },
  {
   "cell_type": "markdown",
   "metadata": {
    "id": "YYjuK9I-Fugj"
   },
   "source": [
    "## 1.5 Финальная подготовка к грабежу\n",
    "\n",
    "По аналогии со ссылками можно вытащить что угодно. Для этого надо сделать несколько шагов:\n",
    "\n",
    "1. Открываем страничку с мемом\n",
    "2. Находим любым способом тег для нужной нам информации\n",
    "3. Пихаем всё это в красивый суп\n",
    "4. ......\n",
    "5. Profit\n",
    "\n",
    "Для закрепления информации в голове любознательного читателя, вытащим число просмотров мема.\n",
    "\n",
    "А в качестве примера возьмем самый популярный на этом сайте мем - Doge, набравший более 14 миллионов просмотров к 2023 году.\n",
    "\n",
    "Сама страница, с которой мы будем доставать дорогую нашему исследовательскому сердцу информацию выглядит следуюшим образом:\n",
    "\n",
    "\n",
    "\n",
    "Как и прежде, для начала сохраним ссылку на страницу в переменную и вытащим по ней контент."
   ]
  },
  {
   "cell_type": "code",
   "execution_count": 39,
   "metadata": {
    "colab": {
     "base_uri": "https://localhost:8080/",
     "height": 35
    },
    "id": "-2UDRrZWxGE4",
    "outputId": "b7349813-b90b-4919-c9bc-ad6a1e469d03"
   },
   "outputs": [
    {
     "data": {
      "application/vnd.google.colaboratory.intrinsic+json": {
       "type": "string"
      },
      "text/plain": [
       "'http://knowyourmeme.com/memes/doge'"
      ]
     },
     "execution_count": 39,
     "metadata": {},
     "output_type": "execute_result"
    }
   ],
   "source": [
    "meme_page = 'http://knowyourmeme.com/memes/doge'\n",
    "meme_page"
   ]
  },
  {
   "cell_type": "code",
   "execution_count": 40,
   "metadata": {
    "id": "zOuKDQXzFugj"
   },
   "outputs": [],
   "source": [
    "meme_page = 'http://knowyourmeme.com/memes/doge'\n",
    "\n",
    "response = requests.get(meme_page, headers={'User-Agent': UserAgent().chrome})\n",
    "\n",
    "html = response.content\n",
    "soup = BeautifulSoup(html,'html.parser')"
   ]
  },
  {
   "cell_type": "markdown",
   "metadata": {
    "id": "uZiSTmkeFugj"
   },
   "source": [
    "Посмотрим, как можно вытащить статистику просмотров, комментариев, а также числа загруженных видео и фото, связанных с нашим мемов. Всё это добро хранится справа вверху под тэгами `\"dd\"` и с классами  `\"views\"`, `\"videos\"`, `\"photos\"` и `\"comments\"`"
   ]
  },
  {
   "cell_type": "code",
   "execution_count": 41,
   "metadata": {
    "colab": {
     "base_uri": "https://localhost:8080/"
    },
    "id": "EElJ6Qh-Fugj",
    "outputId": "011402db-1b67-4a1a-a7c3-10ac1b957e98"
   },
   "outputs": [
    {
     "data": {
      "text/plain": [
       "<dd class=\"views\" title=\"14,121,050 Views\">\n",
       "<a href=\"/memes/doge\" rel=\"nofollow\">14,121,050</a>\n",
       "</dd>"
      ]
     },
     "execution_count": 41,
     "metadata": {},
     "output_type": "execute_result"
    }
   ],
   "source": [
    "views = soup.find(attrs={'class':'views'})\n",
    "views"
   ]
  },
  {
   "cell_type": "code",
   "execution_count": 42,
   "metadata": {
    "colab": {
     "base_uri": "https://localhost:8080/"
    },
    "id": "grO3KfulFugj",
    "outputId": "49e146ba-8551-4b4e-9def-3abbb6ea9078"
   },
   "outputs": [
    {
     "data": {
      "text/plain": [
       "bs4.element.Tag"
      ]
     },
     "execution_count": 42,
     "metadata": {},
     "output_type": "execute_result"
    }
   ],
   "source": [
    "type(views)"
   ]
  },
  {
   "cell_type": "code",
   "execution_count": 43,
   "metadata": {
    "colab": {
     "base_uri": "https://localhost:8080/"
    },
    "id": "nIUpGs5WFugj",
    "outputId": "c4ca18a7-86fa-44bf-83ba-a14ab63569c3"
   },
   "outputs": [
    {
     "data": {
      "text/plain": [
       "str"
      ]
     },
     "execution_count": 43,
     "metadata": {},
     "output_type": "execute_result"
    }
   ],
   "source": [
    "views = views.get(\"title\")\n",
    "type(views)"
   ]
  },
  {
   "cell_type": "code",
   "execution_count": 44,
   "metadata": {
    "colab": {
     "base_uri": "https://localhost:8080/",
     "height": 35
    },
    "id": "E5WT3Pwm_7ej",
    "outputId": "8d65eb30-79f1-46e7-99e0-a90ea511fbd5"
   },
   "outputs": [
    {
     "data": {
      "application/vnd.google.colaboratory.intrinsic+json": {
       "type": "string"
      },
      "text/plain": [
       "'14,121,050 Views'"
      ]
     },
     "execution_count": 44,
     "metadata": {},
     "output_type": "execute_result"
    }
   ],
   "source": [
    "views"
   ]
  },
  {
   "cell_type": "code",
   "execution_count": 45,
   "metadata": {
    "colab": {
     "base_uri": "https://localhost:8080/"
    },
    "id": "rgqmnrWPFugk",
    "outputId": "d49fa0a7-9966-4d9c-e9ea-d4d9129b6916"
   },
   "outputs": [
    {
     "data": {
      "text/plain": [
       "['14,121,050', 'Views']"
      ]
     },
     "execution_count": 45,
     "metadata": {},
     "output_type": "execute_result"
    }
   ],
   "source": [
    "views.split()"
   ]
  },
  {
   "cell_type": "code",
   "execution_count": 46,
   "metadata": {
    "colab": {
     "base_uri": "https://localhost:8080/",
     "height": 35
    },
    "id": "NbcAbXwmFugk",
    "outputId": "a365c5c7-984f-4c1e-8a9d-68a0a2701304"
   },
   "outputs": [
    {
     "data": {
      "application/vnd.google.colaboratory.intrinsic+json": {
       "type": "string"
      },
      "text/plain": [
       "'14,121,050'"
      ]
     },
     "execution_count": 46,
     "metadata": {},
     "output_type": "execute_result"
    }
   ],
   "source": [
    "views = views.split()[0]\n",
    "views"
   ]
  },
  {
   "cell_type": "code",
   "execution_count": 47,
   "metadata": {
    "colab": {
     "base_uri": "https://localhost:8080/"
    },
    "id": "wq2LFwaTFugk",
    "outputId": "1cd7d8ae-b8d3-46c5-d7bc-b878633b4121"
   },
   "outputs": [
    {
     "data": {
      "text/plain": [
       "14121050"
      ]
     },
     "execution_count": 47,
     "metadata": {},
     "output_type": "execute_result"
    }
   ],
   "source": [
    "views = int(views.replace(',', ''))\n",
    "views"
   ]
  },
  {
   "cell_type": "markdown",
   "metadata": {
    "id": "K07DBjbhFugk"
   },
   "source": [
    "Снова запихнём всё это в небольшую функцию."
   ]
  },
  {
   "cell_type": "code",
   "execution_count": 48,
   "metadata": {
    "code_folding": [],
    "id": "9-oozJZ_Fugk"
   },
   "outputs": [],
   "source": [
    "def getStats(soup, stats):\n",
    "    \"\"\"\n",
    "        Возвращает очищенное число просмотров/коментариев/...\n",
    "\n",
    "        soup: объект bs4.BeautifulSoup\n",
    "            суп текущей страницы\n",
    "\n",
    "        stats: string\n",
    "            views/videos/photos/comments\n",
    "\n",
    "    \"\"\"\n",
    "    try:\n",
    "        obj = soup.find(attrs={'class':stats})\n",
    "        obj = obj.get(\"title\")\n",
    "        obj = obj.split()[0]\n",
    "        obj = int(obj.replace(',', ''))\n",
    "    except:\n",
    "        obj=None\n",
    "\n",
    "    return obj"
   ]
  },
  {
   "cell_type": "markdown",
   "metadata": {
    "id": "AEzpeek6Fugk"
   },
   "source": [
    "Всё готово!"
   ]
  },
  {
   "cell_type": "code",
   "execution_count": 49,
   "metadata": {
    "colab": {
     "base_uri": "https://localhost:8080/"
    },
    "id": "KuwKRqxKFugl",
    "outputId": "99c5171e-0650-44e7-a6f9-310e55619800"
   },
   "outputs": [
    {
     "name": "stdout",
     "output_type": "stream",
     "text": [
      "Просмотры: 14121050\n",
      "Видео: 105\n",
      "Фото: 1795\n",
      "Комментарии: 923\n"
     ]
    }
   ],
   "source": [
    "views = getStats(soup, stats='views')\n",
    "videos = getStats(soup, stats='videos')\n",
    "photos = getStats(soup, stats='photos')\n",
    "comments = getStats(soup, stats='comments')\n",
    "\n",
    "print(\"Просмотры: {}\\nВидео: {}\\nФото: {}\\nКомментарии: {}\".format(views, videos, photos, comments))"
   ]
  },
  {
   "cell_type": "markdown",
   "metadata": {
    "id": "YmbdyVmzFugl"
   },
   "source": [
    "Еще из интересного и исследовательского —  достанем дату и время добавления мема. Если посмотреть на страницу в браузере, можно подумать, что максимум информации, который мы можем вытащить - это число лет, прошедших с момента публикации —  `Added 9 years ago by NovaXP`. Однако мы так просто сдаваться не будем, полезем в кишки html и откопаем там кусок, ответственный за эту надпись:\n",
    "\n",
    "\n",
    "\n",
    "Ага! Вот и подробности по дате добавления, с точностью до минуты. Элементарно"
   ]
  },
  {
   "cell_type": "code",
   "execution_count": 50,
   "metadata": {
    "colab": {
     "base_uri": "https://localhost:8080/",
     "height": 35
    },
    "id": "7iovlNyGFugl",
    "outputId": "09f93c46-caf7-46f8-8bf9-58323cc0ce61"
   },
   "outputs": [
    {
     "data": {
      "application/vnd.google.colaboratory.intrinsic+json": {
       "type": "string"
      },
      "text/plain": [
       "'2013-07-24T16:29:55-04:00'"
      ]
     },
     "execution_count": 50,
     "metadata": {},
     "output_type": "execute_result"
    }
   ],
   "source": [
    "date = soup.findAll('abbr', attrs={'class':'timeago'})[1].attrs['title']\n",
    "date"
   ]
  },
  {
   "cell_type": "markdown",
   "metadata": {
    "id": "9ZARMk2UFugl"
   },
   "source": [
    "На самом деле, парсеры — дело непредсказуемое. Часто страницы, которые мы парсим, имеют очень неоднородну структуру. Например, если мы парсим мемы, на части страниц может быть указано описание, а на части нет. Как только код впервые натыкается на отсутствие описания, он выдаёт ошибку и останавливается. Чтобы нормально собрать все данные, приходится прописывать исключения. Вроде бы, хранилище мемов хорошо оборудовано и никаких внештатных ситуаций происходить не должно. Тем не менее, очень не хочется проснуться утром и увидеть, что код сделал 20 итераций, нарвался на ошибку и отрубился.  Чтобы такого не произошло, можно, например, использовать конструкцию `try - except` и просто обрабатывать неугодные нам ошибки. Про исключения можно почитать [на просторах интернета](https://pythonworld.ru/tipy-dannyx-v-python/isklyucheniya-v-python-konstrukciya-try-except-dlya-obrabotki-isklyuchenij.html). В нашем же случае до ошибки можно и не доводить, а предварительно проверять, есть ли необходимый элемент на странице или нет при помощи обычного `if - else`, и уже после этого пытаться его распарсить.\n",
    "\n"
   ]
  },
  {
   "cell_type": "markdown",
   "metadata": {
    "id": "VbRkaP7qFugm"
   },
   "source": [
    "## Truthy & Falsy python\n",
    "[Подробнее](https://www.freecodecamp.org/news/truthy-and-falsy-values-in-python/)"
   ]
  },
  {
   "cell_type": "code",
   "execution_count": 51,
   "metadata": {
    "colab": {
     "base_uri": "https://localhost:8080/"
    },
    "id": "3JhYh_tLFugm",
    "outputId": "ad648169-b8ff-45c3-f4cc-8062893fd9b0"
   },
   "outputs": [
    {
     "name": "stdout",
     "output_type": "stream",
     "text": [
      "2\n"
     ]
    }
   ],
   "source": [
    "a = None\n",
    "if a:\n",
    "    print(1)\n",
    "else:\n",
    "    print(2)"
   ]
  },
  {
   "cell_type": "code",
   "execution_count": 52,
   "metadata": {
    "colab": {
     "base_uri": "https://localhost:8080/"
    },
    "id": "F3Oi5E71Fugm",
    "outputId": "1f28db42-87d4-408e-f852-ddd2f1e49d2b"
   },
   "outputs": [
    {
     "name": "stdout",
     "output_type": "stream",
     "text": [
      "1\n"
     ]
    }
   ],
   "source": [
    "if [1, 2, 3]:\n",
    "    print(1)\n",
    "else:\n",
    "    print(2)"
   ]
  },
  {
   "cell_type": "code",
   "execution_count": 53,
   "metadata": {
    "colab": {
     "base_uri": "https://localhost:8080/"
    },
    "id": "-MQUkh72Fugm",
    "outputId": "fa6f56de-4cbf-435e-f492-dd40fccbce50"
   },
   "outputs": [
    {
     "name": "stdout",
     "output_type": "stream",
     "text": [
      "2\n"
     ]
    }
   ],
   "source": [
    "if []:\n",
    "    print(1)\n",
    "else:\n",
    "    print(2)"
   ]
  },
  {
   "cell_type": "markdown",
   "metadata": {
    "id": "Zdy-LI2ZFugm"
   },
   "source": [
    "Такой код позволяет обезопасить себя от ошибок в коде. В данном случае, мы можем переписать всю конструкцию с `if - else` в виде одной удобной строки. Эта строка проверит полон ли респонса `meme_status` и ежели нет, то выдаст пустоту."
   ]
  },
  {
   "cell_type": "code",
   "execution_count": 54,
   "metadata": {
    "colab": {
     "base_uri": "https://localhost:8080/",
     "height": 35
    },
    "id": "oQHn5THMFugm",
    "outputId": "d6c2b667-1af9-4d1e-fa31-d8a685214009"
   },
   "outputs": [
    {
     "data": {
      "application/vnd.google.colaboratory.intrinsic+json": {
       "type": "string"
      },
      "text/plain": [
       "'Hello'"
      ]
     },
     "execution_count": 54,
     "metadata": {},
     "output_type": "execute_result"
    }
   ],
   "source": [
    "\"Hello\" if True else \"Bye\""
   ]
  },
  {
   "cell_type": "code",
   "execution_count": 55,
   "metadata": {
    "colab": {
     "base_uri": "https://localhost:8080/"
    },
    "id": "HsvTFH9fFugn",
    "outputId": "ceb5fde3-1794-4cdc-8473-4b98d085abfe"
   },
   "outputs": [
    {
     "data": {
      "text/plain": [
       "1"
      ]
     },
     "execution_count": 55,
     "metadata": {},
     "output_type": "execute_result"
    }
   ],
   "source": [
    "1 if (\"a\" in ['a', 'b']) or ('c' in [1, 4]) else 0"
   ]
  },
  {
   "cell_type": "code",
   "execution_count": 56,
   "metadata": {
    "colab": {
     "base_uri": "https://localhost:8080/"
    },
    "id": "l1EqDBhb6yiV",
    "outputId": "359f21e2-ea45-4a84-d311-3ed19c816171"
   },
   "outputs": [
    {
     "data": {
      "text/plain": [
       "0"
      ]
     },
     "execution_count": 56,
     "metadata": {},
     "output_type": "execute_result"
    }
   ],
   "source": [
    "1 if (\"a\" in ['a', 'b']) and ('c' in [1, 4]) else 0"
   ]
  },
  {
   "cell_type": "markdown",
   "metadata": {
    "id": "DuszrKApFugn"
   },
   "source": [
    "По аналогии можно вытащить всю остальную информацию со страницы."
   ]
  },
  {
   "cell_type": "markdown",
   "metadata": {
    "id": "AldZOdwUFugn"
   },
   "source": [
    "Cоберем текстовое описание мема и его название."
   ]
  },
  {
   "cell_type": "code",
   "execution_count": 57,
   "metadata": {
    "code_folding": [],
    "id": "HwJOlMR5Fugn"
   },
   "outputs": [],
   "source": [
    "def getText(soup):\n",
    "    \"\"\"\n",
    "        Возвращает текстовые описания мема\n",
    "\n",
    "        soup: объект bs4.BeautifulSoup\n",
    "            суп текущей страницы\n",
    "\n",
    "    \"\"\"\n",
    "    # название - идёт с самым большим заголовком h1, легко найти\n",
    "    meme_name = soup.find('section', attrs={'class':'info'}).find('h1').text.strip()\n",
    "\n",
    "    # достаём все тексты под картинкой\n",
    "    body = soup.find('section', attrs={'class':'bodycopy'})\n",
    "\n",
    "    # раздел about (если он есть), должен идти первым, берем его без уточнения класса\n",
    "    meme_about = body.find('p')\n",
    "    meme_about = \"\" if not meme_about else meme_about.text\n",
    "\n",
    "    # раздел origin можно найти после заголовка Origin или History,\n",
    "    # находим заголовок, определяем родителя и ищем следущего ребенка - наш раздел\n",
    "    meme_origin = body.find(text='Origin') or body.find(text='History')\n",
    "    meme_origin = \"\" if not meme_origin else meme_origin.parent.find_next().text\n",
    "\n",
    "    # весь остальной текст (если он есть) можно запихнуть в одно текстовое поле\n",
    "    if body.text:\n",
    "        other_text = body.text.strip().split('\\n')[4:]\n",
    "        other_text = \" \".join(other_text).strip()\n",
    "    else:\n",
    "        other_text = \"\"\n",
    "\n",
    "    return {'Name': meme_name, 'About':meme_about, 'Origin':meme_origin, 'Other_text':other_text}"
   ]
  },
  {
   "cell_type": "code",
   "execution_count": 58,
   "metadata": {
    "colab": {
     "base_uri": "https://localhost:8080/"
    },
    "id": "8BOEA-pCFugn",
    "outputId": "c13a6f6d-4e1d-46a2-95bb-405e741953a0"
   },
   "outputs": [
    {
     "name": "stdout",
     "output_type": "stream",
     "text": [
      "Название мема:\n",
      "Doge\n",
      "\n",
      "О чем мем:\n",
      "Doge (pronounced /ˈdoʊdʒ/ DOHJ) is a slang term for \"dog\" that is primarily associated with pictures of Shiba Inus (nicknamed \"Shibe\") and internal monologue captions on Tumblr. These photos may be photoshopped to change the dog's face or captioned with interior monologues in Comic Sans font. The primary meme and iconography associated with Doge is the Shiba Inu named Kabosu, whose photos taken by her owner Atsuko Sato in early 2010 went viral across the internet, spawning numerous memes and larger trends in the following decades. Starting in 2017, Ironic Doge formats gained prevalence over the original wholesome version as the memetic character continued to evolve.\n",
      "\n",
      "Происхождение:\n",
      "The use of the misspelled word \"doge\" to refer to a dog dates back to June 24th, 2005, when it was mentioned in an episode of Homestar Runner's puppet show. In the episode titled \"Biz Cas Fri 1\"[2], Homestar calls Strong Bad his \"d-o-g-e\" while trying to distract him from his work.\n",
      "\n",
      "Остальной текст:\n",
      "The use of the misspelled word \"doge\" to refer to a dog dates back to June 24th, 2005, when it was mentioned in an episode of Homestar Runner's puppet show. In the episode titled \"Biz Cas Fri 1\"[2], H...\n",
      "\n"
     ]
    }
   ],
   "source": [
    "text_fields = getText(soup)\n",
    "\n",
    "print(\"Название мема:\\n{}\\n\\nО чем мем:\\n{}\\n\\nПроисхождение:\\n{}\\n\\nОстальной текст:\\n{}...\\n\"\\\n",
    "      .format(text_fields['Name'], text_fields['About'], text_fields['Origin'], text_fields['Other_text'][:200]))"
   ]
  },
  {
   "cell_type": "markdown",
   "metadata": {
    "id": "04QupfWdFugo"
   },
   "source": [
    "Наконец, создадим функцию, возвращающую всю информацию по текущему мему"
   ]
  },
  {
   "cell_type": "code",
   "execution_count": 59,
   "metadata": {
    "code_folding": [],
    "id": "DypiTwxQFugo"
   },
   "outputs": [],
   "source": [
    "def getMemeData(meme_page):\n",
    "    \"\"\"\n",
    "        Запрашивает данные по странице, возвращает обработанный словарь с данными\n",
    "\n",
    "        meme_page: string\n",
    "            ссылка на страницу с мемом\n",
    "\n",
    "    \"\"\"\n",
    "\n",
    "    # запрашиваем данные по ссылке\n",
    "    response = requests.get(meme_page, headers={'User-Agent': UserAgent().chrome})\n",
    "\n",
    "    if not response.ok:\n",
    "        # если сервер нам отказал, вернем статус ошибки\n",
    "        return response.status_code\n",
    "\n",
    "    # получаем содержимое страницы и переводим в суп\n",
    "    html = response.content\n",
    "    soup = BeautifulSoup(html,'html.parser')\n",
    "\n",
    "    # используя ранее написанные функции парсим информацию\n",
    "    views = getStats(soup=soup, stats='views')\n",
    "    videos = getStats(soup=soup, stats='videos')\n",
    "    photos = getStats(soup=soup, stats='photos')\n",
    "    comments = getStats(soup=soup, stats='comments')\n",
    "\n",
    "    # дата\n",
    "    date = soup.findAll('abbr', attrs={'class':'timeago'})[1].attrs['title']\n",
    "\n",
    "    # текстовые поля\n",
    "    text_fileds = getText(soup=soup)\n",
    "\n",
    "    # составляем словарь, в котором будут хранится все полученные и обработанные данные\n",
    "    data_row = {\"date_added\":date, \"views\":views,\n",
    "                \"videos\":videos, \"photos\":photos, \"comments\":comments}\n",
    "    data_row.update(text_fileds)\n",
    "\n",
    "    return data_row"
   ]
  },
  {
   "cell_type": "code",
   "execution_count": 60,
   "metadata": {
    "id": "V0IXYJXgFugo"
   },
   "outputs": [],
   "source": [
    "data_row = getMemeData('http://knowyourmeme.com/memes/doge')"
   ]
  },
  {
   "cell_type": "code",
   "execution_count": 61,
   "metadata": {
    "colab": {
     "base_uri": "https://localhost:8080/"
    },
    "id": "IUbxnp7AP_uo",
    "outputId": "17d5055a-e3ff-4e3c-da5e-cf0bc20c490b"
   },
   "outputs": [
    {
     "data": {
      "text/plain": [
       "{'date_added': '2013-07-24T16:29:55-04:00',\n",
       " 'views': 14121050,\n",
       " 'videos': 105,\n",
       " 'photos': 1795,\n",
       " 'comments': 923,\n",
       " 'Name': 'Doge',\n",
       " 'About': 'Doge (pronounced /ˈdoʊdʒ/ DOHJ) is a slang term for \"dog\" that is primarily associated with pictures of Shiba Inus (nicknamed \"Shibe\") and internal monologue captions on Tumblr. These photos may be photoshopped to change the dog\\'s face or captioned with interior monologues in Comic Sans font. The primary meme and iconography associated with Doge is the Shiba Inu named Kabosu, whose photos taken by her owner Atsuko Sato in early 2010 went viral across the internet, spawning numerous memes and larger trends in the following decades. Starting in 2017, Ironic Doge formats gained prevalence over the original wholesome version as the memetic character continued to evolve.',\n",
       " 'Origin': 'The use of the misspelled word \"doge\" to refer to a dog dates back to June 24th, 2005, when it was mentioned in an episode of Homestar Runner\\'s puppet show. In the episode titled \"Biz Cas Fri 1\"[2], Homestar calls Strong Bad his \"d-o-g-e\" while trying to distract him from his work.',\n",
       " 'Other_text': 'The use of the misspelled word \"doge\" to refer to a dog dates back to June 24th, 2005, when it was mentioned in an episode of Homestar Runner\\'s puppet show. In the episode titled \"Biz Cas Fri 1\"[2], Homestar calls Strong Bad his \"d-o-g-e\" while trying to distract him from his work.        Identity On February 13th, 2010, Japanese kindergarten teacher Atsuko Sato posted several photos of her rescue-adopted Shiba Inu dog Kabosu to her personal blog.[38] Among the photos included a peculiar shot of Kabosu sitting on a couch while glaring sideways at the camera with raised eyebrows (shown below, right).      In December 2013, shortly after the breakout of \"Doge,\" the tech news site The Verge[39] published an article identifying Sato\\'s Kabosu as the original Shiba Inu depicted in the meme. In addition to Kabosu, The Verge also identified \"Suki,\" a Shiba Inu who lives with San Francisco-based photographer Jonathan Fleming, as the scarfed dog portrayed in another popular instance of the meme. Spread On October 28th, 2010, a photo of Kabosu was submitted to the /r/Ads subreddit[3] with the title \"LMBO LOOK @ THIS FUKKIN DOGE,\" where it received 266 upvotes, 218 points overall and 48 comments prior to being archived. Sometime in April 2012, Tumblr user leonsumbitches[15] uploaded an audio file of a computer reading a passage written like the commands of a turn-based adventure game about encountering a \"doge.\" The passage was paired with a photo of a woman patting a dog on the head[16] and has gained more than 33,000 notes as of July 2013.  http://dailydoge.tumblr.com/post/21839788086/leonsumbitches-you-have-encountered-ａ-ｄｏｇｅ   In response, the single-topic blog Your Daily Doge[17] was created but was quickly abandoned after reblogging leonsumbitches\\' post several times. On May 7th, YouTuber KwandaoRen66 uploaded a video with a person reading the text over a fake Pokemon battle.[4] By June, doge threads in which numerous people shared photos of dogs in different outfits began appearing on 4chan boards, including /v/[11] (Video Games). The same month, a photoset of a dog with a cup and saucer balanced on his head went viral on Tumblr after airpi[14] referred to it as \"Polite Doge.\" In August, the first doge single-topic blog, F--k Yeah Doge[13], launched on Tumblr. The growth in the summer of 2012 coincided with the popularity of the single topic Tumblr Shiba Confessions, as people began to refer to these dogs as \"shibes.\"[18]      In December 2012, the term \"doge\" appeared on Reddit in a post submitted to /r/DogsIWannaHug.[6] The same month, an interior monologue captioned photo of a Schnauzer was submitted to Cheezburger[5] with the title \"Schnauze.\" On January 8th, 2013, the subreddit /r/Doge[7] was created, sharing photos and videos of the captioned Shiba Inus.[8] In May, /r/dailydoge[9] was created to share one dog photo a day, captioned or not. Another single-topic blog, shibe-doge[12], launched in July 2013 dedicated to sharing Shiba Inu photos. On July 29th, 2013, a doge thread[19] was sticky-featured at the top of the 4chan board /s4s/ (Shit 4chan Says), garnering more than 600 replies.    On November 20, 2013, YouTube implemented an Easter egg, that changes the text to be colored and in Comic Sans, much like the original internal-monologue style captions, when a user searches the phrase \"doge meme\".[22] On Tumblr, in addition to the captioned photos, the \"doge\" tag[10] often contains images of a Shiba Inu whose facial features have been manipulated, similar to Starecat. 4chan\\'s /r/Murica Raid On the evening of August 26th, 2013, a group of users on 4chan raided against Reddit\\'s tongue-in-cheek patriotic forum /r/Murica[20], flooding the subreddit\\'s frontpage with dozens of photoshopped images depicting the Doge character in All-American-themed settings (shown below). According to The Daily Dot\\'s report[21], the raid started late Sunday night and lasted until about 12:15 p.m. (ET) on August 27th, at which point /r/Murica\\'s moderators began removing Doge-related posts from the subreddit index. Unlike previous clashes between the users of 4chan and Reddit, the sudden influx of Doge images was reportedly met by little opposition from Reddit\\'s user base, reflecting the growing popularity of the character outside of Tumblr.            Trademark Controversy On June 24th, 2014, the California-based gaming accessory company filed to trademark \"Doge\" with the United States patent office to sell card boxes and playing card covers with Kabosu\\'s likeness on the front. On June 23rd, The Daily Dot[41] published an article about the trademark filing, which included a statement from Ultra PRO General Manager Jay Kuo who claimed the trademark was filed to protect the company from being sued and that they would allow \"royalty-free use for any vendor who wishes to use the mark.\" The article also contained a statement by the Intellectual Property Director at the Electronic Frontier Foundation Corynne McSherry, who noted that the filing is problematic because it attempts to trademark the entire word, not just a stylized version of it.[40] Death Hoax On March 31st, 2017, the Twitter account @CCTV reported that the Shiba Inu, Doge, had died at age 16.[42] The tweet received more than 8,400 retweets and 13,100 likes.    However, the tweet was an April Fools\\' Day prank. According to Kabosu\\'s official Instagram account, @kabosumama, doge is alive and well. @Kabosumama posted a video of the dog (shown below), which received more than 4,600 likes and 22,600 views.[43]    The post also contained the caption:  \"Kabosu is OK, she is alive! I don\\'t care that somebody told the lie that Kabosu is dead for April Fools\\' Day, but one important thing for me is \" Kabosu is a girl\", she is a female dog.\"  Dogecoin On December 6th, BitcoinTalk forum member Dogecoin introduced an alternative cryptocurrency based on the meme as a satire of the Bitcoin boom in a thread[23] titled \"Dogecoin – very currency – many coin – wow – v1.1 Released.\" Similar to Bitcoin and its derivatives, Dogecoin can be mined and exchanged for goods and services among the participants, though it is programmed to level out at a higher threshold of up to 100 billion coins and prevent any use of special bitcoin-mining equipment like ASICs. In comparison, Bitcoin will cap out at 21 million coins and Litecoin will support up to 84 million coins in circulation.      Following the launch of the official website,[24] a slew of social media channels and referential webpages soon emerged for Dogecoin, including a Twitter account[25] and a Facebook page,[26] racking up more than 1,000 followers and 1,800 likes within the first week, respectively. On December 8th, an entire subreddit community dedicated to the use of satirical cryptocurrency was launched at /r/dogecoin,[29] accruing more than 2,600 subscribers in just over a week.      Throughout the first weekend of December, Dogecoin was highlighted by a number of tech news sites and blogs, providing a further boost to the value of the satirical currency.[35][36][37] By December 14th, an encyclopedic article[27] describing the concept of \"Dogecoin\" had been submitted by Wikipedia editor CitationNeeded. At its peak, the estimated value of DogeCoin skyrocketed to as high as $400.80 per coin (shown below).[28][31]  As of December 15th, one Dogecoin (DOGE) is worth about $ 0.0002 USD, with a market capitalization of $1.45 million USD and 7.2% of the 100 billion total coins having been mined.[30][32][33][34]        Political Examples Several Republican politicians have highlighted Doge-style image macros on their Twitter feeds. On December 23rd, 2013, Congressional Representatives Steve Stockman and Thomas Massie posted political Doge image macros (shown below).     On June 9th, 2014, the official Republican National Committee Twitter feed posted a Doge image macro mocking Bill and Hillary Clinton. The same day, the official Democratic Party Twitter feed replied to the tweet mocking the use of Doge as being \"as dated as your policies\" (shown below).     Ironic Doge Memes Ironic Doge Memes are memes that feature the Doge meme in strange or surreal circumstances. Many take the form of image macros and often feature edits to the Doge image for the purposes of dark or absurd humor. The format was popularized on deep iFunny and Facebook between 2016 and 2017 and reached mainstream popularity in 2018, gaining prevalence over the original wholesome format.      Atsuko Sato and Kabosu Interview On February 20th, 2020, Japanese nursery teacher Atsuko Sato, the owner of Kabosu (Doge\\'s real name), conducted an interview with Know Your Meme to learn more about the origins of the meme and other details. Sato told KYM that Kabosu, 14 years old at the time, was a rescue dog when she adopted her from a kill shelter years before the meme.  Kabosu\\'s breeder went out of business, and she was rescued by an animal welfare organization after being brought to an animal welfare center to be put down, along with 19 other Shiba Inu. Most of the Shiba Inu that were brought there with her were killed. Two years had passed since I lost my previous dog, and I wanted to live with a dog again. I looked at the information about the new arrivals that had just been advertised as looking for foster parents on the website and found out about Kabosu. Sixteen days after being brought to the animal welfare center, she became a member of my family.           2021 Doge NFT Auction In mid-June 2021, the photographs taken of Kabosu by Atsuko Sato that later became the Doge meme were auctioned off as a series of NFTs. On June 11th following the conclusion of the auction, the Doge NFT sold for roughly $4.06 million (1696.9 ETH), setting the record for the highest meme NFT auction ever.  After the historic sale, Atsuko Sato donated a significant portion of the money to various charities, which included Plan International, Terra Renaissance, Florence, the Japanese Red Cross, World Food Program, Ashi Naga and Japan Heart.[44]  As Kabosu became a meme people love so much, I came to believe that Kabosu was given a special mission by the universe. Through the launch of these NFTs, I\\'d like to help children in need all over the world. Kabosu and I would be very happy if we could help bring a smile to their face.  Doge / Kabosu Cancer Diagnosis On December 27th, 2022, Atsuko Sato announced on her Instagram[45] account @kabosumama that Kabosu (Doge) had been diagnosed with \"acute cholangiohepatitis and chronic lymphoma leukemia,\" noting that she was in declining health but on medication to assist her recovery (seen below). The news of Kabosu\\'s cancer rapidly spread online shortly after, leading to an outpouring of support around the web.               View this post on Instagram                      A post shared by かぼすママ (@kabosumama)    In the following weeks and months, Sato continued sharing updates on Kabosu\\'s health as she slowly began to recover somewhat, according to her Instagram. For example, on February 9th, 2023, Sato said in an Instagram video that Kabosu was eating more food lately and doing therapy as part of her treatment, among other things (seen below).               View this post on Instagram                      A post shared by かぼすママ (@kabosumama)   On February 22nd, 2023, Atsuko Sato then posted another update on Kabosu\\'s status and shared images of her latest blood test results to her Instagram,[46] which noted that it was \"an incredible recovery\" as she thanked fans for their support. Related Memes Wew Lad Wew Lad is an obfuscatory expression associated with circle jerking or shitposting, which is often accompanied by a poorly-drawn illustration of a man\\'s face known as the \"Wrinkle Face\" or a digitally altered picture of the Doge Shiba Inu.          Cheems Cheems is an Ironic Doge character popular on /r/dogelore. His real name is Balltze, or Ball Ball. In memes, he is known for liking cheeseburgers, which he pronounces, \"Cheemsburbger.\" Memes featuring Cheems are usually based upon the character humorously misspelling various words, particularly by including extra M letters and first appeared on /r/dogelore in June 2019.  Swole Doge Swole Doge, also known as Chad Doge refers to a popular edit of Doge that imagines the character having an extremely muscular human body. The edit gained significant popularity in memes in major Doge meme pages on Facebook, Instagram and Reddit starting in July 2019.  Swole Doge vs. Cheems Swole Doge vs. Cheems refers to a comparison format in which representatives of the same group from two historical eras are presented as Swole (Chad) Doge and Cheems and are compared to each other, similar to Virgin vs. Chad. Originating from a viral Facebook meme, the format gained popularity on Reddit and Facebook starting in mid-May 2020.        Dogelore Dogelore is a subreddit dedicated exclusively to memes about Doge and related dog characters within the so-called \"Doge lore\" such as Walter, Perro, Cheems, Swole Doge and others. Created by /r/OKBR founder Kirbizia in 2018, the subreddit accumulated over 200,000 subscribers in two years and is one of the major hubs of Doge memes online.  Various Examples         Search Interest Editors Note: Search interest for the word \"doge\"[1] is partially inconsistent as it is also a Venetian term for \"leader\" used as a title in some Italian \"crowned republics\" including Genoa and Venice.        Meme Trends External References  [1] Wikipedia – Doge [2] Homestar Runner Wiki – Biz Caz Fri 1 [3] Reddit – /r/ads: LMBO LOOK @ THIS FUKKEN DOGE  [4] YouTube – You have encountered A D O G E [5] Cheezburger – schnauze / 12/08/2012 [6] Reddit – /r/dogsiwannahug: Hugging precious doge / 12/24/2012 [7] Reddit – /r/doge / 01/08/2013 [8] Reddit – /r/trees: Snope Doge / 01/17/2013 [9] Reddit – /r/dailydoge 05/16/2013 [10] Tumblr – Posts tagged \"doge\" [11] Foolz Archive – Meet Doge / 06/16/2012 [12] Tumblr – shibe-doge web archive [13] Tumblr – f--kyeahdoge [14] Tumblr – airpi: A POLITE DOGE has approached you 06/24/2012 [15] Tumblr (via Wayback Machine) – leonsumbitches [16] Your Daily Doge – Reblog of leonsumbitches\\' Post [17] Tumblr – Your Daily Doge [18] Tumblr – Posts Tagged \"shibe\" [19] 4chan – /s4s/: le sticky doge [20] Reddit – /r/Murica – Murica! F--k Yeah! [21] The Daily Dot – 4chan spammed Reddit with an army of Shiba Inus [22] Google Operating System – YouTube Easter Egg for Doge Meme [23] Bitcoin Talk Forum – [ANN][DOGE] Dogecoin – very currency – many coin – wow – v1.1 Released [24] Dogecoin.com – Dogecoin [25] Twitter – @Dogecoin\\'s Tweets [26] Facebook – Dogecoin [27] Wikipedia – Dogecoin [28] Doge Coin Official Forum – Topic: How many Dogecoins have you guys dug? [29] Reddit – /r/dogecoin [30] Coin Marketcap – DogeCoin 30-Day Market Cap Graph [31] Doge Coin Official Forum – [INFO] Current Average Value of DOGE [32] Slashgear – Dogecoin digital currency takes on Bitcoin with a bit of meme flair [33] Geek.com (via Wayback Machine) – Dogecoin: Not a viable alternative to Bitcoin, but possibly the best invention on the internet [34] Geekosystem (now The MarySue) – Dogecoin, A Cryptocurrency For Doges, Is Now A Thing [35] Dogecoin Forum (via Wayback Machine) – Dogewallet hacked! [36] The Verge – Millions of Dogecoin stolen in Christmas hack [37] Reddit – Dogewallet Explanation [38] Exblog – Kabosu112 [39] The Verge – Wow this Doge [40] United States Patent and Trademark Office – Doge [41] The Daily Dot – Doge Trademark Ultra PRO [42] Twitter – RIP, Doge! Shiba Inu who inspired popular Internet memes died in Japan aged 16 [43] Instagram – Kabosu is OK [44] Doge NFT Auction – Charities [45] Instagram – kabosumama [46] Instagram – kabosumama'}"
      ]
     },
     "execution_count": 61,
     "metadata": {},
     "output_type": "execute_result"
    }
   ],
   "source": [
    "data_row"
   ]
  },
  {
   "cell_type": "markdown",
   "metadata": {
    "id": "smDLqxXeFugo"
   },
   "source": [
    "А теперь подготовим табличку, чтобы в неё записывать всё ~~награбленные~~ честно полученные данные, добавим в неё первую полученную строку и полюбуемся на результат"
   ]
  },
  {
   "cell_type": "code",
   "execution_count": 62,
   "metadata": {
    "id": "ZhQv3iciFugo"
   },
   "outputs": [],
   "source": [
    "final_df = pd.DataFrame(columns=['Name',  'Type', 'Year', 'Origin',\n",
    "                                 'date_added', 'views', 'videos', 'photos', 'comments',\n",
    "                                 'About',  'Other_text'])"
   ]
  },
  {
   "cell_type": "code",
   "execution_count": 63,
   "metadata": {
    "id": "vidS64jbFugo"
   },
   "outputs": [],
   "source": [
    "final_df = final_df.append(data_row, ignore_index=True).dropna(axis = 1)"
   ]
  },
  {
   "cell_type": "code",
   "execution_count": 64,
   "metadata": {
    "colab": {
     "base_uri": "https://localhost:8080/",
     "height": 98
    },
    "id": "W0YGjZPnFugp",
    "outputId": "9a5efd5c-8fa8-47f2-ace3-b05c23b322ce"
   },
   "outputs": [
    {
     "data": {
      "text/html": [
       "\n",
       "  <div id=\"df-2b7270ac-0b9f-4416-9a21-3bb6ed0d2ddd\" class=\"colab-df-container\">\n",
       "    <div>\n",
       "<style scoped>\n",
       "    .dataframe tbody tr th:only-of-type {\n",
       "        vertical-align: middle;\n",
       "    }\n",
       "\n",
       "    .dataframe tbody tr th {\n",
       "        vertical-align: top;\n",
       "    }\n",
       "\n",
       "    .dataframe thead th {\n",
       "        text-align: right;\n",
       "    }\n",
       "</style>\n",
       "<table border=\"1\" class=\"dataframe\">\n",
       "  <thead>\n",
       "    <tr style=\"text-align: right;\">\n",
       "      <th></th>\n",
       "      <th>Name</th>\n",
       "      <th>Origin</th>\n",
       "      <th>date_added</th>\n",
       "      <th>views</th>\n",
       "      <th>videos</th>\n",
       "      <th>photos</th>\n",
       "      <th>comments</th>\n",
       "      <th>About</th>\n",
       "      <th>Other_text</th>\n",
       "    </tr>\n",
       "  </thead>\n",
       "  <tbody>\n",
       "    <tr>\n",
       "      <th>0</th>\n",
       "      <td>Doge</td>\n",
       "      <td>The use of the misspelled word \"doge\" to refer...</td>\n",
       "      <td>2013-07-24T16:29:55-04:00</td>\n",
       "      <td>14121050</td>\n",
       "      <td>105</td>\n",
       "      <td>1795</td>\n",
       "      <td>923</td>\n",
       "      <td>Doge (pronounced /ˈdoʊdʒ/ DOHJ) is a slang ter...</td>\n",
       "      <td>The use of the misspelled word \"doge\" to refer...</td>\n",
       "    </tr>\n",
       "  </tbody>\n",
       "</table>\n",
       "</div>\n",
       "    <div class=\"colab-df-buttons\">\n",
       "\n",
       "  <div class=\"colab-df-container\">\n",
       "    <button class=\"colab-df-convert\" onclick=\"convertToInteractive('df-2b7270ac-0b9f-4416-9a21-3bb6ed0d2ddd')\"\n",
       "            title=\"Convert this dataframe to an interactive table.\"\n",
       "            style=\"display:none;\">\n",
       "\n",
       "  <svg xmlns=\"http://www.w3.org/2000/svg\" height=\"24px\" viewBox=\"0 -960 960 960\">\n",
       "    <path d=\"M120-120v-720h720v720H120Zm60-500h600v-160H180v160Zm220 220h160v-160H400v160Zm0 220h160v-160H400v160ZM180-400h160v-160H180v160Zm440 0h160v-160H620v160ZM180-180h160v-160H180v160Zm440 0h160v-160H620v160Z\"/>\n",
       "  </svg>\n",
       "    </button>\n",
       "\n",
       "  <style>\n",
       "    .colab-df-container {\n",
       "      display:flex;\n",
       "      gap: 12px;\n",
       "    }\n",
       "\n",
       "    .colab-df-convert {\n",
       "      background-color: #E8F0FE;\n",
       "      border: none;\n",
       "      border-radius: 50%;\n",
       "      cursor: pointer;\n",
       "      display: none;\n",
       "      fill: #1967D2;\n",
       "      height: 32px;\n",
       "      padding: 0 0 0 0;\n",
       "      width: 32px;\n",
       "    }\n",
       "\n",
       "    .colab-df-convert:hover {\n",
       "      background-color: #E2EBFA;\n",
       "      box-shadow: 0px 1px 2px rgba(60, 64, 67, 0.3), 0px 1px 3px 1px rgba(60, 64, 67, 0.15);\n",
       "      fill: #174EA6;\n",
       "    }\n",
       "\n",
       "    .colab-df-buttons div {\n",
       "      margin-bottom: 4px;\n",
       "    }\n",
       "\n",
       "    [theme=dark] .colab-df-convert {\n",
       "      background-color: #3B4455;\n",
       "      fill: #D2E3FC;\n",
       "    }\n",
       "\n",
       "    [theme=dark] .colab-df-convert:hover {\n",
       "      background-color: #434B5C;\n",
       "      box-shadow: 0px 1px 3px 1px rgba(0, 0, 0, 0.15);\n",
       "      filter: drop-shadow(0px 1px 2px rgba(0, 0, 0, 0.3));\n",
       "      fill: #FFFFFF;\n",
       "    }\n",
       "  </style>\n",
       "\n",
       "    <script>\n",
       "      const buttonEl =\n",
       "        document.querySelector('#df-2b7270ac-0b9f-4416-9a21-3bb6ed0d2ddd button.colab-df-convert');\n",
       "      buttonEl.style.display =\n",
       "        google.colab.kernel.accessAllowed ? 'block' : 'none';\n",
       "\n",
       "      async function convertToInteractive(key) {\n",
       "        const element = document.querySelector('#df-2b7270ac-0b9f-4416-9a21-3bb6ed0d2ddd');\n",
       "        const dataTable =\n",
       "          await google.colab.kernel.invokeFunction('convertToInteractive',\n",
       "                                                    [key], {});\n",
       "        if (!dataTable) return;\n",
       "\n",
       "        const docLinkHtml = 'Like what you see? Visit the ' +\n",
       "          '<a target=\"_blank\" href=https://colab.research.google.com/notebooks/data_table.ipynb>data table notebook</a>'\n",
       "          + ' to learn more about interactive tables.';\n",
       "        element.innerHTML = '';\n",
       "        dataTable['output_type'] = 'display_data';\n",
       "        await google.colab.output.renderOutput(dataTable, element);\n",
       "        const docLink = document.createElement('div');\n",
       "        docLink.innerHTML = docLinkHtml;\n",
       "        element.appendChild(docLink);\n",
       "      }\n",
       "    </script>\n",
       "  </div>\n",
       "\n",
       "    </div>\n",
       "  </div>\n"
      ],
      "text/plain": [
       "   Name                                             Origin  \\\n",
       "0  Doge  The use of the misspelled word \"doge\" to refer...   \n",
       "\n",
       "                  date_added     views videos photos comments  \\\n",
       "0  2013-07-24T16:29:55-04:00  14121050    105   1795      923   \n",
       "\n",
       "                                               About  \\\n",
       "0  Doge (pronounced /ˈdoʊdʒ/ DOHJ) is a slang ter...   \n",
       "\n",
       "                                          Other_text  \n",
       "0  The use of the misspelled word \"doge\" to refer...  "
      ]
     },
     "execution_count": 64,
     "metadata": {},
     "output_type": "execute_result"
    }
   ],
   "source": [
    "final_df"
   ]
  },
  {
   "cell_type": "markdown",
   "metadata": {
    "id": "_pC_HY8mFugp"
   },
   "source": [
    "Первый мем оказался в наших рукак. Еще раз убедимся что всё работает — пройдемся по списку из ссылок на мемы, полученных ранее в перменной `meme_links`."
   ]
  },
  {
   "cell_type": "code",
   "execution_count": 65,
   "metadata": {
    "id": "pn2888z-Fugp"
   },
   "outputs": [],
   "source": [
    "from tqdm import tqdm_notebook"
   ]
  },
  {
   "cell_type": "code",
   "execution_count": 66,
   "metadata": {
    "colab": {
     "base_uri": "https://localhost:8080/"
    },
    "id": "2FSWcLpsFugp",
    "outputId": "4bfbc312-905a-4b3c-f142-ec0ecfbd9eed"
   },
   "outputs": [
    {
     "data": {
      "text/plain": [
       "['http://knowyourmeme.comhttps://knowyourmeme.com/memes/events/counter-strike-2-gun-sticker-controversy',\n",
       " 'http://knowyourmeme.comhttps://knowyourmeme.com/memes/bad-word-bathroom-challenge',\n",
       " 'http://knowyourmeme.comhttps://knowyourmeme.com/memes/woodrow-wilson-copypasta',\n",
       " 'http://knowyourmeme.comhttps://knowyourmeme.com/memes/people/pro-life-spiderman',\n",
       " 'http://knowyourmeme.comhttps://knowyourmeme.com/memes/everyone-knows-that-ulterior-motives-lost-media-song',\n",
       " 'http://knowyourmeme.comhttps://knowyourmeme.com/memes/noooo-put-me-back',\n",
       " 'http://knowyourmeme.comhttps://knowyourmeme.com/memes/esme-disillusion-st-mime-girl',\n",
       " 'http://knowyourmeme.comhttps://knowyourmeme.com/memes/i-fuck-so-much-pussy-i-might-switch-to-bussy',\n",
       " 'http://knowyourmeme.comhttps://knowyourmeme.com/memes/252-spa-choice-specs-beads-of-ruin-tera-fire-chi-yu',\n",
       " 'http://knowyourmeme.comhttps://knowyourmeme.com/memes/events/sebastian-pinera-helicopter-crash',\n",
       " 'http://knowyourmeme.comhttps://knowyourmeme.com/memes/subcultures/our-drawings-movie',\n",
       " 'http://knowyourmeme.comhttps://knowyourmeme.com/memes/knuckdith',\n",
       " 'http://knowyourmeme.comhttps://knowyourmeme.com/memes/unserious-slang',\n",
       " 'http://knowyourmeme.comhttps://knowyourmeme.com/memes/you-got-a-fast-car-i-got-a-plan-to-get-us-out-of-here',\n",
       " 'http://knowyourmeme.comhttps://knowyourmeme.com/memes/the-ian-function',\n",
       " 'http://knowyourmeme.comhttps://knowyourmeme.com/memes/you-have-been-promoted-you-are-now-one-of-my-elite-employees']"
      ]
     },
     "execution_count": 66,
     "metadata": {},
     "output_type": "execute_result"
    }
   ],
   "source": [
    "meme_links"
   ]
  },
  {
   "cell_type": "code",
   "execution_count": 67,
   "metadata": {
    "colab": {
     "base_uri": "https://localhost:8080/",
     "height": 49,
     "referenced_widgets": [
      "1c2548f8bc5e4083abfa1f19df754b46",
      "5d29ca1abb624194bdebc847936e1ba7",
      "a788354aaaa54e75aa170ff2744abee9",
      "2990a9a4384f4dfcba49b8dc65d50587",
      "99dd53a6f9bb4ca2b28b5bddd2db676b",
      "6932855186914ec2b74ec31b80270797",
      "c98608d9316848f382e76c0e5858b79f",
      "bfa8ef0610324a4697aeecc0cbab7e34",
      "fd60f20681f546f2b41ad327f5556228",
      "7a3edc4ad90847168045d53037e6d0e1",
      "97144c27b9a941ce9bed18827633164b"
     ]
    },
    "id": "srOVa1nHFugp",
    "outputId": "cfa2af5b-1721-4505-a059-99921b11b27b",
    "scrolled": false
   },
   "outputs": [
    {
     "data": {
      "application/vnd.jupyter.widget-view+json": {
       "model_id": "1c2548f8bc5e4083abfa1f19df754b46",
       "version_major": 2,
       "version_minor": 0
      },
      "text/plain": [
       "  0%|          | 0/16 [00:00<?, ?it/s]"
      ]
     },
     "metadata": {},
     "output_type": "display_data"
    }
   ],
   "source": [
    "for meme_link in tqdm_notebook(meme_links):\n",
    "    try:\n",
    "        data_row = getMemeData(meme_link)\n",
    "        final_df = final_df.append(data_row, ignore_index=True)\n",
    "        time.sleep(0.3)\n",
    "    except:\n",
    "        continue"
   ]
  },
  {
   "cell_type": "code",
   "execution_count": 68,
   "metadata": {
    "id": "MMJStcOlFugp"
   },
   "outputs": [],
   "source": [
    "final_df = final_df.drop_duplicates().dropna(axis = 1)"
   ]
  },
  {
   "cell_type": "code",
   "execution_count": 69,
   "metadata": {
    "colab": {
     "base_uri": "https://localhost:8080/"
    },
    "id": "dOU6TZQIFugp",
    "outputId": "cb37ed80-6566-4a1f-80af-9b7f061fc8cb"
   },
   "outputs": [
    {
     "data": {
      "text/plain": [
       "(1, 9)"
      ]
     },
     "execution_count": 69,
     "metadata": {},
     "output_type": "execute_result"
    }
   ],
   "source": [
    "final_df.shape"
   ]
  },
  {
   "cell_type": "code",
   "execution_count": 70,
   "metadata": {
    "colab": {
     "base_uri": "https://localhost:8080/",
     "height": 98
    },
    "id": "jL3_7JwVFugq",
    "outputId": "d6ccf760-fbc3-4376-c214-3bb2895be171"
   },
   "outputs": [
    {
     "data": {
      "text/html": [
       "\n",
       "  <div id=\"df-e5836786-c113-43cb-a9cf-194c5e1f1592\" class=\"colab-df-container\">\n",
       "    <div>\n",
       "<style scoped>\n",
       "    .dataframe tbody tr th:only-of-type {\n",
       "        vertical-align: middle;\n",
       "    }\n",
       "\n",
       "    .dataframe tbody tr th {\n",
       "        vertical-align: top;\n",
       "    }\n",
       "\n",
       "    .dataframe thead th {\n",
       "        text-align: right;\n",
       "    }\n",
       "</style>\n",
       "<table border=\"1\" class=\"dataframe\">\n",
       "  <thead>\n",
       "    <tr style=\"text-align: right;\">\n",
       "      <th></th>\n",
       "      <th>Name</th>\n",
       "      <th>Origin</th>\n",
       "      <th>date_added</th>\n",
       "      <th>views</th>\n",
       "      <th>videos</th>\n",
       "      <th>photos</th>\n",
       "      <th>comments</th>\n",
       "      <th>About</th>\n",
       "      <th>Other_text</th>\n",
       "    </tr>\n",
       "  </thead>\n",
       "  <tbody>\n",
       "    <tr>\n",
       "      <th>0</th>\n",
       "      <td>Doge</td>\n",
       "      <td>The use of the misspelled word \"doge\" to refer...</td>\n",
       "      <td>2013-07-24T16:29:55-04:00</td>\n",
       "      <td>14121050</td>\n",
       "      <td>105</td>\n",
       "      <td>1795</td>\n",
       "      <td>923</td>\n",
       "      <td>Doge (pronounced /ˈdoʊdʒ/ DOHJ) is a slang ter...</td>\n",
       "      <td>The use of the misspelled word \"doge\" to refer...</td>\n",
       "    </tr>\n",
       "  </tbody>\n",
       "</table>\n",
       "</div>\n",
       "    <div class=\"colab-df-buttons\">\n",
       "\n",
       "  <div class=\"colab-df-container\">\n",
       "    <button class=\"colab-df-convert\" onclick=\"convertToInteractive('df-e5836786-c113-43cb-a9cf-194c5e1f1592')\"\n",
       "            title=\"Convert this dataframe to an interactive table.\"\n",
       "            style=\"display:none;\">\n",
       "\n",
       "  <svg xmlns=\"http://www.w3.org/2000/svg\" height=\"24px\" viewBox=\"0 -960 960 960\">\n",
       "    <path d=\"M120-120v-720h720v720H120Zm60-500h600v-160H180v160Zm220 220h160v-160H400v160Zm0 220h160v-160H400v160ZM180-400h160v-160H180v160Zm440 0h160v-160H620v160ZM180-180h160v-160H180v160Zm440 0h160v-160H620v160Z\"/>\n",
       "  </svg>\n",
       "    </button>\n",
       "\n",
       "  <style>\n",
       "    .colab-df-container {\n",
       "      display:flex;\n",
       "      gap: 12px;\n",
       "    }\n",
       "\n",
       "    .colab-df-convert {\n",
       "      background-color: #E8F0FE;\n",
       "      border: none;\n",
       "      border-radius: 50%;\n",
       "      cursor: pointer;\n",
       "      display: none;\n",
       "      fill: #1967D2;\n",
       "      height: 32px;\n",
       "      padding: 0 0 0 0;\n",
       "      width: 32px;\n",
       "    }\n",
       "\n",
       "    .colab-df-convert:hover {\n",
       "      background-color: #E2EBFA;\n",
       "      box-shadow: 0px 1px 2px rgba(60, 64, 67, 0.3), 0px 1px 3px 1px rgba(60, 64, 67, 0.15);\n",
       "      fill: #174EA6;\n",
       "    }\n",
       "\n",
       "    .colab-df-buttons div {\n",
       "      margin-bottom: 4px;\n",
       "    }\n",
       "\n",
       "    [theme=dark] .colab-df-convert {\n",
       "      background-color: #3B4455;\n",
       "      fill: #D2E3FC;\n",
       "    }\n",
       "\n",
       "    [theme=dark] .colab-df-convert:hover {\n",
       "      background-color: #434B5C;\n",
       "      box-shadow: 0px 1px 3px 1px rgba(0, 0, 0, 0.15);\n",
       "      filter: drop-shadow(0px 1px 2px rgba(0, 0, 0, 0.3));\n",
       "      fill: #FFFFFF;\n",
       "    }\n",
       "  </style>\n",
       "\n",
       "    <script>\n",
       "      const buttonEl =\n",
       "        document.querySelector('#df-e5836786-c113-43cb-a9cf-194c5e1f1592 button.colab-df-convert');\n",
       "      buttonEl.style.display =\n",
       "        google.colab.kernel.accessAllowed ? 'block' : 'none';\n",
       "\n",
       "      async function convertToInteractive(key) {\n",
       "        const element = document.querySelector('#df-e5836786-c113-43cb-a9cf-194c5e1f1592');\n",
       "        const dataTable =\n",
       "          await google.colab.kernel.invokeFunction('convertToInteractive',\n",
       "                                                    [key], {});\n",
       "        if (!dataTable) return;\n",
       "\n",
       "        const docLinkHtml = 'Like what you see? Visit the ' +\n",
       "          '<a target=\"_blank\" href=https://colab.research.google.com/notebooks/data_table.ipynb>data table notebook</a>'\n",
       "          + ' to learn more about interactive tables.';\n",
       "        element.innerHTML = '';\n",
       "        dataTable['output_type'] = 'display_data';\n",
       "        await google.colab.output.renderOutput(dataTable, element);\n",
       "        const docLink = document.createElement('div');\n",
       "        docLink.innerHTML = docLinkHtml;\n",
       "        element.appendChild(docLink);\n",
       "      }\n",
       "    </script>\n",
       "  </div>\n",
       "\n",
       "    </div>\n",
       "  </div>\n"
      ],
      "text/plain": [
       "   Name                                             Origin  \\\n",
       "0  Doge  The use of the misspelled word \"doge\" to refer...   \n",
       "\n",
       "                  date_added     views videos photos comments  \\\n",
       "0  2013-07-24T16:29:55-04:00  14121050    105   1795      923   \n",
       "\n",
       "                                               About  \\\n",
       "0  Doge (pronounced /ˈdoʊdʒ/ DOHJ) is a slang ter...   \n",
       "\n",
       "                                          Other_text  \n",
       "0  The use of the misspelled word \"doge\" to refer...  "
      ]
     },
     "execution_count": 70,
     "metadata": {},
     "output_type": "execute_result"
    }
   ],
   "source": [
    "final_df.head()"
   ]
  },
  {
   "cell_type": "markdown",
   "metadata": {
    "id": "CSJijjxbFugq"
   },
   "source": [
    "Отлично! Всё работает, мемы качаются, данные наполняются и всё было бы хорошо, если бы не одно но — количество запросов, которое нам придётся сделать, чтобы всё получить."
   ]
  },
  {
   "cell_type": "markdown",
   "metadata": {
    "id": "Zinb3rLUFugq"
   },
   "source": [
    "# 2.  Момент истины\n",
    "\n",
    "Вот он! Тот самый момент абсолютного триумфа, когда код дописан и всё, что нам, мирным собирателям, остаётся — запустить наш код на одну ночку. Кажется, что через страсть мы преобрели силу. Запускаем наш код по всем  страницам с мемами. На всякий случай обернём наш цикл в `try-except`. Мало ли что там с этими мемами бывает."
   ]
  },
  {
   "cell_type": "code",
   "execution_count": null,
   "metadata": {
    "id": "2m-twXCAOF1v"
   },
   "outputs": [],
   "source": [
    "# Немного красивых циклов. При желании пакет можно отключить и\n",
    "# удалить команду tqdm_notebook из всех циклов\n",
    "from tqdm import tqdm_notebook\n",
    "\n",
    "\n",
    "final_df = pd.DataFrame(columns=['name', 'status', 'type', 'origin_year', 'origin_place',\n",
    "                                 'date_added', 'views', 'videos', 'photos', 'comments',\n",
    "                                 'tags', 'about', 'origin', 'other_text'])\n",
    "\n",
    "for page_number in tqdm_notebook(range(1500), desc='Pages'):\n",
    "    # собрали хрефы с текущей страницы\n",
    "    meme_links = getPageLinks(page_number)\n",
    "    for meme_link in tqdm_notebook(meme_links, desc='Memes', leave=False):\n",
    "        # иногда с первого раза страничка не парсится\n",
    "        for i in range(3):\n",
    "            try:\n",
    "                # пытаемся собрать по мему немного даты\n",
    "                data_row = getMemeData(meme_link)\n",
    "                # и закидываем её в таблицу\n",
    "                final_df = final_df.append(data_row, ignore_index=True)\n",
    "                # если всё получилось - выходим из внутреннего цикла\n",
    "                break\n",
    "            except:\n",
    "                # Иначе, пробуем еще несколько раз, пока не закончатся попытки\n",
    "                print('AHTUNG! parsing once again:', meme_link)\n",
    "                continue\n",
    "            time.sleep(0.3)"
   ]
  },
  {
   "cell_type": "markdown",
   "metadata": {
    "id": "KanuGui9Fugq"
   },
   "source": [
    "## 2.2 Тор - сын Одина\n",
    "\n",
    "Иногда серверу надоедает общаться с одним и тем же человеком, делающим кучу запросов и сервер банит его. К сожалению, не только у людей запас терпения ограничен.\n",
    "\n",
    "Приходится маскироваться. Для такой маскировки можно использовать разные способы, более того, один из них мы уже использовали, когда притворились человеком в нашем `request-header`. Для текущей же задачи, когда нас вероломно заблокировали по IP, нужно искать способы помощнее, чтобы иметь возможность этот IP менять. Конечно, как вариант можно было бы использовать прокси-сервера, тогда мы бы имели в запасе некоторое количество разных IP адресов, которые можно подставлять по мере \"забанивания\". Однако в этом подходе есть пара проблем: первая - нужно где-то раздобыть эти прокси, вторая - а что если ограниченного числа адресов нам не хватит и нужно больше?\n",
    "\n",
    "В таком случае лучше всего нам подойдёт [Tor](https://www.torproject.org/). Вопреки пропагандируемому мнению, Tor используется не только преступниками, педофилами и прочими нехорошими террористами. Это, мягко говоря, далеко не так, и мы, мирные собиратели данных, являемся тому подтверждением. Всем прелестям, связанным с работой Tor, можно было бы посвятить несколько больших статеек, что собственно говоря уже и сделано. Подробнее про это можно почитатать по следующим ссылкам:\n",
    "\n",
    "* [Как работает Tor](https://geektimes.ru/post/277578/)\n",
    "* [Методы анонимности в сети](https://habrahabr.ru/post/204266/)\n",
    "* [Прокси-сервер с помощью Tor](https://habrahabr.ru/company/etagi/blog/315002/)\n",
    "\n"
   ]
  },
  {
   "cell_type": "code",
   "execution_count": null,
   "metadata": {
    "id": "rAL-xWrQFugr"
   },
   "outputs": [],
   "source": [
    "def checkIP():\n",
    "    ip = requests.get('http://checkip.dyndns.org').content\n",
    "    soup = BeautifulSoup(ip, 'html.parser')\n",
    "    print(soup.find('body').text)"
   ]
  },
  {
   "cell_type": "code",
   "execution_count": null,
   "metadata": {
    "id": "DshD-B1ZFugr"
   },
   "outputs": [],
   "source": [
    "checkIP()"
   ]
  },
  {
   "cell_type": "markdown",
   "metadata": {
    "id": "-lVT1VK3Fugt"
   },
   "source": [
    "\n",
    "\n",
    "\n",
    "## Почиташки\n",
    "\n",
    "* [Неплохая инструкция](https://jarroba.com/anonymous-scraping-by-tor-network/) о самостоятельном парсинге через Tor без использования чужих готовых классов.\n",
    "* [Репозиторий](https://github.com/DmitrySerg/memology) с исследованием мемов.\n",
    "* [Оригинальный кодекс](http://starwars.wikia.com/wiki/Code_of_the_Sith) адепта тёмной стороны силы."
   ]
  },
  {
   "cell_type": "code",
   "execution_count": null,
   "metadata": {
    "id": "9jDW-zBWFugt"
   },
   "outputs": [],
   "source": []
  }
 ],
 "metadata": {
  "colab": {
   "provenance": []
  },
  "kernelspec": {
   "display_name": "Python 3 (ipykernel)",
   "language": "python",
   "name": "python3"
  },
  "language_info": {
   "codemirror_mode": {
    "name": "ipython",
    "version": 3
   },
   "file_extension": ".py",
   "mimetype": "text/x-python",
   "name": "python",
   "nbconvert_exporter": "python",
   "pygments_lexer": "ipython3",
   "version": "3.11.5"
  },
  "varInspector": {
   "cols": {
    "lenName": 16,
    "lenType": 16,
    "lenVar": 40
   },
   "kernels_config": {
    "python": {
     "delete_cmd_postfix": "",
     "delete_cmd_prefix": "del ",
     "library": "var_list.py",
     "varRefreshCmd": "print(var_dic_list())"
    },
    "r": {
     "delete_cmd_postfix": ") ",
     "delete_cmd_prefix": "rm(",
     "library": "var_list.r",
     "varRefreshCmd": "cat(var_dic_list()) "
    }
   },
   "types_to_exclude": [
    "module",
    "function",
    "builtin_function_or_method",
    "instance",
    "_Feature"
   ],
   "window_display": false
  },
  "widgets": {
   "application/vnd.jupyter.widget-state+json": {
    "1c2548f8bc5e4083abfa1f19df754b46": {
     "model_module": "@jupyter-widgets/controls",
     "model_module_version": "1.5.0",
     "model_name": "HBoxModel",
     "state": {
      "_dom_classes": [],
      "_model_module": "@jupyter-widgets/controls",
      "_model_module_version": "1.5.0",
      "_model_name": "HBoxModel",
      "_view_count": null,
      "_view_module": "@jupyter-widgets/controls",
      "_view_module_version": "1.5.0",
      "_view_name": "HBoxView",
      "box_style": "",
      "children": [
       "IPY_MODEL_5d29ca1abb624194bdebc847936e1ba7",
       "IPY_MODEL_a788354aaaa54e75aa170ff2744abee9",
       "IPY_MODEL_2990a9a4384f4dfcba49b8dc65d50587"
      ],
      "layout": "IPY_MODEL_99dd53a6f9bb4ca2b28b5bddd2db676b"
     }
    },
    "2990a9a4384f4dfcba49b8dc65d50587": {
     "model_module": "@jupyter-widgets/controls",
     "model_module_version": "1.5.0",
     "model_name": "HTMLModel",
     "state": {
      "_dom_classes": [],
      "_model_module": "@jupyter-widgets/controls",
      "_model_module_version": "1.5.0",
      "_model_name": "HTMLModel",
      "_view_count": null,
      "_view_module": "@jupyter-widgets/controls",
      "_view_module_version": "1.5.0",
      "_view_name": "HTMLView",
      "description": "",
      "description_tooltip": null,
      "layout": "IPY_MODEL_7a3edc4ad90847168045d53037e6d0e1",
      "placeholder": "​",
      "style": "IPY_MODEL_97144c27b9a941ce9bed18827633164b",
      "value": " 16/16 [00:00&lt;00:00, 50.82it/s]"
     }
    },
    "5d29ca1abb624194bdebc847936e1ba7": {
     "model_module": "@jupyter-widgets/controls",
     "model_module_version": "1.5.0",
     "model_name": "HTMLModel",
     "state": {
      "_dom_classes": [],
      "_model_module": "@jupyter-widgets/controls",
      "_model_module_version": "1.5.0",
      "_model_name": "HTMLModel",
      "_view_count": null,
      "_view_module": "@jupyter-widgets/controls",
      "_view_module_version": "1.5.0",
      "_view_name": "HTMLView",
      "description": "",
      "description_tooltip": null,
      "layout": "IPY_MODEL_6932855186914ec2b74ec31b80270797",
      "placeholder": "​",
      "style": "IPY_MODEL_c98608d9316848f382e76c0e5858b79f",
      "value": "100%"
     }
    },
    "6932855186914ec2b74ec31b80270797": {
     "model_module": "@jupyter-widgets/base",
     "model_module_version": "1.2.0",
     "model_name": "LayoutModel",
     "state": {
      "_model_module": "@jupyter-widgets/base",
      "_model_module_version": "1.2.0",
      "_model_name": "LayoutModel",
      "_view_count": null,
      "_view_module": "@jupyter-widgets/base",
      "_view_module_version": "1.2.0",
      "_view_name": "LayoutView",
      "align_content": null,
      "align_items": null,
      "align_self": null,
      "border": null,
      "bottom": null,
      "display": null,
      "flex": null,
      "flex_flow": null,
      "grid_area": null,
      "grid_auto_columns": null,
      "grid_auto_flow": null,
      "grid_auto_rows": null,
      "grid_column": null,
      "grid_gap": null,
      "grid_row": null,
      "grid_template_areas": null,
      "grid_template_columns": null,
      "grid_template_rows": null,
      "height": null,
      "justify_content": null,
      "justify_items": null,
      "left": null,
      "margin": null,
      "max_height": null,
      "max_width": null,
      "min_height": null,
      "min_width": null,
      "object_fit": null,
      "object_position": null,
      "order": null,
      "overflow": null,
      "overflow_x": null,
      "overflow_y": null,
      "padding": null,
      "right": null,
      "top": null,
      "visibility": null,
      "width": null
     }
    },
    "7a3edc4ad90847168045d53037e6d0e1": {
     "model_module": "@jupyter-widgets/base",
     "model_module_version": "1.2.0",
     "model_name": "LayoutModel",
     "state": {
      "_model_module": "@jupyter-widgets/base",
      "_model_module_version": "1.2.0",
      "_model_name": "LayoutModel",
      "_view_count": null,
      "_view_module": "@jupyter-widgets/base",
      "_view_module_version": "1.2.0",
      "_view_name": "LayoutView",
      "align_content": null,
      "align_items": null,
      "align_self": null,
      "border": null,
      "bottom": null,
      "display": null,
      "flex": null,
      "flex_flow": null,
      "grid_area": null,
      "grid_auto_columns": null,
      "grid_auto_flow": null,
      "grid_auto_rows": null,
      "grid_column": null,
      "grid_gap": null,
      "grid_row": null,
      "grid_template_areas": null,
      "grid_template_columns": null,
      "grid_template_rows": null,
      "height": null,
      "justify_content": null,
      "justify_items": null,
      "left": null,
      "margin": null,
      "max_height": null,
      "max_width": null,
      "min_height": null,
      "min_width": null,
      "object_fit": null,
      "object_position": null,
      "order": null,
      "overflow": null,
      "overflow_x": null,
      "overflow_y": null,
      "padding": null,
      "right": null,
      "top": null,
      "visibility": null,
      "width": null
     }
    },
    "97144c27b9a941ce9bed18827633164b": {
     "model_module": "@jupyter-widgets/controls",
     "model_module_version": "1.5.0",
     "model_name": "DescriptionStyleModel",
     "state": {
      "_model_module": "@jupyter-widgets/controls",
      "_model_module_version": "1.5.0",
      "_model_name": "DescriptionStyleModel",
      "_view_count": null,
      "_view_module": "@jupyter-widgets/base",
      "_view_module_version": "1.2.0",
      "_view_name": "StyleView",
      "description_width": ""
     }
    },
    "99dd53a6f9bb4ca2b28b5bddd2db676b": {
     "model_module": "@jupyter-widgets/base",
     "model_module_version": "1.2.0",
     "model_name": "LayoutModel",
     "state": {
      "_model_module": "@jupyter-widgets/base",
      "_model_module_version": "1.2.0",
      "_model_name": "LayoutModel",
      "_view_count": null,
      "_view_module": "@jupyter-widgets/base",
      "_view_module_version": "1.2.0",
      "_view_name": "LayoutView",
      "align_content": null,
      "align_items": null,
      "align_self": null,
      "border": null,
      "bottom": null,
      "display": null,
      "flex": null,
      "flex_flow": null,
      "grid_area": null,
      "grid_auto_columns": null,
      "grid_auto_flow": null,
      "grid_auto_rows": null,
      "grid_column": null,
      "grid_gap": null,
      "grid_row": null,
      "grid_template_areas": null,
      "grid_template_columns": null,
      "grid_template_rows": null,
      "height": null,
      "justify_content": null,
      "justify_items": null,
      "left": null,
      "margin": null,
      "max_height": null,
      "max_width": null,
      "min_height": null,
      "min_width": null,
      "object_fit": null,
      "object_position": null,
      "order": null,
      "overflow": null,
      "overflow_x": null,
      "overflow_y": null,
      "padding": null,
      "right": null,
      "top": null,
      "visibility": null,
      "width": null
     }
    },
    "a788354aaaa54e75aa170ff2744abee9": {
     "model_module": "@jupyter-widgets/controls",
     "model_module_version": "1.5.0",
     "model_name": "FloatProgressModel",
     "state": {
      "_dom_classes": [],
      "_model_module": "@jupyter-widgets/controls",
      "_model_module_version": "1.5.0",
      "_model_name": "FloatProgressModel",
      "_view_count": null,
      "_view_module": "@jupyter-widgets/controls",
      "_view_module_version": "1.5.0",
      "_view_name": "ProgressView",
      "bar_style": "success",
      "description": "",
      "description_tooltip": null,
      "layout": "IPY_MODEL_bfa8ef0610324a4697aeecc0cbab7e34",
      "max": 16,
      "min": 0,
      "orientation": "horizontal",
      "style": "IPY_MODEL_fd60f20681f546f2b41ad327f5556228",
      "value": 16
     }
    },
    "bfa8ef0610324a4697aeecc0cbab7e34": {
     "model_module": "@jupyter-widgets/base",
     "model_module_version": "1.2.0",
     "model_name": "LayoutModel",
     "state": {
      "_model_module": "@jupyter-widgets/base",
      "_model_module_version": "1.2.0",
      "_model_name": "LayoutModel",
      "_view_count": null,
      "_view_module": "@jupyter-widgets/base",
      "_view_module_version": "1.2.0",
      "_view_name": "LayoutView",
      "align_content": null,
      "align_items": null,
      "align_self": null,
      "border": null,
      "bottom": null,
      "display": null,
      "flex": null,
      "flex_flow": null,
      "grid_area": null,
      "grid_auto_columns": null,
      "grid_auto_flow": null,
      "grid_auto_rows": null,
      "grid_column": null,
      "grid_gap": null,
      "grid_row": null,
      "grid_template_areas": null,
      "grid_template_columns": null,
      "grid_template_rows": null,
      "height": null,
      "justify_content": null,
      "justify_items": null,
      "left": null,
      "margin": null,
      "max_height": null,
      "max_width": null,
      "min_height": null,
      "min_width": null,
      "object_fit": null,
      "object_position": null,
      "order": null,
      "overflow": null,
      "overflow_x": null,
      "overflow_y": null,
      "padding": null,
      "right": null,
      "top": null,
      "visibility": null,
      "width": null
     }
    },
    "c98608d9316848f382e76c0e5858b79f": {
     "model_module": "@jupyter-widgets/controls",
     "model_module_version": "1.5.0",
     "model_name": "DescriptionStyleModel",
     "state": {
      "_model_module": "@jupyter-widgets/controls",
      "_model_module_version": "1.5.0",
      "_model_name": "DescriptionStyleModel",
      "_view_count": null,
      "_view_module": "@jupyter-widgets/base",
      "_view_module_version": "1.2.0",
      "_view_name": "StyleView",
      "description_width": ""
     }
    },
    "fd60f20681f546f2b41ad327f5556228": {
     "model_module": "@jupyter-widgets/controls",
     "model_module_version": "1.5.0",
     "model_name": "ProgressStyleModel",
     "state": {
      "_model_module": "@jupyter-widgets/controls",
      "_model_module_version": "1.5.0",
      "_model_name": "ProgressStyleModel",
      "_view_count": null,
      "_view_module": "@jupyter-widgets/base",
      "_view_module_version": "1.2.0",
      "_view_name": "StyleView",
      "bar_color": null,
      "description_width": ""
     }
    }
   }
  }
 },
 "nbformat": 4,
 "nbformat_minor": 1
}
