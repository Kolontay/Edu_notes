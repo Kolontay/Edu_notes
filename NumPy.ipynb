{
 "cells": [
  {
   "cell_type": "code",
   "execution_count": 1,
   "id": "2fe38acb",
   "metadata": {},
   "outputs": [],
   "source": [
    "import numpy as np"
   ]
  },
  {
   "cell_type": "code",
   "execution_count": 2,
   "id": "8fd5b633",
   "metadata": {},
   "outputs": [],
   "source": [
    "a = np.array([1,2,3,4,5,6,7,8,9])\n",
    "a_r = a.reshape(3,3)"
   ]
  },
  {
   "cell_type": "markdown",
   "id": "9091df8c",
   "metadata": {},
   "source": [
    "![title](img/nmp1.jpg)"
   ]
  },
  {
   "cell_type": "markdown",
   "id": "20f53266",
   "metadata": {},
   "source": [
    "### Способы формирования массивов"
   ]
  },
  {
   "cell_type": "code",
   "execution_count": 88,
   "id": "2f73659e",
   "metadata": {},
   "outputs": [
    {
     "data": {
      "text/plain": [
       "array([[1., 0., 0.],\n",
       "       [1., 1., 0.],\n",
       "       [1., 1., 1.]])"
      ]
     },
     "execution_count": 88,
     "metadata": {},
     "output_type": "execute_result"
    }
   ],
   "source": [
    "lst = [1,2,3,4,5,6,7,8,9]\n",
    "lst_3_2 = [[1,2],[3,4],[5,6]]\n",
    "lst_3_3_2 = [[[1,2],[3,4],[5,6]]]\n",
    "\n",
    "a_1 = np.array(lst, dtype = 'float64')\n",
    "a_str = np.array(lst, dtype = 'str_') # преобразуем в строки\n",
    "a_2 = np.array(lst_3_2)\n",
    "a_3 = np.array(lst_3_3_2)\n",
    "\n",
    "np.zeros(10)\n",
    "np.empty(10)\n",
    "np.eye(3,3)\n",
    "np.full((3,3,3),'hello')\n",
    "\n",
    "np.mat('1 2 3 4')\n",
    "np.diag([1,2,3])\n",
    "np.tri(3,3)"
   ]
  },
  {
   "cell_type": "markdown",
   "id": "70f1c8e2",
   "metadata": {},
   "source": [
    "### Частые"
   ]
  },
  {
   "cell_type": "code",
   "execution_count": 79,
   "id": "5ff2b291",
   "metadata": {},
   "outputs": [
    {
     "data": {
      "text/plain": [
       "array([1, 2, 3, 4, 5, 6], dtype=int16)"
      ]
     },
     "execution_count": 79,
     "metadata": {},
     "output_type": "execute_result"
    }
   ],
   "source": [
    "a_4 = a_3.copy()\n",
    "np.r_[1:9]\n",
    "np.arange(0,np.pi,0.1)\n",
    "np.cos(np.arange(0,np.pi,0.1))\n",
    "np.linspace(1,5,10) # равномерное разделение\n",
    "np.logspace(2,5,4) # 10 в степени нач., 10 в степени конечной, количество\n",
    "np.geomspace(1,20,3) # начальное, конечное, количество. Геометрическая прогрессия\n",
    "np.fromstring('1 2 3 4 5 6', dtype ='int16', sep = ' ')"
   ]
  },
  {
   "cell_type": "markdown",
   "id": "033cde9f",
   "metadata": {},
   "source": [
    "### Свойства и представления. \n",
    "\n",
    "Все представления ссылаются на первоначальные данные и при их изменений другие представления также поменяются\n",
    "Изменения формы, срезы - создают новые представления.\n",
    "Математические операции создают уже новые массивы"
   ]
  },
  {
   "cell_type": "code",
   "execution_count": 138,
   "id": "ff2b91ad",
   "metadata": {},
   "outputs": [],
   "source": [
    "a_1.dtype\n",
    "a_1.size\n",
    "a_1.ndim \n",
    "a_3.shape\n",
    "a_3.shape = 6\n",
    "a_3.reshape(1,3,2)\n",
    "a.resize(3,3,refcheck = False) # отбрасывает лишние элементы чтобы выполнить форму\n",
    "a= np.arange(9).reshape(3,3)\n",
    "a.T\n",
    "a.shape = -1,9 # добавляем нулевую ось\n",
    "np.expand_dims(a,axis =0) # добавляем нулевую ось\n",
    "\n",
    "a= np.arange(32).reshape(8,2,2)\n",
    "b = np.expand_dims(a,axis =0)\n",
    "b= np.append(b,b,axis =0)\n",
    "b = np.delete(b,0,axis =0)\n",
    "np.squeeze(b) # удаляет оси где 1 значение"
   ]
  },
  {
   "cell_type": "markdown",
   "id": "9a4ffb54",
   "metadata": {},
   "source": [
    "### Объединение и разделение"
   ]
  },
  {
   "cell_type": "code",
   "execution_count": 230,
   "id": "e9898e3a",
   "metadata": {},
   "outputs": [],
   "source": [
    "a = np.array(np.arange(1,5).reshape(2,2))\n",
    "b = np.array(np.arange(5,9).reshape(2,2))"
   ]
  },
  {
   "cell_type": "code",
   "execution_count": null,
   "id": "60722809",
   "metadata": {},
   "outputs": [],
   "source": [
    "np.hstack([a,b]) # объединение по горизонтали\n",
    "np.append(a,b,axis =1)\n",
    "\n",
    "np.vstack([a,b]) # объединение по вертикали\n",
    "np.append(a,b,axis =0)\n",
    "\n",
    "a = np.array(np.arange(1,5))\n",
    "b = np.array(np.arange(5,9))\n",
    "\n",
    "np.column_stack([a,b])  # объединение колонок \n",
    "\n",
    "np.row_stack([a,b]) # обхъединение строк\n",
    "\n",
    "\n",
    "a = np.arange(1,19).reshape(3,3,2)\n",
    "b = np.arange(19,37).reshape(3,3,2)\n",
    "\n",
    "np.concatenate([a,b],axis=0) # Размерность 6,3,2\n",
    "np.r_[a,b]\n",
    "\n",
    "np.concatenate([a,b],axis=1) # Размерность 3,6,2\n",
    "\n",
    "np.concatenate([a,b],axis=2) # Размерность 3,3,4\n",
    "np.c_[a,b]\n",
    "\n",
    "a = np.arange(1,11)\n",
    "np.hsplit(a,2)\n",
    "np.vsplit(a.reshape(10,1),2)"
   ]
  },
  {
   "cell_type": "markdown",
   "id": "1cc17cc5",
   "metadata": {},
   "source": [
    "### Матричные и векторные вычисления"
   ]
  },
  {
   "cell_type": "markdown",
   "id": "cc374e54",
   "metadata": {},
   "source": [
    "Матричное умножение"
   ]
  },
  {
   "cell_type": "code",
   "execution_count": 22,
   "id": "fd78ce61",
   "metadata": {},
   "outputs": [
    {
     "data": {
      "text/plain": [
       "array([[ 15,  18,  21],\n",
       "       [ 42,  54,  66],\n",
       "       [ 69,  90, 111]])"
      ]
     },
     "execution_count": 22,
     "metadata": {},
     "output_type": "execute_result"
    }
   ],
   "source": [
    "A = np.arange(9).reshape(3,3)\n",
    "B = np.arange(9).reshape(3,3)\n",
    "np.matmul(A,B) # матричное умножение. Размерности матриц должны совпадать\n",
    "A@B"
   ]
  },
  {
   "cell_type": "markdown",
   "id": "ffb0c7ec",
   "metadata": {},
   "source": [
    "Внутреннее и внешнее умножение векторрв"
   ]
  },
  {
   "cell_type": "code",
   "execution_count": 46,
   "id": "03ffece6",
   "metadata": {},
   "outputs": [
    {
     "data": {
      "text/plain": [
       "array([[ 4,  3,  2,  1],\n",
       "       [ 8,  6,  4,  2],\n",
       "       [12,  9,  6,  3],\n",
       "       [16, 12,  8,  4]])"
      ]
     },
     "execution_count": 46,
     "metadata": {},
     "output_type": "execute_result"
    }
   ],
   "source": [
    "a =np.array([1,2,3,4]).reshape(2,2)\n",
    "b =np.array([4,3,2,1]).reshape(2,2)\n",
    "\n",
    "np.inner(a,b) #внутреннее умножение, разворачивает матрицу для корректного умножения\n",
    "\n",
    "np.outer(a,b)#внешнее умножение"
   ]
  },
  {
   "cell_type": "code",
   "execution_count": 74,
   "id": "a2a191e6",
   "metadata": {},
   "outputs": [],
   "source": [
    "a =np.array([1,2,3])\n",
    "b =np.array([[4,3,2],[1,1,1],[1,1,1]])"
   ]
  },
  {
   "cell_type": "code",
   "execution_count": 75,
   "id": "2b97e418",
   "metadata": {},
   "outputs": [
    {
     "data": {
      "text/plain": [
       "array([[ 4,  3,  2,  1,  1,  1,  1,  1,  1],\n",
       "       [ 8,  6,  4,  2,  2,  2,  2,  2,  2],\n",
       "       [12,  9,  6,  3,  3,  3,  3,  3,  3]])"
      ]
     },
     "execution_count": 75,
     "metadata": {},
     "output_type": "execute_result"
    }
   ],
   "source": [
    "np.inner(a,b)\n",
    "np.outer(a,b)"
   ]
  },
  {
   "cell_type": "code",
   "execution_count": 79,
   "id": "dbbbd9d1",
   "metadata": {},
   "outputs": [
    {
     "data": {
      "text/plain": [
       "array([[5, 5, 5],\n",
       "       [2, 3, 4],\n",
       "       [2, 3, 4]])"
      ]
     },
     "execution_count": 79,
     "metadata": {},
     "output_type": "execute_result"
    }
   ],
   "source": [
    "a+b"
   ]
  }
 ],
 "metadata": {
  "kernelspec": {
   "display_name": "Python 3 (ipykernel)",
   "language": "python",
   "name": "python3"
  },
  "language_info": {
   "codemirror_mode": {
    "name": "ipython",
    "version": 3
   },
   "file_extension": ".py",
   "mimetype": "text/x-python",
   "name": "python",
   "nbconvert_exporter": "python",
   "pygments_lexer": "ipython3",
   "version": "3.10.12"
  }
 },
 "nbformat": 4,
 "nbformat_minor": 5
}
