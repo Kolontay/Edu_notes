{
 "cells": [
  {
   "cell_type": "code",
   "execution_count": 316,
   "id": "50b80913-5b11-4661-be76-1b2bfc7770d0",
   "metadata": {},
   "outputs": [],
   "source": [
    "import pandas as pd\n",
    "import numpy as np \n",
    "import seaborn as sns\n",
    "import matplotlib.pyplot as plt\n",
    "from sklearn.linear_model import LogisticRegression\n",
    "import scipy.stats as stats"
   ]
  },
  {
   "cell_type": "code",
   "execution_count": 319,
   "id": "b50676e9-a83c-4e44-b1aa-c2fc031ef122",
   "metadata": {},
   "outputs": [
    {
     "name": "stdout",
     "output_type": "stream",
     "text": [
      "[46.33333333 52.73333333 59.13333333 65.53333333 71.93333333]\n",
      "Шаг_0 current mse: 8066.6667\n",
      "Шаг_20 current mse: 12.254\n",
      "Шаг_40 current mse: 10.0428\n",
      "Шаг_60 current mse: 8.2307\n",
      "Шаг_80 current mse: 6.7455\n",
      "[2.03358169 2.56691576 3.10024983 3.6335839  4.16691796]\n",
      "5.5835589665663505\n"
     ]
    }
   ],
   "source": [
    "X = np.array(range(0,15)).reshape(3,-1)\n",
    "# зададим сразу такие верные веса, для проверки\n",
    "w = np.array([1,2,3,4,5])\n",
    "# посчитаем тот y который получается при этих весах \n",
    "np.sum(X*w, axis = 1)\n",
    "# и зададим его как target\n",
    "y = np.array([40,115,190])\n",
    "\n",
    "# вернемся к начальным весам\n",
    "w = np.array([1,1,1,1,1])\n",
    "\n",
    "#тренировочные расчеты\n",
    "current_predict = X@w\n",
    "error = y -current_predict\n",
    "current_mse = (error**2).mean()\n",
    "\n",
    "curren_grad= -2*(error@X)/X.shape[0]\n",
    "learning_rate =0.04\n",
    "delta = curren_grad*learning_rate\n",
    "w =w - delta\n",
    "print(w)\n",
    "\n",
    "class Regression:\n",
    "    def __init__(self, learning_rate = 0.001, itterations = 100):\n",
    "        self.learning_rate = learning_rate\n",
    "        self.itterations = itterations\n",
    "        \n",
    "    def fit(self, X_train, y_train, weight):\n",
    "        self.X_train = X_train #np.hstack([np.ones((X_train.shape[0], 1)), X_train]) \n",
    "        self.y_train = y_train\n",
    "        self.weight = weight\n",
    "        \n",
    "        for i in range(self.itterations):\n",
    "            current_predict = self.X_train@self.weight\n",
    "            error = self.y_train -current_predict\n",
    "            current_mse = (error**2).mean()\n",
    "            if i%20==0: # выводим только каждый 20-ый шаг\n",
    "                print(f'Шаг_{i} current mse: {round(current_mse,4)}')\n",
    "            curren_grad= -2*(error@self.X_train)/self.X_train.shape[0] # минус остается как знак от вычитания прогноза, 2 от квадрата, (Х трансп) остается от производной от XW\n",
    "            delta = curren_grad*self.learning_rate\n",
    "            self.weight -= delta\n",
    "        print(self.weight)  \n",
    "        print(current_mse)\n",
    "\n",
    "\n",
    "model_regress = Regression(itterations = 100)\n",
    "model_regress.fit(np.array(range(0,15)).reshape(3,-1),np.array([40,115,190]),np.array([1,1,1,1,1.0]))"
   ]
  },
  {
   "cell_type": "code",
   "execution_count": 273,
   "id": "c5f13f61-1b2e-4a71-bdd9-047fbf0802e4",
   "metadata": {},
   "outputs": [],
   "source": [
    "X = np.array([[1,2,3,4,5],[-10,3,-3,4,-2],[7,12,18,23,25]])\n",
    "w = np.array([0.1, 0.2, 0.3, 0.4, 0.5])\n",
    "logit = np.sum(X*w, axis=1)\n",
    "prob = 1/(1+np.exp(-logit))\n",
    "y = (logit>0.5).astype(int)"
   ]
  },
  {
   "cell_type": "code",
   "execution_count": 282,
   "id": "b039234b-96ce-434e-a676-b0ba361cd10e",
   "metadata": {},
   "outputs": [],
   "source": [
    "current_logit = X@w\n",
    "current_prob = 1/(1+np.exp(-current_logit))"
   ]
  },
  {
   "cell_type": "code",
   "execution_count": 293,
   "id": "cc4ce3d1-d4c1-4abd-bcdb-7480b4799bb8",
   "metadata": {},
   "outputs": [],
   "source": [
    "loss = -sum((y*np.log(current_prob) + (1-y)*np.log(1-current_prob)))/X.shape[0]"
   ]
  },
  {
   "cell_type": "code",
   "execution_count": 299,
   "id": "01c70bc5-ec0f-4cd9-81b2-e7b904646f4a",
   "metadata": {},
   "outputs": [],
   "source": [
    "class LogisticClassification:\n",
    "    def __init__(self, learning_rate=0.01, iterations=1000):\n",
    "        self.learning_rate = learning_rate\n",
    "        self.iterations = iterations\n",
    "\n",
    "    def sigmoid(self, z):\n",
    "        return 1 / (1 + np.exp(-z))\n",
    "\n",
    "    def fit(self, X_train, y_train, weight):\n",
    "        self.X_train = np.hstack([np.ones((X_train.shape[0], 1)), X_train])  #np.hstack([np.ones((X_train.shape[0], 1)), X_train]) \n",
    "        self.y_train = y_train\n",
    "        self.weight = weight.astype(float)  # Важно: приведение к float для корректных вычислений\n",
    "\n",
    "        for i in range(self.iterations):\n",
    "            linear_model = self.X_train @ self.weight\n",
    "            y_pred = self.sigmoid(linear_model)\n",
    "            error = self.y_train - y_pred\n",
    "\n",
    "            loss = -(y_train * np.log(y_pred + 1e-15) + (1 - y_train) * np.log(1 - y_pred + 1e-15)).mean()\n",
    "            if i % 100 == 0:\n",
    "                print(f\"Итерация {i} | Log Loss: {round(loss, 4)}\")\n",
    "\n",
    "            grad = - (error @ self.X_train) / self.X_train.shape[0]\n",
    "            self.weight -= self.learning_rate * grad\n",
    "\n",
    "        print(\"Финальные веса:\", self.weight)\n",
    "        print(\"Финальный log loss:\", round(loss, 4))\n",
    "\n",
    "    def predict_proba(self, X):\n",
    "        return self.sigmoid(X @ self.weight)\n",
    "\n",
    "    def predict(self, X):\n",
    "        return (self.predict_proba(X) >= 0.5).astype(int)"
   ]
  },
  {
   "cell_type": "code",
   "execution_count": 302,
   "id": "7665d6ed-d7c4-40f8-b82d-1a93ae8cff54",
   "metadata": {},
   "outputs": [
    {
     "name": "stdout",
     "output_type": "stream",
     "text": [
      "Итерация 0 | Log Loss: 0.3837\n",
      "Итерация 100 | Log Loss: 0.0233\n",
      "Итерация 200 | Log Loss: 0.0119\n",
      "Итерация 300 | Log Loss: 0.0079\n",
      "Итерация 400 | Log Loss: 0.006\n",
      "Финальные веса: [0.03094754 0.42328737 0.03216063 0.31344386 0.13447944 0.51351229]\n",
      "Финальный log loss: 0.0048\n"
     ]
    }
   ],
   "source": [
    "model_class = LogisticClassification(iterations = 500)\n",
    "model_class.fit(np.array([[1,2,3,4,5],[-10,3,-3,4,-2],[7,12,18,23,25]]),np.array([1,0,1]),np.array([0,0,0,0,0,0.1]))"
   ]
  },
  {
   "cell_type": "code",
   "execution_count": 306,
   "id": "edf93120-bd01-4b99-ae11-2c01cbbdd050",
   "metadata": {},
   "outputs": [],
   "source": []
  },
  {
   "cell_type": "code",
   "execution_count": 309,
   "id": "b2c7fe53-6480-45f2-ab65-9283099fada6",
   "metadata": {},
   "outputs": [],
   "source": []
  },
  {
   "cell_type": "code",
   "execution_count": 312,
   "id": "c53e3263-fbec-401e-96c2-077aae0a6fb9",
   "metadata": {},
   "outputs": [],
   "source": []
  },
  {
   "cell_type": "code",
   "execution_count": null,
   "id": "6f2a000b-49b7-4d48-bcc1-d106eb759319",
   "metadata": {},
   "outputs": [],
   "source": []
  },
  {
   "cell_type": "code",
   "execution_count": null,
   "id": "68931a06-6df5-45ae-8bb7-28278e9de5f2",
   "metadata": {},
   "outputs": [],
   "source": []
  },
  {
   "cell_type": "code",
   "execution_count": null,
   "id": "9f517c0c-b050-45fb-8803-b9c57cdacddf",
   "metadata": {},
   "outputs": [],
   "source": []
  },
  {
   "cell_type": "code",
   "execution_count": null,
   "id": "f7a14c19-c772-4ea8-bf02-ac2124472ec5",
   "metadata": {},
   "outputs": [],
   "source": []
  },
  {
   "cell_type": "code",
   "execution_count": null,
   "id": "a90d8ea1-8c14-4e7c-a250-45bd132c1e03",
   "metadata": {},
   "outputs": [],
   "source": []
  }
 ],
 "metadata": {
  "kernelspec": {
   "display_name": "Python 3 (ipykernel)",
   "language": "python",
   "name": "python3"
  },
  "language_info": {
   "codemirror_mode": {
    "name": "ipython",
    "version": 3
   },
   "file_extension": ".py",
   "mimetype": "text/x-python",
   "name": "python",
   "nbconvert_exporter": "python",
   "pygments_lexer": "ipython3",
   "version": "3.11.7"
  }
 },
 "nbformat": 4,
 "nbformat_minor": 5
}
