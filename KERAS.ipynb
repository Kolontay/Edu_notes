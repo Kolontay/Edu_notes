{
 "cells": [
  {
   "cell_type": "markdown",
   "id": "bed6e83a",
   "metadata": {},
   "source": [
    "Для описания стандартных архитектур, в Keras уже сущуствуют классы для слоев и моделей\n",
    "\n",
    "Dense () - полносвязный слой \\\n",
    "Conv1D, Conv2D, Conv3D  - сверточные слои \\\n",
    "Conv2DTranspose, Conv3DTranspose - транспонированные (обратные) сверточные слои \\\n",
    "SimpleRNN, LSTM, GRU - рекуррентные слои \\\n",
    "MaxPooling2D, Dropout, BatchNormalization  - вспомогательные слои \\\n",
    "\n",
    "https://keras.io/api/layers/\n",
    "\n",
    "Model - общий класс модели \\\n",
    "Sequential - последовательная модель"
   ]
  },
  {
   "cell_type": "markdown",
   "id": "45492947",
   "metadata": {},
   "source": [
    "#### Общие функции"
   ]
  },
  {
   "cell_type": "code",
   "execution_count": null,
   "id": "44f6ec25",
   "metadata": {},
   "outputs": [],
   "source": [
    "model.summary() # показывает информацию о модели\n",
    "model.add(Dense(5,activation = 'linear', name = 'layer') # добавляет слой к модели\n",
    "model.layers # показывает слои\n",
    "model.layers[0].weights  # показывает веса слоя\n"
   ]
  },
  {
   "cell_type": "code",
   "execution_count": null,
   "id": "82067344",
   "metadata": {},
   "outputs": [],
   "source": []
  },
  {
   "cell_type": "code",
   "execution_count": 11,
   "id": "6817ef83",
   "metadata": {},
   "outputs": [],
   "source": [
    "import tensorflow as tf \n",
    "from tensorflow.keras.layers import Dense, Input, Conv2D, MaxPooling2D, Flatten\n",
    "from tensorflow import keras\n",
    "\n",
    "from tensorflow.keras.datasets import mnist\n",
    "from tensorflow.keras.utils import to_categorical\n",
    "import matplotlib.pyplot as plt"
   ]
  },
  {
   "cell_type": "code",
   "execution_count": 69,
   "id": "2136639e",
   "metadata": {},
   "outputs": [],
   "source": [
    "model = keras.Sequential([\n",
    "#    Input(shape = (20, )),   Это значит что тензор на вход должен быть [batch_size,20]\n",
    "    Dense(128, activation = 'relu', input_shape = (784,), name = 'hidden'),\n",
    "    Dense(10, activation = 'softmax', name = 'output_layer')\n",
    "])\n",
    "\n",
    "model_ex = keras.Model(inputs = model.inputs,\n",
    "                        outputs = [layer.output for layer in model.layers]) # добавим еще одну модель на основе 1-ой, которая её не меняет но, выходами дает и с последнего слоя и со скрытого\n",
    "\n",
    "# Размертность модели устанавливается при запуске входного тензора, если не прописано явно. до этого веса у нее нулевые \n",
    "x = tf.random.uniform((1,784),0,1)\n",
    "model(x)"
   ]
  },
  {
   "cell_type": "code",
   "execution_count": 71,
   "id": "0fa0db89",
   "metadata": {},
   "outputs": [
    {
     "name": "stdout",
     "output_type": "stream",
     "text": [
      "Epoch 1/5\n",
      "1875/1875 [==============================] - 8s 4ms/step - loss: 0.2590 - accuracy: 0.9259\n",
      "Epoch 2/5\n",
      "1875/1875 [==============================] - 7s 4ms/step - loss: 0.1138 - accuracy: 0.9660\n",
      "Epoch 3/5\n",
      "1875/1875 [==============================] - 8s 4ms/step - loss: 0.0772 - accuracy: 0.9765\n",
      "Epoch 4/5\n",
      "1875/1875 [==============================] - 8s 4ms/step - loss: 0.0579 - accuracy: 0.9829\n",
      "Epoch 5/5\n",
      "1875/1875 [==============================] - 7s 4ms/step - loss: 0.0440 - accuracy: 0.9865\n",
      "313/313 [==============================] - 1s 2ms/step - loss: 0.0857 - accuracy: 0.9745\n",
      "[0.08570753037929535, 0.9745000004768372]\n"
     ]
    }
   ],
   "source": [
    "(x_train, y_train), (x_test, y_test) = mnist.load_data()\n",
    "x_train = x_train/255\n",
    "x_test = x_test/255\n",
    "\n",
    "x_train = tf.reshape(tf.cast(x_train,tf.float32), [-1,28*28])\n",
    "x_test = tf.reshape(tf.cast(x_test,tf.float32), [-1,28*28])\n",
    "\n",
    "y_train = to_categorical(y_train,10)\n",
    "y_test_cat = to_categorical(y_test,10)\n",
    "\n",
    "model.compile(optimizer = 'adam',\n",
    "             loss = 'categorical_crossentropy',\n",
    "             metrics = ['accuracy'])\n",
    "model.fit(x_train,y_train,batch_size =32, epochs =5)\n",
    "print (model.evaluate(x_test,y_test_cat))\n",
    "\n",
    "\n",
    "x = tf.expand_dims(x_test[0],axis =0)\n",
    "y = model_ex(x)\n",
    "y2 = model(x)\n",
    "print (y,y2, sep='\\n\\n')"
   ]
  },
  {
   "cell_type": "markdown",
   "id": "493954b2",
   "metadata": {},
   "source": [
    "#### Можно легко добавлять слои и дообучать"
   ]
  },
  {
   "cell_type": "code",
   "execution_count": 72,
   "id": "e1a9b03f",
   "metadata": {},
   "outputs": [
    {
     "name": "stdout",
     "output_type": "stream",
     "text": [
      "Epoch 1/3\n",
      "1875/1875 [==============================] - 6s 3ms/step - loss: 1.1145 - accuracy: 0.8547\n",
      "Epoch 2/3\n",
      "1875/1875 [==============================] - 5s 3ms/step - loss: 0.3541 - accuracy: 0.8979\n",
      "Epoch 3/3\n",
      "1875/1875 [==============================] - 5s 2ms/step - loss: 0.2224 - accuracy: 0.8987\n",
      "313/313 [==============================] - 1s 2ms/step - loss: 0.2554 - accuracy: 0.8845\n",
      "[0.2554381489753723, 0.8845000267028809]\n"
     ]
    }
   ],
   "source": [
    "model_ex_2= keras.Sequential([model,\n",
    "                             Dense(10,activation ='softmax')\n",
    "                             ])\n",
    "#model.trainable = False # чтобы не обучалась заново model\n",
    "model.layers[0].trainable = False #Можно чтобы не переобучалася только первый слой\n",
    "model_ex_2.compile(optimizer = 'adam',\n",
    "             loss = 'categorical_crossentropy',\n",
    "             metrics = ['accuracy'])\n",
    "\n",
    "model_ex_2.fit(x_train,y_train,batch_size =32, epochs =3)\n",
    "print (model_ex_2.evaluate(x_test,y_test_cat))"
   ]
  },
  {
   "cell_type": "markdown",
   "id": "083a19ec",
   "metadata": {},
   "source": [
    "### _________________________________________________________________________"
   ]
  },
  {
   "cell_type": "code",
   "execution_count": 14,
   "id": "72f94d83",
   "metadata": {},
   "outputs": [],
   "source": [
    "from tensorflow.keras.datasets import cifar10\n",
    "from tensorflow.keras import layers"
   ]
  },
  {
   "cell_type": "code",
   "execution_count": 7,
   "id": "616eef4b",
   "metadata": {},
   "outputs": [],
   "source": [
    "tf.random.set_seed(1)"
   ]
  },
  {
   "cell_type": "code",
   "execution_count": 17,
   "id": "9265bad2",
   "metadata": {},
   "outputs": [],
   "source": [
    "# Опишем сеть не используя класс Sequential\n",
    "# Это пока не модель, а просто сеть, обучать нельзя\n",
    "input = keras.Input(shape=(32,32,3))\n",
    "x = layers.Conv2D(32,3, activation = 'relu')(input)\n",
    "x = layers.MaxPooling2D(2, padding = 'same')(x)\n",
    "x = layers.Conv2D(64,3, activation = 'relu')(x)\n",
    "x = layers.MaxPooling2D(2, padding = 'same')(x)\n",
    "x = layers.Flatten()(x)\n",
    "x = layers.Dense(256, activation = 'relu')(x)\n",
    "x = layers.Dropout(0.5)(x)\n",
    "output = layers.Dense(10,activation = 'softmax')(x)\n",
    "\n",
    "#А вот теперь уже модель\n",
    "model = keras.Model(inputs=input, outputs = output)"
   ]
  },
  {
   "cell_type": "code",
   "execution_count": 18,
   "id": "aacb474d",
   "metadata": {},
   "outputs": [
    {
     "name": "stdout",
     "output_type": "stream",
     "text": [
      "Model: \"model_1\"\n",
      "_________________________________________________________________\n",
      " Layer (type)                Output Shape              Param #   \n",
      "=================================================================\n",
      " input_5 (InputLayer)        [(None, 32, 32, 3)]       0         \n",
      "                                                                 \n",
      " conv2d_2 (Conv2D)           (None, 30, 30, 32)        896       \n",
      "                                                                 \n",
      " max_pooling2d_2 (MaxPoolin  (None, 15, 15, 32)        0         \n",
      " g2D)                                                            \n",
      "                                                                 \n",
      " conv2d_3 (Conv2D)           (None, 13, 13, 64)        18496     \n",
      "                                                                 \n",
      " max_pooling2d_3 (MaxPoolin  (None, 7, 7, 64)          0         \n",
      " g2D)                                                            \n",
      "                                                                 \n",
      " flatten_1 (Flatten)         (None, 3136)              0         \n",
      "                                                                 \n",
      " dense_2 (Dense)             (None, 256)               803072    \n",
      "                                                                 \n",
      " dropout_1 (Dropout)         (None, 256)               0         \n",
      "                                                                 \n",
      " dense_3 (Dense)             (None, 10)                2570      \n",
      "                                                                 \n",
      "=================================================================\n",
      "Total params: 825034 (3.15 MB)\n",
      "Trainable params: 825034 (3.15 MB)\n",
      "Non-trainable params: 0 (0.00 Byte)\n",
      "_________________________________________________________________\n"
     ]
    }
   ],
   "source": [
    "model.summary()"
   ]
  },
  {
   "cell_type": "code",
   "execution_count": 29,
   "id": "7244a724",
   "metadata": {},
   "outputs": [],
   "source": [
    "(x_train, y_train), (x_test, y_test) = cifar10.load_data()"
   ]
  },
  {
   "cell_type": "code",
   "execution_count": 30,
   "id": "23debcf5",
   "metadata": {},
   "outputs": [],
   "source": [
    "x_train = x_train/255\n",
    "x_test = x_test/255\n",
    "\n",
    "y_train = to_categorical(y_train,10)\n",
    "y_test = to_categorical(y_test,10)\n",
    "\n",
    "model.compile(optimizer = 'adam',\n",
    "             loss = 'categorical_crossentropy',\n",
    "             metrics = ['accuracy'])"
   ]
  },
  {
   "cell_type": "code",
   "execution_count": 31,
   "id": "3ad448f1",
   "metadata": {},
   "outputs": [
    {
     "name": "stdout",
     "output_type": "stream",
     "text": [
      "Epoch 1/20\n",
      "625/625 [==============================] - 49s 74ms/step - loss: 1.5825 - accuracy: 0.4237 - val_loss: 1.2767 - val_accuracy: 0.5540\n",
      "Epoch 2/20\n",
      "625/625 [==============================] - 46s 73ms/step - loss: 1.2175 - accuracy: 0.5671 - val_loss: 1.0853 - val_accuracy: 0.6239\n",
      "Epoch 3/20\n",
      "625/625 [==============================] - 46s 73ms/step - loss: 1.0745 - accuracy: 0.6227 - val_loss: 1.0048 - val_accuracy: 0.6530\n",
      "Epoch 4/20\n",
      "625/625 [==============================] - 51s 81ms/step - loss: 0.9781 - accuracy: 0.6562 - val_loss: 0.9325 - val_accuracy: 0.6769\n",
      "Epoch 5/20\n",
      "625/625 [==============================] - 46s 74ms/step - loss: 0.9135 - accuracy: 0.6784 - val_loss: 0.8918 - val_accuracy: 0.6908\n",
      "Epoch 6/20\n",
      "625/625 [==============================] - 53s 85ms/step - loss: 0.8591 - accuracy: 0.6979 - val_loss: 0.8748 - val_accuracy: 0.6977\n",
      "Epoch 7/20\n",
      "625/625 [==============================] - 55s 87ms/step - loss: 0.8037 - accuracy: 0.7166 - val_loss: 0.8509 - val_accuracy: 0.7034\n",
      "Epoch 8/20\n",
      "625/625 [==============================] - 52s 83ms/step - loss: 0.7531 - accuracy: 0.7355 - val_loss: 0.8895 - val_accuracy: 0.6952\n",
      "Epoch 9/20\n",
      "625/625 [==============================] - 52s 83ms/step - loss: 0.7164 - accuracy: 0.7455 - val_loss: 0.8550 - val_accuracy: 0.7139\n",
      "Epoch 10/20\n",
      "625/625 [==============================] - 56s 90ms/step - loss: 0.6732 - accuracy: 0.7607 - val_loss: 0.8162 - val_accuracy: 0.7248\n",
      "Epoch 11/20\n",
      "625/625 [==============================] - 59s 94ms/step - loss: 0.6308 - accuracy: 0.7747 - val_loss: 0.8409 - val_accuracy: 0.7202\n",
      "Epoch 12/20\n",
      "625/625 [==============================] - 53s 85ms/step - loss: 0.5953 - accuracy: 0.7890 - val_loss: 0.8372 - val_accuracy: 0.7255\n",
      "Epoch 13/20\n",
      "625/625 [==============================] - 54s 86ms/step - loss: 0.5534 - accuracy: 0.8020 - val_loss: 0.8516 - val_accuracy: 0.7290\n",
      "Epoch 14/20\n",
      "625/625 [==============================] - 57s 91ms/step - loss: 0.5222 - accuracy: 0.8133 - val_loss: 0.8726 - val_accuracy: 0.7246\n",
      "Epoch 15/20\n",
      "625/625 [==============================] - 54s 86ms/step - loss: 0.4998 - accuracy: 0.8212 - val_loss: 0.8642 - val_accuracy: 0.7252\n",
      "Epoch 16/20\n",
      "625/625 [==============================] - 52s 83ms/step - loss: 0.4690 - accuracy: 0.8303 - val_loss: 0.8787 - val_accuracy: 0.7242\n",
      "Epoch 17/20\n",
      "625/625 [==============================] - 59s 95ms/step - loss: 0.4306 - accuracy: 0.8446 - val_loss: 0.9096 - val_accuracy: 0.7255\n",
      "Epoch 18/20\n",
      "625/625 [==============================] - 55s 88ms/step - loss: 0.4157 - accuracy: 0.8508 - val_loss: 0.9268 - val_accuracy: 0.7133\n",
      "Epoch 19/20\n",
      "625/625 [==============================] - 55s 88ms/step - loss: 0.4003 - accuracy: 0.8543 - val_loss: 0.9447 - val_accuracy: 0.7227\n",
      "Epoch 20/20\n",
      "625/625 [==============================] - 61s 98ms/step - loss: 0.3796 - accuracy: 0.8624 - val_loss: 1.0200 - val_accuracy: 0.7153\n"
     ]
    },
    {
     "data": {
      "text/plain": [
       "<keras.src.callbacks.History at 0x220afdceef0>"
      ]
     },
     "execution_count": 31,
     "metadata": {},
     "output_type": "execute_result"
    }
   ],
   "source": [
    "model.fit(x_train,y_train, batch_size = 64, epochs =20, validation_split = 0.2)"
   ]
  },
  {
   "cell_type": "code",
   "execution_count": 33,
   "id": "2e21914b",
   "metadata": {},
   "outputs": [
    {
     "data": {
      "text/plain": [
       "array([[1, 2, 3],\n",
       "       [1, 2, 3]])"
      ]
     },
     "execution_count": 33,
     "metadata": {},
     "output_type": "execute_result"
    }
   ],
   "source": [
    "import numpy as np\n"
   ]
  },
  {
   "cell_type": "code",
   "execution_count": 46,
   "id": "fb6288c0",
   "metadata": {},
   "outputs": [],
   "source": []
  },
  {
   "cell_type": "code",
   "execution_count": 42,
   "id": "c35e92ec",
   "metadata": {},
   "outputs": [],
   "source": []
  },
  {
   "cell_type": "code",
   "execution_count": null,
   "id": "2cc21dfb",
   "metadata": {},
   "outputs": [],
   "source": []
  },
  {
   "cell_type": "code",
   "execution_count": null,
   "id": "964d11ad",
   "metadata": {},
   "outputs": [],
   "source": []
  }
 ],
 "metadata": {
  "kernelspec": {
   "display_name": "Python 3 (ipykernel)",
   "language": "python",
   "name": "python3"
  },
  "language_info": {
   "codemirror_mode": {
    "name": "ipython",
    "version": 3
   },
   "file_extension": ".py",
   "mimetype": "text/x-python",
   "name": "python",
   "nbconvert_exporter": "python",
   "pygments_lexer": "ipython3",
   "version": "3.10.12"
  }
 },
 "nbformat": 4,
 "nbformat_minor": 5
}
