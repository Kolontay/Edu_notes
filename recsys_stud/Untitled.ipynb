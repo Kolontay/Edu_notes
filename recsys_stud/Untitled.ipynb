{
 "cells": [
  {
   "cell_type": "code",
   "execution_count": 484,
   "id": "2627f3cf",
   "metadata": {},
   "outputs": [],
   "source": [
    "d ={2:['a','b','c'],\n",
    "3:['d','e','f'],\n",
    "4:['g','h','i'],\n",
    "5:['j','k','l'],\n",
    "6:['m','n','o'],\n",
    "7:['p','q','r','s'],\n",
    "8:['t','u','v'],\n",
    "9:['w','x','y','z']}\n",
    "digits ='23'"
   ]
  },
  {
   "cell_type": "code",
   "execution_count": null,
   "id": "29c3c856",
   "metadata": {},
   "outputs": [],
   "source": []
  },
  {
   "cell_type": "code",
   "execution_count": 485,
   "id": "211be4b2",
   "metadata": {},
   "outputs": [],
   "source": [
    "bumb = [int(i) for i in digits]"
   ]
  },
  {
   "cell_type": "code",
   "execution_count": 495,
   "id": "7ad1df29",
   "metadata": {},
   "outputs": [
    {
     "data": {
      "text/plain": [
       "'a'"
      ]
     },
     "execution_count": 495,
     "metadata": {},
     "output_type": "execute_result"
    }
   ],
   "source": [
    "d[bumb[0]][0]"
   ]
  },
  {
   "cell_type": "code",
   "execution_count": 500,
   "id": "dbba460d",
   "metadata": {},
   "outputs": [],
   "source": [
    "s =[]\n",
    "for i in d[bumb[0]]:\n",
    "    for j in d[bumb[1]]:\n",
    "        s.append(i+j)"
   ]
  },
  {
   "cell_type": "code",
   "execution_count": 501,
   "id": "55b49daa",
   "metadata": {},
   "outputs": [
    {
     "data": {
      "text/plain": [
       "['ad', 'ae', 'af', 'bd', 'be', 'bf', 'cd', 'ce', 'cf']"
      ]
     },
     "execution_count": 501,
     "metadata": {},
     "output_type": "execute_result"
    }
   ],
   "source": [
    "s\n"
   ]
  },
  {
   "cell_type": "code",
   "execution_count": 510,
   "id": "39fe7662",
   "metadata": {},
   "outputs": [],
   "source": [
    "digits = '2'"
   ]
  },
  {
   "cell_type": "code",
   "execution_count": 538,
   "id": "c1f14123",
   "metadata": {},
   "outputs": [],
   "source": [
    "def f(digits):\n",
    "    d ={2:['a','b','c'],\n",
    "            3:['d','e','f'],\n",
    "            4:['g','h','i'],\n",
    "            5:['j','k','l'],\n",
    "            6:['m','n','o'],\n",
    "            7:['p','q','r','s'],\n",
    "            8:['t','u','v'],\n",
    "            9:['w','x','y','z']}\n",
    "\n",
    "    bumb = [int(i) for i in digits]\n",
    "\n",
    "    if len(digits) ==0:\n",
    "        return ''\n",
    "    elif len(digits) ==1:\n",
    "        return d[int(digits)]\n",
    "    elif len(digits) ==2:\n",
    "        s =[]\n",
    "        for i in d[bumb[0]]:\n",
    "            for j in d[bumb[1]]:\n",
    "                s.append(i+j)\n",
    "        return s    \n",
    "    elif len(digits) ==3:\n",
    "        s =[]\n",
    "        for i in d[bumb[0]]:\n",
    "            for j in d[bumb[1]]:\n",
    "                for a in d[bumb[2]]:\n",
    "                    s.append(i+j+a)\n",
    "        return s           \n",
    "    elif len(digits) ==4:\n",
    "        s =[]\n",
    "        for i in d[bumb[0]]:\n",
    "            for j in d[bumb[1]]:\n",
    "                for a in d[bumb[2]]:\n",
    "                    for h in d[bumb[3]]:\n",
    "                        s.append(i+j+a+h)\n",
    "        return s "
   ]
  },
  {
   "cell_type": "code",
   "execution_count": 519,
   "id": "734301cd",
   "metadata": {},
   "outputs": [],
   "source": [
    "bumb = [int(i) for i in '2']"
   ]
  },
  {
   "cell_type": "code",
   "execution_count": 541,
   "id": "c5f39b5e",
   "metadata": {},
   "outputs": [
    {
     "data": {
      "text/plain": [
       "['d', 'e', 'f']"
      ]
     },
     "execution_count": 541,
     "metadata": {},
     "output_type": "execute_result"
    }
   ],
   "source": [
    "f('3')"
   ]
  },
  {
   "cell_type": "code",
   "execution_count": 537,
   "id": "befebc2d",
   "metadata": {},
   "outputs": [
    {
     "ename": "KeyError",
     "evalue": "'2'",
     "output_type": "error",
     "traceback": [
      "\u001b[1;31m---------------------------------------------------------------------------\u001b[0m",
      "\u001b[1;31mKeyError\u001b[0m                                  Traceback (most recent call last)",
      "Cell \u001b[1;32mIn[537], line 1\u001b[0m\n\u001b[1;32m----> 1\u001b[0m d[\u001b[38;5;124m'\u001b[39m\u001b[38;5;124m2\u001b[39m\u001b[38;5;124m'\u001b[39m]\n",
      "\u001b[1;31mKeyError\u001b[0m: '2'"
     ]
    }
   ],
   "source": [
    "d['2']"
   ]
  },
  {
   "cell_type": "code",
   "execution_count": 444,
   "id": "bc022108",
   "metadata": {},
   "outputs": [],
   "source": [
    "left,right= 1,1\n"
   ]
  },
  {
   "cell_type": "code",
   "execution_count": 445,
   "id": "9cb71853",
   "metadata": {},
   "outputs": [
    {
     "data": {
      "text/plain": [
       "True"
      ]
     },
     "execution_count": 445,
     "metadata": {},
     "output_type": "execute_result"
    }
   ],
   "source": [
    "s[left] == s[right]"
   ]
  },
  {
   "cell_type": "code",
   "execution_count": 440,
   "id": "6e440b23",
   "metadata": {},
   "outputs": [
    {
     "data": {
      "text/plain": [
       "'b'"
      ]
     },
     "execution_count": 440,
     "metadata": {},
     "output_type": "execute_result"
    }
   ],
   "source": [
    "s[right]"
   ]
  },
  {
   "cell_type": "code",
   "execution_count": 441,
   "id": "8ec16858",
   "metadata": {},
   "outputs": [],
   "source": [
    "left -= 1\n",
    "right += 1"
   ]
  },
  {
   "cell_type": "code",
   "execution_count": 443,
   "id": "d8bca51c",
   "metadata": {},
   "outputs": [
    {
     "data": {
      "text/plain": [
       "'b'"
      ]
     },
     "execution_count": 443,
     "metadata": {},
     "output_type": "execute_result"
    }
   ],
   "source": [
    "s[left + 1:right]"
   ]
  },
  {
   "cell_type": "code",
   "execution_count": 300,
   "id": "8153e155",
   "metadata": {},
   "outputs": [],
   "source": []
  },
  {
   "cell_type": "code",
   "execution_count": null,
   "id": "38427f07",
   "metadata": {},
   "outputs": [],
   "source": []
  },
  {
   "cell_type": "code",
   "execution_count": null,
   "id": "34a97c9b",
   "metadata": {},
   "outputs": [],
   "source": []
  }
 ],
 "metadata": {
  "kernelspec": {
   "display_name": "Python 3 (ipykernel)",
   "language": "python",
   "name": "python3"
  },
  "language_info": {
   "codemirror_mode": {
    "name": "ipython",
    "version": 3
   },
   "file_extension": ".py",
   "mimetype": "text/x-python",
   "name": "python",
   "nbconvert_exporter": "python",
   "pygments_lexer": "ipython3",
   "version": "3.11.5"
  }
 },
 "nbformat": 4,
 "nbformat_minor": 5
}
