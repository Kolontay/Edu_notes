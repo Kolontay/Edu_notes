{
 "cells": [
  {
   "cell_type": "code",
   "execution_count": 1,
   "id": "2c835c6e",
   "metadata": {},
   "outputs": [],
   "source": [
    "import pandas as pd\n",
    "import numpy as np\n",
    "import random\n",
    "\n",
    "import matplotlib.pyplot as plt\n"
   ]
  },
  {
   "cell_type": "code",
   "execution_count": 2,
   "id": "e715bfcb",
   "metadata": {},
   "outputs": [],
   "source": [
    "df = pd.read_csv(\"./data/ratings.csv\")\n",
    "movie_titles = pd.read_csv('./data/movies_titles.csv') \n",
    "df['item_id'] = df['movieId']\n",
    "df = df.drop('movieId', axis = 1)\n",
    "movielens = pd.merge(df, movie_titles, on='item_id') \n",
    "\n",
    "movielens.head(5)"
   ]
  },
  {
   "cell_type": "code",
   "execution_count": 6,
   "id": "474b1e29",
   "metadata": {},
   "outputs": [
    {
     "data": {
      "text/html": [
       "<div>\n",
       "<style scoped>\n",
       "    .dataframe tbody tr th:only-of-type {\n",
       "        vertical-align: middle;\n",
       "    }\n",
       "\n",
       "    .dataframe tbody tr th {\n",
       "        vertical-align: top;\n",
       "    }\n",
       "\n",
       "    .dataframe thead th {\n",
       "        text-align: right;\n",
       "    }\n",
       "</style>\n",
       "<table border=\"1\" class=\"dataframe\">\n",
       "  <thead>\n",
       "    <tr style=\"text-align: right;\">\n",
       "      <th></th>\n",
       "      <th>userId</th>\n",
       "      <th>rating</th>\n",
       "      <th>timestamp</th>\n",
       "      <th>item_id</th>\n",
       "      <th>title</th>\n",
       "    </tr>\n",
       "  </thead>\n",
       "  <tbody>\n",
       "    <tr>\n",
       "      <th>0</th>\n",
       "      <td>1</td>\n",
       "      <td>2.5</td>\n",
       "      <td>1260759144</td>\n",
       "      <td>31</td>\n",
       "      <td>Crimson Tide (1995)</td>\n",
       "    </tr>\n",
       "    <tr>\n",
       "      <th>1</th>\n",
       "      <td>7</td>\n",
       "      <td>3.0</td>\n",
       "      <td>851868750</td>\n",
       "      <td>31</td>\n",
       "      <td>Crimson Tide (1995)</td>\n",
       "    </tr>\n",
       "    <tr>\n",
       "      <th>2</th>\n",
       "      <td>31</td>\n",
       "      <td>4.0</td>\n",
       "      <td>1273541953</td>\n",
       "      <td>31</td>\n",
       "      <td>Crimson Tide (1995)</td>\n",
       "    </tr>\n",
       "    <tr>\n",
       "      <th>3</th>\n",
       "      <td>32</td>\n",
       "      <td>4.0</td>\n",
       "      <td>834828440</td>\n",
       "      <td>31</td>\n",
       "      <td>Crimson Tide (1995)</td>\n",
       "    </tr>\n",
       "    <tr>\n",
       "      <th>4</th>\n",
       "      <td>36</td>\n",
       "      <td>3.0</td>\n",
       "      <td>847057202</td>\n",
       "      <td>31</td>\n",
       "      <td>Crimson Tide (1995)</td>\n",
       "    </tr>\n",
       "    <tr>\n",
       "      <th>...</th>\n",
       "      <td>...</td>\n",
       "      <td>...</td>\n",
       "      <td>...</td>\n",
       "      <td>...</td>\n",
       "      <td>...</td>\n",
       "    </tr>\n",
       "    <tr>\n",
       "      <th>39824</th>\n",
       "      <td>641</td>\n",
       "      <td>4.0</td>\n",
       "      <td>850021377</td>\n",
       "      <td>638</td>\n",
       "      <td>Return of Martin Guerre, The (Retour de Martin...</td>\n",
       "    </tr>\n",
       "    <tr>\n",
       "      <th>39825</th>\n",
       "      <td>647</td>\n",
       "      <td>3.0</td>\n",
       "      <td>947292322</td>\n",
       "      <td>245</td>\n",
       "      <td>Devil's Own, The (1997)</td>\n",
       "    </tr>\n",
       "    <tr>\n",
       "      <th>39826</th>\n",
       "      <td>659</td>\n",
       "      <td>4.0</td>\n",
       "      <td>836137550</td>\n",
       "      <td>167</td>\n",
       "      <td>Private Benjamin (1980)</td>\n",
       "    </tr>\n",
       "    <tr>\n",
       "      <th>39827</th>\n",
       "      <td>659</td>\n",
       "      <td>3.0</td>\n",
       "      <td>834694187</td>\n",
       "      <td>563</td>\n",
       "      <td>Stephen King's The Langoliers (1995)</td>\n",
       "    </tr>\n",
       "    <tr>\n",
       "      <th>39828</th>\n",
       "      <td>665</td>\n",
       "      <td>3.0</td>\n",
       "      <td>995232528</td>\n",
       "      <td>129</td>\n",
       "      <td>Bound (1996)</td>\n",
       "    </tr>\n",
       "  </tbody>\n",
       "</table>\n",
       "<p>39829 rows × 5 columns</p>\n",
       "</div>"
      ],
      "text/plain": [
       "       userId  rating   timestamp  item_id  \\\n",
       "0           1     2.5  1260759144       31   \n",
       "1           7     3.0   851868750       31   \n",
       "2          31     4.0  1273541953       31   \n",
       "3          32     4.0   834828440       31   \n",
       "4          36     3.0   847057202       31   \n",
       "...       ...     ...         ...      ...   \n",
       "39824     641     4.0   850021377      638   \n",
       "39825     647     3.0   947292322      245   \n",
       "39826     659     4.0   836137550      167   \n",
       "39827     659     3.0   834694187      563   \n",
       "39828     665     3.0   995232528      129   \n",
       "\n",
       "                                                   title  \n",
       "0                                    Crimson Tide (1995)  \n",
       "1                                    Crimson Tide (1995)  \n",
       "2                                    Crimson Tide (1995)  \n",
       "3                                    Crimson Tide (1995)  \n",
       "4                                    Crimson Tide (1995)  \n",
       "...                                                  ...  \n",
       "39824  Return of Martin Guerre, The (Retour de Martin...  \n",
       "39825                            Devil's Own, The (1997)  \n",
       "39826                            Private Benjamin (1980)  \n",
       "39827               Stephen King's The Langoliers (1995)  \n",
       "39828                                       Bound (1996)  \n",
       "\n",
       "[39829 rows x 5 columns]"
      ]
     },
     "execution_count": 6,
     "metadata": {},
     "output_type": "execute_result"
    }
   ],
   "source": [
    "movielens"
   ]
  },
  {
   "cell_type": "code",
   "execution_count": 8,
   "id": "418665ed",
   "metadata": {},
   "outputs": [
    {
     "data": {
      "text/plain": [
       "title\n",
       "Promise, The (Versprechen, Das) (1994)    5.0\n",
       "Fair Game (1995)                          5.0\n",
       "Pompatus of Love, The (1996)              5.0\n",
       "Love Jones (1997)                         5.0\n",
       "That Thing You Do! (1996)                 5.0\n",
       "Name: rating, dtype: float64"
      ]
     },
     "execution_count": 8,
     "metadata": {},
     "output_type": "execute_result"
    }
   ],
   "source": [
    "# Средний рейтинг фильмов\n",
    "movielens.groupby('title')['rating'].mean().sort_values(ascending=False).head() "
   ]
  },
  {
   "cell_type": "code",
   "execution_count": 9,
   "id": "8edc3536",
   "metadata": {},
   "outputs": [
    {
     "data": {
      "text/plain": [
       "title\n",
       "Client, The (1994)         341\n",
       "Promesse, La (1996)        324\n",
       "Schindler's List (1993)    311\n",
       "Stalingrad (1993)          304\n",
       "Event Horizon (1997)       291\n",
       "Name: rating, dtype: int64"
      ]
     },
     "execution_count": 9,
     "metadata": {},
     "output_type": "execute_result"
    }
   ],
   "source": [
    "# Кол-во рейтингов на фильм\n",
    "movielens.groupby('title')['rating'].count().sort_values(ascending=False).head() "
   ]
  },
  {
   "cell_type": "code",
   "execution_count": 15,
   "id": "ef67e7d9",
   "metadata": {},
   "outputs": [
    {
     "data": {
      "text/html": [
       "<div>\n",
       "<style scoped>\n",
       "    .dataframe tbody tr th:only-of-type {\n",
       "        vertical-align: middle;\n",
       "    }\n",
       "\n",
       "    .dataframe tbody tr th {\n",
       "        vertical-align: top;\n",
       "    }\n",
       "\n",
       "    .dataframe thead th {\n",
       "        text-align: right;\n",
       "    }\n",
       "</style>\n",
       "<table border=\"1\" class=\"dataframe\">\n",
       "  <thead>\n",
       "    <tr style=\"text-align: right;\">\n",
       "      <th></th>\n",
       "      <th>title</th>\n",
       "      <th>num_of_ratings</th>\n",
       "      <th>rating</th>\n",
       "    </tr>\n",
       "  </thead>\n",
       "  <tbody>\n",
       "    <tr>\n",
       "      <th>0</th>\n",
       "      <td>'Til There Was You (1997)</td>\n",
       "      <td>19</td>\n",
       "      <td>4.052632</td>\n",
       "    </tr>\n",
       "    <tr>\n",
       "      <th>1</th>\n",
       "      <td>1-900 (1994)</td>\n",
       "      <td>13</td>\n",
       "      <td>2.961538</td>\n",
       "    </tr>\n",
       "    <tr>\n",
       "      <th>2</th>\n",
       "      <td>101 Dalmatians (1996)</td>\n",
       "      <td>52</td>\n",
       "      <td>3.173077</td>\n",
       "    </tr>\n",
       "    <tr>\n",
       "      <th>3</th>\n",
       "      <td>12 Angry Men (1957)</td>\n",
       "      <td>5</td>\n",
       "      <td>4.700000</td>\n",
       "    </tr>\n",
       "    <tr>\n",
       "      <th>4</th>\n",
       "      <td>187 (1997)</td>\n",
       "      <td>10</td>\n",
       "      <td>2.700000</td>\n",
       "    </tr>\n",
       "    <tr>\n",
       "      <th>...</th>\n",
       "      <td>...</td>\n",
       "      <td>...</td>\n",
       "      <td>...</td>\n",
       "    </tr>\n",
       "    <tr>\n",
       "      <th>1319</th>\n",
       "      <td>Young Guns II (1990)</td>\n",
       "      <td>34</td>\n",
       "      <td>3.397059</td>\n",
       "    </tr>\n",
       "    <tr>\n",
       "      <th>1320</th>\n",
       "      <td>Young Poisoner's Handbook, The (1995)</td>\n",
       "      <td>5</td>\n",
       "      <td>3.000000</td>\n",
       "    </tr>\n",
       "    <tr>\n",
       "      <th>1321</th>\n",
       "      <td>Zeus and Roxanne (1997)</td>\n",
       "      <td>1</td>\n",
       "      <td>1.000000</td>\n",
       "    </tr>\n",
       "    <tr>\n",
       "      <th>1322</th>\n",
       "      <td>unknown</td>\n",
       "      <td>13</td>\n",
       "      <td>2.730769</td>\n",
       "    </tr>\n",
       "    <tr>\n",
       "      <th>1323</th>\n",
       "      <td>Á köldum klaka (Cold Fever) (1994)</td>\n",
       "      <td>8</td>\n",
       "      <td>3.375000</td>\n",
       "    </tr>\n",
       "  </tbody>\n",
       "</table>\n",
       "<p>1324 rows × 3 columns</p>\n",
       "</div>"
      ],
      "text/plain": [
       "                                      title  num_of_ratings    rating\n",
       "0                 'Til There Was You (1997)              19  4.052632\n",
       "1                              1-900 (1994)              13  2.961538\n",
       "2                     101 Dalmatians (1996)              52  3.173077\n",
       "3                       12 Angry Men (1957)               5  4.700000\n",
       "4                                187 (1997)              10  2.700000\n",
       "...                                     ...             ...       ...\n",
       "1319                   Young Guns II (1990)              34  3.397059\n",
       "1320  Young Poisoner's Handbook, The (1995)               5  3.000000\n",
       "1321                Zeus and Roxanne (1997)               1  1.000000\n",
       "1322                                unknown              13  2.730769\n",
       "1323     Á köldum klaka (Cold Fever) (1994)               8  3.375000\n",
       "\n",
       "[1324 rows x 3 columns]"
      ]
     },
     "execution_count": 15,
     "metadata": {},
     "output_type": "execute_result"
    }
   ],
   "source": [
    "ratings = movielens.groupby('title',as_index =False).agg(num_of_ratings = ('rating','count'), rating = ('rating','mean'))\n",
    "ratings"
   ]
  },
  {
   "cell_type": "code",
   "execution_count": 16,
   "id": "508f0535",
   "metadata": {},
   "outputs": [
    {
     "data": {
      "text/plain": [
       "<Axes: title={'center': 'Number of ratings'}>"
      ]
     },
     "execution_count": 16,
     "metadata": {},
     "output_type": "execute_result"
    },
    {
     "data": {
      "image/png": "[encoded data removed]",
      "text/plain": [
       "<Figure size 1000x400 with 1 Axes>"
      ]
     },
     "metadata": {},
     "output_type": "display_data"
    }
   ],
   "source": [
    "# визуализация по  кол-ву рейтингов\n",
    "plt.figure(figsize =(10, 4)) \n",
    "plt.title(\"Number of ratings\")\n",
    "ratings['num_of_ratings'].hist(bins = 70) "
   ]
  },
  {
   "cell_type": "code",
   "execution_count": 17,
   "id": "0c374cee",
   "metadata": {},
   "outputs": [
    {
     "data": {
      "text/plain": [
       "<Axes: title={'center': 'Ratings'}>"
      ]
     },
     "execution_count": 17,
     "metadata": {},
     "output_type": "execute_result"
    },
    {
     "data": {
      "image/png": "[encoded data removed]",
      "text/plain": [
       "<Figure size 1000x400 with 1 Axes>"
      ]
     },
     "metadata": {},
     "output_type": "display_data"
    }
   ],
   "source": [
    "# визуализация по размеру рейтинга\n",
    "plt.figure(figsize =(10, 4)) \n",
    "plt.title(\"Ratings\")  \n",
    "ratings['rating'].hist(bins = 70) "
   ]
  },
  {
   "cell_type": "code",
   "execution_count": 24,
   "id": "b88f7bc2",
   "metadata": {},
   "outputs": [
    {
     "data": {
      "text/html": [
       "<div>\n",
       "<style scoped>\n",
       "    .dataframe tbody tr th:only-of-type {\n",
       "        vertical-align: middle;\n",
       "    }\n",
       "\n",
       "    .dataframe tbody tr th {\n",
       "        vertical-align: top;\n",
       "    }\n",
       "\n",
       "    .dataframe thead th {\n",
       "        text-align: right;\n",
       "    }\n",
       "</style>\n",
       "<table border=\"1\" class=\"dataframe\">\n",
       "  <thead>\n",
       "    <tr style=\"text-align: right;\">\n",
       "      <th></th>\n",
       "      <th>title</th>\n",
       "      <th>num_of_ratings</th>\n",
       "      <th>rating</th>\n",
       "    </tr>\n",
       "  </thead>\n",
       "  <tbody>\n",
       "    <tr>\n",
       "      <th>257</th>\n",
       "      <td>Client, The (1994)</td>\n",
       "      <td>341</td>\n",
       "      <td>4.054252</td>\n",
       "    </tr>\n",
       "    <tr>\n",
       "      <th>956</th>\n",
       "      <td>Promesse, La (1996)</td>\n",
       "      <td>324</td>\n",
       "      <td>4.256173</td>\n",
       "    </tr>\n",
       "    <tr>\n",
       "      <th>1027</th>\n",
       "      <td>Schindler's List (1993)</td>\n",
       "      <td>311</td>\n",
       "      <td>4.487138</td>\n",
       "    </tr>\n",
       "    <tr>\n",
       "      <th>1113</th>\n",
       "      <td>Stalingrad (1993)</td>\n",
       "      <td>304</td>\n",
       "      <td>4.138158</td>\n",
       "    </tr>\n",
       "    <tr>\n",
       "      <th>385</th>\n",
       "      <td>Event Horizon (1997)</td>\n",
       "      <td>291</td>\n",
       "      <td>4.221649</td>\n",
       "    </tr>\n",
       "    <tr>\n",
       "      <th>...</th>\n",
       "      <td>...</td>\n",
       "      <td>...</td>\n",
       "      <td>...</td>\n",
       "    </tr>\n",
       "    <tr>\n",
       "      <th>224</th>\n",
       "      <td>Carrie (1976)</td>\n",
       "      <td>1</td>\n",
       "      <td>4.000000</td>\n",
       "    </tr>\n",
       "    <tr>\n",
       "      <th>229</th>\n",
       "      <td>Cat on a Hot Tin Roof (1958)</td>\n",
       "      <td>1</td>\n",
       "      <td>3.000000</td>\n",
       "    </tr>\n",
       "    <tr>\n",
       "      <th>230</th>\n",
       "      <td>Caught (1996)</td>\n",
       "      <td>1</td>\n",
       "      <td>3.000000</td>\n",
       "    </tr>\n",
       "    <tr>\n",
       "      <th>87</th>\n",
       "      <td>August (1996)</td>\n",
       "      <td>1</td>\n",
       "      <td>1.000000</td>\n",
       "    </tr>\n",
       "    <tr>\n",
       "      <th>737</th>\n",
       "      <td>MURDER and murder (1996)</td>\n",
       "      <td>1</td>\n",
       "      <td>4.000000</td>\n",
       "    </tr>\n",
       "  </tbody>\n",
       "</table>\n",
       "<p>1324 rows × 3 columns</p>\n",
       "</div>"
      ],
      "text/plain": [
       "                             title  num_of_ratings    rating\n",
       "257             Client, The (1994)             341  4.054252\n",
       "956            Promesse, La (1996)             324  4.256173\n",
       "1027       Schindler's List (1993)             311  4.487138\n",
       "1113             Stalingrad (1993)             304  4.138158\n",
       "385           Event Horizon (1997)             291  4.221649\n",
       "...                            ...             ...       ...\n",
       "224                  Carrie (1976)               1  4.000000\n",
       "229   Cat on a Hot Tin Roof (1958)               1  3.000000\n",
       "230                  Caught (1996)               1  3.000000\n",
       "87                   August (1996)               1  1.000000\n",
       "737       MURDER and murder (1996)               1  4.000000\n",
       "\n",
       "[1324 rows x 3 columns]"
      ]
     },
     "execution_count": 24,
     "metadata": {},
     "output_type": "execute_result"
    }
   ],
   "source": [
    "ratings.sort_values('num_of_ratings',ascending = False)"
   ]
  },
  {
   "cell_type": "code",
   "execution_count": 25,
   "id": "c5dbae3c",
   "metadata": {},
   "outputs": [],
   "source": [
    "# Сортируем по кол-ву рейтингов на фильм\n",
    "moviemat = movielens.pivot_table(index ='userId', columns ='title', values ='rating') "
   ]
  },
  {
   "cell_type": "markdown",
   "id": "e56878e7",
   "metadata": {},
   "source": [
    "# Корреляция 1 to Many"
   ]
  },
  {
   "cell_type": "code",
   "execution_count": 29,
   "id": "d04d063e",
   "metadata": {},
   "outputs": [
    {
     "name": "stderr",
     "output_type": "stream",
     "text": [
      "C:\\Users\\artem\\anaconda3\\Lib\\site-packages\\numpy\\lib\\function_base.py:2846: RuntimeWarning: Degrees of freedom <= 0 for slice\n",
      "  c = cov(x, y, rowvar, dtype=dtype)\n",
      "C:\\Users\\artem\\anaconda3\\Lib\\site-packages\\numpy\\lib\\function_base.py:2705: RuntimeWarning: divide by zero encountered in divide\n",
      "  c *= np.true_divide(1, fact)\n"
     ]
    }
   ],
   "source": [
    "# корреляция между фильмами\n",
    "starwars_user_ratings = moviemat['Star Wars (1977)'] \n",
    "# liarliar_user_ratings = moviemat['Liar Liar (1997)'] \n",
    "  \n",
    "# применим метод расчета корреляции\n",
    "similar_to_starwars = moviemat.corrwith(starwars_user_ratings) \n",
    "# similar_to_liarliar = moviemat.corrwith(liarliar_user_ratings) "
   ]
  },
  {
   "cell_type": "code",
   "execution_count": 60,
   "id": "43a9528c",
   "metadata": {},
   "outputs": [],
   "source": [
    "corr_starwars = pd.DataFrame(similar_to_starwars, columns =['Correlation']) \n",
    "corr_starwars.dropna(inplace = True)"
   ]
  },
  {
   "cell_type": "code",
   "execution_count": 68,
   "id": "1d708919",
   "metadata": {},
   "outputs": [
    {
     "data": {
      "text/html": [
       "<div>\n",
       "<style scoped>\n",
       "    .dataframe tbody tr th:only-of-type {\n",
       "        vertical-align: middle;\n",
       "    }\n",
       "\n",
       "    .dataframe tbody tr th {\n",
       "        vertical-align: top;\n",
       "    }\n",
       "\n",
       "    .dataframe thead th {\n",
       "        text-align: right;\n",
       "    }\n",
       "</style>\n",
       "<table border=\"1\" class=\"dataframe\">\n",
       "  <thead>\n",
       "    <tr style=\"text-align: right;\">\n",
       "      <th></th>\n",
       "      <th>Correlation</th>\n",
       "    </tr>\n",
       "    <tr>\n",
       "      <th>title</th>\n",
       "      <th></th>\n",
       "    </tr>\n",
       "  </thead>\n",
       "  <tbody>\n",
       "    <tr>\n",
       "      <th>Grease (1978)</th>\n",
       "      <td>1.0</td>\n",
       "    </tr>\n",
       "    <tr>\n",
       "      <th>Star Wars (1977)</th>\n",
       "      <td>1.0</td>\n",
       "    </tr>\n",
       "    <tr>\n",
       "      <th>Balto (1995)</th>\n",
       "      <td>1.0</td>\n",
       "    </tr>\n",
       "    <tr>\n",
       "      <th>My Best Friend's Wedding (1997)</th>\n",
       "      <td>1.0</td>\n",
       "    </tr>\n",
       "    <tr>\n",
       "      <th>Executive Decision (1996)</th>\n",
       "      <td>1.0</td>\n",
       "    </tr>\n",
       "  </tbody>\n",
       "</table>\n",
       "</div>"
      ],
      "text/plain": [
       "                                 Correlation\n",
       "title                                       \n",
       "Grease (1978)                            1.0\n",
       "Star Wars (1977)                         1.0\n",
       "Balto (1995)                             1.0\n",
       "My Best Friend's Wedding (1997)          1.0\n",
       "Executive Decision (1996)                1.0"
      ]
     },
     "execution_count": 68,
     "metadata": {},
     "output_type": "execute_result"
    }
   ],
   "source": [
    "\n",
    "corr_starwars.head() "
   ]
  },
  {
   "cell_type": "code",
   "execution_count": 66,
   "id": "4db488bc",
   "metadata": {},
   "outputs": [],
   "source": [
    "# поиск похожих фильмов на Star Wars (1977)\n",
    "corr_starwars = corr_starwars.sort_values('Correlation', ascending = False)"
   ]
  },
  {
   "cell_type": "code",
   "execution_count": 76,
   "id": "06009e80",
   "metadata": {},
   "outputs": [],
   "source": [
    "df = corr_starwars.merge(ratings, how = 'left', on='title')"
   ]
  },
  {
   "cell_type": "code",
   "execution_count": 81,
   "id": "749ef7b7",
   "metadata": {},
   "outputs": [
    {
     "data": {
      "text/html": [
       "<div>\n",
       "<style scoped>\n",
       "    .dataframe tbody tr th:only-of-type {\n",
       "        vertical-align: middle;\n",
       "    }\n",
       "\n",
       "    .dataframe tbody tr th {\n",
       "        vertical-align: top;\n",
       "    }\n",
       "\n",
       "    .dataframe thead th {\n",
       "        text-align: right;\n",
       "    }\n",
       "</style>\n",
       "<table border=\"1\" class=\"dataframe\">\n",
       "  <thead>\n",
       "    <tr style=\"text-align: right;\">\n",
       "      <th></th>\n",
       "      <th>title</th>\n",
       "      <th>Correlation</th>\n",
       "      <th>num_of_ratings</th>\n",
       "      <th>rating</th>\n",
       "    </tr>\n",
       "  </thead>\n",
       "  <tbody>\n",
       "    <tr>\n",
       "      <th>1</th>\n",
       "      <td>Star Wars (1977)</td>\n",
       "      <td>1.000000</td>\n",
       "      <td>201</td>\n",
       "      <td>4.370647</td>\n",
       "    </tr>\n",
       "    <tr>\n",
       "      <th>174</th>\n",
       "      <td>Mortal Kombat (1995)</td>\n",
       "      <td>0.558721</td>\n",
       "      <td>146</td>\n",
       "      <td>4.037671</td>\n",
       "    </tr>\n",
       "    <tr>\n",
       "      <th>277</th>\n",
       "      <td>Savage Nights (Nuits fauves, Les) (1992)</td>\n",
       "      <td>0.392853</td>\n",
       "      <td>234</td>\n",
       "      <td>4.232906</td>\n",
       "    </tr>\n",
       "    <tr>\n",
       "      <th>302</th>\n",
       "      <td>Virtuosity (1995)</td>\n",
       "      <td>0.369193</td>\n",
       "      <td>217</td>\n",
       "      <td>4.059908</td>\n",
       "    </tr>\n",
       "    <tr>\n",
       "      <th>330</th>\n",
       "      <td>Sling Blade (1996)</td>\n",
       "      <td>0.341309</td>\n",
       "      <td>109</td>\n",
       "      <td>3.963303</td>\n",
       "    </tr>\n",
       "    <tr>\n",
       "      <th>...</th>\n",
       "      <td>...</td>\n",
       "      <td>...</td>\n",
       "      <td>...</td>\n",
       "      <td>...</td>\n",
       "    </tr>\n",
       "    <tr>\n",
       "      <th>786</th>\n",
       "      <td>Apostle, The (1997)</td>\n",
       "      <td>-0.098590</td>\n",
       "      <td>175</td>\n",
       "      <td>2.871429</td>\n",
       "    </tr>\n",
       "    <tr>\n",
       "      <th>791</th>\n",
       "      <td>Swingers (1996)</td>\n",
       "      <td>-0.105080</td>\n",
       "      <td>200</td>\n",
       "      <td>3.902500</td>\n",
       "    </tr>\n",
       "    <tr>\n",
       "      <th>800</th>\n",
       "      <td>Scream (1996)</td>\n",
       "      <td>-0.121075</td>\n",
       "      <td>107</td>\n",
       "      <td>3.336449</td>\n",
       "    </tr>\n",
       "    <tr>\n",
       "      <th>802</th>\n",
       "      <td>Young Frankenstein (1974)</td>\n",
       "      <td>-0.122601</td>\n",
       "      <td>113</td>\n",
       "      <td>2.752212</td>\n",
       "    </tr>\n",
       "    <tr>\n",
       "      <th>835</th>\n",
       "      <td>Bastard Out of Carolina (1996)</td>\n",
       "      <td>-0.191464</td>\n",
       "      <td>110</td>\n",
       "      <td>3.472727</td>\n",
       "    </tr>\n",
       "  </tbody>\n",
       "</table>\n",
       "<p>96 rows × 4 columns</p>\n",
       "</div>"
      ],
      "text/plain": [
       "                                        title  Correlation  num_of_ratings  \\\n",
       "1                            Star Wars (1977)     1.000000             201   \n",
       "174                      Mortal Kombat (1995)     0.558721             146   \n",
       "277  Savage Nights (Nuits fauves, Les) (1992)     0.392853             234   \n",
       "302                         Virtuosity (1995)     0.369193             217   \n",
       "330                        Sling Blade (1996)     0.341309             109   \n",
       "..                                        ...          ...             ...   \n",
       "786                       Apostle, The (1997)    -0.098590             175   \n",
       "791                           Swingers (1996)    -0.105080             200   \n",
       "800                             Scream (1996)    -0.121075             107   \n",
       "802                 Young Frankenstein (1974)    -0.122601             113   \n",
       "835            Bastard Out of Carolina (1996)    -0.191464             110   \n",
       "\n",
       "       rating  \n",
       "1    4.370647  \n",
       "174  4.037671  \n",
       "277  4.232906  \n",
       "302  4.059908  \n",
       "330  3.963303  \n",
       "..        ...  \n",
       "786  2.871429  \n",
       "791  3.902500  \n",
       "800  3.336449  \n",
       "802  2.752212  \n",
       "835  3.472727  \n",
       "\n",
       "[96 rows x 4 columns]"
      ]
     },
     "execution_count": 81,
     "metadata": {},
     "output_type": "execute_result"
    }
   ],
   "source": [
    "df[df.num_of_ratings>100].sort_values(by='Correlation', ascending = False)"
   ]
  },
  {
   "cell_type": "code",
   "execution_count": 83,
   "id": "ace12603",
   "metadata": {},
   "outputs": [
    {
     "data": {
      "text/plain": [
       "userId\n",
       "1      NaN\n",
       "2      4.0\n",
       "3      NaN\n",
       "4      NaN\n",
       "5      NaN\n",
       "      ... \n",
       "667    NaN\n",
       "668    NaN\n",
       "669    NaN\n",
       "670    5.0\n",
       "671    4.5\n",
       "Name: Star Wars (1977), Length: 669, dtype: float64"
      ]
     },
     "execution_count": 83,
     "metadata": {},
     "output_type": "execute_result"
    }
   ],
   "source": [
    "starwars_user_ratings"
   ]
  }
 ],
 "metadata": {
  "kernelspec": {
   "display_name": "Python 3 (ipykernel)",
   "language": "python",
   "name": "python3"
  },
  "language_info": {
   "codemirror_mode": {
    "name": "ipython",
    "version": 3
   },
   "file_extension": ".py",
   "mimetype": "text/x-python",
   "name": "python",
   "nbconvert_exporter": "python",
   "pygments_lexer": "ipython3",
   "version": "3.11.5"
  }
 },
 "nbformat": 4,
 "nbformat_minor": 5
}
