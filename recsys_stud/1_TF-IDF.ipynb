{
 "cells": [
  {
   "cell_type": "code",
   "execution_count": 1,
   "id": "d9ebd522-ca47-4e5a-a215-437546784a48",
   "metadata": {},
   "outputs": [],
   "source": [
    "import pandas as pd\n",
    "import math\n",
    "import numpy as np"
   ]
  },
  {
   "cell_type": "code",
   "execution_count": 2,
   "id": "0c20dafc-cc20-4e8f-996b-fc8778f58fcd",
   "metadata": {},
   "outputs": [],
   "source": [
    "# это будет не правильным набором, т.к. это единая группа\n",
    "doc1 = [\"Фильм про педагога, который собрал свою музыкальную группу\",\n",
    "        \"Отличное роуд-муви по ностальгическим местам всех педагогов США\",\n",
    "        \"Студент-подросток должен победить бывших парней своей девушки. Обычная жизнь канадского студента\"]"
   ]
  },
  {
   "cell_type": "code",
   "execution_count": 3,
   "id": "aa833531-9ffe-4e6a-afdb-e86b1213cbe5",
   "metadata": {},
   "outputs": [],
   "source": [
    "# каждый декст - это документ в наборе документов\n",
    "doc1 = [\"Фильм про педагог, который собрал свою музыкальн групп\",]\n",
    "doc2 = [\"Отличн роуд-муви по ностальгическ местам всех педагог США\",]\n",
    "doc3 = [\"Студент-подросток должен победит бывш парн своей девушк. Обычн жизн канадск студент\",]"
   ]
  },
  {
   "cell_type": "code",
   "execution_count": 4,
   "id": "ed6895d2-5dbe-42ae-8e28-5924b4e5b474",
   "metadata": {},
   "outputs": [
    {
     "name": "stdout",
     "output_type": "stream",
     "text": [
      "['фильм', 'про', 'педагог', 'который', 'собрал', 'свою', 'музыкальн', 'групп']\n"
     ]
    }
   ],
   "source": [
    "# приводим к единому виду\n",
    "doc1_tokens = sum([doc.lower().replace(',', '').replace('.', '').split() for doc in doc1], [])\n",
    "doc2_tokens = sum([doc.lower().replace(',', '').replace('.', '').split() for doc in doc2], [])\n",
    "doc3_tokens = sum([doc.lower().replace(',', '').replace('.', '').split() for doc in doc3], [])\n",
    "\n",
    "print(doc1_tokens)"
   ]
  },
  {
   "cell_type": "code",
   "execution_count": 5,
   "id": "1e6fea60-ef27-47e2-b1f1-f8769d72bc54",
   "metadata": {},
   "outputs": [
    {
     "name": "stdout",
     "output_type": "stream",
     "text": [
      "{'собрал', 'который', 'свою', 'педагог', 'фильм', 'групп', 'музыкальн'}\n"
     ]
    }
   ],
   "source": [
    "# чистим от стоп-слов\n",
    "stopwords = ['про', 'по', ]\n",
    "\n",
    "doc1_tokens = set(doc1_tokens) - set(stopwords)\n",
    "doc2_tokens = set(doc2_tokens) - set(stopwords)\n",
    "doc3_tokens = set(doc3_tokens) - set(stopwords)\n",
    "\n",
    "print(doc1_tokens)"
   ]
  },
  {
   "cell_type": "code",
   "execution_count": 7,
   "id": "f2e0697d-c21c-4502-a024-6dc84118557b",
   "metadata": {},
   "outputs": [
    {
     "data": {
      "text/plain": [
       "{'бывш',\n",
       " 'всех',\n",
       " 'групп',\n",
       " 'девушк',\n",
       " 'должен',\n",
       " 'жизн',\n",
       " 'канадск',\n",
       " 'который',\n",
       " 'местам',\n",
       " 'музыкальн',\n",
       " 'ностальгическ',\n",
       " 'обычн',\n",
       " 'отличн',\n",
       " 'парн',\n",
       " 'педагог',\n",
       " 'победит',\n",
       " 'роуд-муви',\n",
       " 'своей',\n",
       " 'свою',\n",
       " 'собрал',\n",
       " 'студент',\n",
       " 'студент-подросток',\n",
       " 'сша',\n",
       " 'фильм'}"
      ]
     },
     "execution_count": 7,
     "metadata": {},
     "output_type": "execute_result"
    }
   ],
   "source": [
    "# создаем уникальный набор для получения единого словаря\n",
    "unique_tokens = set(doc1_tokens).union(set(doc2_tokens)).union(set(doc3_tokens))\n",
    "unique_tokens"
   ]
  },
  {
   "cell_type": "code",
   "execution_count": 8,
   "id": "328c8334",
   "metadata": {},
   "outputs": [],
   "source": [
    "count_doc1 = dict.fromkeys(unique_tokens, 0)\n",
    "for token in doc1_tokens:\n",
    "    count_doc1[token] += 1\n",
    "    \n",
    "count_doc2 = dict.fromkeys(unique_tokens, 0)\n",
    "for token in doc2_tokens:\n",
    "    count_doc2[token] += 1    \n",
    "\n",
    "count_doc3 = dict.fromkeys(unique_tokens, 0)\n",
    "for token in doc3_tokens:\n",
    "    count_doc3[token] += 1    \n",
    "    "
   ]
  },
  {
   "cell_type": "code",
   "execution_count": null,
   "id": "829c5349",
   "metadata": {},
   "outputs": [],
   "source": []
  },
  {
   "cell_type": "code",
   "execution_count": 11,
   "id": "14a00c8f",
   "metadata": {},
   "outputs": [
    {
     "data": {
      "text/plain": [
       "{'должен': 0,\n",
       " 'студент': 0,\n",
       " 'роуд-муви': 0,\n",
       " 'обычн': 0,\n",
       " 'собрал': 1,\n",
       " 'парн': 0,\n",
       " 'жизн': 0,\n",
       " 'свою': 1,\n",
       " 'ностальгическ': 0,\n",
       " 'отличн': 0,\n",
       " 'своей': 0,\n",
       " 'фильм': 1,\n",
       " 'бывш': 0,\n",
       " 'студент-подросток': 0,\n",
       " 'музыкальн': 1,\n",
       " 'победит': 0,\n",
       " 'сша': 0,\n",
       " 'который': 1,\n",
       " 'педагог': 1,\n",
       " 'канадск': 0,\n",
       " 'всех': 0,\n",
       " 'девушк': 0,\n",
       " 'групп': 1,\n",
       " 'местам': 0}"
      ]
     },
     "execution_count": 11,
     "metadata": {},
     "output_type": "execute_result"
    }
   ],
   "source": [
    "count_doc1"
   ]
  },
  {
   "cell_type": "code",
   "execution_count": 15,
   "id": "5d42ae64",
   "metadata": {},
   "outputs": [
    {
     "data": {
      "text/plain": [
       "{'должен': 0,\n",
       " 'студент': 0,\n",
       " 'роуд-муви': 0,\n",
       " 'обычн': 0,\n",
       " 'собрал': 1,\n",
       " 'парн': 0,\n",
       " 'жизн': 0,\n",
       " 'свою': 1,\n",
       " 'ностальгическ': 0,\n",
       " 'отличн': 0,\n",
       " 'своей': 0,\n",
       " 'фильм': 1,\n",
       " 'бывш': 0,\n",
       " 'студент-подросток': 0,\n",
       " 'музыкальн': 1,\n",
       " 'победит': 0,\n",
       " 'сша': 0,\n",
       " 'который': 1,\n",
       " 'педагог': 1,\n",
       " 'канадск': 0,\n",
       " 'всех': 0,\n",
       " 'девушк': 0,\n",
       " 'групп': 1,\n",
       " 'местам': 0}"
      ]
     },
     "execution_count": 15,
     "metadata": {},
     "output_type": "execute_result"
    }
   ],
   "source": [
    "count_doc1"
   ]
  },
  {
   "cell_type": "code",
   "execution_count": 14,
   "id": "c979d1e8",
   "metadata": {},
   "outputs": [
    {
     "data": {
      "text/plain": [
       "{'групп', 'который', 'музыкальн', 'педагог', 'свою', 'собрал', 'фильм'}"
      ]
     },
     "execution_count": 14,
     "metadata": {},
     "output_type": "execute_result"
    }
   ],
   "source": [
    "doc1_tokens"
   ]
  },
  {
   "cell_type": "code",
   "execution_count": 22,
   "id": "3630f3b5-0c7d-4be5-a95c-95f18a00e951",
   "metadata": {},
   "outputs": [],
   "source": [
    "idf = dict.fromkeys([count_doc1, count_doc2, count_doc3][0].keys(), 0)"
   ]
  },
  {
   "cell_type": "code",
   "execution_count": 24,
   "id": "ad974d47",
   "metadata": {},
   "outputs": [
    {
     "data": {
      "text/plain": [
       "{'должен': 0,\n",
       " 'студент': 0,\n",
       " 'роуд-муви': 0,\n",
       " 'обычн': 0,\n",
       " 'собрал': 1,\n",
       " 'парн': 0,\n",
       " 'жизн': 0,\n",
       " 'свою': 1,\n",
       " 'ностальгическ': 0,\n",
       " 'отличн': 0,\n",
       " 'своей': 0,\n",
       " 'фильм': 1,\n",
       " 'бывш': 0,\n",
       " 'студент-подросток': 0,\n",
       " 'музыкальн': 1,\n",
       " 'победит': 0,\n",
       " 'сша': 0,\n",
       " 'который': 1,\n",
       " 'педагог': 1,\n",
       " 'канадск': 0,\n",
       " 'всех': 0,\n",
       " 'девушк': 0,\n",
       " 'групп': 1,\n",
       " 'местам': 0}"
      ]
     },
     "execution_count": 24,
     "metadata": {},
     "output_type": "execute_result"
    }
   ],
   "source": [
    "count_doc1"
   ]
  },
  {
   "cell_type": "code",
   "execution_count": 28,
   "id": "7bea6b43-7f8b-49ff-9b3a-7aad132d2e2c",
   "metadata": {},
   "outputs": [
    {
     "name": "stdout",
     "output_type": "stream",
     "text": [
      "{'музыкальн': 0.14285714285714285, 'свою': 0.14285714285714285, 'ностальгическ': 0.0, 'роуд-муви': 0.0, 'своей': 0.0, 'бывш': 0.0, 'сша': 0.0, 'педагог': 0.14285714285714285, 'фильм': 0.14285714285714285, 'должен': 0.0, 'победит': 0.0, 'девушк': 0.0, 'студент-подросток': 0.0, 'жизн': 0.0, 'собрал': 0.14285714285714285, 'обычн': 0.0, 'студент': 0.0, 'групп': 0.14285714285714285, 'всех': 0.0, 'парн': 0.0, 'который': 0.14285714285714285, 'отличн': 0.0, 'канадск': 0.0, 'местам': 0.0}\n"
     ]
    }
   ],
   "source": [
    "# TF\n",
    "def calculate_tf(count_doc, doc_tokens):\n",
    "    tf = dict()\n",
    "    for token, count in count_doc.items():\n",
    "        tf[token] = count / float(len(doc_tokens))\n",
    "    return tf\n",
    "    \n",
    "tf1 = calculate_tf(count_doc=count_doc1, doc_tokens=doc1_tokens)\n",
    "tf2 = calculate_tf(count_doc=count_doc2, doc_tokens=doc2_tokens)\n",
    "tf3 = calculate_tf(count_doc=count_doc3, doc_tokens=doc3_tokens)\n",
    "\n",
    "print(tf1)"
   ]
  },
  {
   "cell_type": "code",
   "execution_count": 25,
   "id": "572757fd-41b8-4a92-a1e9-1dd877012ce6",
   "metadata": {},
   "outputs": [
    {
     "name": "stdout",
     "output_type": "stream",
     "text": [
      "{'должен': 1.0986122886681098, 'студент': 1.0986122886681098, 'роуд-муви': 1.0986122886681098, 'обычн': 1.0986122886681098, 'собрал': 1.0986122886681098, 'парн': 1.0986122886681098, 'жизн': 1.0986122886681098, 'свою': 1.0986122886681098, 'ностальгическ': 1.0986122886681098, 'отличн': 1.0986122886681098, 'своей': 1.0986122886681098, 'фильм': 1.0986122886681098, 'бывш': 1.0986122886681098, 'студент-подросток': 1.0986122886681098, 'музыкальн': 1.0986122886681098, 'победит': 1.0986122886681098, 'сша': 1.0986122886681098, 'который': 1.0986122886681098, 'педагог': 0.4054651081081644, 'канадск': 1.0986122886681098, 'всех': 1.0986122886681098, 'девушк': 1.0986122886681098, 'групп': 1.0986122886681098, 'местам': 1.0986122886681098}\n"
     ]
    }
   ],
   "source": [
    "# IDF\n",
    "def calculate_idf(doc_counts):\n",
    "    idf = dict.fromkeys(doc_counts[0].keys(), 0)\n",
    "    for doc in doc_counts: \n",
    "        for token, count in doc.items():\n",
    "            if count!=0:\n",
    "                idf[token] += 1\n",
    "                \n",
    "    for token, count in idf.items():\n",
    "        idf[token] = math.log(len(doc_counts) / float(count))\n",
    "       \n",
    "    return idf\n",
    "\n",
    "idf = calculate_idf([count_doc1, count_doc2, count_doc3])\n",
    "print(idf)"
   ]
  },
  {
   "cell_type": "code",
   "execution_count": 12,
   "id": "058cdb95",
   "metadata": {},
   "outputs": [
    {
     "ename": "NameError",
     "evalue": "name 'doc_counts' is not defined",
     "output_type": "error",
     "traceback": [
      "\u001b[1;31m---------------------------------------------------------------------------\u001b[0m",
      "\u001b[1;31mNameError\u001b[0m                                 Traceback (most recent call last)",
      "Cell \u001b[1;32mIn[12], line 1\u001b[0m\n\u001b[1;32m----> 1\u001b[0m doc_counts\n",
      "\u001b[1;31mNameError\u001b[0m: name 'doc_counts' is not defined"
     ]
    }
   ],
   "source": [
    "doc_counts"
   ]
  },
  {
   "cell_type": "code",
   "execution_count": 26,
   "id": "e0478b12",
   "metadata": {},
   "outputs": [
    {
     "data": {
      "text/plain": [
       "{'должен': 1.0986122886681098,\n",
       " 'студент': 1.0986122886681098,\n",
       " 'роуд-муви': 1.0986122886681098,\n",
       " 'обычн': 1.0986122886681098,\n",
       " 'собрал': 1.0986122886681098,\n",
       " 'парн': 1.0986122886681098,\n",
       " 'жизн': 1.0986122886681098,\n",
       " 'свою': 1.0986122886681098,\n",
       " 'ностальгическ': 1.0986122886681098,\n",
       " 'отличн': 1.0986122886681098,\n",
       " 'своей': 1.0986122886681098,\n",
       " 'фильм': 1.0986122886681098,\n",
       " 'бывш': 1.0986122886681098,\n",
       " 'студент-подросток': 1.0986122886681098,\n",
       " 'музыкальн': 1.0986122886681098,\n",
       " 'победит': 1.0986122886681098,\n",
       " 'сша': 1.0986122886681098,\n",
       " 'который': 1.0986122886681098,\n",
       " 'педагог': 0.4054651081081644,\n",
       " 'канадск': 1.0986122886681098,\n",
       " 'всех': 1.0986122886681098,\n",
       " 'девушк': 1.0986122886681098,\n",
       " 'групп': 1.0986122886681098,\n",
       " 'местам': 1.0986122886681098}"
      ]
     },
     "execution_count": 26,
     "metadata": {},
     "output_type": "execute_result"
    }
   ],
   "source": [
    "idf"
   ]
  },
  {
   "cell_type": "code",
   "execution_count": null,
   "id": "cbeed6d0",
   "metadata": {},
   "outputs": [],
   "source": []
  },
  {
   "cell_type": "code",
   "execution_count": null,
   "id": "914984d8",
   "metadata": {},
   "outputs": [],
   "source": []
  },
  {
   "cell_type": "code",
   "execution_count": 10,
   "id": "1cfd8c60-c7b2-4c29-bfdc-98af115c3321",
   "metadata": {},
   "outputs": [],
   "source": [
    "# TF-IDF\n",
    "def calculate_tfidf(tf, idf):\n",
    "    tfidf = dict()\n",
    "    for token, count in tf.items():\n",
    "        tfidf[token] = count * idf[token]\n",
    "    return tfidf"
   ]
  },
  {
   "cell_type": "code",
   "execution_count": 11,
   "id": "46ed08f9-9088-472e-bbeb-d3d4a04c34f1",
   "metadata": {},
   "outputs": [],
   "source": [
    "tfidf1 = calculate_tfidf(tf1, idf)\n",
    "tfidf2 = calculate_tfidf(tf2, idf)\n",
    "tfidf3 = calculate_tfidf(tf3, idf)"
   ]
  },
  {
   "cell_type": "code",
   "execution_count": 12,
   "id": "dd5caa16-2864-4766-a32b-3d8de66465d4",
   "metadata": {},
   "outputs": [
    {
     "data": {
      "text/html": [
       "<div>\n",
       "<style scoped>\n",
       "    .dataframe tbody tr th:only-of-type {\n",
       "        vertical-align: middle;\n",
       "    }\n",
       "\n",
       "    .dataframe tbody tr th {\n",
       "        vertical-align: top;\n",
       "    }\n",
       "\n",
       "    .dataframe thead th {\n",
       "        text-align: right;\n",
       "    }\n",
       "</style>\n",
       "<table border=\"1\" class=\"dataframe\">\n",
       "  <thead>\n",
       "    <tr style=\"text-align: right;\">\n",
       "      <th></th>\n",
       "      <th>групп</th>\n",
       "      <th>всех</th>\n",
       "      <th>студент-подросток</th>\n",
       "      <th>парн</th>\n",
       "      <th>победит</th>\n",
       "      <th>педагог</th>\n",
       "      <th>ностальгическ</th>\n",
       "      <th>своей</th>\n",
       "      <th>местам</th>\n",
       "      <th>канадск</th>\n",
       "      <th>...</th>\n",
       "      <th>обычн</th>\n",
       "      <th>сша</th>\n",
       "      <th>жизн</th>\n",
       "      <th>девушк</th>\n",
       "      <th>отличн</th>\n",
       "      <th>должен</th>\n",
       "      <th>студент</th>\n",
       "      <th>фильм</th>\n",
       "      <th>который</th>\n",
       "      <th>музыкальн</th>\n",
       "    </tr>\n",
       "  </thead>\n",
       "  <tbody>\n",
       "    <tr>\n",
       "      <th>0</th>\n",
       "      <td>0.156945</td>\n",
       "      <td>0.000000</td>\n",
       "      <td>0.000000</td>\n",
       "      <td>0.000000</td>\n",
       "      <td>0.000000</td>\n",
       "      <td>0.057924</td>\n",
       "      <td>0.000000</td>\n",
       "      <td>0.000000</td>\n",
       "      <td>0.000000</td>\n",
       "      <td>0.000000</td>\n",
       "      <td>...</td>\n",
       "      <td>0.000000</td>\n",
       "      <td>0.000000</td>\n",
       "      <td>0.000000</td>\n",
       "      <td>0.000000</td>\n",
       "      <td>0.000000</td>\n",
       "      <td>0.000000</td>\n",
       "      <td>0.000000</td>\n",
       "      <td>0.156945</td>\n",
       "      <td>0.156945</td>\n",
       "      <td>0.156945</td>\n",
       "    </tr>\n",
       "    <tr>\n",
       "      <th>1</th>\n",
       "      <td>0.000000</td>\n",
       "      <td>0.156945</td>\n",
       "      <td>0.000000</td>\n",
       "      <td>0.000000</td>\n",
       "      <td>0.000000</td>\n",
       "      <td>0.057924</td>\n",
       "      <td>0.156945</td>\n",
       "      <td>0.000000</td>\n",
       "      <td>0.156945</td>\n",
       "      <td>0.000000</td>\n",
       "      <td>...</td>\n",
       "      <td>0.000000</td>\n",
       "      <td>0.156945</td>\n",
       "      <td>0.000000</td>\n",
       "      <td>0.000000</td>\n",
       "      <td>0.156945</td>\n",
       "      <td>0.000000</td>\n",
       "      <td>0.000000</td>\n",
       "      <td>0.000000</td>\n",
       "      <td>0.000000</td>\n",
       "      <td>0.000000</td>\n",
       "    </tr>\n",
       "    <tr>\n",
       "      <th>2</th>\n",
       "      <td>0.000000</td>\n",
       "      <td>0.000000</td>\n",
       "      <td>0.099874</td>\n",
       "      <td>0.099874</td>\n",
       "      <td>0.099874</td>\n",
       "      <td>0.000000</td>\n",
       "      <td>0.000000</td>\n",
       "      <td>0.099874</td>\n",
       "      <td>0.000000</td>\n",
       "      <td>0.099874</td>\n",
       "      <td>...</td>\n",
       "      <td>0.099874</td>\n",
       "      <td>0.000000</td>\n",
       "      <td>0.099874</td>\n",
       "      <td>0.099874</td>\n",
       "      <td>0.000000</td>\n",
       "      <td>0.099874</td>\n",
       "      <td>0.099874</td>\n",
       "      <td>0.000000</td>\n",
       "      <td>0.000000</td>\n",
       "      <td>0.000000</td>\n",
       "    </tr>\n",
       "  </tbody>\n",
       "</table>\n",
       "<p>3 rows × 24 columns</p>\n",
       "</div>"
      ],
      "text/plain": [
       "      групп      всех  студент-подросток      парн   победит   педагог  \\\n",
       "0  0.156945  0.000000           0.000000  0.000000  0.000000  0.057924   \n",
       "1  0.000000  0.156945           0.000000  0.000000  0.000000  0.057924   \n",
       "2  0.000000  0.000000           0.099874  0.099874  0.099874  0.000000   \n",
       "\n",
       "   ностальгическ     своей    местам   канадск  ...     обычн       сша  \\\n",
       "0       0.000000  0.000000  0.000000  0.000000  ...  0.000000  0.000000   \n",
       "1       0.156945  0.000000  0.156945  0.000000  ...  0.000000  0.156945   \n",
       "2       0.000000  0.099874  0.000000  0.099874  ...  0.099874  0.000000   \n",
       "\n",
       "       жизн    девушк    отличн    должен   студент     фильм   который  \\\n",
       "0  0.000000  0.000000  0.000000  0.000000  0.000000  0.156945  0.156945   \n",
       "1  0.000000  0.000000  0.156945  0.000000  0.000000  0.000000  0.000000   \n",
       "2  0.099874  0.099874  0.000000  0.099874  0.099874  0.000000  0.000000   \n",
       "\n",
       "   музыкальн  \n",
       "0   0.156945  \n",
       "1   0.000000  \n",
       "2   0.000000  \n",
       "\n",
       "[3 rows x 24 columns]"
      ]
     },
     "execution_count": 12,
     "metadata": {},
     "output_type": "execute_result"
    }
   ],
   "source": [
    "pd.DataFrame([tfidf1, tfidf2, tfidf3])"
   ]
  },
  {
   "cell_type": "code",
   "execution_count": null,
   "id": "3ec20935-423c-4175-9bbe-5dfa6b92192d",
   "metadata": {},
   "outputs": [],
   "source": []
  },
  {
   "cell_type": "code",
   "execution_count": null,
   "id": "1f0802c4",
   "metadata": {},
   "outputs": [],
   "source": []
  }
 ],
 "metadata": {
  "kernelspec": {
   "display_name": "Python 3 (ipykernel)",
   "language": "python",
   "name": "python3"
  },
  "language_info": {
   "codemirror_mode": {
    "name": "ipython",
    "version": 3
   },
   "file_extension": ".py",
   "mimetype": "text/x-python",
   "name": "python",
   "nbconvert_exporter": "python",
   "pygments_lexer": "ipython3",
   "version": "3.11.5"
  }
 },
 "nbformat": 4,
 "nbformat_minor": 5
}
