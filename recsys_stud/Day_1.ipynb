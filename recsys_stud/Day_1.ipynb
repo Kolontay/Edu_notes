{
 "cells": [
  {
   "cell_type": "markdown",
   "id": "a1822291",
   "metadata": {},
   "source": [
    "Model quality:\n",
    "\n",
    "* Соответствие гипотезе\n",
    "\n",
    "* Финансовая оценка А/Б\n",
    "\n",
    "* Обработка не популярных предметов\n",
    "\n",
    "* Средняя частота взаимных повторений\n",
    "\n",
    "* Интуитивность (Serendipity)\n",
    "\n",
    "* Новизна"
   ]
  },
  {
   "cell_type": "markdown",
   "id": "cd55ca34",
   "metadata": {},
   "source": [
    "Жизненный цикл клиента, миссии клиента"
   ]
  },
  {
   "cell_type": "markdown",
   "id": "36389b45",
   "metadata": {},
   "source": [
    "Информация о пользователях\n",
    "матрицы изучить\n",
    "CSC\n",
    "CSR \n",
    "Возможно (СОО, DIA)"
   ]
  },
  {
   "cell_type": "markdown",
   "id": "e23fd41d",
   "metadata": {},
   "source": [
    "### Рекомендации начинаются как не персональные"
   ]
  },
  {
   "cell_type": "code",
   "execution_count": 1,
   "id": "0f34ace1",
   "metadata": {},
   "outputs": [],
   "source": [
    "dataset = [['Молоко', 'Лук', 'Орехи', 'Лосось', 'Хлеб', 'Йогурт'],\n",
    "            ['Укроп', 'Лук', 'Орехи', 'Лосось', 'Хлеб', 'Йогурт'],\n",
    "            ['Молоко', 'Яблоки', 'Лосось', 'Хлеб'],\n",
    "            ['Молоко', 'Кукуруза', 'Виски', 'Лосось', 'Йогурт'],\n",
    "            ['Виски', 'Лук', 'Картофель', 'Лосось', 'Мороженое', 'Хлеб'],\n",
    "            ['Молоко', 'Лук', 'Орехи', 'Лосось', 'Хлеб', 'Йогурт'],\n",
    "            ['Укроп', 'Лук', 'Орехи', 'Лосось', 'Хлеб', 'Йогурт'],\n",
    "            ['Молоко', 'Яблоки', 'Лосось', 'Хлеб'],\n",
    "            ['Молоко', 'Кукуруза', 'Виски', 'Лосось', 'Йогурт'],\n",
    "            ['Виски', 'Лук', 'Картофель', 'Лосось', 'Мороженое', 'Хлеб'],\n",
    "            ['Молоко', 'Лук', 'Орехи', 'Лосось', 'Хлеб', 'Йогурт'],\n",
    "            ['Укроп', 'Лук', 'Орехи', 'Лосось', 'Хлеб', 'Йогурт'],\n",
    "            ['Молоко', 'Яблоки', 'Лосось', 'Хлеб'],\n",
    "            ['Молоко', 'Кукуруза', 'Виски', 'Лосось', 'Йогурт'],\n",
    "            ['Виски', 'Лук', 'Картофель', 'Лосось', 'Мороженое', 'Хлеб'],\n",
    "            ['Молоко', 'Лук', 'Орехи', 'Лосось', 'Хлеб', 'Йогурт'],\n",
    "            ['Укроп', 'Лук', 'Орехи', 'Лосось', 'Хлеб', 'Йогурт'],\n",
    "            ['Молоко', 'Яблоки', 'Лосось', 'Хлеб'],\n",
    "            ['Молоко', 'Кукуруза', 'Виски', 'Лосось', 'Йогурт'],\n",
    "            ['Виски', 'Лук', 'Картофель', 'Лосось', 'Мороженое', 'Хлеб']]"
   ]
  },
  {
   "cell_type": "code",
   "execution_count": 2,
   "id": "815dbdb9",
   "metadata": {},
   "outputs": [],
   "source": [
    "import pandas as pd\n",
    "from mlxtend.preprocessing import TransactionEncoder\n",
    "from apyori import apriori as classic_apriori\n",
    "from mlxtend.frequent_patterns import apriori"
   ]
  },
  {
   "cell_type": "code",
   "execution_count": 3,
   "id": "93ea5f2b",
   "metadata": {},
   "outputs": [],
   "source": [
    "classic_df = pd.read_csv(\"./data/store_data.csv\")"
   ]
  },
  {
   "cell_type": "code",
   "execution_count": 4,
   "id": "8bbcb531",
   "metadata": {},
   "outputs": [
    {
     "data": {
      "text/html": [
       "<div>\n",
       "<style scoped>\n",
       "    .dataframe tbody tr th:only-of-type {\n",
       "        vertical-align: middle;\n",
       "    }\n",
       "\n",
       "    .dataframe tbody tr th {\n",
       "        vertical-align: top;\n",
       "    }\n",
       "\n",
       "    .dataframe thead th {\n",
       "        text-align: right;\n",
       "    }\n",
       "</style>\n",
       "<table border=\"1\" class=\"dataframe\">\n",
       "  <thead>\n",
       "    <tr style=\"text-align: right;\">\n",
       "      <th></th>\n",
       "      <th>shrimp</th>\n",
       "      <th>almonds</th>\n",
       "      <th>avocado</th>\n",
       "      <th>vegetables mix</th>\n",
       "      <th>green grapes</th>\n",
       "      <th>whole weat flour</th>\n",
       "      <th>yams</th>\n",
       "      <th>cottage cheese</th>\n",
       "      <th>energy drink</th>\n",
       "      <th>tomato juice</th>\n",
       "      <th>low fat yogurt</th>\n",
       "      <th>green tea</th>\n",
       "      <th>honey</th>\n",
       "      <th>salad</th>\n",
       "      <th>mineral water</th>\n",
       "      <th>salmon</th>\n",
       "      <th>antioxydant juice</th>\n",
       "      <th>frozen smoothie</th>\n",
       "      <th>spinach</th>\n",
       "      <th>olive oil</th>\n",
       "    </tr>\n",
       "  </thead>\n",
       "  <tbody>\n",
       "    <tr>\n",
       "      <th>0</th>\n",
       "      <td>burgers</td>\n",
       "      <td>meatballs</td>\n",
       "      <td>eggs</td>\n",
       "      <td>NaN</td>\n",
       "      <td>NaN</td>\n",
       "      <td>NaN</td>\n",
       "      <td>NaN</td>\n",
       "      <td>NaN</td>\n",
       "      <td>NaN</td>\n",
       "      <td>NaN</td>\n",
       "      <td>NaN</td>\n",
       "      <td>NaN</td>\n",
       "      <td>NaN</td>\n",
       "      <td>NaN</td>\n",
       "      <td>NaN</td>\n",
       "      <td>NaN</td>\n",
       "      <td>NaN</td>\n",
       "      <td>NaN</td>\n",
       "      <td>NaN</td>\n",
       "      <td>NaN</td>\n",
       "    </tr>\n",
       "    <tr>\n",
       "      <th>1</th>\n",
       "      <td>chutney</td>\n",
       "      <td>NaN</td>\n",
       "      <td>NaN</td>\n",
       "      <td>NaN</td>\n",
       "      <td>NaN</td>\n",
       "      <td>NaN</td>\n",
       "      <td>NaN</td>\n",
       "      <td>NaN</td>\n",
       "      <td>NaN</td>\n",
       "      <td>NaN</td>\n",
       "      <td>NaN</td>\n",
       "      <td>NaN</td>\n",
       "      <td>NaN</td>\n",
       "      <td>NaN</td>\n",
       "      <td>NaN</td>\n",
       "      <td>NaN</td>\n",
       "      <td>NaN</td>\n",
       "      <td>NaN</td>\n",
       "      <td>NaN</td>\n",
       "      <td>NaN</td>\n",
       "    </tr>\n",
       "    <tr>\n",
       "      <th>2</th>\n",
       "      <td>turkey</td>\n",
       "      <td>avocado</td>\n",
       "      <td>NaN</td>\n",
       "      <td>NaN</td>\n",
       "      <td>NaN</td>\n",
       "      <td>NaN</td>\n",
       "      <td>NaN</td>\n",
       "      <td>NaN</td>\n",
       "      <td>NaN</td>\n",
       "      <td>NaN</td>\n",
       "      <td>NaN</td>\n",
       "      <td>NaN</td>\n",
       "      <td>NaN</td>\n",
       "      <td>NaN</td>\n",
       "      <td>NaN</td>\n",
       "      <td>NaN</td>\n",
       "      <td>NaN</td>\n",
       "      <td>NaN</td>\n",
       "      <td>NaN</td>\n",
       "      <td>NaN</td>\n",
       "    </tr>\n",
       "    <tr>\n",
       "      <th>3</th>\n",
       "      <td>mineral water</td>\n",
       "      <td>milk</td>\n",
       "      <td>energy bar</td>\n",
       "      <td>whole wheat rice</td>\n",
       "      <td>green tea</td>\n",
       "      <td>NaN</td>\n",
       "      <td>NaN</td>\n",
       "      <td>NaN</td>\n",
       "      <td>NaN</td>\n",
       "      <td>NaN</td>\n",
       "      <td>NaN</td>\n",
       "      <td>NaN</td>\n",
       "      <td>NaN</td>\n",
       "      <td>NaN</td>\n",
       "      <td>NaN</td>\n",
       "      <td>NaN</td>\n",
       "      <td>NaN</td>\n",
       "      <td>NaN</td>\n",
       "      <td>NaN</td>\n",
       "      <td>NaN</td>\n",
       "    </tr>\n",
       "    <tr>\n",
       "      <th>4</th>\n",
       "      <td>low fat yogurt</td>\n",
       "      <td>NaN</td>\n",
       "      <td>NaN</td>\n",
       "      <td>NaN</td>\n",
       "      <td>NaN</td>\n",
       "      <td>NaN</td>\n",
       "      <td>NaN</td>\n",
       "      <td>NaN</td>\n",
       "      <td>NaN</td>\n",
       "      <td>NaN</td>\n",
       "      <td>NaN</td>\n",
       "      <td>NaN</td>\n",
       "      <td>NaN</td>\n",
       "      <td>NaN</td>\n",
       "      <td>NaN</td>\n",
       "      <td>NaN</td>\n",
       "      <td>NaN</td>\n",
       "      <td>NaN</td>\n",
       "      <td>NaN</td>\n",
       "      <td>NaN</td>\n",
       "    </tr>\n",
       "    <tr>\n",
       "      <th>...</th>\n",
       "      <td>...</td>\n",
       "      <td>...</td>\n",
       "      <td>...</td>\n",
       "      <td>...</td>\n",
       "      <td>...</td>\n",
       "      <td>...</td>\n",
       "      <td>...</td>\n",
       "      <td>...</td>\n",
       "      <td>...</td>\n",
       "      <td>...</td>\n",
       "      <td>...</td>\n",
       "      <td>...</td>\n",
       "      <td>...</td>\n",
       "      <td>...</td>\n",
       "      <td>...</td>\n",
       "      <td>...</td>\n",
       "      <td>...</td>\n",
       "      <td>...</td>\n",
       "      <td>...</td>\n",
       "      <td>...</td>\n",
       "    </tr>\n",
       "    <tr>\n",
       "      <th>7495</th>\n",
       "      <td>butter</td>\n",
       "      <td>light mayo</td>\n",
       "      <td>fresh bread</td>\n",
       "      <td>NaN</td>\n",
       "      <td>NaN</td>\n",
       "      <td>NaN</td>\n",
       "      <td>NaN</td>\n",
       "      <td>NaN</td>\n",
       "      <td>NaN</td>\n",
       "      <td>NaN</td>\n",
       "      <td>NaN</td>\n",
       "      <td>NaN</td>\n",
       "      <td>NaN</td>\n",
       "      <td>NaN</td>\n",
       "      <td>NaN</td>\n",
       "      <td>NaN</td>\n",
       "      <td>NaN</td>\n",
       "      <td>NaN</td>\n",
       "      <td>NaN</td>\n",
       "      <td>NaN</td>\n",
       "    </tr>\n",
       "    <tr>\n",
       "      <th>7496</th>\n",
       "      <td>burgers</td>\n",
       "      <td>frozen vegetables</td>\n",
       "      <td>eggs</td>\n",
       "      <td>french fries</td>\n",
       "      <td>magazines</td>\n",
       "      <td>green tea</td>\n",
       "      <td>NaN</td>\n",
       "      <td>NaN</td>\n",
       "      <td>NaN</td>\n",
       "      <td>NaN</td>\n",
       "      <td>NaN</td>\n",
       "      <td>NaN</td>\n",
       "      <td>NaN</td>\n",
       "      <td>NaN</td>\n",
       "      <td>NaN</td>\n",
       "      <td>NaN</td>\n",
       "      <td>NaN</td>\n",
       "      <td>NaN</td>\n",
       "      <td>NaN</td>\n",
       "      <td>NaN</td>\n",
       "    </tr>\n",
       "    <tr>\n",
       "      <th>7497</th>\n",
       "      <td>chicken</td>\n",
       "      <td>NaN</td>\n",
       "      <td>NaN</td>\n",
       "      <td>NaN</td>\n",
       "      <td>NaN</td>\n",
       "      <td>NaN</td>\n",
       "      <td>NaN</td>\n",
       "      <td>NaN</td>\n",
       "      <td>NaN</td>\n",
       "      <td>NaN</td>\n",
       "      <td>NaN</td>\n",
       "      <td>NaN</td>\n",
       "      <td>NaN</td>\n",
       "      <td>NaN</td>\n",
       "      <td>NaN</td>\n",
       "      <td>NaN</td>\n",
       "      <td>NaN</td>\n",
       "      <td>NaN</td>\n",
       "      <td>NaN</td>\n",
       "      <td>NaN</td>\n",
       "    </tr>\n",
       "    <tr>\n",
       "      <th>7498</th>\n",
       "      <td>escalope</td>\n",
       "      <td>green tea</td>\n",
       "      <td>NaN</td>\n",
       "      <td>NaN</td>\n",
       "      <td>NaN</td>\n",
       "      <td>NaN</td>\n",
       "      <td>NaN</td>\n",
       "      <td>NaN</td>\n",
       "      <td>NaN</td>\n",
       "      <td>NaN</td>\n",
       "      <td>NaN</td>\n",
       "      <td>NaN</td>\n",
       "      <td>NaN</td>\n",
       "      <td>NaN</td>\n",
       "      <td>NaN</td>\n",
       "      <td>NaN</td>\n",
       "      <td>NaN</td>\n",
       "      <td>NaN</td>\n",
       "      <td>NaN</td>\n",
       "      <td>NaN</td>\n",
       "    </tr>\n",
       "    <tr>\n",
       "      <th>7499</th>\n",
       "      <td>eggs</td>\n",
       "      <td>frozen smoothie</td>\n",
       "      <td>yogurt cake</td>\n",
       "      <td>low fat yogurt</td>\n",
       "      <td>NaN</td>\n",
       "      <td>NaN</td>\n",
       "      <td>NaN</td>\n",
       "      <td>NaN</td>\n",
       "      <td>NaN</td>\n",
       "      <td>NaN</td>\n",
       "      <td>NaN</td>\n",
       "      <td>NaN</td>\n",
       "      <td>NaN</td>\n",
       "      <td>NaN</td>\n",
       "      <td>NaN</td>\n",
       "      <td>NaN</td>\n",
       "      <td>NaN</td>\n",
       "      <td>NaN</td>\n",
       "      <td>NaN</td>\n",
       "      <td>NaN</td>\n",
       "    </tr>\n",
       "  </tbody>\n",
       "</table>\n",
       "<p>7500 rows × 20 columns</p>\n",
       "</div>"
      ],
      "text/plain": [
       "              shrimp            almonds      avocado    vegetables mix  \\\n",
       "0            burgers          meatballs         eggs               NaN   \n",
       "1            chutney                NaN          NaN               NaN   \n",
       "2             turkey            avocado          NaN               NaN   \n",
       "3      mineral water               milk   energy bar  whole wheat rice   \n",
       "4     low fat yogurt                NaN          NaN               NaN   \n",
       "...              ...                ...          ...               ...   \n",
       "7495          butter         light mayo  fresh bread               NaN   \n",
       "7496         burgers  frozen vegetables         eggs      french fries   \n",
       "7497         chicken                NaN          NaN               NaN   \n",
       "7498        escalope          green tea          NaN               NaN   \n",
       "7499            eggs    frozen smoothie  yogurt cake    low fat yogurt   \n",
       "\n",
       "     green grapes whole weat flour yams cottage cheese energy drink  \\\n",
       "0             NaN              NaN  NaN            NaN          NaN   \n",
       "1             NaN              NaN  NaN            NaN          NaN   \n",
       "2             NaN              NaN  NaN            NaN          NaN   \n",
       "3       green tea              NaN  NaN            NaN          NaN   \n",
       "4             NaN              NaN  NaN            NaN          NaN   \n",
       "...           ...              ...  ...            ...          ...   \n",
       "7495          NaN              NaN  NaN            NaN          NaN   \n",
       "7496    magazines        green tea  NaN            NaN          NaN   \n",
       "7497          NaN              NaN  NaN            NaN          NaN   \n",
       "7498          NaN              NaN  NaN            NaN          NaN   \n",
       "7499          NaN              NaN  NaN            NaN          NaN   \n",
       "\n",
       "     tomato juice low fat yogurt green tea honey salad mineral water salmon  \\\n",
       "0             NaN            NaN       NaN   NaN   NaN           NaN    NaN   \n",
       "1             NaN            NaN       NaN   NaN   NaN           NaN    NaN   \n",
       "2             NaN            NaN       NaN   NaN   NaN           NaN    NaN   \n",
       "3             NaN            NaN       NaN   NaN   NaN           NaN    NaN   \n",
       "4             NaN            NaN       NaN   NaN   NaN           NaN    NaN   \n",
       "...           ...            ...       ...   ...   ...           ...    ...   \n",
       "7495          NaN            NaN       NaN   NaN   NaN           NaN    NaN   \n",
       "7496          NaN            NaN       NaN   NaN   NaN           NaN    NaN   \n",
       "7497          NaN            NaN       NaN   NaN   NaN           NaN    NaN   \n",
       "7498          NaN            NaN       NaN   NaN   NaN           NaN    NaN   \n",
       "7499          NaN            NaN       NaN   NaN   NaN           NaN    NaN   \n",
       "\n",
       "     antioxydant juice frozen smoothie spinach  olive oil  \n",
       "0                  NaN             NaN     NaN        NaN  \n",
       "1                  NaN             NaN     NaN        NaN  \n",
       "2                  NaN             NaN     NaN        NaN  \n",
       "3                  NaN             NaN     NaN        NaN  \n",
       "4                  NaN             NaN     NaN        NaN  \n",
       "...                ...             ...     ...        ...  \n",
       "7495               NaN             NaN     NaN        NaN  \n",
       "7496               NaN             NaN     NaN        NaN  \n",
       "7497               NaN             NaN     NaN        NaN  \n",
       "7498               NaN             NaN     NaN        NaN  \n",
       "7499               NaN             NaN     NaN        NaN  \n",
       "\n",
       "[7500 rows x 20 columns]"
      ]
     },
     "execution_count": 4,
     "metadata": {},
     "output_type": "execute_result"
    }
   ],
   "source": [
    "classic_df"
   ]
  },
  {
   "cell_type": "code",
   "execution_count": null,
   "id": "edf7ae96",
   "metadata": {},
   "outputs": [],
   "source": []
  },
  {
   "cell_type": "code",
   "execution_count": 5,
   "id": "c4cdb12e",
   "metadata": {},
   "outputs": [],
   "source": [
    "classic_df = classic_df.fillna('nan')\n",
    "records = classic_df.values[:100].tolist()"
   ]
  },
  {
   "cell_type": "code",
   "execution_count": 6,
   "id": "7342bc90",
   "metadata": {},
   "outputs": [
    {
     "name": "stdout",
     "output_type": "stream",
     "text": [
      "Найдено 10 правил\n",
      "frozenset({'mineral water', 'fresh tuna'})\n",
      "frozenset({'spaghetti', 'frozen vegetables'})\n",
      "frozenset({'mineral water', 'ground beef'})\n",
      "frozenset({'ground beef', 'spaghetti'})\n",
      "frozenset({'shrimp', 'pasta'})\n",
      "frozenset({'mineral water', 'fresh tuna', 'nan'})\n",
      "frozenset({'spaghetti', 'nan', 'frozen vegetables'})\n",
      "frozenset({'mineral water', 'nan', 'ground beef'})\n",
      "frozenset({'nan', 'ground beef', 'spaghetti'})\n",
      "frozenset({'shrimp', 'nan', 'pasta'})\n"
     ]
    }
   ],
   "source": [
    "association_rules = classic_apriori(records, min_support=0.04, min_confidence=0.2, min_lift=3, min_length=2)\n",
    "association_results = list(association_rules)\n",
    "\n",
    "print(\"Найдено {} правил\".format(len(association_results)))\n",
    "\n",
    "for i in range(0, len(association_results)):\n",
    "    print(association_results[i][0])"
   ]
  },
  {
   "cell_type": "code",
   "execution_count": 7,
   "id": "6a2a5f7d",
   "metadata": {},
   "outputs": [
    {
     "data": {
      "text/plain": [
       "RelationRecord(items=frozenset({'mineral water', 'fresh tuna'}), support=0.04, ordered_statistics=[OrderedStatistic(items_base=frozenset({'fresh tuna'}), items_add=frozenset({'mineral water'}), confidence=1.0, lift=4.0)])"
      ]
     },
     "execution_count": 7,
     "metadata": {},
     "output_type": "execute_result"
    }
   ],
   "source": [
    "association_results[0]"
   ]
  },
  {
   "cell_type": "code",
   "execution_count": 8,
   "id": "c6f3b055",
   "metadata": {},
   "outputs": [
    {
     "name": "stdout",
     "output_type": "stream",
     "text": [
      "Rule: mineral water -> fresh tuna\n",
      "Support: 0.04\n",
      "Confidence: 1.0\n",
      "Lift: 4.0\n",
      "=====================================\n",
      "Rule: spaghetti -> frozen vegetables\n",
      "Support: 0.05\n",
      "Confidence: 0.625\n",
      "Lift: 3.125\n",
      "=====================================\n",
      "Rule: mineral water -> ground beef\n",
      "Support: 0.05\n",
      "Confidence: 0.8333333333333334\n",
      "Lift: 3.3333333333333335\n",
      "=====================================\n",
      "Rule: ground beef -> spaghetti\n",
      "Support: 0.04\n",
      "Confidence: 0.6666666666666667\n",
      "Lift: 3.3333333333333335\n",
      "=====================================\n",
      "Rule: shrimp -> pasta\n",
      "Support: 0.04\n",
      "Confidence: 1.0\n",
      "Lift: 20.0\n",
      "=====================================\n",
      "Rule: mineral water -> fresh tuna\n",
      "Support: 0.04\n",
      "Confidence: 1.0\n",
      "Lift: 4.0\n",
      "=====================================\n",
      "Rule: spaghetti -> nan\n",
      "Support: 0.05\n",
      "Confidence: 0.625\n",
      "Lift: 3.125\n",
      "=====================================\n",
      "Rule: mineral water -> nan\n",
      "Support: 0.05\n",
      "Confidence: 0.8333333333333334\n",
      "Lift: 3.3333333333333335\n",
      "=====================================\n",
      "Rule: nan -> ground beef\n",
      "Support: 0.04\n",
      "Confidence: 0.6666666666666667\n",
      "Lift: 3.3333333333333335\n",
      "=====================================\n",
      "Rule: shrimp -> nan\n",
      "Support: 0.04\n",
      "Confidence: 1.0\n",
      "Lift: 20.0\n",
      "=====================================\n"
     ]
    }
   ],
   "source": [
    "# получаем правила из общего результат и смотрим метрики\n",
    "for item in association_results:\n",
    "    pair = item[0]\n",
    "    items = [x for x in pair]\n",
    "    print(\"Rule: \" + items[0] + \" -> \" + items[1])\n",
    " \n",
    "    print(\"Support: \" + str(item[1]))\n",
    " \n",
    " \n",
    "    print(\"Confidence: \" + str(item[2][0][2]))\n",
    "    print(\"Lift: \" + str(item[2][0][3]))\n",
    "    print(\"=====================================\")"
   ]
  },
  {
   "cell_type": "code",
   "execution_count": 9,
   "id": "181ede71",
   "metadata": {},
   "outputs": [
    {
     "data": {
      "text/html": [
       "<div>\n",
       "<style scoped>\n",
       "    .dataframe tbody tr th:only-of-type {\n",
       "        vertical-align: middle;\n",
       "    }\n",
       "\n",
       "    .dataframe tbody tr th {\n",
       "        vertical-align: top;\n",
       "    }\n",
       "\n",
       "    .dataframe thead th {\n",
       "        text-align: right;\n",
       "    }\n",
       "</style>\n",
       "<table border=\"1\" class=\"dataframe\">\n",
       "  <thead>\n",
       "    <tr style=\"text-align: right;\">\n",
       "      <th></th>\n",
       "      <th>support</th>\n",
       "      <th>itemsets</th>\n",
       "    </tr>\n",
       "  </thead>\n",
       "  <tbody>\n",
       "    <tr>\n",
       "      <th>0</th>\n",
       "      <td>0.6</td>\n",
       "      <td>(Йогурт)</td>\n",
       "    </tr>\n",
       "    <tr>\n",
       "      <th>1</th>\n",
       "      <td>1.0</td>\n",
       "      <td>(Лосось)</td>\n",
       "    </tr>\n",
       "    <tr>\n",
       "      <th>2</th>\n",
       "      <td>0.6</td>\n",
       "      <td>(Лук)</td>\n",
       "    </tr>\n",
       "    <tr>\n",
       "      <th>3</th>\n",
       "      <td>0.6</td>\n",
       "      <td>(Молоко)</td>\n",
       "    </tr>\n",
       "    <tr>\n",
       "      <th>4</th>\n",
       "      <td>0.8</td>\n",
       "      <td>(Хлеб)</td>\n",
       "    </tr>\n",
       "    <tr>\n",
       "      <th>5</th>\n",
       "      <td>0.6</td>\n",
       "      <td>(Йогурт, Лосось)</td>\n",
       "    </tr>\n",
       "    <tr>\n",
       "      <th>6</th>\n",
       "      <td>0.6</td>\n",
       "      <td>(Лук, Лосось)</td>\n",
       "    </tr>\n",
       "    <tr>\n",
       "      <th>7</th>\n",
       "      <td>0.6</td>\n",
       "      <td>(Молоко, Лосось)</td>\n",
       "    </tr>\n",
       "    <tr>\n",
       "      <th>8</th>\n",
       "      <td>0.8</td>\n",
       "      <td>(Хлеб, Лосось)</td>\n",
       "    </tr>\n",
       "    <tr>\n",
       "      <th>9</th>\n",
       "      <td>0.6</td>\n",
       "      <td>(Лук, Хлеб)</td>\n",
       "    </tr>\n",
       "    <tr>\n",
       "      <th>10</th>\n",
       "      <td>0.6</td>\n",
       "      <td>(Лук, Хлеб, Лосось)</td>\n",
       "    </tr>\n",
       "  </tbody>\n",
       "</table>\n",
       "</div>"
      ],
      "text/plain": [
       "    support             itemsets\n",
       "0       0.6             (Йогурт)\n",
       "1       1.0             (Лосось)\n",
       "2       0.6                (Лук)\n",
       "3       0.6             (Молоко)\n",
       "4       0.8               (Хлеб)\n",
       "5       0.6     (Йогурт, Лосось)\n",
       "6       0.6        (Лук, Лосось)\n",
       "7       0.6     (Молоко, Лосось)\n",
       "8       0.8       (Хлеб, Лосось)\n",
       "9       0.6          (Лук, Хлеб)\n",
       "10      0.6  (Лук, Хлеб, Лосось)"
      ]
     },
     "execution_count": 9,
     "metadata": {},
     "output_type": "execute_result"
    }
   ],
   "source": [
    "te = TransactionEncoder()\n",
    "te_try = te.fit(dataset).transform(dataset)\n",
    "df = pd.DataFrame(te_try, columns=te.columns_)\n",
    "\n",
    "# модель\n",
    "# установим порог для support в 0.5\n",
    "apriori(df,min_support=0.5, use_colnames=True)"
   ]
  },
  {
   "cell_type": "markdown",
   "id": "bbb9a327",
   "metadata": {},
   "source": [
    "# Метрики расстояний "
   ]
  },
  {
   "cell_type": "code",
   "execution_count": null,
   "id": "a7986ce0",
   "metadata": {},
   "outputs": [],
   "source": [
    "import numpy as np\n",
    "import pandas as pd\n",
    "from scipy import spatial\n",
    "\n",
    "import warnings\n",
    "warnings.filterwarnings('ignore')\n",
    "\n",
    "\n",
    "from IPython.core.display import display, HTML\n",
    "display(HTML(\"<style>.container { width:100% !important; }</style>\"))\n",
    "\n",
    "import seaborn as  sns\n",
    "import matplotlib.pyplot as plt"
   ]
  },
  {
   "cell_type": "code",
   "execution_count": null,
   "id": "c719961d",
   "metadata": {},
   "outputs": [],
   "source": [
    "pd.set_option('display.max_rows', 500)\n",
    "pd.set_option('display.max_columns', 500)\n",
    "pd.set_option('display.width', 200)"
   ]
  },
  {
   "cell_type": "code",
   "execution_count": null,
   "id": "5a3fd8c6",
   "metadata": {},
   "outputs": [],
   "source": [
    "a = [5., 1.]\n",
    "b = [4., 4.]\n",
    "c = [3.5, 2.5]\n",
    "d = [2., 3.]"
   ]
  },
  {
   "cell_type": "code",
   "execution_count": null,
   "id": "a3f32612",
   "metadata": {},
   "outputs": [],
   "source": [
    "labels = [\"A\", \"B\", \"C\", \"D\"]\n",
    "data = np.append([a], [b], axis=0)\n",
    "data = np.append(data, [c], axis=0)\n",
    "data = np.append(data, [d], axis=0)"
   ]
  },
  {
   "cell_type": "code",
   "execution_count": null,
   "id": "2512e8c2",
   "metadata": {},
   "outputs": [],
   "source": [
    "# визуализируем данные\n",
    "fig = plt.figure(figsize=(12,5))\n",
    "ax = fig.add_subplot(111)\n",
    "\n",
    "ax.scatter(data[:, 0], data[:, 1], color=\"red\")\n",
    "\n",
    "ax.set_xlabel(\"Фильм 1\")\n",
    "ax.set_ylabel(\"Фильм 2\")\n",
    "\n",
    "\n",
    "for i, word in enumerate(data):\n",
    "    ax.annotate(labels[i], xy=(data[i, 0], data[i, 1]), size=30)\n",
    "plt.grid(True)\n",
    "plt.show()"
   ]
  },
  {
   "cell_type": "code",
   "execution_count": null,
   "id": "9a366463",
   "metadata": {},
   "outputs": [],
   "source": [
    "def euclidean_distance(x,y):\n",
    "    from math import pow, sqrt\n",
    "    return sqrt(sum(pow(a-b,2) for a,b in zip(x,y)))\n",
    "\n",
    "def euclidean_distance_2(x,y):\n",
    "    return sum((np.array(x) - np.array(y))**2)**(1/2)"
   ]
  },
  {
   "cell_type": "code",
   "execution_count": null,
   "id": "993cc8b3",
   "metadata": {},
   "outputs": [],
   "source": [
    "def manhattan_distance(x,y):\n",
    "    return sum(abs(a-b) for a,b in zip(x,y))\n",
    "\n",
    "def manhattan_distance_2(x,y):\n",
    "    return sum(abs((np.array(x) - np.array(y))))"
   ]
  },
  {
   "cell_type": "code",
   "execution_count": null,
   "id": "e3f3d910",
   "metadata": {},
   "outputs": [],
   "source": [
    "def square_rooted(x):\n",
    "    from math import pow, sqrt\n",
    "    return round(sqrt(sum([a*a for a in x])),3)\n",
    "  \n",
    "def cosine_similarity(x,y):\n",
    "    numerator = sum(a*b for a,b in zip(x,y))\n",
    "    denominator = square_rooted(x)*square_rooted(y)\n",
    "    return round(numerator/float(denominator),3)\n",
    "\n",
    "def cosine_similarity_2(x,y):\n",
    "    numerator = sum(np.array(x)*np.array(y))\n",
    "    denominator = round(sum(np.array(x)**2)**(1/2),3)*round(sum(np.array(y)**2)**(1/2),3)\n",
    "    return round(numerator/float(denominator),3)"
   ]
  },
  {
   "cell_type": "code",
   "execution_count": null,
   "id": "61a42cb6",
   "metadata": {},
   "outputs": [],
   "source": [
    "# расстояние одной точки А до остальных\n",
    "print(\"A-C:\",spatial.distance.euclidean(a, c))\n",
    "print(\"A-B:\", spatial.distance.euclidean(a, b))\n",
    "print(\"A-D:\", spatial.distance.euclidean(a, d))\n",
    "\n",
    "# действительно считает)\n",
    "print(\"A-А:\", spatial.distance.euclidean(a, a))"
   ]
  },
  {
   "cell_type": "code",
   "execution_count": null,
   "id": "7db92fa7",
   "metadata": {},
   "outputs": [],
   "source": [
    "print(\"C-A:\", spatial.distance.cosine(c,a))\n",
    "print(\"A-B:\", spatial.distance.cosine(a,b))\n",
    "print(\"A-C:\", spatial.distance.cosine(a,c))"
   ]
  },
  {
   "cell_type": "code",
   "execution_count": null,
   "id": "cbc34251",
   "metadata": {},
   "outputs": [],
   "source": [
    "cosine_similarity_2(a,b)"
   ]
  },
  {
   "cell_type": "code",
   "execution_count": null,
   "id": "00839175",
   "metadata": {},
   "outputs": [],
   "source": [
    "# сделаем расчет по всем точкам\n",
    "\n",
    "dot_list = [a, b, c, d]\n",
    "\n",
    "df = pd.DataFrame(columns = ['U1', 'U2', 'SIM'])\n",
    "\n",
    "n=0\n",
    "\n",
    "for i in dot_list:\n",
    "    for j in dot_list:\n",
    "        \n",
    "        if i != j :\n",
    "            \n",
    "            # используйте выбранный метод и заполните таблицу \n",
    "            result = spatial.distance.cosine(i,j)\n",
    "            df.loc[n] = [i, j, result]\n",
    "            \n",
    "            n+=1\n",
    "        \n",
    "df.sort_values(by = 'SIM')"
   ]
  },
  {
   "cell_type": "markdown",
   "id": "b420bba7",
   "metadata": {},
   "source": [
    "# Коллаборативная фильтрация"
   ]
  },
  {
   "cell_type": "markdown",
   "id": "6eacba85",
   "metadata": {},
   "source": [
    "Общая идея заключается в том, что для каждого пользователя мы считаем его схожесть с другим пользователем на основании его рейтингов фильмов. А затем эту схожесть используем для того, чтобы предсказать его рейтинг для фильма, который он не смотрел, но смотрели другие пользователи со схожим поведением."
   ]
  },
  {
   "cell_type": "code",
   "execution_count": 6,
   "id": "3bdb3ed5",
   "metadata": {},
   "outputs": [],
   "source": [
    "import pandas as pd\n",
    "import numpy as np\n",
    "import random\n",
    "import sklearn\n",
    "import sklearn.model_selection\n",
    "import sklearn.linear_model\n",
    "import sklearn.metrics\n",
    "import sklearn.metrics.pairwise\n",
    "import math"
   ]
  },
  {
   "cell_type": "code",
   "execution_count": 7,
   "id": "6ceb8c2f",
   "metadata": {},
   "outputs": [],
   "source": [
    "ratings = pd.read_csv('./data/ratings.csv')\n",
    "movies = pd.read_csv('./data/movies.csv')\n",
    "tags = pd.read_csv('./data/tags.csv')\n",
    "\n",
    "#сделаем разбивку\n",
    "train_ratings, test_ratings = sklearn.model_selection.train_test_split(ratings, test_size=0.2)"
   ]
  },
  {
   "cell_type": "markdown",
   "id": "25b05aef",
   "metadata": {},
   "source": [
    "### ПОДХОД 1. Считаем расстояние между пользователями, которые смотрели одинаковые фильмы\n",
    "Мы считаем матрицу схожести пользователей. Здесь представлено 2 способа\n",
    "1. Берем пользователя user_1 и ставим в пару сначала user_2 потом всех остальных. Проверяем список всех фильмов которые смотрел user_1 и если этот фильм смотрел user_2 добавляем их оценки в вектор_1 и вектор_2, потом сравниваем эти вектора по косинусному расстоянию. Потом берем пару user_1 user_3 и так далее. "
   ]
  },
  {
   "cell_type": "code",
   "execution_count": 186,
   "id": "2a40815d",
   "metadata": {},
   "outputs": [],
   "source": [
    "movie_users = {}\n",
    "user_movies = {}\n",
    "for index, row in train_ratings.iterrows():\n",
    "    if row['movieId'] not in movie_users:\n",
    "        movie_users[row['movieId']] = {}\n",
    "        \n",
    "    if row['userId'] not in user_movies:\n",
    "        user_movies[row['userId']] = {}\n",
    "        \n",
    "    movie_users[row['movieId']][row['userId']] = row['rating']\n",
    "    user_movies[row['userId']][row['movieId']] = row['rating']"
   ]
  },
  {
   "cell_type": "code",
   "execution_count": null,
   "id": "1941a8a1",
   "metadata": {},
   "outputs": [],
   "source": [
    "# сделаем расчет по всем пользователям\n",
    "# проверяем разницу на основе cos(A,B)\n",
    "similarities = {}\n",
    "\n",
    "# все фильмы пользователя 1\n",
    "for user1 in user_movies:\n",
    "    if user1 not in similarities:\n",
    "        similarities[user1] = {}\n",
    "    \n",
    "    # все фильмы пользователя 2\n",
    "    for user2 in user_movies:\n",
    "        if user2 in similarities[user1] or user1 == user2:\n",
    "            continue\n",
    "        \n",
    "        user1_ratings = []\n",
    "        user2_ratings = []\n",
    "        \n",
    "        # только те фильме, которые оба пользователя смотрели\n",
    "        for key in user_movies[user1]:\n",
    "            watched_users = movie_users[key]\n",
    "            if user1 in watched_users and user2 in watched_users:\n",
    "                user1_ratings.append(watched_users[user1])\n",
    "                user2_ratings.append(watched_users[user2])\n",
    "                \n",
    "        if len(user1_ratings) > 0:\n",
    "            if user2 not in similarities:\n",
    "                similarities[user2] = {}\n",
    "            \n",
    "            # делаем расчет расстояния\n",
    "            sim = np.dot(user1_ratings, user2_ratings) / (np.linalg.norm(user1_ratings) * np.linalg.norm(user2_ratings))\n",
    "            similarities[user1][user2] = sim\n",
    "            similarities[user2][user1] = sim"
   ]
  },
  {
   "cell_type": "code",
   "execution_count": null,
   "id": "1784530e",
   "metadata": {},
   "outputs": [],
   "source": [
    "# как вариант можем трансформировать в такую таблицу\n",
    "cosine_sim_1 = pd.DataFrame(similarities).T"
   ]
  },
  {
   "cell_type": "markdown",
   "id": "3eae5ec5",
   "metadata": {},
   "source": [
    "### ПОДХОД 2. Считаем  расстояние с учетом непросмотренных фильмов, там где рейтинг 0"
   ]
  },
  {
   "cell_type": "code",
   "execution_count": null,
   "id": "f787d853",
   "metadata": {},
   "outputs": [],
   "source": [
    "from sklearn.metrics.pairwise import cosine_similarity\n",
    "\n",
    "ratings_matrix = train_ratings.pivot(index='userId', columns='movieId', values='rating')\n",
    "ratings_matrix = ratings_matrix.fillna(0)\n",
    "\n",
    "cosine_sim = pd.DataFrame(cosine_similarity(ratings_matrix), \n",
    "                          index=ratings_matrix.index, \n",
    "                          columns=ratings_matrix.index)\n",
    "\n",
    "cosine_sim.loc[441,38]"
   ]
  },
  {
   "cell_type": "markdown",
   "id": "dae78b3e",
   "metadata": {},
   "source": [
    "### KNN. Используем посчитанное расстояние для прогноза рейтинга\n",
    "#### Основа: Фильм смотрели какое-то количество пользователей. Среди них есть близкие к user, мы берем k из них и усредняем их рейтинг"
   ]
  },
  {
   "cell_type": "code",
   "execution_count": null,
   "id": "108b7c12",
   "metadata": {},
   "outputs": [],
   "source": [
    "Мы считаем прогнозный рейтинг пользователя User для фильма Movie\n",
    "\n",
    "Для этого мы возьмем всех пользователей который смотрели фильм Movie\n",
    "И найдем тех, у кого есть метрика схожести с пользователем User\n",
    "\n",
    "Соберем для этого пользователя всех добавляя коэф. similarities и рейтинг в датафрейм knearest \n",
    "Прогнозный рейтинг для этого пользователя по фильму будет равен взвешенному из knearest\n",
    "\n"
   ]
  },
  {
   "cell_type": "code",
   "execution_count": null,
   "id": "720331fb",
   "metadata": {},
   "outputs": [],
   "source": [
    "#KNN\n",
    "def knn_predict(k, userId, movieId):\n",
    "    watched_users = movie_users[movieId]\n",
    "    \n",
    "    sim_scores = []\n",
    "    rating_scores = []\n",
    "    \n",
    "    for w in watched_users:\n",
    "        if w in similarities[userId]:\n",
    "            sim_scores.append(similarities[userId][w])\n",
    "            rating_scores.append(watched_users[w])\n",
    "    \n",
    "    #Считаем скоринг и находим ближайших\n",
    "    if len(sim_scores) > 0:\n",
    "        sim_df = pd.DataFrame(data={'sim' : sim_scores, 'rating' : rating_scores})\n",
    "        \n",
    "        # делаем сортировку\n",
    "        sorted_sim_df = sim_df.sort_values(by=['sim'], ascending = False)\n",
    "        # отбор топ - это и есть ближайшие\n",
    "        knearest = sorted_sim_df.head(k)\n",
    "        \n",
    "        numerator = 0\n",
    "        denomenator = 0\n",
    "        for index, row in knearest.iterrows():\n",
    "            numerator += row['sim'] * row['rating']\n",
    "            denomenator += row['sim']\n",
    "        return numerator / denomenator\n",
    "    else: \n",
    "        # можно возвращать любой случайный рейтинг или средний по всем\n",
    "        return 2.5"
   ]
  },
  {
   "cell_type": "code",
   "execution_count": null,
   "id": "b3fa185d",
   "metadata": {},
   "outputs": [],
   "source": [
    "# сделаем расчет\n",
    "\n",
    "# определим кол-во ближайших соседей (набор, чтобы увидеть разницу) \n",
    "Ks= [10, 15, 20, 25]\n",
    "\n",
    "# сделаем подбор для тех, кто есть в тестовой выборке\n",
    "for K in Ks:\n",
    "    predicted_ratings = []\n",
    "    actual_ratings = []\n",
    "\n",
    "    for index, row in test_ratings.iterrows():\n",
    "        if row['movieId'] not in movie_users:\n",
    "            continue\n",
    "\n",
    "        pred = knn_predict(K, row['userId'], row['movieId'])\n",
    "\n",
    "        # сохраним результат\n",
    "        predicted_ratings.append(pred)\n",
    "        actual_ratings.append(row['rating'])\n",
    "    \n",
    "    # метрика (факт / предикт)\n",
    "    rmse = math.sqrt(sklearn.metrics.mean_squared_error(predicted_ratings, actual_ratings))\n",
    "    print(\"K - \", K, \" | RMSE:\", rmse)"
   ]
  },
  {
   "cell_type": "markdown",
   "id": "41430061",
   "metadata": {},
   "source": [
    "### БИБЛИОТЕКА SURPRISE (НЕ Работает - смотри в google colab) А так результат чуть лучше, чем вручную выше"
   ]
  },
  {
   "cell_type": "code",
   "execution_count": null,
   "id": "21cd4a55",
   "metadata": {},
   "outputs": [],
   "source": [
    "from surprise import Dataset\n",
    "from surprise import Reader\n",
    "import numpy as np\n",
    "import pandas as pd\n",
    "from surprise.model_selection import train_test_split\n",
    "\n",
    "from surprise import KNNWithMeans, accuracy"
   ]
  },
  {
   "cell_type": "code",
   "execution_count": null,
   "id": "445a0403",
   "metadata": {},
   "outputs": [],
   "source": [
    "df = pd.read_csv('./data/ratings.csv')"
   ]
  },
  {
   "cell_type": "code",
   "execution_count": null,
   "id": "9c4c1d6f",
   "metadata": {},
   "outputs": [],
   "source": [
    "reader = Reader(rating_scale=(1, 5))\n",
    "data = Dataset.load_from_df(df[['userId', 'movieId', 'rating']], reader)\n",
    "trainset, testset = train_test_split(data, test_size=0.2, random_state=28)\n",
    "\n",
    "# используем такую же item-based рекомендацию на основе схожести по косиносному расстоянию\n",
    "sim_options = {\n",
    "    \"name\": \"cosine\",\n",
    "    \"user_based\": False,  # расстояние между предметами, не пользователями\n",
    "}\n",
    "algo = KNNWithMeans(sim_options=sim_options)"
   ]
  },
  {
   "cell_type": "code",
   "execution_count": null,
   "id": "a32ecb26",
   "metadata": {},
   "outputs": [],
   "source": [
    "algo.fit(trainset)"
   ]
  },
  {
   "cell_type": "code",
   "execution_count": null,
   "id": "f7462f11",
   "metadata": {},
   "outputs": [],
   "source": [
    "algo.test(testset)[:10] #r_ui факт"
   ]
  },
  {
   "cell_type": "code",
   "execution_count": null,
   "id": "af506167",
   "metadata": {},
   "outputs": [],
   "source": [
    "accuracy.rmse(algo.test(testset))"
   ]
  },
  {
   "cell_type": "markdown",
   "id": "694fd02d",
   "metadata": {},
   "source": [
    "# Matrix Factorization"
   ]
  },
  {
   "cell_type": "code",
   "execution_count": 28,
   "id": "29a33189",
   "metadata": {},
   "outputs": [],
   "source": [
    "\n",
    "# Создадим (инициализируем) вектора для каждого user и каждого movie, в рандомном порядке.\n",
    "user_matrix = {}\n",
    "item_matrix = {}\n",
    "learning_rate = 0.0001\n",
    "lu = 0.0001\n",
    "li = 0.0001\n",
    "K = 5\n",
    "\n",
    "for u in user_movies:\n",
    "    user_matrix[u] = random.sample(range(1, 100), K)\n",
    "    for index in range(K):\n",
    "        user_matrix[u][index] /= float(100)\n",
    "    \n",
    "for i in movie_users:\n",
    "    item_matrix[i] = random.sample(range(1, 100), K)\n",
    "    for index in range(K):\n",
    "        item_matrix[i][index] /= float(100)"
   ]
  },
  {
   "cell_type": "markdown",
   "id": "e0373b36",
   "metadata": {},
   "source": [
    "### функция ошибки "
   ]
  },
  {
   "cell_type": "code",
   "execution_count": 51,
   "id": "ca0a862c",
   "metadata": {},
   "outputs": [],
   "source": [
    "# функция ошибки\n",
    "def get_error(user_matrix, item_matrix, actual, lu, li):\n",
    "    error = 0\n",
    "    for u in actual:\n",
    "        for i in actual[u]:\n",
    "            pred = np.dot(user_matrix[u], item_matrix[i])\n",
    "            error += (pred - actual[u][i]) ** 2\n",
    "            \n",
    "    error /= 2\n",
    "    \n",
    "    u_norm = 0\n",
    "    for u in user_matrix:\n",
    "        for val in user_matrix[u]:\n",
    "            u_norm += val ** 2\n",
    "    i_norm = 0\n",
    "    for i in item_matrix:\n",
    "        for val in item_matrix[i]:\n",
    "            i_norm += val ** 2\n",
    "            \n",
    "    error += lu * u_norm / 2\n",
    "    error += li * i_norm / 2\n",
    "              \n",
    "    return error\n",
    "    \n",
    "    \n",
    "#производная U\n",
    "def dE_u(user_matrix, item_matrix, actual, lu, u, index):\n",
    "    derivative = 0\n",
    "    for i in actual[u]:\n",
    "        pred = np.dot(user_matrix[u], item_matrix[i])\n",
    "        derivative += (pred - actual[u][i]) * item_matrix[i][index]\n",
    "        \n",
    "    derivative += lu * user_matrix[u][index]\n",
    "    \n",
    "    return derivative \n",
    "\n",
    "#производная V\n",
    "def dE_i(user_matrix, item_matrix, actual, li, i, index):\n",
    "    derivative = 0\n",
    "    watched_users = movie_users[i]\n",
    "    for u in watched_users:\n",
    "        pred = np.dot(user_matrix[u], item_matrix[i])\n",
    "        derivative += (pred - actual[u][i]) * user_matrix[u][index]\n",
    "        \n",
    "    derivative += li * item_matrix[i][index]\n",
    "    \n",
    "    return derivative\n",
    "\n",
    "\n",
    "\n",
    "\n",
    "#ALS\n",
    "def learn(user_matrix, item_matrix, actual, lu, li, learning_rate):\n",
    "    counter = 0\n",
    "    while counter < 10:\n",
    "        error = get_error(user_matrix, item_matrix, actual, lu, li)\n",
    "        print(\"Counter:\", counter, \"Error:\", error) #Error should trend downwards over time\n",
    "        \n",
    "        #Используем V константой, обновляем U с градиентом\n",
    "        if counter % 2 == 0:\n",
    "            user_derivatives = {}      \n",
    "            for u in user_matrix:\n",
    "                user_derivatives[u] = []\n",
    "            \n",
    "                for index in range(len(user_matrix[u])):\n",
    "                    user_derivatives[u].append(dE_u(user_matrix, item_matrix, actual, lu, u, index))\n",
    "                    \n",
    "            for u in user_matrix:\n",
    "                for index in range(len(user_matrix[u])):\n",
    "                    user_matrix[u][index] -= learning_rate * user_derivatives[u][index]\n",
    "\n",
    "        #Используем U константой, обновляем V с градиентом\n",
    "        else:\n",
    "            item_derivatives = {}\n",
    "            for i in item_matrix:\n",
    "                item_derivatives[i] = []\n",
    "                for index in range(len(item_matrix[i])):\n",
    "                    item_derivatives[i].append(dE_i(user_matrix, item_matrix, actual, li, i, index))\n",
    "                    \n",
    "            for i in item_matrix:\n",
    "                for index in range(len(item_matrix[i])):\n",
    "                    item_matrix[i][index] -= learning_rate * item_derivatives[i][index]\n",
    "        \n",
    "        counter += 1\n",
    "        \n",
    "    return (user_matrix, item_matrix)"
   ]
  },
  {
   "cell_type": "code",
   "execution_count": 52,
   "id": "f2c78faf",
   "metadata": {},
   "outputs": [
    {
     "name": "stdout",
     "output_type": "stream",
     "text": [
      "Counter: 0 Error: 271084.96173539525\n",
      "Counter: 1 Error: 252419.8469623627\n",
      "Counter: 2 Error: 249120.77079132377\n",
      "Counter: 3 Error: 234022.0445927252\n",
      "Counter: 4 Error: 230690.10234386503\n",
      "Counter: 5 Error: 218168.63774764448\n",
      "Counter: 6 Error: 214863.13368097384\n",
      "Counter: 7 Error: 204263.32048202128\n",
      "Counter: 8 Error: 201029.6486354064\n",
      "Counter: 9 Error: 191907.78940557406\n"
     ]
    }
   ],
   "source": [
    "learned_users, learned_items = learn(user_matrix, item_matrix, user_movies, lu, li, learning_rate)"
   ]
  },
  {
   "cell_type": "code",
   "execution_count": 54,
   "id": "2c6df491",
   "metadata": {},
   "outputs": [
    {
     "name": "stdout",
     "output_type": "stream",
     "text": [
      "RMSE: 2.197183642351023\n"
     ]
    }
   ],
   "source": [
    "predicted_ratings = []\n",
    "actuals = []\n",
    "not_count = 0\n",
    "for index, row in test_ratings.iterrows():\n",
    "    if row['movieId'] not in movie_users:\n",
    "        continue\n",
    "        \n",
    "    pred = np.dot(learned_users[row['userId']], learned_items[row['movieId']])\n",
    "    predicted_ratings.append(pred)\n",
    "    actuals.append(row['rating'])\n",
    "\n",
    "rmse = math.sqrt(sklearn.metrics.mean_squared_error(predicted_ratings, actuals))\n",
    "print(\"RMSE:\", rmse)"
   ]
  },
  {
   "cell_type": "markdown",
   "id": "db628909",
   "metadata": {},
   "source": [
    "## Тоже самое только библиотекой Surprise"
   ]
  },
  {
   "cell_type": "code",
   "execution_count": null,
   "id": "5708af82",
   "metadata": {},
   "outputs": [],
   "source": [
    "from surprise import SVD, accuracy"
   ]
  },
  {
   "cell_type": "code",
   "execution_count": null,
   "id": "f1f3eaea",
   "metadata": {},
   "outputs": [],
   "source": [
    "reader = Reader(rating_scale=(1, 5))\n",
    "data = Dataset.load_from_df(movielens[['userId', 'item_id', 'rating']], reader)\n",
    "\n",
    "trainset, testset = train_test_split(data, test_size=0.25)"
   ]
  },
  {
   "cell_type": "code",
   "execution_count": null,
   "id": "999b6cb4",
   "metadata": {},
   "outputs": [],
   "source": [
    "algo = SVD()\n",
    "algo.fit(trainset)\n",
    "\n",
    "predictions = algo.test(testset)"
   ]
  },
  {
   "cell_type": "code",
   "execution_count": null,
   "id": "cdd4b087",
   "metadata": {},
   "outputs": [],
   "source": [
    "accuracy.rmse(predictions)"
   ]
  },
  {
   "cell_type": "markdown",
   "id": "5b5b3765",
   "metadata": {},
   "source": [
    "## Работа с Pivot Crosstab"
   ]
  },
  {
   "cell_type": "code",
   "execution_count": 149,
   "id": "34e5cba2",
   "metadata": {},
   "outputs": [],
   "source": [
    "pivot_df = pd.crosstab(ratings['userId'], ratings['movieId'], values=ratings['rating'], aggfunc='first')\n",
    "pivot_df1 = ratings.pivot_table(index = 'userId',columns = 'movieId', values = 'rating')"
   ]
  },
  {
   "cell_type": "markdown",
   "id": "24119171",
   "metadata": {},
   "source": [
    "Проверка и удаление NaN"
   ]
  },
  {
   "cell_type": "code",
   "execution_count": 153,
   "id": "2b6d2dc3",
   "metadata": {},
   "outputs": [
    {
     "data": {
      "text/plain": [
       "Index([], dtype='int64', name='movieId')"
      ]
     },
     "execution_count": 153,
     "metadata": {},
     "output_type": "execute_result"
    }
   ],
   "source": [
    "pivot_df.isnull().all().sum()\n",
    "pivot_df.columns[pivot_df.isnull().all()]\n",
    "pivot_df.index[pivot_df.isnull().all(axis=1)]"
   ]
  },
  {
   "cell_type": "code",
   "execution_count": 155,
   "id": "7280a121",
   "metadata": {},
   "outputs": [],
   "source": [
    "pivot_df = pivot_df.dropna(axis=1, how='all')\n",
    "pivot_df = pivot_df.dropna(axis=0, how='all')"
   ]
  },
  {
   "cell_type": "code",
   "execution_count": 191,
   "id": "25457eb3",
   "metadata": {},
   "outputs": [
    {
     "data": {
      "text/plain": [
       "movieId\n",
       "1        NaN\n",
       "2        NaN\n",
       "3        NaN\n",
       "4        NaN\n",
       "5        NaN\n",
       "          ..\n",
       "161944   NaN\n",
       "162376   NaN\n",
       "162542   NaN\n",
       "162672   NaN\n",
       "163949   NaN\n",
       "Name: 1, Length: 9066, dtype: float64"
      ]
     },
     "execution_count": 191,
     "metadata": {},
     "output_type": "execute_result"
    }
   ],
   "source": [
    "pivot_df.loc[1,:]"
   ]
  },
  {
   "cell_type": "code",
   "execution_count": 193,
   "id": "1a46751f",
   "metadata": {},
   "outputs": [],
   "source": [
    "# Словари исключая NaN\n",
    "index_column = pivot_df.apply(lambda row: row.dropna().to_dict(), axis=1).to_dict()\n",
    "column_index = pivot_df.T.apply(lambda row: row.dropna().to_dict(), axis=1).to_dict()"
   ]
  },
  {
   "cell_type": "code",
   "execution_count": 197,
   "id": "0a5a7ce7",
   "metadata": {},
   "outputs": [],
   "source": []
  },
  {
   "cell_type": "code",
   "execution_count": null,
   "id": "c041ca66",
   "metadata": {},
   "outputs": [],
   "source": []
  },
  {
   "cell_type": "code",
   "execution_count": null,
   "id": "7459284d",
   "metadata": {},
   "outputs": [],
   "source": []
  },
  {
   "cell_type": "code",
   "execution_count": null,
   "id": "69836ca3",
   "metadata": {},
   "outputs": [],
   "source": []
  },
  {
   "cell_type": "code",
   "execution_count": null,
   "id": "8b9ffba3",
   "metadata": {},
   "outputs": [],
   "source": []
  },
  {
   "cell_type": "code",
   "execution_count": null,
   "id": "c718f31e",
   "metadata": {},
   "outputs": [],
   "source": []
  },
  {
   "cell_type": "code",
   "execution_count": null,
   "id": "26ee1cc8",
   "metadata": {},
   "outputs": [],
   "source": []
  },
  {
   "cell_type": "code",
   "execution_count": null,
   "id": "6cb13330",
   "metadata": {},
   "outputs": [],
   "source": []
  },
  {
   "cell_type": "code",
   "execution_count": null,
   "id": "a79aae49",
   "metadata": {},
   "outputs": [],
   "source": []
  },
  {
   "cell_type": "code",
   "execution_count": null,
   "id": "ded8aa35",
   "metadata": {},
   "outputs": [],
   "source": []
  }
 ],
 "metadata": {
  "kernelspec": {
   "display_name": "Python 3 (ipykernel)",
   "language": "python",
   "name": "python3"
  },
  "language_info": {
   "codemirror_mode": {
    "name": "ipython",
    "version": 3
   },
   "file_extension": ".py",
   "mimetype": "text/x-python",
   "name": "python",
   "nbconvert_exporter": "python",
   "pygments_lexer": "ipython3",
   "version": "3.11.5"
  }
 },
 "nbformat": 4,
 "nbformat_minor": 5
}
