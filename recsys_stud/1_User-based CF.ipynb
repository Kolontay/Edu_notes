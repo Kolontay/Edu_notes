{
 "cells": [
  {
   "cell_type": "code",
   "execution_count": 1,
   "metadata": {},
   "outputs": [],
   "source": [
    "from sklearn.neighbors import NearestNeighbors\n",
    "from sklearn.model_selection import train_test_split as sklearn_train_test_split\n",
    "from sklearn.preprocessing import LabelEncoder\n",
    "from scipy.sparse import csr_matrix\n",
    "\n",
    "import pandas as pd\n",
    "import numpy as np\n",
    "import zipfile"
   ]
  },
  {
   "cell_type": "code",
   "execution_count": 2,
   "metadata": {},
   "outputs": [],
   "source": [
    "import warnings\n",
    "warnings.filterwarnings('ignore')"
   ]
  },
  {
   "cell_type": "markdown",
   "metadata": {},
   "source": [
    "### Загружаем наборы данных"
   ]
  },
  {
   "cell_type": "code",
   "execution_count": 3,
   "metadata": {},
   "outputs": [],
   "source": [
    "ratings = pd.read_csv('./data/ratings.csv')\n",
    "movies = pd.read_csv('./data/movies.csv')"
   ]
  },
  {
   "cell_type": "code",
   "execution_count": 4,
   "metadata": {},
   "outputs": [
    {
     "data": {
      "text/html": [
       "<div>\n",
       "<style scoped>\n",
       "    .dataframe tbody tr th:only-of-type {\n",
       "        vertical-align: middle;\n",
       "    }\n",
       "\n",
       "    .dataframe tbody tr th {\n",
       "        vertical-align: top;\n",
       "    }\n",
       "\n",
       "    .dataframe thead th {\n",
       "        text-align: right;\n",
       "    }\n",
       "</style>\n",
       "<table border=\"1\" class=\"dataframe\">\n",
       "  <thead>\n",
       "    <tr style=\"text-align: right;\">\n",
       "      <th></th>\n",
       "      <th>userId</th>\n",
       "      <th>movieId</th>\n",
       "      <th>rating</th>\n",
       "      <th>timestamp</th>\n",
       "    </tr>\n",
       "  </thead>\n",
       "  <tbody>\n",
       "    <tr>\n",
       "      <th>0</th>\n",
       "      <td>1</td>\n",
       "      <td>31</td>\n",
       "      <td>2.5</td>\n",
       "      <td>1260759144</td>\n",
       "    </tr>\n",
       "    <tr>\n",
       "      <th>1</th>\n",
       "      <td>1</td>\n",
       "      <td>1029</td>\n",
       "      <td>3.0</td>\n",
       "      <td>1260759179</td>\n",
       "    </tr>\n",
       "    <tr>\n",
       "      <th>2</th>\n",
       "      <td>1</td>\n",
       "      <td>1061</td>\n",
       "      <td>3.0</td>\n",
       "      <td>1260759182</td>\n",
       "    </tr>\n",
       "    <tr>\n",
       "      <th>3</th>\n",
       "      <td>1</td>\n",
       "      <td>1129</td>\n",
       "      <td>2.0</td>\n",
       "      <td>1260759185</td>\n",
       "    </tr>\n",
       "    <tr>\n",
       "      <th>4</th>\n",
       "      <td>1</td>\n",
       "      <td>1172</td>\n",
       "      <td>4.0</td>\n",
       "      <td>1260759205</td>\n",
       "    </tr>\n",
       "  </tbody>\n",
       "</table>\n",
       "</div>"
      ],
      "text/plain": [
       "   userId  movieId  rating   timestamp\n",
       "0       1       31     2.5  1260759144\n",
       "1       1     1029     3.0  1260759179\n",
       "2       1     1061     3.0  1260759182\n",
       "3       1     1129     2.0  1260759185\n",
       "4       1     1172     4.0  1260759205"
      ]
     },
     "execution_count": 4,
     "metadata": {},
     "output_type": "execute_result"
    }
   ],
   "source": [
    "ratings.head(5)"
   ]
  },
  {
   "cell_type": "code",
   "execution_count": 5,
   "metadata": {},
   "outputs": [
    {
     "data": {
      "text/html": [
       "<div>\n",
       "<style scoped>\n",
       "    .dataframe tbody tr th:only-of-type {\n",
       "        vertical-align: middle;\n",
       "    }\n",
       "\n",
       "    .dataframe tbody tr th {\n",
       "        vertical-align: top;\n",
       "    }\n",
       "\n",
       "    .dataframe thead th {\n",
       "        text-align: right;\n",
       "    }\n",
       "</style>\n",
       "<table border=\"1\" class=\"dataframe\">\n",
       "  <thead>\n",
       "    <tr style=\"text-align: right;\">\n",
       "      <th></th>\n",
       "      <th>movieId</th>\n",
       "      <th>title</th>\n",
       "      <th>genres</th>\n",
       "    </tr>\n",
       "  </thead>\n",
       "  <tbody>\n",
       "    <tr>\n",
       "      <th>0</th>\n",
       "      <td>1</td>\n",
       "      <td>Toy Story (1995)</td>\n",
       "      <td>Adventure|Animation|Children|Comedy|Fantasy</td>\n",
       "    </tr>\n",
       "    <tr>\n",
       "      <th>1</th>\n",
       "      <td>2</td>\n",
       "      <td>Jumanji (1995)</td>\n",
       "      <td>Adventure|Children|Fantasy</td>\n",
       "    </tr>\n",
       "    <tr>\n",
       "      <th>2</th>\n",
       "      <td>3</td>\n",
       "      <td>Grumpier Old Men (1995)</td>\n",
       "      <td>Comedy|Romance</td>\n",
       "    </tr>\n",
       "    <tr>\n",
       "      <th>3</th>\n",
       "      <td>4</td>\n",
       "      <td>Waiting to Exhale (1995)</td>\n",
       "      <td>Comedy|Drama|Romance</td>\n",
       "    </tr>\n",
       "    <tr>\n",
       "      <th>4</th>\n",
       "      <td>5</td>\n",
       "      <td>Father of the Bride Part II (1995)</td>\n",
       "      <td>Comedy</td>\n",
       "    </tr>\n",
       "  </tbody>\n",
       "</table>\n",
       "</div>"
      ],
      "text/plain": [
       "   movieId                               title  \\\n",
       "0        1                    Toy Story (1995)   \n",
       "1        2                      Jumanji (1995)   \n",
       "2        3             Grumpier Old Men (1995)   \n",
       "3        4            Waiting to Exhale (1995)   \n",
       "4        5  Father of the Bride Part II (1995)   \n",
       "\n",
       "                                        genres  \n",
       "0  Adventure|Animation|Children|Comedy|Fantasy  \n",
       "1                   Adventure|Children|Fantasy  \n",
       "2                               Comedy|Romance  \n",
       "3                         Comedy|Drama|Romance  \n",
       "4                                       Comedy  "
      ]
     },
     "execution_count": 5,
     "metadata": {},
     "output_type": "execute_result"
    }
   ],
   "source": [
    "movies.head(5)"
   ]
  },
  {
   "cell_type": "markdown",
   "metadata": {},
   "source": [
    "### Создаём матрицу"
   ]
  },
  {
   "cell_type": "code",
   "execution_count": 6,
   "metadata": {},
   "outputs": [],
   "source": [
    "def ratings_matrix(ratings):    \n",
    "    # создайте csr матрицу \n",
    "    return csr_matrix(pd.crosstab(ratings.userId, ratings.movieId, ratings.rating, aggfunc=sum).fillna(0).values)  \n",
    "\n",
    "R = ratings_matrix(ratings)"
   ]
  },
  {
   "cell_type": "code",
   "execution_count": null,
   "metadata": {},
   "outputs": [],
   "source": [
    "# теперь это другая матрица)))"
   ]
  },
  {
   "cell_type": "code",
   "execution_count": null,
   "metadata": {},
   "outputs": [],
   "source": [
    "ratings"
   ]
  },
  {
   "cell_type": "code",
   "execution_count": null,
   "metadata": {},
   "outputs": [],
   "source": [
    "R"
   ]
  },
  {
   "cell_type": "code",
   "execution_count": null,
   "metadata": {},
   "outputs": [],
   "source": [
    "R.indices"
   ]
  },
  {
   "cell_type": "code",
   "execution_count": null,
   "metadata": {},
   "outputs": [],
   "source": [
    "R.data"
   ]
  },
  {
   "cell_type": "markdown",
   "metadata": {},
   "source": [
    "# Пример моделей коллаборативной фильтрации (CF)"
   ]
  },
  {
   "cell_type": "markdown",
   "metadata": {},
   "source": [
    "CF, так же известна, как \"ближайшие соседи\". Данный тип алгоритмов рекомендует на основе функции сходства между объектами или пользователями. Можно выделить основные варианты применения:\n",
    "\n",
    "1. Поиск сходства между предметами или пользователями\n",
    "2. Предикт рейтинга\n",
    "3. Формирование Top-N\n"
   ]
  },
  {
   "cell_type": "markdown",
   "metadata": {},
   "source": [
    "# 1. User-based (основано на пам"
   ]
  },
  {
   "cell_type": "markdown",
   "metadata": {},
   "source": [
    "## Algorithm : user-to-user\n",
    "\n",
    "Основаня идея алгоритма описана здесь<a href=\"https://romisatriawahono.net/lecture/rm/survey/information%20retrieval/Bobadilla%20-%20Recommender%20Systems%20-%202013.pdf\">(J. Bobadilla et al. 2013)</a>."
   ]
  },
  {
   "cell_type": "markdown",
   "metadata": {},
   "source": [
    "### 1. Определим из всей выборки пользователе, которых будем сравнивать с активным"
   ]
  },
  {
   "cell_type": "markdown",
   "metadata": {},
   "source": [
    "To find the $k$ most similar users to $u$, we use the cosine similarity and compute $w_{u,v}$ for all $v\\in U$. Fortunately, libraries such as <i>scikit-learn (sklearn)</i> are very useful for such tasks :\n",
    "\n",
    "1. Создадим модель ближайших соседей из sklearn в функции ```create_model()```. С кол-вом соседеней = 21, методом подбора \"brute2.\n",
    "\n",
    "2. Функция ```nearest_neighbors()``` возвращает knn пользователей для каждого пользователя."
   ]
  },
  {
   "cell_type": "code",
   "execution_count": 7,
   "metadata": {},
   "outputs": [],
   "source": [
    "def create_model(rating_matrix, metric):\n",
    "    \"\"\"\n",
    "    - создание модели с базовыми параметрами\n",
    "    \"\"\"\n",
    "    model = NearestNeighbors(metric=metric, n_neighbors=21, algorithm='brute')\n",
    "    \n",
    "    model.fit(rating_matrix)    \n",
    "    return model"
   ]
  },
  {
   "cell_type": "code",
   "execution_count": 8,
   "metadata": {},
   "outputs": [],
   "source": [
    "def nearest_neighbors(rating_matrix, model):\n",
    "    \"\"\"    \n",
    "    :param rating_matrix : матрица рейтингов (nb_users, nb_items)\n",
    "    :param model : модель knn  \n",
    "    \"\"\"    \n",
    "    similarities, neighbors = model.kneighbors(rating_matrix)        \n",
    "    return similarities[:, 1:], neighbors[:, 1:]"
   ]
  },
  {
   "cell_type": "code",
   "execution_count": 9,
   "metadata": {},
   "outputs": [],
   "source": [
    "# метрику схожести успользуем Косинусную\n",
    "model = create_model(rating_matrix=R, metric='cosine')\n",
    "similarities, neighbors = nearest_neighbors(R, model)"
   ]
  },
  {
   "cell_type": "code",
   "execution_count": null,
   "metadata": {},
   "outputs": [],
   "source": []
  },
  {
   "cell_type": "markdown",
   "metadata": {},
   "source": [
    "### 2. Поиск элементов пользователя"
   ]
  },
  {
   "cell_type": "code",
   "execution_count": 10,
   "metadata": {},
   "outputs": [],
   "source": [
    "def find_candidate_items(userid):\n",
    "    \"\"\"\n",
    "    Поиск элементов для переданного пользователя\n",
    "    \n",
    "    :param userid : пользователь id\n",
    "    :param neighbors : схожесть между пользователями      \n",
    "    :return candidates : топ 10 элементов для пользователя\n",
    "    \"\"\"\n",
    "    user_neighbors = neighbors[userid]\n",
    "    \n",
    "    activities = ratings.loc[ratings['userId'].isin(user_neighbors)]\n",
    "    \n",
    "    # сортируем элементы по частоте\n",
    "    frequency = activities.groupby('movieId')['rating'].count().reset_index(name='count').sort_values(['count'],ascending=False)\n",
    "    Gu_items = frequency['movieId']\n",
    "    active_items = ratings.loc[ratings['userId'] == userid]['movieId'].to_list()\n",
    "    candidates = np.setdiff1d(Gu_items, active_items, assume_unique=True)[:10]\n",
    "        \n",
    "    return candidates"
   ]
  },
  {
   "cell_type": "markdown",
   "metadata": {},
   "source": [
    "### 3. Предикт рейтинга"
   ]
  },
  {
   "cell_type": "markdown",
   "metadata": {},
   "source": [
    "Для предикта необходимо:\n",
    "\n",
    "1. Сходство между пользвателями, которое получаем из функции ```nearest_neighbors()```\n",
    "2. Нормализация рейтинга на общее среднее значение по пользователю $r_{v,i}-\\bar{r}_v$."
   ]
  },
  {
   "cell_type": "code",
   "execution_count": 11,
   "metadata": {},
   "outputs": [],
   "source": [
    "# средний рейтинг по всем\n",
    "mean = ratings.groupby(by='userId', as_index=False)['rating'].mean()\n",
    "mean_ratings = pd.merge(ratings, mean, suffixes=('','_mean'), on='userId')\n",
    "\n",
    "# нормализация рейтинга\n",
    "mean_ratings['norm_rating'] = mean_ratings['rating'] - mean_ratings['rating_mean']\n",
    "\n",
    "mean = mean.to_numpy()[:, 1]"
   ]
  },
  {
   "cell_type": "code",
   "execution_count": 12,
   "metadata": {},
   "outputs": [],
   "source": [
    "np_ratings = mean_ratings.to_numpy()"
   ]
  },
  {
   "cell_type": "markdown",
   "metadata": {},
   "source": [
    "```predict``` рейтинга между пользователями по функции:\n",
    "\n",
    "\\begin{equation}\n",
    " \\hat{r}_{u,i}=\\bar{r}_u + \\frac{\\sum_{v\\in G_u}(r_{v,i}-\\bar{r}_v)\\cdot w_{u,v}}{\\sum_{v\\in G_u}|w_{u,v}|}.\n",
    "\\end{equation}"
   ]
  },
  {
   "cell_type": "code",
   "execution_count": 13,
   "metadata": {},
   "outputs": [],
   "source": [
    "# берем пользователя 34\n",
    "# берем фильм 780\n",
    "# из всех кто смотрел фильм 780 мы берем только тех, кто является соседями для пользователя 34\n",
    "# И казалось бы надо бы взять их средний рейтинг по этому фильму. (ну или средний рейтинг по фильму взвешенный по степени близости)\n",
    "# Вместо этого мы берем их средние рейтинги (из расчета по всем фильмам) взвешиваем по степени близости и прибавляем к среднему рейтингу пользователя 34. \n",
    "# Кажется что здесь во-первых ошибка в индексах с самого начала (почти уверен, проверила на 34 узере), а во-вторых вот эта прибавка странная конечно\n",
    "def predict(userid, itemid):\n",
    "    \"\"\"\n",
    "    предикт для пользователя userid рейтинга на элемент itemid.\n",
    "    \n",
    "    :param\n",
    "        - userid : пользователь для предикта\n",
    "        - itemid : элемент для предикта\n",
    "        \n",
    "    :return\n",
    "        - r_hat : предикт \n",
    "    \"\"\"\n",
    "    user_similarities = similarities[userid]\n",
    "    user_neighbors = neighbors[userid]\n",
    "    \n",
    "    # средний рейтинг\n",
    "    user_mean = mean[userid]\n",
    "    \n",
    "    # поиск пользователей, которые имеют рейтинг по элементу 'itemid'\n",
    "    iratings = np_ratings[np_ratings[:, 1].astype('int') == itemid]\n",
    "    \n",
    "    # поиск похожих пользователей\n",
    "    simus = iratings[np.isin(iratings[:, 0], user_neighbors)]\n",
    "    \n",
    "    # отбор похожих пользователей, которые имеют рейтинг по выбранному элементу\n",
    "    normalized_ratings = simus[:,4]\n",
    "    indexes = [np.where(user_neighbors == uid)[0][0] for uid in simus[:, 0].astype('int')]\n",
    "    sims = user_similarities[indexes]\n",
    "    \n",
    "    num = np.dot(normalized_ratings, sims)\n",
    "    den = np.sum(np.abs(sims))\n",
    "    \n",
    "    if num == 0 or den == 0:\n",
    "        return user_mean\n",
    "    \n",
    "    # реализуем формулу предикта\n",
    "    r_hat = user_mean + np.dot(normalized_ratings, sims) / np.sum(np.abs(sims))\n",
    "    \n",
    "    return r_hat"
   ]
  },
  {
   "cell_type": "code",
   "execution_count": 14,
   "metadata": {},
   "outputs": [],
   "source": [
    "def user2userPredictions(userid, pred_path):\n",
    "    \"\"\"\n",
    "    Сделаем предикт для каждого пользователя и сохраним в файл prediction.csv\n",
    "    \n",
    "    :param\n",
    "        - userid : пользователя id\n",
    "        - pred_path : куда сохраняем\n",
    "    \"\"\"    \n",
    "    \n",
    "    try:\n",
    "        # поиск пользователей\n",
    "        candidates = find_candidate_items(userid)\n",
    "\n",
    "        # цикл по всем выбраным пользователям для предикта\n",
    "        for itemid in candidates:\n",
    "\n",
    "            # предикт для пользователя, по элементам\n",
    "            r_hat = predict(userid, itemid)\n",
    "\n",
    "            # сохраним\n",
    "            with open(pred_path, 'a+') as file:\n",
    "                line = '{},{},{}\\n'.format(userid, itemid, r_hat)\n",
    "                file.write(line)\n",
    "    except IndexError:\n",
    "        pass"
   ]
  },
  {
   "cell_type": "code",
   "execution_count": 15,
   "metadata": {},
   "outputs": [],
   "source": [
    "import sys\n",
    "import os\n",
    "\n",
    "def user2userCF():\n",
    "    \"\"\"\n",
    "    Предикт для всех пользователей, даже с 1 рейтингом   \n",
    "    \"\"\"\n",
    "    # список всех пользователей\n",
    "    users = ratings['userId'].unique()\n",
    "    \n",
    "    def _progress(count):\n",
    "        sys.stdout.write('\\rRating predictions. Progress status : %.1f%%' % (float(count/len(users))*100.0))\n",
    "        sys.stdout.flush()\n",
    "    \n",
    "    saved_predictions = 'predictions.csv'    \n",
    "    if os.path.exists(saved_predictions):\n",
    "        os.remove(saved_predictions)\n",
    "    \n",
    "    for count, userid in enumerate(users):        \n",
    "        # делаем предикт\n",
    "        user2userPredictions(userid, saved_predictions)\n",
    "        _progress(count)"
   ]
  },
  {
   "cell_type": "code",
   "execution_count": 16,
   "metadata": {},
   "outputs": [
    {
     "name": "stdout",
     "output_type": "stream",
     "text": [
      "Rating predictions. Progress status : 99.9%"
     ]
    }
   ],
   "source": [
    "user2userCF()"
   ]
  },
  {
   "cell_type": "markdown",
   "metadata": {},
   "source": [
    "### 4. Top-N рекомендаций\n",
    "\n",
    "Функция ```user2userRecommendation()``` делает отбор необходимых рекомендаций для пользователя"
   ]
  },
  {
   "cell_type": "code",
   "execution_count": 17,
   "metadata": {},
   "outputs": [],
   "source": [
    "def user2userRecommendation(userid):\n",
    "    \"\"\"\n",
    "    Делаем предикт для пользователя\n",
    "    \"\"\"\n",
    "    \n",
    "    saved_predictions = 'predictions.csv'\n",
    "    \n",
    "    predictions = pd.read_csv(saved_predictions, sep=',', names=['userId', 'movieId', 'predicted_rating'])\n",
    "    predictions = predictions[predictions.userId==userid]\n",
    "    List = predictions.sort_values(by=['predicted_rating'], ascending=False)\n",
    "    \n",
    "    List = pd.merge(List, movies, on='movieId', how='inner')\n",
    "    \n",
    "    return List"
   ]
  },
  {
   "cell_type": "code",
   "execution_count": 19,
   "metadata": {},
   "outputs": [
    {
     "data": {
      "text/html": [
       "<div>\n",
       "<style scoped>\n",
       "    .dataframe tbody tr th:only-of-type {\n",
       "        vertical-align: middle;\n",
       "    }\n",
       "\n",
       "    .dataframe tbody tr th {\n",
       "        vertical-align: top;\n",
       "    }\n",
       "\n",
       "    .dataframe thead th {\n",
       "        text-align: right;\n",
       "    }\n",
       "</style>\n",
       "<table border=\"1\" class=\"dataframe\">\n",
       "  <thead>\n",
       "    <tr style=\"text-align: right;\">\n",
       "      <th></th>\n",
       "      <th>userId</th>\n",
       "      <th>movieId</th>\n",
       "      <th>predicted_rating</th>\n",
       "      <th>title</th>\n",
       "      <th>genres</th>\n",
       "    </tr>\n",
       "  </thead>\n",
       "  <tbody>\n",
       "    <tr>\n",
       "      <th>0</th>\n",
       "      <td>34</td>\n",
       "      <td>318</td>\n",
       "      <td>6.009687</td>\n",
       "      <td>Shawshank Redemption, The (1994)</td>\n",
       "      <td>Crime|Drama</td>\n",
       "    </tr>\n",
       "    <tr>\n",
       "      <th>1</th>\n",
       "      <td>34</td>\n",
       "      <td>1</td>\n",
       "      <td>5.917152</td>\n",
       "      <td>Toy Story (1995)</td>\n",
       "      <td>Adventure|Animation|Children|Comedy|Fantasy</td>\n",
       "    </tr>\n",
       "    <tr>\n",
       "      <th>2</th>\n",
       "      <td>34</td>\n",
       "      <td>364</td>\n",
       "      <td>5.910717</td>\n",
       "      <td>Lion King, The (1994)</td>\n",
       "      <td>Adventure|Animation|Children|Drama|Musical|IMAX</td>\n",
       "    </tr>\n",
       "    <tr>\n",
       "      <th>3</th>\n",
       "      <td>34</td>\n",
       "      <td>356</td>\n",
       "      <td>5.905854</td>\n",
       "      <td>Forrest Gump (1994)</td>\n",
       "      <td>Comedy|Drama|Romance|War</td>\n",
       "    </tr>\n",
       "    <tr>\n",
       "      <th>4</th>\n",
       "      <td>34</td>\n",
       "      <td>1210</td>\n",
       "      <td>5.896535</td>\n",
       "      <td>Star Wars: Episode VI - Return of the Jedi (1983)</td>\n",
       "      <td>Action|Adventure|Sci-Fi</td>\n",
       "    </tr>\n",
       "    <tr>\n",
       "      <th>5</th>\n",
       "      <td>34</td>\n",
       "      <td>1704</td>\n",
       "      <td>5.895702</td>\n",
       "      <td>Good Will Hunting (1997)</td>\n",
       "      <td>Drama|Romance</td>\n",
       "    </tr>\n",
       "    <tr>\n",
       "      <th>6</th>\n",
       "      <td>34</td>\n",
       "      <td>780</td>\n",
       "      <td>5.887666</td>\n",
       "      <td>Independence Day (a.k.a. ID4) (1996)</td>\n",
       "      <td>Action|Adventure|Sci-Fi|Thriller</td>\n",
       "    </tr>\n",
       "    <tr>\n",
       "      <th>7</th>\n",
       "      <td>34</td>\n",
       "      <td>1073</td>\n",
       "      <td>5.842764</td>\n",
       "      <td>Willy Wonka &amp; the Chocolate Factory (1971)</td>\n",
       "      <td>Children|Comedy|Fantasy|Musical</td>\n",
       "    </tr>\n",
       "    <tr>\n",
       "      <th>8</th>\n",
       "      <td>34</td>\n",
       "      <td>648</td>\n",
       "      <td>5.829810</td>\n",
       "      <td>Mission: Impossible (1996)</td>\n",
       "      <td>Action|Adventure|Mystery|Thriller</td>\n",
       "    </tr>\n",
       "    <tr>\n",
       "      <th>9</th>\n",
       "      <td>34</td>\n",
       "      <td>736</td>\n",
       "      <td>5.796770</td>\n",
       "      <td>Twister (1996)</td>\n",
       "      <td>Action|Adventure|Romance|Thriller</td>\n",
       "    </tr>\n",
       "  </tbody>\n",
       "</table>\n",
       "</div>"
      ],
      "text/plain": [
       "   userId  movieId  predicted_rating  \\\n",
       "0      34      318          6.009687   \n",
       "1      34        1          5.917152   \n",
       "2      34      364          5.910717   \n",
       "3      34      356          5.905854   \n",
       "4      34     1210          5.896535   \n",
       "5      34     1704          5.895702   \n",
       "6      34      780          5.887666   \n",
       "7      34     1073          5.842764   \n",
       "8      34      648          5.829810   \n",
       "9      34      736          5.796770   \n",
       "\n",
       "                                               title  \\\n",
       "0                   Shawshank Redemption, The (1994)   \n",
       "1                                   Toy Story (1995)   \n",
       "2                              Lion King, The (1994)   \n",
       "3                                Forrest Gump (1994)   \n",
       "4  Star Wars: Episode VI - Return of the Jedi (1983)   \n",
       "5                           Good Will Hunting (1997)   \n",
       "6               Independence Day (a.k.a. ID4) (1996)   \n",
       "7         Willy Wonka & the Chocolate Factory (1971)   \n",
       "8                         Mission: Impossible (1996)   \n",
       "9                                     Twister (1996)   \n",
       "\n",
       "                                            genres  \n",
       "0                                      Crime|Drama  \n",
       "1      Adventure|Animation|Children|Comedy|Fantasy  \n",
       "2  Adventure|Animation|Children|Drama|Musical|IMAX  \n",
       "3                         Comedy|Drama|Romance|War  \n",
       "4                          Action|Adventure|Sci-Fi  \n",
       "5                                    Drama|Romance  \n",
       "6                 Action|Adventure|Sci-Fi|Thriller  \n",
       "7                  Children|Comedy|Fantasy|Musical  \n",
       "8                Action|Adventure|Mystery|Thriller  \n",
       "9                Action|Adventure|Romance|Thriller  "
      ]
     },
     "execution_count": 19,
     "metadata": {},
     "output_type": "execute_result"
    }
   ],
   "source": [
    "user2userRecommendation(34)"
   ]
  },
  {
   "cell_type": "markdown",
   "metadata": {},
   "source": [
    "## Хорошо бы это адаптировать просто под обычный User-based CF\n",
    "#### Где рейтинг присваивается на основе просто средневзвешенного рейтинга ближайших соседей, которые посмотрели данный фильм.\n"
   ]
  }
 ],
 "metadata": {
  "kernelspec": {
   "display_name": "Python 3 (ipykernel)",
   "language": "python",
   "name": "python3"
  },
  "language_info": {
   "codemirror_mode": {
    "name": "ipython",
    "version": 3
   },
   "file_extension": ".py",
   "mimetype": "text/x-python",
   "name": "python",
   "nbconvert_exporter": "python",
   "pygments_lexer": "ipython3",
   "version": "3.11.5"
  }
 },
 "nbformat": 4,
 "nbformat_minor": 4
}
